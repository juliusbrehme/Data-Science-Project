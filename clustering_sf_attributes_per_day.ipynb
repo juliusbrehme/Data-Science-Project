{
 "cells": [
  {
   "cell_type": "code",
   "execution_count": 1,
   "metadata": {},
   "outputs": [],
   "source": [
    "import pandas as pd\n",
    "import matplotlib.pyplot as plt \n",
    "from sklearn.cluster import KMeans\n",
    "from sklearn.preprocessing import StandardScaler\n",
    "from sklearn.decomposition import PCA\n",
    "import seaborn as sns\n",
    "from get_information_sprottenflotte import get_station_of_kiel\n",
    "import plotly.express as px\n",
    "import plotly.graph_objects as go\n",
    "import plotly"
   ]
  },
  {
   "cell_type": "code",
   "execution_count": 2,
   "metadata": {},
   "outputs": [],
   "source": [
    " # Ignore error message.\n",
    "pd.options.mode.chained_assignment = None  # default='warn'"
   ]
  },
  {
   "attachments": {},
   "cell_type": "markdown",
   "metadata": {},
   "source": [
    "Read the csv files with the attributes created by the get_information function. Merge the attributes with the lat and lon from the csv file with the informations about the stations"
   ]
  },
  {
   "cell_type": "code",
   "execution_count": 3,
   "metadata": {},
   "outputs": [
    {
     "data": {
      "text/html": [
       "<div>\n",
       "<style scoped>\n",
       "    .dataframe tbody tr th:only-of-type {\n",
       "        vertical-align: middle;\n",
       "    }\n",
       "\n",
       "    .dataframe tbody tr th {\n",
       "        vertical-align: top;\n",
       "    }\n",
       "\n",
       "    .dataframe thead th {\n",
       "        text-align: right;\n",
       "    }\n",
       "</style>\n",
       "<table border=\"1\" class=\"dataframe\">\n",
       "  <thead>\n",
       "    <tr style=\"text-align: right;\">\n",
       "      <th></th>\n",
       "      <th>Station_ID</th>\n",
       "      <th>Frequency_of_Usage</th>\n",
       "      <th>Avg_Number_of_Bikes</th>\n",
       "      <th>Avg_Usage_of_Station</th>\n",
       "      <th>Avg_Returning_Bike_of_Station</th>\n",
       "      <th>Avg_Renting_Bike_of_Station</th>\n",
       "      <th>name</th>\n",
       "      <th>lat</th>\n",
       "      <th>lon</th>\n",
       "    </tr>\n",
       "  </thead>\n",
       "  <tbody>\n",
       "    <tr>\n",
       "      <th>0</th>\n",
       "      <td>24371</td>\n",
       "      <td>0.153118</td>\n",
       "      <td>26.125970</td>\n",
       "      <td>42.875000</td>\n",
       "      <td>27.000000</td>\n",
       "      <td>27.437500</td>\n",
       "      <td>Anleger Reventlou</td>\n",
       "      <td>54.333833</td>\n",
       "      <td>10.152250</td>\n",
       "    </tr>\n",
       "    <tr>\n",
       "      <th>1</th>\n",
       "      <td>24464</td>\n",
       "      <td>0.012043</td>\n",
       "      <td>11.375547</td>\n",
       "      <td>4.437500</td>\n",
       "      <td>1.125000</td>\n",
       "      <td>2.062500</td>\n",
       "      <td>Brandenburger Platz</td>\n",
       "      <td>54.243031</td>\n",
       "      <td>10.273862</td>\n",
       "    </tr>\n",
       "    <tr>\n",
       "      <th>2</th>\n",
       "      <td>24384</td>\n",
       "      <td>0.074409</td>\n",
       "      <td>1.859372</td>\n",
       "      <td>21.937500</td>\n",
       "      <td>10.875000</td>\n",
       "      <td>10.812500</td>\n",
       "      <td>CAU Universitätsbibliothek</td>\n",
       "      <td>54.346612</td>\n",
       "      <td>10.112408</td>\n",
       "    </tr>\n",
       "    <tr>\n",
       "      <th>3</th>\n",
       "      <td>24424</td>\n",
       "      <td>0.020000</td>\n",
       "      <td>5.475155</td>\n",
       "      <td>6.500000</td>\n",
       "      <td>2.312500</td>\n",
       "      <td>3.312500</td>\n",
       "      <td>Grüner Kranz</td>\n",
       "      <td>54.307944</td>\n",
       "      <td>9.649861</td>\n",
       "    </tr>\n",
       "    <tr>\n",
       "      <th>4</th>\n",
       "      <td>24468</td>\n",
       "      <td>0.001505</td>\n",
       "      <td>0.143668</td>\n",
       "      <td>1.375000</td>\n",
       "      <td>0.062500</td>\n",
       "      <td>0.187500</td>\n",
       "      <td>Catharinenberg</td>\n",
       "      <td>54.264403</td>\n",
       "      <td>10.065600</td>\n",
       "    </tr>\n",
       "    <tr>\n",
       "      <th>...</th>\n",
       "      <td>...</td>\n",
       "      <td>...</td>\n",
       "      <td>...</td>\n",
       "      <td>...</td>\n",
       "      <td>...</td>\n",
       "      <td>...</td>\n",
       "      <td>...</td>\n",
       "      <td>...</td>\n",
       "      <td>...</td>\n",
       "    </tr>\n",
       "    <tr>\n",
       "      <th>116</th>\n",
       "      <td>24396</td>\n",
       "      <td>0.015914</td>\n",
       "      <td>0.647630</td>\n",
       "      <td>5.250000</td>\n",
       "      <td>2.000000</td>\n",
       "      <td>2.062500</td>\n",
       "      <td>Rathaus Waisenhofstraße</td>\n",
       "      <td>54.321722</td>\n",
       "      <td>10.132444</td>\n",
       "    </tr>\n",
       "    <tr>\n",
       "      <th>117</th>\n",
       "      <td>24457</td>\n",
       "      <td>0.011183</td>\n",
       "      <td>0.097811</td>\n",
       "      <td>4.000000</td>\n",
       "      <td>1.312500</td>\n",
       "      <td>1.250000</td>\n",
       "      <td>Studiale</td>\n",
       "      <td>54.337879</td>\n",
       "      <td>10.124432</td>\n",
       "    </tr>\n",
       "    <tr>\n",
       "      <th>118</th>\n",
       "      <td>24416</td>\n",
       "      <td>0.018280</td>\n",
       "      <td>9.894093</td>\n",
       "      <td>6.187500</td>\n",
       "      <td>2.437500</td>\n",
       "      <td>2.625000</td>\n",
       "      <td>Rungholtplatz</td>\n",
       "      <td>54.361297</td>\n",
       "      <td>10.076831</td>\n",
       "    </tr>\n",
       "    <tr>\n",
       "      <th>119</th>\n",
       "      <td>24402</td>\n",
       "      <td>0.009462</td>\n",
       "      <td>14.233006</td>\n",
       "      <td>3.687500</td>\n",
       "      <td>1.937500</td>\n",
       "      <td>2.375000</td>\n",
       "      <td>Stadtteilzentrum Pries</td>\n",
       "      <td>54.395459</td>\n",
       "      <td>10.173146</td>\n",
       "    </tr>\n",
       "    <tr>\n",
       "      <th>120</th>\n",
       "      <td>26355</td>\n",
       "      <td>0.017419</td>\n",
       "      <td>5.342342</td>\n",
       "      <td>7.454545</td>\n",
       "      <td>2.636364</td>\n",
       "      <td>3.363636</td>\n",
       "      <td>Cruise Center Kiel / Fahrrad Messe Popup</td>\n",
       "      <td>54.325373</td>\n",
       "      <td>10.144827</td>\n",
       "    </tr>\n",
       "  </tbody>\n",
       "</table>\n",
       "<p>121 rows × 9 columns</p>\n",
       "</div>"
      ],
      "text/plain": [
       "     Station_ID  Frequency_of_Usage  Avg_Number_of_Bikes  \\\n",
       "0         24371            0.153118            26.125970   \n",
       "1         24464            0.012043            11.375547   \n",
       "2         24384            0.074409             1.859372   \n",
       "3         24424            0.020000             5.475155   \n",
       "4         24468            0.001505             0.143668   \n",
       "..          ...                 ...                  ...   \n",
       "116       24396            0.015914             0.647630   \n",
       "117       24457            0.011183             0.097811   \n",
       "118       24416            0.018280             9.894093   \n",
       "119       24402            0.009462            14.233006   \n",
       "120       26355            0.017419             5.342342   \n",
       "\n",
       "     Avg_Usage_of_Station  Avg_Returning_Bike_of_Station  \\\n",
       "0               42.875000                      27.000000   \n",
       "1                4.437500                       1.125000   \n",
       "2               21.937500                      10.875000   \n",
       "3                6.500000                       2.312500   \n",
       "4                1.375000                       0.062500   \n",
       "..                    ...                            ...   \n",
       "116              5.250000                       2.000000   \n",
       "117              4.000000                       1.312500   \n",
       "118              6.187500                       2.437500   \n",
       "119              3.687500                       1.937500   \n",
       "120              7.454545                       2.636364   \n",
       "\n",
       "     Avg_Renting_Bike_of_Station                                      name  \\\n",
       "0                      27.437500                         Anleger Reventlou   \n",
       "1                       2.062500                       Brandenburger Platz   \n",
       "2                      10.812500                CAU Universitätsbibliothek   \n",
       "3                       3.312500                              Grüner Kranz   \n",
       "4                       0.187500                            Catharinenberg   \n",
       "..                           ...                                       ...   \n",
       "116                     2.062500                   Rathaus Waisenhofstraße   \n",
       "117                     1.250000                                  Studiale   \n",
       "118                     2.625000                             Rungholtplatz   \n",
       "119                     2.375000                    Stadtteilzentrum Pries   \n",
       "120                     3.363636  Cruise Center Kiel / Fahrrad Messe Popup   \n",
       "\n",
       "           lat        lon  \n",
       "0    54.333833  10.152250  \n",
       "1    54.243031  10.273862  \n",
       "2    54.346612  10.112408  \n",
       "3    54.307944   9.649861  \n",
       "4    54.264403  10.065600  \n",
       "..         ...        ...  \n",
       "116  54.321722  10.132444  \n",
       "117  54.337879  10.124432  \n",
       "118  54.361297  10.076831  \n",
       "119  54.395459  10.173146  \n",
       "120  54.325373  10.144827  \n",
       "\n",
       "[121 rows x 9 columns]"
      ]
     },
     "execution_count": 3,
     "metadata": {},
     "output_type": "execute_result"
    }
   ],
   "source": [
    "sf_attributes_df = pd.read_csv(r\"./general_data/sprottenflotte_attributes_day.csv\")\n",
    "sf_attributes_df = sf_attributes_df.drop(columns=[\"Unnamed: 0\", \"Total_numbers_of_Bikes\"])\n",
    "\n",
    "sf_info_df = pd.read_csv(r\"./general_data/sprottenflotte_station_information.csv\")\n",
    "sf_info_df = sf_info_df.drop(columns=[\"Unnamed: 0\", \"region_id\", \"address\", \"post_code\"])\n",
    "\n",
    "sf_attributes_lat_long_df = pd.merge(sf_attributes_df, sf_info_df, on=[\"Station_ID\", \"name\"])\n",
    "sf_attributes_lat_long_df"
   ]
  },
  {
   "attachments": {},
   "cell_type": "markdown",
   "metadata": {},
   "source": [
    "The train station (Kieler Hauptbahnhof) is an Outlier. It has much more usage than the different stations. For the clustering we will not consider that station."
   ]
  },
  {
   "cell_type": "code",
   "execution_count": 4,
   "metadata": {},
   "outputs": [
    {
     "data": {
      "text/html": [
       "<div>\n",
       "<style scoped>\n",
       "    .dataframe tbody tr th:only-of-type {\n",
       "        vertical-align: middle;\n",
       "    }\n",
       "\n",
       "    .dataframe tbody tr th {\n",
       "        vertical-align: top;\n",
       "    }\n",
       "\n",
       "    .dataframe thead th {\n",
       "        text-align: right;\n",
       "    }\n",
       "</style>\n",
       "<table border=\"1\" class=\"dataframe\">\n",
       "  <thead>\n",
       "    <tr style=\"text-align: right;\">\n",
       "      <th></th>\n",
       "      <th>Station_ID</th>\n",
       "      <th>Frequency_of_Usage</th>\n",
       "      <th>Avg_Number_of_Bikes</th>\n",
       "      <th>Avg_Usage_of_Station</th>\n",
       "      <th>Avg_Returning_Bike_of_Station</th>\n",
       "      <th>Avg_Renting_Bike_of_Station</th>\n",
       "      <th>name</th>\n",
       "      <th>lat</th>\n",
       "      <th>lon</th>\n",
       "    </tr>\n",
       "  </thead>\n",
       "  <tbody>\n",
       "    <tr>\n",
       "      <th>0</th>\n",
       "      <td>24371</td>\n",
       "      <td>0.153118</td>\n",
       "      <td>26.125970</td>\n",
       "      <td>42.875000</td>\n",
       "      <td>27.000000</td>\n",
       "      <td>27.437500</td>\n",
       "      <td>Anleger Reventlou</td>\n",
       "      <td>54.333833</td>\n",
       "      <td>10.152250</td>\n",
       "    </tr>\n",
       "    <tr>\n",
       "      <th>2</th>\n",
       "      <td>24384</td>\n",
       "      <td>0.074409</td>\n",
       "      <td>1.859372</td>\n",
       "      <td>21.937500</td>\n",
       "      <td>10.875000</td>\n",
       "      <td>10.812500</td>\n",
       "      <td>CAU Universitätsbibliothek</td>\n",
       "      <td>54.346612</td>\n",
       "      <td>10.112408</td>\n",
       "    </tr>\n",
       "    <tr>\n",
       "      <th>4</th>\n",
       "      <td>24468</td>\n",
       "      <td>0.001505</td>\n",
       "      <td>0.143668</td>\n",
       "      <td>1.375000</td>\n",
       "      <td>0.062500</td>\n",
       "      <td>0.187500</td>\n",
       "      <td>Catharinenberg</td>\n",
       "      <td>54.264403</td>\n",
       "      <td>10.065600</td>\n",
       "    </tr>\n",
       "    <tr>\n",
       "      <th>5</th>\n",
       "      <td>24385</td>\n",
       "      <td>0.140430</td>\n",
       "      <td>3.055982</td>\n",
       "      <td>39.562500</td>\n",
       "      <td>18.750000</td>\n",
       "      <td>18.500000</td>\n",
       "      <td>Dreiecksplatz</td>\n",
       "      <td>54.328528</td>\n",
       "      <td>10.134417</td>\n",
       "    </tr>\n",
       "    <tr>\n",
       "      <th>7</th>\n",
       "      <td>26209</td>\n",
       "      <td>0.003656</td>\n",
       "      <td>3.479715</td>\n",
       "      <td>2.000000</td>\n",
       "      <td>0.687500</td>\n",
       "      <td>0.187500</td>\n",
       "      <td>Kanalfähre Holtenau</td>\n",
       "      <td>54.368794</td>\n",
       "      <td>10.133953</td>\n",
       "    </tr>\n",
       "    <tr>\n",
       "      <th>...</th>\n",
       "      <td>...</td>\n",
       "      <td>...</td>\n",
       "      <td>...</td>\n",
       "      <td>...</td>\n",
       "      <td>...</td>\n",
       "      <td>...</td>\n",
       "      <td>...</td>\n",
       "      <td>...</td>\n",
       "      <td>...</td>\n",
       "    </tr>\n",
       "    <tr>\n",
       "      <th>116</th>\n",
       "      <td>24396</td>\n",
       "      <td>0.015914</td>\n",
       "      <td>0.647630</td>\n",
       "      <td>5.250000</td>\n",
       "      <td>2.000000</td>\n",
       "      <td>2.062500</td>\n",
       "      <td>Rathaus Waisenhofstraße</td>\n",
       "      <td>54.321722</td>\n",
       "      <td>10.132444</td>\n",
       "    </tr>\n",
       "    <tr>\n",
       "      <th>117</th>\n",
       "      <td>24457</td>\n",
       "      <td>0.011183</td>\n",
       "      <td>0.097811</td>\n",
       "      <td>4.000000</td>\n",
       "      <td>1.312500</td>\n",
       "      <td>1.250000</td>\n",
       "      <td>Studiale</td>\n",
       "      <td>54.337879</td>\n",
       "      <td>10.124432</td>\n",
       "    </tr>\n",
       "    <tr>\n",
       "      <th>118</th>\n",
       "      <td>24416</td>\n",
       "      <td>0.018280</td>\n",
       "      <td>9.894093</td>\n",
       "      <td>6.187500</td>\n",
       "      <td>2.437500</td>\n",
       "      <td>2.625000</td>\n",
       "      <td>Rungholtplatz</td>\n",
       "      <td>54.361297</td>\n",
       "      <td>10.076831</td>\n",
       "    </tr>\n",
       "    <tr>\n",
       "      <th>119</th>\n",
       "      <td>24402</td>\n",
       "      <td>0.009462</td>\n",
       "      <td>14.233006</td>\n",
       "      <td>3.687500</td>\n",
       "      <td>1.937500</td>\n",
       "      <td>2.375000</td>\n",
       "      <td>Stadtteilzentrum Pries</td>\n",
       "      <td>54.395459</td>\n",
       "      <td>10.173146</td>\n",
       "    </tr>\n",
       "    <tr>\n",
       "      <th>120</th>\n",
       "      <td>26355</td>\n",
       "      <td>0.017419</td>\n",
       "      <td>5.342342</td>\n",
       "      <td>7.454545</td>\n",
       "      <td>2.636364</td>\n",
       "      <td>3.363636</td>\n",
       "      <td>Cruise Center Kiel / Fahrrad Messe Popup</td>\n",
       "      <td>54.325373</td>\n",
       "      <td>10.144827</td>\n",
       "    </tr>\n",
       "  </tbody>\n",
       "</table>\n",
       "<p>78 rows × 9 columns</p>\n",
       "</div>"
      ],
      "text/plain": [
       "     Station_ID  Frequency_of_Usage  Avg_Number_of_Bikes  \\\n",
       "0         24371            0.153118            26.125970   \n",
       "2         24384            0.074409             1.859372   \n",
       "4         24468            0.001505             0.143668   \n",
       "5         24385            0.140430             3.055982   \n",
       "7         26209            0.003656             3.479715   \n",
       "..          ...                 ...                  ...   \n",
       "116       24396            0.015914             0.647630   \n",
       "117       24457            0.011183             0.097811   \n",
       "118       24416            0.018280             9.894093   \n",
       "119       24402            0.009462            14.233006   \n",
       "120       26355            0.017419             5.342342   \n",
       "\n",
       "     Avg_Usage_of_Station  Avg_Returning_Bike_of_Station  \\\n",
       "0               42.875000                      27.000000   \n",
       "2               21.937500                      10.875000   \n",
       "4                1.375000                       0.062500   \n",
       "5               39.562500                      18.750000   \n",
       "7                2.000000                       0.687500   \n",
       "..                    ...                            ...   \n",
       "116              5.250000                       2.000000   \n",
       "117              4.000000                       1.312500   \n",
       "118              6.187500                       2.437500   \n",
       "119              3.687500                       1.937500   \n",
       "120              7.454545                       2.636364   \n",
       "\n",
       "     Avg_Renting_Bike_of_Station                                      name  \\\n",
       "0                      27.437500                         Anleger Reventlou   \n",
       "2                      10.812500                CAU Universitätsbibliothek   \n",
       "4                       0.187500                            Catharinenberg   \n",
       "5                      18.500000                             Dreiecksplatz   \n",
       "7                       0.187500                       Kanalfähre Holtenau   \n",
       "..                           ...                                       ...   \n",
       "116                     2.062500                   Rathaus Waisenhofstraße   \n",
       "117                     1.250000                                  Studiale   \n",
       "118                     2.625000                             Rungholtplatz   \n",
       "119                     2.375000                    Stadtteilzentrum Pries   \n",
       "120                     3.363636  Cruise Center Kiel / Fahrrad Messe Popup   \n",
       "\n",
       "           lat        lon  \n",
       "0    54.333833  10.152250  \n",
       "2    54.346612  10.112408  \n",
       "4    54.264403  10.065600  \n",
       "5    54.328528  10.134417  \n",
       "7    54.368794  10.133953  \n",
       "..         ...        ...  \n",
       "116  54.321722  10.132444  \n",
       "117  54.337879  10.124432  \n",
       "118  54.361297  10.076831  \n",
       "119  54.395459  10.173146  \n",
       "120  54.325373  10.144827  \n",
       "\n",
       "[78 rows x 9 columns]"
      ]
     },
     "execution_count": 4,
     "metadata": {},
     "output_type": "execute_result"
    }
   ],
   "source": [
    "sf_attributes_kiel_df = get_station_of_kiel(sf_attributes_lat_long_df)\n",
    "sf_attributes_kiel_wo_train_df = sf_attributes_kiel_df.loc[sf_attributes_kiel_df[\"Station_ID\"] != 24397]\n",
    "sf_attributes_kiel_wo_train_df"
   ]
  },
  {
   "attachments": {},
   "cell_type": "markdown",
   "metadata": {},
   "source": [
    "Clean and Prep the DataFrame. We don't need the name of the Station and the Station_ID to be an attribute to be clustered. Also the total number of bikes it not relevant, because it is the same for all stations. For the clustering we don't want the lat and lon, because we want to cluster the usage of a station and see the similarity."
   ]
  },
  {
   "cell_type": "code",
   "execution_count": 5,
   "metadata": {},
   "outputs": [
    {
     "data": {
      "text/html": [
       "<div>\n",
       "<style scoped>\n",
       "    .dataframe tbody tr th:only-of-type {\n",
       "        vertical-align: middle;\n",
       "    }\n",
       "\n",
       "    .dataframe tbody tr th {\n",
       "        vertical-align: top;\n",
       "    }\n",
       "\n",
       "    .dataframe thead th {\n",
       "        text-align: right;\n",
       "    }\n",
       "</style>\n",
       "<table border=\"1\" class=\"dataframe\">\n",
       "  <thead>\n",
       "    <tr style=\"text-align: right;\">\n",
       "      <th></th>\n",
       "      <th>Frequency_of_Usage</th>\n",
       "      <th>Avg_Number_of_Bikes</th>\n",
       "      <th>Avg_Usage_of_Station</th>\n",
       "      <th>Avg_Returning_Bike_of_Station</th>\n",
       "      <th>Avg_Renting_Bike_of_Station</th>\n",
       "    </tr>\n",
       "  </thead>\n",
       "  <tbody>\n",
       "    <tr>\n",
       "      <th>0</th>\n",
       "      <td>0.153118</td>\n",
       "      <td>26.125970</td>\n",
       "      <td>42.875000</td>\n",
       "      <td>27.000000</td>\n",
       "      <td>27.437500</td>\n",
       "    </tr>\n",
       "    <tr>\n",
       "      <th>2</th>\n",
       "      <td>0.074409</td>\n",
       "      <td>1.859372</td>\n",
       "      <td>21.937500</td>\n",
       "      <td>10.875000</td>\n",
       "      <td>10.812500</td>\n",
       "    </tr>\n",
       "    <tr>\n",
       "      <th>4</th>\n",
       "      <td>0.001505</td>\n",
       "      <td>0.143668</td>\n",
       "      <td>1.375000</td>\n",
       "      <td>0.062500</td>\n",
       "      <td>0.187500</td>\n",
       "    </tr>\n",
       "    <tr>\n",
       "      <th>5</th>\n",
       "      <td>0.140430</td>\n",
       "      <td>3.055982</td>\n",
       "      <td>39.562500</td>\n",
       "      <td>18.750000</td>\n",
       "      <td>18.500000</td>\n",
       "    </tr>\n",
       "    <tr>\n",
       "      <th>7</th>\n",
       "      <td>0.003656</td>\n",
       "      <td>3.479715</td>\n",
       "      <td>2.000000</td>\n",
       "      <td>0.687500</td>\n",
       "      <td>0.187500</td>\n",
       "    </tr>\n",
       "    <tr>\n",
       "      <th>...</th>\n",
       "      <td>...</td>\n",
       "      <td>...</td>\n",
       "      <td>...</td>\n",
       "      <td>...</td>\n",
       "      <td>...</td>\n",
       "    </tr>\n",
       "    <tr>\n",
       "      <th>116</th>\n",
       "      <td>0.015914</td>\n",
       "      <td>0.647630</td>\n",
       "      <td>5.250000</td>\n",
       "      <td>2.000000</td>\n",
       "      <td>2.062500</td>\n",
       "    </tr>\n",
       "    <tr>\n",
       "      <th>117</th>\n",
       "      <td>0.011183</td>\n",
       "      <td>0.097811</td>\n",
       "      <td>4.000000</td>\n",
       "      <td>1.312500</td>\n",
       "      <td>1.250000</td>\n",
       "    </tr>\n",
       "    <tr>\n",
       "      <th>118</th>\n",
       "      <td>0.018280</td>\n",
       "      <td>9.894093</td>\n",
       "      <td>6.187500</td>\n",
       "      <td>2.437500</td>\n",
       "      <td>2.625000</td>\n",
       "    </tr>\n",
       "    <tr>\n",
       "      <th>119</th>\n",
       "      <td>0.009462</td>\n",
       "      <td>14.233006</td>\n",
       "      <td>3.687500</td>\n",
       "      <td>1.937500</td>\n",
       "      <td>2.375000</td>\n",
       "    </tr>\n",
       "    <tr>\n",
       "      <th>120</th>\n",
       "      <td>0.017419</td>\n",
       "      <td>5.342342</td>\n",
       "      <td>7.454545</td>\n",
       "      <td>2.636364</td>\n",
       "      <td>3.363636</td>\n",
       "    </tr>\n",
       "  </tbody>\n",
       "</table>\n",
       "<p>78 rows × 5 columns</p>\n",
       "</div>"
      ],
      "text/plain": [
       "     Frequency_of_Usage  Avg_Number_of_Bikes  Avg_Usage_of_Station  \\\n",
       "0              0.153118            26.125970             42.875000   \n",
       "2              0.074409             1.859372             21.937500   \n",
       "4              0.001505             0.143668              1.375000   \n",
       "5              0.140430             3.055982             39.562500   \n",
       "7              0.003656             3.479715              2.000000   \n",
       "..                  ...                  ...                   ...   \n",
       "116            0.015914             0.647630              5.250000   \n",
       "117            0.011183             0.097811              4.000000   \n",
       "118            0.018280             9.894093              6.187500   \n",
       "119            0.009462            14.233006              3.687500   \n",
       "120            0.017419             5.342342              7.454545   \n",
       "\n",
       "     Avg_Returning_Bike_of_Station  Avg_Renting_Bike_of_Station  \n",
       "0                        27.000000                    27.437500  \n",
       "2                        10.875000                    10.812500  \n",
       "4                         0.062500                     0.187500  \n",
       "5                        18.750000                    18.500000  \n",
       "7                         0.687500                     0.187500  \n",
       "..                             ...                          ...  \n",
       "116                       2.000000                     2.062500  \n",
       "117                       1.312500                     1.250000  \n",
       "118                       2.437500                     2.625000  \n",
       "119                       1.937500                     2.375000  \n",
       "120                       2.636364                     3.363636  \n",
       "\n",
       "[78 rows x 5 columns]"
      ]
     },
     "execution_count": 5,
     "metadata": {},
     "output_type": "execute_result"
    }
   ],
   "source": [
    "prep_sf_attributes_kiel_df = sf_attributes_kiel_wo_train_df.drop(columns=[\"Station_ID\", \"name\", \"lat\", \"lon\"])\n",
    "\n",
    "prep_sf_attributes_kiel_df"
   ]
  },
  {
   "attachments": {},
   "cell_type": "markdown",
   "metadata": {},
   "source": [
    "Try to find the Optimal Number of Clusters"
   ]
  },
  {
   "cell_type": "code",
   "execution_count": 6,
   "metadata": {},
   "outputs": [
    {
     "data": {
      "image/png": "[encoded data removed]",
      "text/plain": [
       "<Figure size 640x480 with 1 Axes>"
      ]
     },
     "metadata": {},
     "output_type": "display_data"
    }
   ],
   "source": [
    "# initialize kmeans parameters\n",
    "kmeans_kwargs = {\n",
    "    \"init\": \"random\",\n",
    "    \"n_init\": 10,\n",
    "    \"random_state\": 1\n",
    "}\n",
    "\n",
    "\n",
    "# create list to hold SSE (sum of squared errors) values for each k\n",
    "sse = []\n",
    "for k in range(1,11):\n",
    "    kmeans = KMeans(n_clusters=k, **kmeans_kwargs)\n",
    "    kmeans.fit(prep_sf_attributes_kiel_df)\n",
    "    sse.append(kmeans.inertia_)\n",
    "\n",
    "# visualize results\n",
    "plt.plot(range(1,11), sse)\n",
    "plt.xticks(range(1,11))\n",
    "plt.xlabel(\"Number of Clusters\")\n",
    "plt.ylabel(\"SSE\")\n",
    "plt.show()\n",
    "\n",
    "\n"
   ]
  },
  {
   "attachments": {},
   "cell_type": "markdown",
   "metadata": {},
   "source": [
    "In this plot it appears that there is an bend at k = 3 clusters. So we will cluster with k = 3."
   ]
  },
  {
   "attachments": {},
   "cell_type": "markdown",
   "metadata": {},
   "source": [
    "Perform K-Means Clustering with K = 3"
   ]
  },
  {
   "cell_type": "code",
   "execution_count": 7,
   "metadata": {},
   "outputs": [
    {
     "data": {
      "text/plain": [
       "array([0, 1, 2, 0, 2, 2, 2, 0, 0, 0, 2, 0, 1, 2, 1, 1, 2, 2, 1, 2, 0, 1,\n",
       "       2, 0, 2, 2, 1, 0, 2, 2, 2, 1, 0, 1, 1, 2, 2, 1, 2, 0, 2, 2, 2, 2,\n",
       "       2, 2, 2, 2, 2, 2, 2, 2, 2, 1, 1, 2, 1, 1, 2, 2, 1, 2, 1, 2, 1, 1,\n",
       "       1, 2, 1, 1, 1, 2, 1, 2, 2, 2, 2, 2], dtype=int32)"
      ]
     },
     "execution_count": 7,
     "metadata": {},
     "output_type": "execute_result"
    }
   ],
   "source": [
    "# instantiate the k-means class, using 5 as a number of clusters\n",
    "kmeans = KMeans(init=\"random\", n_clusters=3, n_init=10, random_state=1)\n",
    "\n",
    "# fit k-means algorithm to data\n",
    "kmeans.fit(prep_sf_attributes_kiel_df)\n",
    "\n",
    "# view cluster assignments for each observation\n",
    "all_predictions = kmeans.predict(prep_sf_attributes_kiel_df)\n",
    "all_predictions\n"
   ]
  },
  {
   "attachments": {},
   "cell_type": "markdown",
   "metadata": {},
   "source": [
    "Save the Cluster assignments in the dataframe"
   ]
  },
  {
   "cell_type": "code",
   "execution_count": 8,
   "metadata": {},
   "outputs": [
    {
     "name": "stderr",
     "output_type": "stream",
     "text": [
      "/var/folders/g0/h5wttxk56wqb2bjprg3j7c4m0000gn/T/ipykernel_17638/3725141177.py:7: FutureWarning: The frame.append method is deprecated and will be removed from pandas in a future version. Use pandas.concat instead.\n",
      "  sf_attributes_clustered_kiel_w_train_df = sf_attributes_clustered_kiel_df.append(sf_attributes_kiel_w_train_df, ignore_index=True)\n"
     ]
    },
    {
     "data": {
      "text/html": [
       "<div>\n",
       "<style scoped>\n",
       "    .dataframe tbody tr th:only-of-type {\n",
       "        vertical-align: middle;\n",
       "    }\n",
       "\n",
       "    .dataframe tbody tr th {\n",
       "        vertical-align: top;\n",
       "    }\n",
       "\n",
       "    .dataframe thead th {\n",
       "        text-align: right;\n",
       "    }\n",
       "</style>\n",
       "<table border=\"1\" class=\"dataframe\">\n",
       "  <thead>\n",
       "    <tr style=\"text-align: right;\">\n",
       "      <th></th>\n",
       "      <th>Station_ID</th>\n",
       "      <th>Frequency_of_Usage</th>\n",
       "      <th>Avg_Number_of_Bikes</th>\n",
       "      <th>Avg_Usage_of_Station</th>\n",
       "      <th>Avg_Returning_Bike_of_Station</th>\n",
       "      <th>Avg_Renting_Bike_of_Station</th>\n",
       "      <th>name</th>\n",
       "      <th>lat</th>\n",
       "      <th>lon</th>\n",
       "      <th>Cluster</th>\n",
       "    </tr>\n",
       "  </thead>\n",
       "  <tbody>\n",
       "    <tr>\n",
       "      <th>0</th>\n",
       "      <td>24371</td>\n",
       "      <td>0.153118</td>\n",
       "      <td>26.125970</td>\n",
       "      <td>42.875000</td>\n",
       "      <td>27.000000</td>\n",
       "      <td>27.437500</td>\n",
       "      <td>Anleger Reventlou</td>\n",
       "      <td>54.333833</td>\n",
       "      <td>10.152250</td>\n",
       "      <td>0</td>\n",
       "    </tr>\n",
       "    <tr>\n",
       "      <th>2</th>\n",
       "      <td>24384</td>\n",
       "      <td>0.074409</td>\n",
       "      <td>1.859372</td>\n",
       "      <td>21.937500</td>\n",
       "      <td>10.875000</td>\n",
       "      <td>10.812500</td>\n",
       "      <td>CAU Universitätsbibliothek</td>\n",
       "      <td>54.346612</td>\n",
       "      <td>10.112408</td>\n",
       "      <td>1</td>\n",
       "    </tr>\n",
       "    <tr>\n",
       "      <th>4</th>\n",
       "      <td>24468</td>\n",
       "      <td>0.001505</td>\n",
       "      <td>0.143668</td>\n",
       "      <td>1.375000</td>\n",
       "      <td>0.062500</td>\n",
       "      <td>0.187500</td>\n",
       "      <td>Catharinenberg</td>\n",
       "      <td>54.264403</td>\n",
       "      <td>10.065600</td>\n",
       "      <td>2</td>\n",
       "    </tr>\n",
       "    <tr>\n",
       "      <th>5</th>\n",
       "      <td>24385</td>\n",
       "      <td>0.140430</td>\n",
       "      <td>3.055982</td>\n",
       "      <td>39.562500</td>\n",
       "      <td>18.750000</td>\n",
       "      <td>18.500000</td>\n",
       "      <td>Dreiecksplatz</td>\n",
       "      <td>54.328528</td>\n",
       "      <td>10.134417</td>\n",
       "      <td>0</td>\n",
       "    </tr>\n",
       "    <tr>\n",
       "      <th>7</th>\n",
       "      <td>26209</td>\n",
       "      <td>0.003656</td>\n",
       "      <td>3.479715</td>\n",
       "      <td>2.000000</td>\n",
       "      <td>0.687500</td>\n",
       "      <td>0.187500</td>\n",
       "      <td>Kanalfähre Holtenau</td>\n",
       "      <td>54.368794</td>\n",
       "      <td>10.133953</td>\n",
       "      <td>2</td>\n",
       "    </tr>\n",
       "    <tr>\n",
       "      <th>...</th>\n",
       "      <td>...</td>\n",
       "      <td>...</td>\n",
       "      <td>...</td>\n",
       "      <td>...</td>\n",
       "      <td>...</td>\n",
       "      <td>...</td>\n",
       "      <td>...</td>\n",
       "      <td>...</td>\n",
       "      <td>...</td>\n",
       "      <td>...</td>\n",
       "    </tr>\n",
       "    <tr>\n",
       "      <th>116</th>\n",
       "      <td>24396</td>\n",
       "      <td>0.015914</td>\n",
       "      <td>0.647630</td>\n",
       "      <td>5.250000</td>\n",
       "      <td>2.000000</td>\n",
       "      <td>2.062500</td>\n",
       "      <td>Rathaus Waisenhofstraße</td>\n",
       "      <td>54.321722</td>\n",
       "      <td>10.132444</td>\n",
       "      <td>2</td>\n",
       "    </tr>\n",
       "    <tr>\n",
       "      <th>117</th>\n",
       "      <td>24457</td>\n",
       "      <td>0.011183</td>\n",
       "      <td>0.097811</td>\n",
       "      <td>4.000000</td>\n",
       "      <td>1.312500</td>\n",
       "      <td>1.250000</td>\n",
       "      <td>Studiale</td>\n",
       "      <td>54.337879</td>\n",
       "      <td>10.124432</td>\n",
       "      <td>2</td>\n",
       "    </tr>\n",
       "    <tr>\n",
       "      <th>118</th>\n",
       "      <td>24416</td>\n",
       "      <td>0.018280</td>\n",
       "      <td>9.894093</td>\n",
       "      <td>6.187500</td>\n",
       "      <td>2.437500</td>\n",
       "      <td>2.625000</td>\n",
       "      <td>Rungholtplatz</td>\n",
       "      <td>54.361297</td>\n",
       "      <td>10.076831</td>\n",
       "      <td>2</td>\n",
       "    </tr>\n",
       "    <tr>\n",
       "      <th>119</th>\n",
       "      <td>24402</td>\n",
       "      <td>0.009462</td>\n",
       "      <td>14.233006</td>\n",
       "      <td>3.687500</td>\n",
       "      <td>1.937500</td>\n",
       "      <td>2.375000</td>\n",
       "      <td>Stadtteilzentrum Pries</td>\n",
       "      <td>54.395459</td>\n",
       "      <td>10.173146</td>\n",
       "      <td>2</td>\n",
       "    </tr>\n",
       "    <tr>\n",
       "      <th>120</th>\n",
       "      <td>26355</td>\n",
       "      <td>0.017419</td>\n",
       "      <td>5.342342</td>\n",
       "      <td>7.454545</td>\n",
       "      <td>2.636364</td>\n",
       "      <td>3.363636</td>\n",
       "      <td>Cruise Center Kiel / Fahrrad Messe Popup</td>\n",
       "      <td>54.325373</td>\n",
       "      <td>10.144827</td>\n",
       "      <td>2</td>\n",
       "    </tr>\n",
       "  </tbody>\n",
       "</table>\n",
       "<p>78 rows × 10 columns</p>\n",
       "</div>"
      ],
      "text/plain": [
       "     Station_ID  Frequency_of_Usage  Avg_Number_of_Bikes  \\\n",
       "0         24371            0.153118            26.125970   \n",
       "2         24384            0.074409             1.859372   \n",
       "4         24468            0.001505             0.143668   \n",
       "5         24385            0.140430             3.055982   \n",
       "7         26209            0.003656             3.479715   \n",
       "..          ...                 ...                  ...   \n",
       "116       24396            0.015914             0.647630   \n",
       "117       24457            0.011183             0.097811   \n",
       "118       24416            0.018280             9.894093   \n",
       "119       24402            0.009462            14.233006   \n",
       "120       26355            0.017419             5.342342   \n",
       "\n",
       "     Avg_Usage_of_Station  Avg_Returning_Bike_of_Station  \\\n",
       "0               42.875000                      27.000000   \n",
       "2               21.937500                      10.875000   \n",
       "4                1.375000                       0.062500   \n",
       "5               39.562500                      18.750000   \n",
       "7                2.000000                       0.687500   \n",
       "..                    ...                            ...   \n",
       "116              5.250000                       2.000000   \n",
       "117              4.000000                       1.312500   \n",
       "118              6.187500                       2.437500   \n",
       "119              3.687500                       1.937500   \n",
       "120              7.454545                       2.636364   \n",
       "\n",
       "     Avg_Renting_Bike_of_Station                                      name  \\\n",
       "0                      27.437500                         Anleger Reventlou   \n",
       "2                      10.812500                CAU Universitätsbibliothek   \n",
       "4                       0.187500                            Catharinenberg   \n",
       "5                      18.500000                             Dreiecksplatz   \n",
       "7                       0.187500                       Kanalfähre Holtenau   \n",
       "..                           ...                                       ...   \n",
       "116                     2.062500                   Rathaus Waisenhofstraße   \n",
       "117                     1.250000                                  Studiale   \n",
       "118                     2.625000                             Rungholtplatz   \n",
       "119                     2.375000                    Stadtteilzentrum Pries   \n",
       "120                     3.363636  Cruise Center Kiel / Fahrrad Messe Popup   \n",
       "\n",
       "           lat        lon  Cluster  \n",
       "0    54.333833  10.152250        0  \n",
       "2    54.346612  10.112408        1  \n",
       "4    54.264403  10.065600        2  \n",
       "5    54.328528  10.134417        0  \n",
       "7    54.368794  10.133953        2  \n",
       "..         ...        ...      ...  \n",
       "116  54.321722  10.132444        2  \n",
       "117  54.337879  10.124432        2  \n",
       "118  54.361297  10.076831        2  \n",
       "119  54.395459  10.173146        2  \n",
       "120  54.325373  10.144827        2  \n",
       "\n",
       "[78 rows x 10 columns]"
      ]
     },
     "execution_count": 8,
     "metadata": {},
     "output_type": "execute_result"
    }
   ],
   "source": [
    "sf_attributes_clustered_kiel_df = sf_attributes_kiel_wo_train_df\n",
    "sf_attributes_clustered_kiel_df[\"Cluster\"] = all_predictions\n",
    "\n",
    "# save with train station as cluster 4 to use for the most common routes\n",
    "sf_attributes_kiel_w_train_df = sf_attributes_kiel_df.loc[sf_attributes_kiel_df[\"Station_ID\"] == 24397]\n",
    "sf_attributes_kiel_w_train_df[\"Cluster\"] = 3\n",
    "sf_attributes_clustered_kiel_w_train_df = sf_attributes_clustered_kiel_df.append(sf_attributes_kiel_w_train_df, ignore_index=True)\n",
    "\n",
    "sf_attributes_clustered_kiel_w_train_df.to_csv(\"./general_data/sf_attributes_clustered_kiel_per_day.csv\")\n",
    "\n",
    "sf_attributes_clustered_kiel_df"
   ]
  },
  {
   "attachments": {},
   "cell_type": "markdown",
   "metadata": {},
   "source": [
    "Get information and save in a dataframe to visualize the plots."
   ]
  },
  {
   "cell_type": "code",
   "execution_count": 9,
   "metadata": {},
   "outputs": [],
   "source": [
    "cluster_0_df = sf_attributes_clustered_kiel_df.loc[sf_attributes_clustered_kiel_df[\"Cluster\"] == 0]\n",
    "cluster_1_df = sf_attributes_clustered_kiel_df.loc[sf_attributes_clustered_kiel_df[\"Cluster\"] == 1]\n",
    "cluster_2_df = sf_attributes_clustered_kiel_df.loc[sf_attributes_clustered_kiel_df[\"Cluster\"] == 2]\n",
    "\n",
    "train_station_df = sf_attributes_kiel_df.loc[sf_attributes_kiel_df[\"Station_ID\"] == 24397]\n",
    "\n",
    "name_cluster_0 = cluster_0_df.name\n",
    "name_cluster_1 = cluster_1_df.name\n",
    "name_cluster_2 = cluster_2_df.name\n",
    "name_train_station = train_station_df.name\n",
    "\n",
    "\n",
    "avg_renting_cluster_0 = cluster_0_df.Avg_Renting_Bike_of_Station\n",
    "avg_renting_cluster_1 = cluster_1_df.Avg_Renting_Bike_of_Station\n",
    "avg_renting_cluster_2 = cluster_2_df.Avg_Renting_Bike_of_Station\n",
    "avg_renting_train_station = train_station_df.Avg_Renting_Bike_of_Station\n",
    "\n",
    "\n",
    "avg_returning_cluster_0 = cluster_0_df.Avg_Returning_Bike_of_Station\n",
    "avg_returning_cluster_1 = cluster_1_df.Avg_Returning_Bike_of_Station\n",
    "avg_returning_cluster_2 = cluster_2_df.Avg_Returning_Bike_of_Station\n",
    "avg_returning_train_station = train_station_df.Avg_Returning_Bike_of_Station\n",
    "\n",
    "\n",
    "frequency_cluster_0 = cluster_0_df.Frequency_of_Usage\n",
    "frequency_cluster_1 = cluster_1_df.Frequency_of_Usage\n",
    "frequency_cluster_2 = cluster_2_df.Frequency_of_Usage\n",
    "frequency_train_station = train_station_df.Frequency_of_Usage\n",
    "\n"
   ]
  },
  {
   "attachments": {},
   "cell_type": "markdown",
   "metadata": {},
   "source": [
    "Visualize three attributes: Frequency of Usage and the renting and returning of a Station with reference to the train station."
   ]
  },
  {
   "cell_type": "code",
   "execution_count": 10,
   "metadata": {},
   "outputs": [
    {
     "data": {
      "application/vnd.plotly.v1+json": {
       "config": {
        "plotlyServerURL": "https://plot.ly"
       },
       "data": [
        {
         "hovertemplate": "Station name: %{text}<br>Avg Renting Bike: %{x}<br>Avg Returning Bike: %{z}<br>Frequency of Usage: %{y}",
         "marker": {
          "color": "#3CB371",
          "line": {
           "color": "DarkSlateGrey",
           "width": 4
          },
          "size": 10
         },
         "mode": "markers",
         "name": "Cluster 0",
         "text": [
          "Anleger Reventlou",
          "Dreiecksplatz",
          "MELUND-Olympiahochhaus",
          "Kirchhofallee",
          "CAU Sportstätten",
          "Bernhard-Minetti-Platz",
          "Westring/Eckernförder Str.",
          "Exerzierplatz",
          "Alter Markt",
          "Blücherplatz",
          "Wilhelmplatz"
         ],
         "type": "scatter3d",
         "x": [
          27,
          18.75,
          18.125,
          22.8125,
          15.25,
          20.6875,
          17.875,
          14.8125,
          22.5,
          19,
          20.25
         ],
         "y": [
          0.1531182795698924,
          0.1404301075268817,
          0.1023655913978494,
          0.1561290322580645,
          0.1070967741935483,
          0.1488172043010752,
          0.1404301075268817,
          0.1058064516129032,
          0.1240860215053763,
          0.135268817204301,
          0.152258064516129
         ],
         "z": [
          27.4375,
          18.5,
          18.3125,
          23.1875,
          15.5625,
          20.8125,
          17.75,
          15.5,
          22.9375,
          19,
          20.875
         ]
        },
        {
         "hovertemplate": "Station name: %{text}<br>Avg Renting Bike: %{x}<br>Avg Returning Bike: %{z}<br>Frequency of Usage: %{y}",
         "marker": {
          "color": "#BA55D3",
          "line": {
           "color": "DarkSlateGrey",
           "width": 4
          },
          "size": 10
         },
         "mode": "markers",
         "name": "Cluster 1",
         "text": [
          "CAU Universitätsbibliothek",
          "Hansastr./Gutenbergstr.",
          "Rathausplatz",
          "Vinetaplatz",
          "Hörnbad",
          "Förde Sparkasse Lorentzendamm",
          "Muthesius Kunsthochschule",
          "Andreas-Gayk-Straße",
          "Provinzial Sophienblatt",
          "KVG Betriebshof Diedrichstraße",
          "thyssenkrupp Marine Systems",
          "Umsteiger",
          "Tilsiter Platz",
          "Christian-Albrechts-Platz",
          "CITTI-PARK",
          "Sophienhof",
          "ADAC-Station",
          "Alte Mu/Brunswiker Str.",
          "Holsten-/Hafenstraße",
          "Kieler Innovations- und Technologiezentrum",
          "RBZ Wirtschaft",
          "Krausstraße",
          "Bahnhof Suchsdorf",
          "Zur Fähre"
         ],
         "type": "scatter3d",
         "x": [
          10.875,
          11.875,
          6.6875,
          10.1875,
          13.8125,
          10.3125,
          7.3125,
          9.625,
          8.1875,
          5.6875,
          12.6875,
          7.5,
          5.5,
          5.8125,
          6.8125,
          6.875,
          4.625,
          6.9375,
          11.125,
          7.5625,
          4.375,
          5.8125,
          5.25,
          5.75
         ],
         "y": [
          0.0744086021505376,
          0.1002150537634408,
          0.0410752688172043,
          0.0772043010752688,
          0.0896774193548387,
          0.0746236559139785,
          0.0561290322580645,
          0.0582795698924731,
          0.0572043010752688,
          0.0397849462365591,
          0.083010752688172,
          0.0548387096774193,
          0.0391397849462365,
          0.046021505376344,
          0.0479569892473118,
          0.0518279569892473,
          0.0378494623655914,
          0.0526881720430107,
          0.0780645161290322,
          0.0572043010752688,
          0.035268817204301,
          0.0513978494623655,
          0.0331182795698924,
          0.0477419354838709
         ],
         "z": [
          10.8125,
          12.0625,
          6.6875,
          10.625,
          13.8125,
          10.6875,
          7.4375,
          9,
          8.3125,
          5.375,
          12.4375,
          7.5625,
          5.75,
          5.8125,
          7,
          6.9375,
          4.625,
          7.625,
          11.75,
          7.625,
          4.375,
          6.0625,
          4.8125,
          5.875
         ]
        },
        {
         "hovertemplate": "Station name: %{text}<br>Avg Renting Bike: %{x}<br>Avg Returning Bike: %{z}<br>Frequency of Usage: %{y}",
         "marker": {
          "color": "#4682B4",
          "line": {
           "color": "DarkSlateGrey",
           "width": 4
          },
          "size": 10
         },
         "mode": "markers",
         "name": "Cluster 2",
         "text": [
          "Catharinenberg",
          "Kanalfähre Holtenau",
          "Kanalfähre Wik",
          "Gemeindebücherei ",
          "Mönkeberg Anleger",
          "Sandkrug",
          "Dataport/FHVD",
          "Freilichtmuseum Molfsee",
          "KielRegion GmbH",
          "Kurt-Schumacher-Platz",
          "Bahnhalt Ellerbek",
          "Anleger Friedrichsort",
          "Rathaus Altenholz",
          "KiTa Fußsteigkoppel",
          "Kronshagen Bahnhof",
          "Wellingdorf Stadtteilzentrum",
          "Bahnhof Oppendorf",
          "Russeer Weg / Hofholzallee",
          "Anleger Dietrichsdorf",
          "Aalborgring",
          "Fähranleger Möltenort",
          "Schönkirchen Gemeindehaus",
          "Marine-Ehrenmal",
          "Bunsenstraße",
          "Bullbrücke",
          "Kuhlacker",
          "Rathaus Heikendorf",
          "Förde Sparkasse Teplitzer Allee",
          "Bahnhof Russee",
          "Bebelplatz",
          "Seefischmarkt",
          "Braunstraße",
          "Grot Steenbusch",
          "Meimersdorf Kontor",
          "Kronshagen Rathaus",
          "Hafen Laboe",
          "Schulen am Langsee",
          "UKSH",
          "Rathaus Waisenhofstraße",
          "Studiale",
          "Rungholtplatz",
          "Stadtteilzentrum Pries",
          "Cruise Center Kiel / Fahrrad Messe Popup"
         ],
         "type": "scatter3d",
         "x": [
          0.0625,
          0.6875,
          1.625,
          0.3125,
          0.6875,
          0.75,
          0.9375,
          0.25,
          2.5,
          0.5625,
          1.5,
          1.625,
          0.5,
          2.875,
          1.125,
          5.3125,
          1.4375,
          2.25,
          3.9375,
          0.3125,
          0.5,
          0.6875,
          1,
          0,
          0.125,
          0.25,
          0.3125,
          0.5,
          0.9375,
          0.1875,
          1.4375,
          0.5625,
          0.125,
          0.375,
          3.25,
          2.25,
          1.1875,
          4,
          2,
          1.3125,
          2.4375,
          1.9375,
          2.636363636363636
         ],
         "y": [
          0.001505376344086,
          0.0036559139784946,
          0.0131182795698924,
          0.0040860215053763,
          0.0064516129032258,
          0.006021505376344,
          0.0073118279569892,
          0.0025806451612903,
          0.0236559139784946,
          0.0055913978494623,
          0.0156989247311827,
          0.0068817204301075,
          0.0043010752688172,
          0.0227956989247311,
          0.0096774193548387,
          0.030752688172043,
          0.0131182795698924,
          0.0161290322580645,
          0.033763440860215,
          0.0036559139784946,
          0.0043010752688172,
          0.0068817204301075,
          0.0077419354838709,
          0.0008602150537634,
          0.0019354838709677,
          0.0023655913978494,
          0.003010752688172,
          0.004516129032258,
          0.0079569892473118,
          0.0025806451612903,
          0.0098924731182795,
          0.0047311827956989,
          0.0025806451612903,
          0.0032258064516129,
          0.0253763440860215,
          0.0150537634408602,
          0.0088172043010752,
          0.032258064516129,
          0.0159139784946236,
          0.0111827956989247,
          0.0182795698924731,
          0.0094623655913978,
          0.0174193548387096
         ],
         "z": [
          0.1875,
          0.1875,
          2,
          0.6875,
          0.75,
          0.75,
          0.8125,
          0.25,
          2.5,
          0.875,
          1.875,
          0.9375,
          0.5625,
          2.875,
          1.1875,
          5.375,
          1.25,
          1.625,
          4.4375,
          0.375,
          0.3125,
          0.5625,
          0.9375,
          0.0625,
          0,
          0.0625,
          0.25,
          0.4375,
          0.9375,
          0.4375,
          1.3125,
          0.625,
          0.4375,
          0.1875,
          2.875,
          1.875,
          1.125,
          4.125,
          2.0625,
          1.25,
          2.625,
          2.375,
          3.363636363636364
         ]
        },
        {
         "hovertemplate": "Station name: %{text}<br>Avg Renting Bike: %{x}<br>Avg Returning Bike: %{z}<br>Frequency of Usage: %{y}",
         "marker": {
          "color": "#FF6347",
          "line": {
           "color": "DarkSlateGrey",
           "width": 4
          },
          "size": 10
         },
         "mode": "markers",
         "name": "Kiel Hauptbahnhof",
         "text": [
          "Hauptbahnhof"
         ],
         "type": "scatter3d",
         "x": [
          52.5625
         ],
         "y": [
          0.3064516129032258
         ],
         "z": [
          51.4375
         ]
        }
       ],
       "layout": {
        "autosize": true,
        "height": 700,
        "hovermode": "closest",
        "legend": {
         "bordercolor": "rgb(100,100,100)",
         "borderwidth": 2,
         "x": 0,
         "y": 1
        },
        "margin": {
         "b": 0,
         "l": 0,
         "r": 0,
         "t": 0
        },
        "scene": {
         "camera": {
          "eye": {
           "x": 1.7,
           "y": -1.7,
           "z": 0.3
          }
         },
         "xaxis": {
          "title": {
           "text": "Avg Returning Bike"
          }
         },
         "yaxis": {
          "title": {
           "text": "Frequency of Usage"
          }
         },
         "zaxis": {
          "title": {
           "text": "Avg Renting Bike"
          }
         }
        },
        "showlegend": true,
        "template": {
         "data": {
          "bar": [
           {
            "error_x": {
             "color": "#2a3f5f"
            },
            "error_y": {
             "color": "#2a3f5f"
            },
            "marker": {
             "line": {
              "color": "#E5ECF6",
              "width": 0.5
             },
             "pattern": {
              "fillmode": "overlay",
              "size": 10,
              "solidity": 0.2
             }
            },
            "type": "bar"
           }
          ],
          "barpolar": [
           {
            "marker": {
             "line": {
              "color": "#E5ECF6",
              "width": 0.5
             },
             "pattern": {
              "fillmode": "overlay",
              "size": 10,
              "solidity": 0.2
             }
            },
            "type": "barpolar"
           }
          ],
          "carpet": [
           {
            "aaxis": {
             "endlinecolor": "#2a3f5f",
             "gridcolor": "white",
             "linecolor": "white",
             "minorgridcolor": "white",
             "startlinecolor": "#2a3f5f"
            },
            "baxis": {
             "endlinecolor": "#2a3f5f",
             "gridcolor": "white",
             "linecolor": "white",
             "minorgridcolor": "white",
             "startlinecolor": "#2a3f5f"
            },
            "type": "carpet"
           }
          ],
          "choropleth": [
           {
            "colorbar": {
             "outlinewidth": 0,
             "ticks": ""
            },
            "type": "choropleth"
           }
          ],
          "contour": [
           {
            "colorbar": {
             "outlinewidth": 0,
             "ticks": ""
            },
            "colorscale": [
             [
              0,
              "#0d0887"
             ],
             [
              0.1111111111111111,
              "#46039f"
             ],
             [
              0.2222222222222222,
              "#7201a8"
             ],
             [
              0.3333333333333333,
              "#9c179e"
             ],
             [
              0.4444444444444444,
              "#bd3786"
             ],
             [
              0.5555555555555556,
              "#d8576b"
             ],
             [
              0.6666666666666666,
              "#ed7953"
             ],
             [
              0.7777777777777778,
              "#fb9f3a"
             ],
             [
              0.8888888888888888,
              "#fdca26"
             ],
             [
              1,
              "#f0f921"
             ]
            ],
            "type": "contour"
           }
          ],
          "contourcarpet": [
           {
            "colorbar": {
             "outlinewidth": 0,
             "ticks": ""
            },
            "type": "contourcarpet"
           }
          ],
          "heatmap": [
           {
            "colorbar": {
             "outlinewidth": 0,
             "ticks": ""
            },
            "colorscale": [
             [
              0,
              "#0d0887"
             ],
             [
              0.1111111111111111,
              "#46039f"
             ],
             [
              0.2222222222222222,
              "#7201a8"
             ],
             [
              0.3333333333333333,
              "#9c179e"
             ],
             [
              0.4444444444444444,
              "#bd3786"
             ],
             [
              0.5555555555555556,
              "#d8576b"
             ],
             [
              0.6666666666666666,
              "#ed7953"
             ],
             [
              0.7777777777777778,
              "#fb9f3a"
             ],
             [
              0.8888888888888888,
              "#fdca26"
             ],
             [
              1,
              "#f0f921"
             ]
            ],
            "type": "heatmap"
           }
          ],
          "heatmapgl": [
           {
            "colorbar": {
             "outlinewidth": 0,
             "ticks": ""
            },
            "colorscale": [
             [
              0,
              "#0d0887"
             ],
             [
              0.1111111111111111,
              "#46039f"
             ],
             [
              0.2222222222222222,
              "#7201a8"
             ],
             [
              0.3333333333333333,
              "#9c179e"
             ],
             [
              0.4444444444444444,
              "#bd3786"
             ],
             [
              0.5555555555555556,
              "#d8576b"
             ],
             [
              0.6666666666666666,
              "#ed7953"
             ],
             [
              0.7777777777777778,
              "#fb9f3a"
             ],
             [
              0.8888888888888888,
              "#fdca26"
             ],
             [
              1,
              "#f0f921"
             ]
            ],
            "type": "heatmapgl"
           }
          ],
          "histogram": [
           {
            "marker": {
             "pattern": {
              "fillmode": "overlay",
              "size": 10,
              "solidity": 0.2
             }
            },
            "type": "histogram"
           }
          ],
          "histogram2d": [
           {
            "colorbar": {
             "outlinewidth": 0,
             "ticks": ""
            },
            "colorscale": [
             [
              0,
              "#0d0887"
             ],
             [
              0.1111111111111111,
              "#46039f"
             ],
             [
              0.2222222222222222,
              "#7201a8"
             ],
             [
              0.3333333333333333,
              "#9c179e"
             ],
             [
              0.4444444444444444,
              "#bd3786"
             ],
             [
              0.5555555555555556,
              "#d8576b"
             ],
             [
              0.6666666666666666,
              "#ed7953"
             ],
             [
              0.7777777777777778,
              "#fb9f3a"
             ],
             [
              0.8888888888888888,
              "#fdca26"
             ],
             [
              1,
              "#f0f921"
             ]
            ],
            "type": "histogram2d"
           }
          ],
          "histogram2dcontour": [
           {
            "colorbar": {
             "outlinewidth": 0,
             "ticks": ""
            },
            "colorscale": [
             [
              0,
              "#0d0887"
             ],
             [
              0.1111111111111111,
              "#46039f"
             ],
             [
              0.2222222222222222,
              "#7201a8"
             ],
             [
              0.3333333333333333,
              "#9c179e"
             ],
             [
              0.4444444444444444,
              "#bd3786"
             ],
             [
              0.5555555555555556,
              "#d8576b"
             ],
             [
              0.6666666666666666,
              "#ed7953"
             ],
             [
              0.7777777777777778,
              "#fb9f3a"
             ],
             [
              0.8888888888888888,
              "#fdca26"
             ],
             [
              1,
              "#f0f921"
             ]
            ],
            "type": "histogram2dcontour"
           }
          ],
          "mesh3d": [
           {
            "colorbar": {
             "outlinewidth": 0,
             "ticks": ""
            },
            "type": "mesh3d"
           }
          ],
          "parcoords": [
           {
            "line": {
             "colorbar": {
              "outlinewidth": 0,
              "ticks": ""
             }
            },
            "type": "parcoords"
           }
          ],
          "pie": [
           {
            "automargin": true,
            "type": "pie"
           }
          ],
          "scatter": [
           {
            "fillpattern": {
             "fillmode": "overlay",
             "size": 10,
             "solidity": 0.2
            },
            "type": "scatter"
           }
          ],
          "scatter3d": [
           {
            "line": {
             "colorbar": {
              "outlinewidth": 0,
              "ticks": ""
             }
            },
            "marker": {
             "colorbar": {
              "outlinewidth": 0,
              "ticks": ""
             }
            },
            "type": "scatter3d"
           }
          ],
          "scattercarpet": [
           {
            "marker": {
             "colorbar": {
              "outlinewidth": 0,
              "ticks": ""
             }
            },
            "type": "scattercarpet"
           }
          ],
          "scattergeo": [
           {
            "marker": {
             "colorbar": {
              "outlinewidth": 0,
              "ticks": ""
             }
            },
            "type": "scattergeo"
           }
          ],
          "scattergl": [
           {
            "marker": {
             "colorbar": {
              "outlinewidth": 0,
              "ticks": ""
             }
            },
            "type": "scattergl"
           }
          ],
          "scattermapbox": [
           {
            "marker": {
             "colorbar": {
              "outlinewidth": 0,
              "ticks": ""
             }
            },
            "type": "scattermapbox"
           }
          ],
          "scatterpolar": [
           {
            "marker": {
             "colorbar": {
              "outlinewidth": 0,
              "ticks": ""
             }
            },
            "type": "scatterpolar"
           }
          ],
          "scatterpolargl": [
           {
            "marker": {
             "colorbar": {
              "outlinewidth": 0,
              "ticks": ""
             }
            },
            "type": "scatterpolargl"
           }
          ],
          "scatterternary": [
           {
            "marker": {
             "colorbar": {
              "outlinewidth": 0,
              "ticks": ""
             }
            },
            "type": "scatterternary"
           }
          ],
          "surface": [
           {
            "colorbar": {
             "outlinewidth": 0,
             "ticks": ""
            },
            "colorscale": [
             [
              0,
              "#0d0887"
             ],
             [
              0.1111111111111111,
              "#46039f"
             ],
             [
              0.2222222222222222,
              "#7201a8"
             ],
             [
              0.3333333333333333,
              "#9c179e"
             ],
             [
              0.4444444444444444,
              "#bd3786"
             ],
             [
              0.5555555555555556,
              "#d8576b"
             ],
             [
              0.6666666666666666,
              "#ed7953"
             ],
             [
              0.7777777777777778,
              "#fb9f3a"
             ],
             [
              0.8888888888888888,
              "#fdca26"
             ],
             [
              1,
              "#f0f921"
             ]
            ],
            "type": "surface"
           }
          ],
          "table": [
           {
            "cells": {
             "fill": {
              "color": "#EBF0F8"
             },
             "line": {
              "color": "white"
             }
            },
            "header": {
             "fill": {
              "color": "#C8D4E3"
             },
             "line": {
              "color": "white"
             }
            },
            "type": "table"
           }
          ]
         },
         "layout": {
          "annotationdefaults": {
           "arrowcolor": "#2a3f5f",
           "arrowhead": 0,
           "arrowwidth": 1
          },
          "autotypenumbers": "strict",
          "coloraxis": {
           "colorbar": {
            "outlinewidth": 0,
            "ticks": ""
           }
          },
          "colorscale": {
           "diverging": [
            [
             0,
             "#8e0152"
            ],
            [
             0.1,
             "#c51b7d"
            ],
            [
             0.2,
             "#de77ae"
            ],
            [
             0.3,
             "#f1b6da"
            ],
            [
             0.4,
             "#fde0ef"
            ],
            [
             0.5,
             "#f7f7f7"
            ],
            [
             0.6,
             "#e6f5d0"
            ],
            [
             0.7,
             "#b8e186"
            ],
            [
             0.8,
             "#7fbc41"
            ],
            [
             0.9,
             "#4d9221"
            ],
            [
             1,
             "#276419"
            ]
           ],
           "sequential": [
            [
             0,
             "#0d0887"
            ],
            [
             0.1111111111111111,
             "#46039f"
            ],
            [
             0.2222222222222222,
             "#7201a8"
            ],
            [
             0.3333333333333333,
             "#9c179e"
            ],
            [
             0.4444444444444444,
             "#bd3786"
            ],
            [
             0.5555555555555556,
             "#d8576b"
            ],
            [
             0.6666666666666666,
             "#ed7953"
            ],
            [
             0.7777777777777778,
             "#fb9f3a"
            ],
            [
             0.8888888888888888,
             "#fdca26"
            ],
            [
             1,
             "#f0f921"
            ]
           ],
           "sequentialminus": [
            [
             0,
             "#0d0887"
            ],
            [
             0.1111111111111111,
             "#46039f"
            ],
            [
             0.2222222222222222,
             "#7201a8"
            ],
            [
             0.3333333333333333,
             "#9c179e"
            ],
            [
             0.4444444444444444,
             "#bd3786"
            ],
            [
             0.5555555555555556,
             "#d8576b"
            ],
            [
             0.6666666666666666,
             "#ed7953"
            ],
            [
             0.7777777777777778,
             "#fb9f3a"
            ],
            [
             0.8888888888888888,
             "#fdca26"
            ],
            [
             1,
             "#f0f921"
            ]
           ]
          },
          "colorway": [
           "#636efa",
           "#EF553B",
           "#00cc96",
           "#ab63fa",
           "#FFA15A",
           "#19d3f3",
           "#FF6692",
           "#B6E880",
           "#FF97FF",
           "#FECB52"
          ],
          "font": {
           "color": "#2a3f5f"
          },
          "geo": {
           "bgcolor": "white",
           "lakecolor": "white",
           "landcolor": "#E5ECF6",
           "showlakes": true,
           "showland": true,
           "subunitcolor": "white"
          },
          "hoverlabel": {
           "align": "left"
          },
          "hovermode": "closest",
          "mapbox": {
           "style": "light"
          },
          "paper_bgcolor": "white",
          "plot_bgcolor": "#E5ECF6",
          "polar": {
           "angularaxis": {
            "gridcolor": "white",
            "linecolor": "white",
            "ticks": ""
           },
           "bgcolor": "#E5ECF6",
           "radialaxis": {
            "gridcolor": "white",
            "linecolor": "white",
            "ticks": ""
           }
          },
          "scene": {
           "xaxis": {
            "backgroundcolor": "#E5ECF6",
            "gridcolor": "white",
            "gridwidth": 2,
            "linecolor": "white",
            "showbackground": true,
            "ticks": "",
            "zerolinecolor": "white"
           },
           "yaxis": {
            "backgroundcolor": "#E5ECF6",
            "gridcolor": "white",
            "gridwidth": 2,
            "linecolor": "white",
            "showbackground": true,
            "ticks": "",
            "zerolinecolor": "white"
           },
           "zaxis": {
            "backgroundcolor": "#E5ECF6",
            "gridcolor": "white",
            "gridwidth": 2,
            "linecolor": "white",
            "showbackground": true,
            "ticks": "",
            "zerolinecolor": "white"
           }
          },
          "shapedefaults": {
           "line": {
            "color": "#2a3f5f"
           }
          },
          "ternary": {
           "aaxis": {
            "gridcolor": "white",
            "linecolor": "white",
            "ticks": ""
           },
           "baxis": {
            "gridcolor": "white",
            "linecolor": "white",
            "ticks": ""
           },
           "bgcolor": "#E5ECF6",
           "caxis": {
            "gridcolor": "white",
            "linecolor": "white",
            "ticks": ""
           }
          },
          "title": {
           "x": 0.05
          },
          "xaxis": {
           "automargin": true,
           "gridcolor": "white",
           "linecolor": "white",
           "ticks": "",
           "title": {
            "standoff": 15
           },
           "zerolinecolor": "white",
           "zerolinewidth": 2
          },
          "yaxis": {
           "automargin": true,
           "gridcolor": "white",
           "linecolor": "white",
           "ticks": "",
           "title": {
            "standoff": 15
           },
           "zerolinecolor": "white",
           "zerolinewidth": 2
          }
         }
        },
        "width": 700
       }
      }
     },
     "metadata": {},
     "output_type": "display_data"
    }
   ],
   "source": [
    "\n",
    "fig = go.Figure()\n",
    "\n",
    "# add cluster 0 (most used stations)\n",
    "fig.add_trace(go.Scatter3d(\n",
    "    x = avg_returning_cluster_0,\n",
    "    y = frequency_cluster_0,\n",
    "    z = avg_renting_cluster_0,\n",
    "    mode = \"markers\",\n",
    "    marker = dict(size = 10,\n",
    "                  line = dict(width = 4, color='DarkSlateGrey'),\n",
    "                  color = '#3CB371'\n",
    "                    ),\n",
    "    hovertemplate = 'Station name: %{text}'\n",
    "                    + '<br>Avg Renting Bike: %{x}' \n",
    "                    + '<br>Avg Returning Bike: %{z}'\n",
    "                    + '<br>Frequency of Usage: %{y}',\n",
    "    name = \"Cluster 0\",\n",
    "    text = name_cluster_0\n",
    "    )\n",
    ")\n",
    "\n",
    "# add cluster 1 (second most used stations)\n",
    "fig.add_trace(go.Scatter3d(\n",
    "    x = avg_returning_cluster_1,\n",
    "    y = frequency_cluster_1,\n",
    "    z = avg_renting_cluster_1,\n",
    "    mode = \"markers\",\n",
    "    marker = dict(size = 10,\n",
    "                  line = dict(width = 4, color='DarkSlateGrey'),\n",
    "                  color = '#BA55D3'\n",
    "                    ),\n",
    "    hovertemplate = 'Station name: %{text}'\n",
    "                    + '<br>Avg Renting Bike: %{x}' \n",
    "                    + '<br>Avg Returning Bike: %{z}'\n",
    "                    + '<br>Frequency of Usage: %{y}',\n",
    "    name = \"Cluster 1\",\n",
    "    text = name_cluster_1\n",
    "    )\n",
    ")\n",
    "# add cluster 2 (station that are rarely used)\n",
    "fig.add_trace(go.Scatter3d(\n",
    "    x = avg_returning_cluster_2,\n",
    "    y = frequency_cluster_2,\n",
    "    z = avg_renting_cluster_2,\n",
    "    mode = \"markers\",\n",
    "    marker = dict(size = 10,\n",
    "                  line = dict(width = 4, color='DarkSlateGrey'),\n",
    "                  color = '#4682B4'\n",
    "                    ),\n",
    "    hovertemplate = 'Station name: %{text}'\n",
    "                    + '<br>Avg Renting Bike: %{x}' \n",
    "                    + '<br>Avg Returning Bike: %{z}'\n",
    "                    + '<br>Frequency of Usage: %{y}',\n",
    "    name = \"Cluster 2\",\n",
    "    text = name_cluster_2\n",
    "    )\n",
    ")\n",
    "\n",
    "# add train station for reference\n",
    "fig.add_trace(go.Scatter3d(\n",
    "    x = avg_returning_train_station,\n",
    "    y = frequency_train_station,\n",
    "    z = avg_renting_train_station,\n",
    "    mode = \"markers\",\n",
    "    marker = dict(size = 10,\n",
    "                  line = dict(width = 4, color='DarkSlateGrey'),\n",
    "                  color = '#FF6347'\n",
    "                    ),\n",
    "    hovertemplate = 'Station name: %{text}'\n",
    "                    + '<br>Avg Renting Bike: %{x}' \n",
    "                    + '<br>Avg Returning Bike: %{z}'\n",
    "                    + '<br>Frequency of Usage: %{y}',\n",
    "    name = \"Kiel Hauptbahnhof\",\n",
    "    text = name_train_station\n",
    "    )\n",
    ")\n",
    "\n",
    "\n",
    "fig.update_layout(\n",
    "    autosize = True,\n",
    "    hovermode = \"closest\",\n",
    "    showlegend = True,\n",
    "    width = 700,\n",
    "    height = 700,\n",
    "    margin = dict(l=0, r=0, b=0, t=0),\n",
    "    legend = dict(bordercolor='rgb(100,100,100)',\n",
    "                                borderwidth=2,\n",
    "                                #itemclick='toggleothers',# when you are clicking an item in legend all that are not in the same group are hidden\n",
    "                                x=0,\n",
    "                                y=1),\n",
    "    scene = dict(\n",
    "                xaxis_title='Avg Returning Bike',\n",
    "                yaxis_title='Frequency of Usage',\n",
    "                zaxis_title='Avg Renting Bike'),\n",
    "    scene_camera = dict(\n",
    "                    eye = dict(x=1.7, y=-1.7, z=0.3)\n",
    "                    )\n",
    ")\n",
    "\n",
    "#plotly.offline.plot(fig, filename=r\"./plotly_vis/no_hbf_3_cluster_3D.html\")\n",
    "fig.show()"
   ]
  },
  {
   "attachments": {},
   "cell_type": "markdown",
   "metadata": {},
   "source": [
    "Visualize only Average of renting and returning with reference train station"
   ]
  },
  {
   "cell_type": "code",
   "execution_count": 11,
   "metadata": {},
   "outputs": [
    {
     "data": {
      "application/vnd.plotly.v1+json": {
       "config": {
        "plotlyServerURL": "https://plot.ly"
       },
       "data": [
        {
         "hovertemplate": "Station name: %{text}<br>Avg Renting Bike: %{x}<br>Avg Returning Bike: %{y}",
         "marker": {
          "color": "#3CB371",
          "line": {
           "color": "DarkSlateGrey",
           "width": 2
          },
          "size": 12
         },
         "mode": "markers",
         "name": "frequenlty used",
         "text": [
          "Anleger Reventlou",
          "Dreiecksplatz",
          "MELUND-Olympiahochhaus",
          "Kirchhofallee",
          "CAU Sportstätten",
          "Bernhard-Minetti-Platz",
          "Westring/Eckernförder Str.",
          "Exerzierplatz",
          "Alter Markt",
          "Blücherplatz",
          "Wilhelmplatz"
         ],
         "type": "scatter",
         "x": [
          27.4375,
          18.5,
          18.3125,
          23.1875,
          15.5625,
          20.8125,
          17.75,
          15.5,
          22.9375,
          19,
          20.875
         ],
         "y": [
          27,
          18.75,
          18.125,
          22.8125,
          15.25,
          20.6875,
          17.875,
          14.8125,
          22.5,
          19,
          20.25
         ]
        },
        {
         "hovertemplate": "Station name: %{text}<br>Avg Renting Bike: %{x}<br>Avg Returning Bike: %{y}",
         "marker": {
          "color": "#BA55D3",
          "line": {
           "color": "DarkSlateGrey",
           "width": 2
          },
          "size": 12
         },
         "mode": "markers",
         "name": "infrequenlty used",
         "text": [
          "CAU Universitätsbibliothek",
          "Hansastr./Gutenbergstr.",
          "Rathausplatz",
          "Vinetaplatz",
          "Hörnbad",
          "Förde Sparkasse Lorentzendamm",
          "Muthesius Kunsthochschule",
          "Andreas-Gayk-Straße",
          "Provinzial Sophienblatt",
          "KVG Betriebshof Diedrichstraße",
          "thyssenkrupp Marine Systems",
          "Umsteiger",
          "Tilsiter Platz",
          "Christian-Albrechts-Platz",
          "CITTI-PARK",
          "Sophienhof",
          "ADAC-Station",
          "Alte Mu/Brunswiker Str.",
          "Holsten-/Hafenstraße",
          "Kieler Innovations- und Technologiezentrum",
          "RBZ Wirtschaft",
          "Krausstraße",
          "Bahnhof Suchsdorf",
          "Zur Fähre"
         ],
         "type": "scatter",
         "x": [
          10.8125,
          12.0625,
          6.6875,
          10.625,
          13.8125,
          10.6875,
          7.4375,
          9,
          8.3125,
          5.375,
          12.4375,
          7.5625,
          5.75,
          5.8125,
          7,
          6.9375,
          4.625,
          7.625,
          11.75,
          7.625,
          4.375,
          6.0625,
          4.8125,
          5.875
         ],
         "y": [
          10.875,
          11.875,
          6.6875,
          10.1875,
          13.8125,
          10.3125,
          7.3125,
          9.625,
          8.1875,
          5.6875,
          12.6875,
          7.5,
          5.5,
          5.8125,
          6.8125,
          6.875,
          4.625,
          6.9375,
          11.125,
          7.5625,
          4.375,
          5.8125,
          5.25,
          5.75
         ]
        },
        {
         "hovertemplate": "Station name: %{text}<br>Avg Renting Bike: %{x}<br>Avg Returning Bike: %{y}",
         "marker": {
          "color": "#4682B4",
          "line": {
           "color": "DarkSlateGrey",
           "width": 2
          },
          "size": 12
         },
         "mode": "markers",
         "name": "barely used",
         "text": [
          "Catharinenberg",
          "Kanalfähre Holtenau",
          "Kanalfähre Wik",
          "Gemeindebücherei ",
          "Mönkeberg Anleger",
          "Sandkrug",
          "Dataport/FHVD",
          "Freilichtmuseum Molfsee",
          "KielRegion GmbH",
          "Kurt-Schumacher-Platz",
          "Bahnhalt Ellerbek",
          "Anleger Friedrichsort",
          "Rathaus Altenholz",
          "KiTa Fußsteigkoppel",
          "Kronshagen Bahnhof",
          "Wellingdorf Stadtteilzentrum",
          "Bahnhof Oppendorf",
          "Russeer Weg / Hofholzallee",
          "Anleger Dietrichsdorf",
          "Aalborgring",
          "Fähranleger Möltenort",
          "Schönkirchen Gemeindehaus",
          "Marine-Ehrenmal",
          "Bunsenstraße",
          "Bullbrücke",
          "Kuhlacker",
          "Rathaus Heikendorf",
          "Förde Sparkasse Teplitzer Allee",
          "Bahnhof Russee",
          "Bebelplatz",
          "Seefischmarkt",
          "Braunstraße",
          "Grot Steenbusch",
          "Meimersdorf Kontor",
          "Kronshagen Rathaus",
          "Hafen Laboe",
          "Schulen am Langsee",
          "UKSH",
          "Rathaus Waisenhofstraße",
          "Studiale",
          "Rungholtplatz",
          "Stadtteilzentrum Pries",
          "Cruise Center Kiel / Fahrrad Messe Popup"
         ],
         "type": "scatter",
         "x": [
          0.1875,
          0.1875,
          2,
          0.6875,
          0.75,
          0.75,
          0.8125,
          0.25,
          2.5,
          0.875,
          1.875,
          0.9375,
          0.5625,
          2.875,
          1.1875,
          5.375,
          1.25,
          1.625,
          4.4375,
          0.375,
          0.3125,
          0.5625,
          0.9375,
          0.0625,
          0,
          0.0625,
          0.25,
          0.4375,
          0.9375,
          0.4375,
          1.3125,
          0.625,
          0.4375,
          0.1875,
          2.875,
          1.875,
          1.125,
          4.125,
          2.0625,
          1.25,
          2.625,
          2.375,
          3.363636363636364
         ],
         "y": [
          0.0625,
          0.6875,
          1.625,
          0.3125,
          0.6875,
          0.75,
          0.9375,
          0.25,
          2.5,
          0.5625,
          1.5,
          1.625,
          0.5,
          2.875,
          1.125,
          5.3125,
          1.4375,
          2.25,
          3.9375,
          0.3125,
          0.5,
          0.6875,
          1,
          0,
          0.125,
          0.25,
          0.3125,
          0.5,
          0.9375,
          0.1875,
          1.4375,
          0.5625,
          0.125,
          0.375,
          3.25,
          2.25,
          1.1875,
          4,
          2,
          1.3125,
          2.4375,
          1.9375,
          2.636363636363636
         ]
        },
        {
         "hovertemplate": "Station name: %{text}<br>Avg Renting Bike: %{x}<br>Avg Returning Bike: %{y}",
         "marker": {
          "color": "#FF6347",
          "line": {
           "color": "DarkSlateGrey",
           "width": 2
          },
          "size": 12
         },
         "mode": "markers",
         "name": "Kiel Hauptbahnhof",
         "text": [
          "Hauptbahnhof"
         ],
         "type": "scatter",
         "x": [
          51.4375
         ],
         "y": [
          52.5625
         ]
        }
       ],
       "layout": {
        "autosize": true,
        "height": 400,
        "hovermode": "closest",
        "legend": {
         "bordercolor": "rgb(100,100,100)",
         "borderwidth": 2,
         "x": 0,
         "y": 1
        },
        "margin": {
         "b": 0,
         "l": 0,
         "r": 0,
         "t": 0
        },
        "showlegend": true,
        "template": {
         "data": {
          "bar": [
           {
            "error_x": {
             "color": "#2a3f5f"
            },
            "error_y": {
             "color": "#2a3f5f"
            },
            "marker": {
             "line": {
              "color": "#E5ECF6",
              "width": 0.5
             },
             "pattern": {
              "fillmode": "overlay",
              "size": 10,
              "solidity": 0.2
             }
            },
            "type": "bar"
           }
          ],
          "barpolar": [
           {
            "marker": {
             "line": {
              "color": "#E5ECF6",
              "width": 0.5
             },
             "pattern": {
              "fillmode": "overlay",
              "size": 10,
              "solidity": 0.2
             }
            },
            "type": "barpolar"
           }
          ],
          "carpet": [
           {
            "aaxis": {
             "endlinecolor": "#2a3f5f",
             "gridcolor": "white",
             "linecolor": "white",
             "minorgridcolor": "white",
             "startlinecolor": "#2a3f5f"
            },
            "baxis": {
             "endlinecolor": "#2a3f5f",
             "gridcolor": "white",
             "linecolor": "white",
             "minorgridcolor": "white",
             "startlinecolor": "#2a3f5f"
            },
            "type": "carpet"
           }
          ],
          "choropleth": [
           {
            "colorbar": {
             "outlinewidth": 0,
             "ticks": ""
            },
            "type": "choropleth"
           }
          ],
          "contour": [
           {
            "colorbar": {
             "outlinewidth": 0,
             "ticks": ""
            },
            "colorscale": [
             [
              0,
              "#0d0887"
             ],
             [
              0.1111111111111111,
              "#46039f"
             ],
             [
              0.2222222222222222,
              "#7201a8"
             ],
             [
              0.3333333333333333,
              "#9c179e"
             ],
             [
              0.4444444444444444,
              "#bd3786"
             ],
             [
              0.5555555555555556,
              "#d8576b"
             ],
             [
              0.6666666666666666,
              "#ed7953"
             ],
             [
              0.7777777777777778,
              "#fb9f3a"
             ],
             [
              0.8888888888888888,
              "#fdca26"
             ],
             [
              1,
              "#f0f921"
             ]
            ],
            "type": "contour"
           }
          ],
          "contourcarpet": [
           {
            "colorbar": {
             "outlinewidth": 0,
             "ticks": ""
            },
            "type": "contourcarpet"
           }
          ],
          "heatmap": [
           {
            "colorbar": {
             "outlinewidth": 0,
             "ticks": ""
            },
            "colorscale": [
             [
              0,
              "#0d0887"
             ],
             [
              0.1111111111111111,
              "#46039f"
             ],
             [
              0.2222222222222222,
              "#7201a8"
             ],
             [
              0.3333333333333333,
              "#9c179e"
             ],
             [
              0.4444444444444444,
              "#bd3786"
             ],
             [
              0.5555555555555556,
              "#d8576b"
             ],
             [
              0.6666666666666666,
              "#ed7953"
             ],
             [
              0.7777777777777778,
              "#fb9f3a"
             ],
             [
              0.8888888888888888,
              "#fdca26"
             ],
             [
              1,
              "#f0f921"
             ]
            ],
            "type": "heatmap"
           }
          ],
          "heatmapgl": [
           {
            "colorbar": {
             "outlinewidth": 0,
             "ticks": ""
            },
            "colorscale": [
             [
              0,
              "#0d0887"
             ],
             [
              0.1111111111111111,
              "#46039f"
             ],
             [
              0.2222222222222222,
              "#7201a8"
             ],
             [
              0.3333333333333333,
              "#9c179e"
             ],
             [
              0.4444444444444444,
              "#bd3786"
             ],
             [
              0.5555555555555556,
              "#d8576b"
             ],
             [
              0.6666666666666666,
              "#ed7953"
             ],
             [
              0.7777777777777778,
              "#fb9f3a"
             ],
             [
              0.8888888888888888,
              "#fdca26"
             ],
             [
              1,
              "#f0f921"
             ]
            ],
            "type": "heatmapgl"
           }
          ],
          "histogram": [
           {
            "marker": {
             "pattern": {
              "fillmode": "overlay",
              "size": 10,
              "solidity": 0.2
             }
            },
            "type": "histogram"
           }
          ],
          "histogram2d": [
           {
            "colorbar": {
             "outlinewidth": 0,
             "ticks": ""
            },
            "colorscale": [
             [
              0,
              "#0d0887"
             ],
             [
              0.1111111111111111,
              "#46039f"
             ],
             [
              0.2222222222222222,
              "#7201a8"
             ],
             [
              0.3333333333333333,
              "#9c179e"
             ],
             [
              0.4444444444444444,
              "#bd3786"
             ],
             [
              0.5555555555555556,
              "#d8576b"
             ],
             [
              0.6666666666666666,
              "#ed7953"
             ],
             [
              0.7777777777777778,
              "#fb9f3a"
             ],
             [
              0.8888888888888888,
              "#fdca26"
             ],
             [
              1,
              "#f0f921"
             ]
            ],
            "type": "histogram2d"
           }
          ],
          "histogram2dcontour": [
           {
            "colorbar": {
             "outlinewidth": 0,
             "ticks": ""
            },
            "colorscale": [
             [
              0,
              "#0d0887"
             ],
             [
              0.1111111111111111,
              "#46039f"
             ],
             [
              0.2222222222222222,
              "#7201a8"
             ],
             [
              0.3333333333333333,
              "#9c179e"
             ],
             [
              0.4444444444444444,
              "#bd3786"
             ],
             [
              0.5555555555555556,
              "#d8576b"
             ],
             [
              0.6666666666666666,
              "#ed7953"
             ],
             [
              0.7777777777777778,
              "#fb9f3a"
             ],
             [
              0.8888888888888888,
              "#fdca26"
             ],
             [
              1,
              "#f0f921"
             ]
            ],
            "type": "histogram2dcontour"
           }
          ],
          "mesh3d": [
           {
            "colorbar": {
             "outlinewidth": 0,
             "ticks": ""
            },
            "type": "mesh3d"
           }
          ],
          "parcoords": [
           {
            "line": {
             "colorbar": {
              "outlinewidth": 0,
              "ticks": ""
             }
            },
            "type": "parcoords"
           }
          ],
          "pie": [
           {
            "automargin": true,
            "type": "pie"
           }
          ],
          "scatter": [
           {
            "fillpattern": {
             "fillmode": "overlay",
             "size": 10,
             "solidity": 0.2
            },
            "type": "scatter"
           }
          ],
          "scatter3d": [
           {
            "line": {
             "colorbar": {
              "outlinewidth": 0,
              "ticks": ""
             }
            },
            "marker": {
             "colorbar": {
              "outlinewidth": 0,
              "ticks": ""
             }
            },
            "type": "scatter3d"
           }
          ],
          "scattercarpet": [
           {
            "marker": {
             "colorbar": {
              "outlinewidth": 0,
              "ticks": ""
             }
            },
            "type": "scattercarpet"
           }
          ],
          "scattergeo": [
           {
            "marker": {
             "colorbar": {
              "outlinewidth": 0,
              "ticks": ""
             }
            },
            "type": "scattergeo"
           }
          ],
          "scattergl": [
           {
            "marker": {
             "colorbar": {
              "outlinewidth": 0,
              "ticks": ""
             }
            },
            "type": "scattergl"
           }
          ],
          "scattermapbox": [
           {
            "marker": {
             "colorbar": {
              "outlinewidth": 0,
              "ticks": ""
             }
            },
            "type": "scattermapbox"
           }
          ],
          "scatterpolar": [
           {
            "marker": {
             "colorbar": {
              "outlinewidth": 0,
              "ticks": ""
             }
            },
            "type": "scatterpolar"
           }
          ],
          "scatterpolargl": [
           {
            "marker": {
             "colorbar": {
              "outlinewidth": 0,
              "ticks": ""
             }
            },
            "type": "scatterpolargl"
           }
          ],
          "scatterternary": [
           {
            "marker": {
             "colorbar": {
              "outlinewidth": 0,
              "ticks": ""
             }
            },
            "type": "scatterternary"
           }
          ],
          "surface": [
           {
            "colorbar": {
             "outlinewidth": 0,
             "ticks": ""
            },
            "colorscale": [
             [
              0,
              "#0d0887"
             ],
             [
              0.1111111111111111,
              "#46039f"
             ],
             [
              0.2222222222222222,
              "#7201a8"
             ],
             [
              0.3333333333333333,
              "#9c179e"
             ],
             [
              0.4444444444444444,
              "#bd3786"
             ],
             [
              0.5555555555555556,
              "#d8576b"
             ],
             [
              0.6666666666666666,
              "#ed7953"
             ],
             [
              0.7777777777777778,
              "#fb9f3a"
             ],
             [
              0.8888888888888888,
              "#fdca26"
             ],
             [
              1,
              "#f0f921"
             ]
            ],
            "type": "surface"
           }
          ],
          "table": [
           {
            "cells": {
             "fill": {
              "color": "#EBF0F8"
             },
             "line": {
              "color": "white"
             }
            },
            "header": {
             "fill": {
              "color": "#C8D4E3"
             },
             "line": {
              "color": "white"
             }
            },
            "type": "table"
           }
          ]
         },
         "layout": {
          "annotationdefaults": {
           "arrowcolor": "#2a3f5f",
           "arrowhead": 0,
           "arrowwidth": 1
          },
          "autotypenumbers": "strict",
          "coloraxis": {
           "colorbar": {
            "outlinewidth": 0,
            "ticks": ""
           }
          },
          "colorscale": {
           "diverging": [
            [
             0,
             "#8e0152"
            ],
            [
             0.1,
             "#c51b7d"
            ],
            [
             0.2,
             "#de77ae"
            ],
            [
             0.3,
             "#f1b6da"
            ],
            [
             0.4,
             "#fde0ef"
            ],
            [
             0.5,
             "#f7f7f7"
            ],
            [
             0.6,
             "#e6f5d0"
            ],
            [
             0.7,
             "#b8e186"
            ],
            [
             0.8,
             "#7fbc41"
            ],
            [
             0.9,
             "#4d9221"
            ],
            [
             1,
             "#276419"
            ]
           ],
           "sequential": [
            [
             0,
             "#0d0887"
            ],
            [
             0.1111111111111111,
             "#46039f"
            ],
            [
             0.2222222222222222,
             "#7201a8"
            ],
            [
             0.3333333333333333,
             "#9c179e"
            ],
            [
             0.4444444444444444,
             "#bd3786"
            ],
            [
             0.5555555555555556,
             "#d8576b"
            ],
            [
             0.6666666666666666,
             "#ed7953"
            ],
            [
             0.7777777777777778,
             "#fb9f3a"
            ],
            [
             0.8888888888888888,
             "#fdca26"
            ],
            [
             1,
             "#f0f921"
            ]
           ],
           "sequentialminus": [
            [
             0,
             "#0d0887"
            ],
            [
             0.1111111111111111,
             "#46039f"
            ],
            [
             0.2222222222222222,
             "#7201a8"
            ],
            [
             0.3333333333333333,
             "#9c179e"
            ],
            [
             0.4444444444444444,
             "#bd3786"
            ],
            [
             0.5555555555555556,
             "#d8576b"
            ],
            [
             0.6666666666666666,
             "#ed7953"
            ],
            [
             0.7777777777777778,
             "#fb9f3a"
            ],
            [
             0.8888888888888888,
             "#fdca26"
            ],
            [
             1,
             "#f0f921"
            ]
           ]
          },
          "colorway": [
           "#636efa",
           "#EF553B",
           "#00cc96",
           "#ab63fa",
           "#FFA15A",
           "#19d3f3",
           "#FF6692",
           "#B6E880",
           "#FF97FF",
           "#FECB52"
          ],
          "font": {
           "color": "#2a3f5f"
          },
          "geo": {
           "bgcolor": "white",
           "lakecolor": "white",
           "landcolor": "#E5ECF6",
           "showlakes": true,
           "showland": true,
           "subunitcolor": "white"
          },
          "hoverlabel": {
           "align": "left"
          },
          "hovermode": "closest",
          "mapbox": {
           "style": "light"
          },
          "paper_bgcolor": "white",
          "plot_bgcolor": "#E5ECF6",
          "polar": {
           "angularaxis": {
            "gridcolor": "white",
            "linecolor": "white",
            "ticks": ""
           },
           "bgcolor": "#E5ECF6",
           "radialaxis": {
            "gridcolor": "white",
            "linecolor": "white",
            "ticks": ""
           }
          },
          "scene": {
           "xaxis": {
            "backgroundcolor": "#E5ECF6",
            "gridcolor": "white",
            "gridwidth": 2,
            "linecolor": "white",
            "showbackground": true,
            "ticks": "",
            "zerolinecolor": "white"
           },
           "yaxis": {
            "backgroundcolor": "#E5ECF6",
            "gridcolor": "white",
            "gridwidth": 2,
            "linecolor": "white",
            "showbackground": true,
            "ticks": "",
            "zerolinecolor": "white"
           },
           "zaxis": {
            "backgroundcolor": "#E5ECF6",
            "gridcolor": "white",
            "gridwidth": 2,
            "linecolor": "white",
            "showbackground": true,
            "ticks": "",
            "zerolinecolor": "white"
           }
          },
          "shapedefaults": {
           "line": {
            "color": "#2a3f5f"
           }
          },
          "ternary": {
           "aaxis": {
            "gridcolor": "white",
            "linecolor": "white",
            "ticks": ""
           },
           "baxis": {
            "gridcolor": "white",
            "linecolor": "white",
            "ticks": ""
           },
           "bgcolor": "#E5ECF6",
           "caxis": {
            "gridcolor": "white",
            "linecolor": "white",
            "ticks": ""
           }
          },
          "title": {
           "x": 0.05
          },
          "xaxis": {
           "automargin": true,
           "gridcolor": "white",
           "linecolor": "white",
           "ticks": "",
           "title": {
            "standoff": 15
           },
           "zerolinecolor": "white",
           "zerolinewidth": 2
          },
          "yaxis": {
           "automargin": true,
           "gridcolor": "white",
           "linecolor": "white",
           "ticks": "",
           "title": {
            "standoff": 15
           },
           "zerolinecolor": "white",
           "zerolinewidth": 2
          }
         }
        },
        "width": 400,
        "xaxis": {
         "title": {
          "text": "Avg Renting Bike"
         }
        },
        "yaxis": {
         "title": {
          "text": "Avg Returning Bike"
         }
        }
       }
      }
     },
     "metadata": {},
     "output_type": "display_data"
    }
   ],
   "source": [
    "fig = go.Figure()\n",
    "\n",
    "# add cluster 0 \n",
    "fig.add_trace(go.Scatter(\n",
    "    y = avg_returning_cluster_0,\n",
    "    x = avg_renting_cluster_0,\n",
    "    mode = \"markers\",\n",
    "    marker = dict(size = 12,\n",
    "                  line = dict(width = 2, color='DarkSlateGrey'),\n",
    "                  color = '#3CB371'\n",
    "                    ),\n",
    "    #marker = {'size': 10, 'color': 'rgba(0,94,0,0.56)'},\n",
    "    hovertemplate = 'Station name: %{text}'\n",
    "                    + '<br>Avg Renting Bike: %{x}' \n",
    "                    + '<br>Avg Returning Bike: %{y}',\n",
    "    name = \"frequenlty used\",\n",
    "    text = name_cluster_0\n",
    "    )\n",
    ")\n",
    "\n",
    "# add cluster 1\n",
    "fig.add_trace(go.Scatter(\n",
    "    y = avg_returning_cluster_1,\n",
    "    x = avg_renting_cluster_1,\n",
    "    mode = \"markers\",\n",
    "    marker = dict(size = 12,\n",
    "                  line = dict(width = 2, color='DarkSlateGrey'),\n",
    "                  color = '#BA55D3'\n",
    "                    ),\n",
    "    #marker = {'size': 10, 'color': 'rgba(189,0,0,0.95)'},\n",
    "    hovertemplate = 'Station name: %{text}'\n",
    "                    + '<br>Avg Renting Bike: %{x}' \n",
    "                    + '<br>Avg Returning Bike: %{y}',\n",
    "    name = \"infrequenlty used\",\n",
    "    text = name_cluster_1\n",
    "    )\n",
    ")\n",
    "# add cluster 2 \n",
    "fig.add_trace(go.Scatter(\n",
    "    y = avg_returning_cluster_2,\n",
    "    x = avg_renting_cluster_2,\n",
    "    mode = \"markers\",\n",
    "    marker = dict(size = 12,\n",
    "                  line = dict(width = 2, color='DarkSlateGrey'),\n",
    "                  color = '#4682B4'\n",
    "                    ),\n",
    "    #marker = {'size': 10, 'color': 'rgba(0,0,192,0.85)'},\n",
    "    hovertemplate = 'Station name: %{text}'\n",
    "                    + '<br>Avg Renting Bike: %{x}' \n",
    "                    + '<br>Avg Returning Bike: %{y}',\n",
    "    name = \"barely used\",\n",
    "    text = name_cluster_2\n",
    "    )\n",
    ")\n",
    "\n",
    "# add train station for reference\n",
    "fig.add_trace(go.Scatter(\n",
    "    y = avg_returning_train_station,\n",
    "    x = avg_renting_train_station,\n",
    "    mode = \"markers\",\n",
    "    marker = dict(size = 12,\n",
    "                  line = dict(width = 2, color='DarkSlateGrey'),\n",
    "                  color = '#FF6347'\n",
    "                    ),\n",
    "    hovertemplate = 'Station name: %{text}'\n",
    "                    + '<br>Avg Renting Bike: %{x}' \n",
    "                    + '<br>Avg Returning Bike: %{y}',\n",
    "    name = \"Kiel Hauptbahnhof\",\n",
    "    text = name_train_station\n",
    "    )\n",
    ")\n",
    "\n",
    "fig.update_layout(\n",
    "    #title = \"Most common routes taken\",\n",
    "    autosize = True,\n",
    "    hovermode = \"closest\",\n",
    "    showlegend = True,\n",
    "    width = 400,\n",
    "    height = 400,\n",
    "    margin = dict(l=0, r=0, b=0, t=0),\n",
    "    legend = dict(bordercolor='rgb(100,100,100)',\n",
    "                                borderwidth=2,\n",
    "                                #itemclick='toggleothers',# when you are clicking an item in legend all that are not in the same group are hidden\n",
    "                                x=0,\n",
    "                                y=1),\n",
    "    yaxis_title='Avg Returning Bike',\n",
    "    xaxis_title='Avg Renting Bike',\n",
    ")\n",
    "\n",
    "#plotly.offline.plot(fig, filename=r\"./plotly_vis/no_hbf_3_cluster_rent_ret.html\")\n",
    "fig.show()"
   ]
  },
  {
   "attachments": {},
   "cell_type": "markdown",
   "metadata": {},
   "source": [
    "We need to use dimension reduction to visualize our cluster in a 2D space. We will use PCA"
   ]
  },
  {
   "cell_type": "code",
   "execution_count": 12,
   "metadata": {},
   "outputs": [
    {
     "data": {
      "text/html": [
       "<div>\n",
       "<style scoped>\n",
       "    .dataframe tbody tr th:only-of-type {\n",
       "        vertical-align: middle;\n",
       "    }\n",
       "\n",
       "    .dataframe tbody tr th {\n",
       "        vertical-align: top;\n",
       "    }\n",
       "\n",
       "    .dataframe thead th {\n",
       "        text-align: right;\n",
       "    }\n",
       "</style>\n",
       "<table border=\"1\" class=\"dataframe\">\n",
       "  <thead>\n",
       "    <tr style=\"text-align: right;\">\n",
       "      <th></th>\n",
       "      <th>PC1</th>\n",
       "      <th>PC2</th>\n",
       "      <th>Cluster</th>\n",
       "    </tr>\n",
       "  </thead>\n",
       "  <tbody>\n",
       "    <tr>\n",
       "      <th>0</th>\n",
       "      <td>6.137875</td>\n",
       "      <td>3.194475</td>\n",
       "      <td>0</td>\n",
       "    </tr>\n",
       "    <tr>\n",
       "      <th>1</th>\n",
       "      <td>1.353669</td>\n",
       "      <td>-0.814859</td>\n",
       "      <td>1</td>\n",
       "    </tr>\n",
       "    <tr>\n",
       "      <th>2</th>\n",
       "      <td>-1.907431</td>\n",
       "      <td>-0.669772</td>\n",
       "      <td>2</td>\n",
       "    </tr>\n",
       "    <tr>\n",
       "      <th>3</th>\n",
       "      <td>3.972109</td>\n",
       "      <td>-0.993501</td>\n",
       "      <td>0</td>\n",
       "    </tr>\n",
       "    <tr>\n",
       "      <th>4</th>\n",
       "      <td>-1.722460</td>\n",
       "      <td>-0.062156</td>\n",
       "      <td>2</td>\n",
       "    </tr>\n",
       "    <tr>\n",
       "      <th>...</th>\n",
       "      <td>...</td>\n",
       "      <td>...</td>\n",
       "      <td>...</td>\n",
       "    </tr>\n",
       "    <tr>\n",
       "      <th>73</th>\n",
       "      <td>-1.297464</td>\n",
       "      <td>-0.664798</td>\n",
       "      <td>2</td>\n",
       "    </tr>\n",
       "    <tr>\n",
       "      <th>74</th>\n",
       "      <td>-1.525502</td>\n",
       "      <td>-0.737678</td>\n",
       "      <td>2</td>\n",
       "    </tr>\n",
       "    <tr>\n",
       "      <th>75</th>\n",
       "      <td>-0.911442</td>\n",
       "      <td>1.039248</td>\n",
       "      <td>2</td>\n",
       "    </tr>\n",
       "    <tr>\n",
       "      <th>76</th>\n",
       "      <td>-1.047760</td>\n",
       "      <td>1.899571</td>\n",
       "      <td>2</td>\n",
       "    </tr>\n",
       "    <tr>\n",
       "      <th>77</th>\n",
       "      <td>-0.923449</td>\n",
       "      <td>0.178505</td>\n",
       "      <td>2</td>\n",
       "    </tr>\n",
       "  </tbody>\n",
       "</table>\n",
       "<p>78 rows × 3 columns</p>\n",
       "</div>"
      ],
      "text/plain": [
       "         PC1       PC2  Cluster\n",
       "0   6.137875  3.194475        0\n",
       "1   1.353669 -0.814859        1\n",
       "2  -1.907431 -0.669772        2\n",
       "3   3.972109 -0.993501        0\n",
       "4  -1.722460 -0.062156        2\n",
       "..       ...       ...      ...\n",
       "73 -1.297464 -0.664798        2\n",
       "74 -1.525502 -0.737678        2\n",
       "75 -0.911442  1.039248        2\n",
       "76 -1.047760  1.899571        2\n",
       "77 -0.923449  0.178505        2\n",
       "\n",
       "[78 rows x 3 columns]"
      ]
     },
     "execution_count": 12,
     "metadata": {},
     "output_type": "execute_result"
    }
   ],
   "source": [
    "pca = PCA(n_components=2)\n",
    "\n",
    "scaled_df = StandardScaler().fit_transform(prep_sf_attributes_kiel_df)\n",
    "scaled_df = pd.DataFrame(data=scaled_df, columns=[\"Frequency_of_Usage\", \"Avg_Number_of_Bikes\", \"Avg_Usage_of_Station\",\t\n",
    "                                               \"Avg_Returning_Bike_of_Station\", \"Avg_Renting_Bike_of_Station\"])\n",
    "\n",
    "\n",
    "pca_features = pca.fit_transform(scaled_df)\n",
    "pca_df = pd.DataFrame(data=pca_features, columns=[\"PC1\", \"PC2\"])\n",
    "\n",
    "# merge with clusters\n",
    "\n",
    "pca_df[\"Cluster\"] = all_predictions\n",
    "pca_df"
   ]
  },
  {
   "cell_type": "code",
   "execution_count": 13,
   "metadata": {},
   "outputs": [
    {
     "data": {
      "application/vnd.plotly.v1+json": {
       "config": {
        "plotlyServerURL": "https://plot.ly"
       },
       "data": [
        {
         "marker": {
          "color": "#3CB371",
          "line": {
           "color": "DarkSlateGrey",
           "width": 2
          },
          "size": 12
         },
         "mode": "markers",
         "name": "Cluster 0",
         "type": "scatter",
         "x": [
          6.137874858781271,
          3.9721089671596546,
          3.558288807578917,
          4.999791433377153,
          2.8185758996874117,
          4.488377840828384,
          3.8533582024373065,
          2.6975543532989934,
          4.630567919805958,
          3.928522017548841,
          4.515603514996747
         ],
         "y": [
          3.1944752261318037,
          -0.9935009616263819,
          2.503578308039838,
          -0.7055114417488682,
          -0.4911610447957168,
          -1.1513848448097068,
          -1.1030147022751395,
          -0.9146124682042491,
          1.7390236018682033,
          -0.8598236435007534,
          -1.0044847708289155
         ]
        },
        {
         "marker": {
          "color": "#BA55D3",
          "line": {
           "color": "DarkSlateGrey",
           "width": 2
          },
          "size": 12
         },
         "mode": "markers",
         "name": "Cluster 1",
         "type": "scatter",
         "x": [
          1.353669352199721,
          2.0316910678137514,
          0.048375741054618934,
          1.3811059267031818,
          2.222248193053508,
          1.3613755380176946,
          0.4094384567732372,
          1.0205762093211612,
          0.7415116853893229,
          -0.09345965384341565,
          1.9848401732895757,
          0.4104402002797125,
          -0.08912364944441029,
          -0.053073978442493015,
          0.1824407431432164,
          0.3230142402391151,
          -0.412516374881556,
          0.4399105566671351,
          1.7224650743060448,
          0.45736325014394413,
          -0.5007604978944759,
          0.048305549408308744,
          -0.36037588232027706,
          0.07408363519843458
         ],
         "y": [
          -0.8148593718323615,
          -1.1165317982199419,
          -0.11152484574768841,
          -0.5544111545381039,
          -0.28928028570268033,
          -0.42195973400809744,
          -0.8397375835436868,
          1.0265626385102455,
          0.34844082685738337,
          0.16443605461540023,
          0.27828593659899986,
          -0.6408200680301229,
          0.33026991973728526,
          -0.9139315457366646,
          -0.6170955331284528,
          -0.2908675257317838,
          -0.6883181688957344,
          -0.005348474368130199,
          0.5545408266319188,
          -0.8906436720099437,
          -0.7116290950273044,
          -0.9094473027073972,
          -0.10318830599201935,
          -0.22213269664661278
         ]
        },
        {
         "marker": {
          "color": "#4682B4",
          "line": {
           "color": "DarkSlateGrey",
           "width": 2
          },
          "size": 12
         },
         "mode": "markers",
         "name": "Cluster 2",
         "type": "scatter",
         "x": [
          -1.9074309234188578,
          -1.722460282169975,
          -1.3128305947871244,
          -1.593486150396825,
          -1.6345512163676876,
          -1.6433253129829113,
          -1.0054480000321735,
          -1.8653482105336725,
          -1.0403751168250468,
          -1.6562291260498507,
          -1.3067330356245748,
          -1.5479465123771774,
          -1.7763641759202173,
          -0.9457312757856535,
          -1.543630260989465,
          -0.22618778318061492,
          -1.4029329298114688,
          -1.1690911857649064,
          -0.4484272138164179,
          -1.6104646955124886,
          -1.7339920708992809,
          -1.4814220203217459,
          -1.5829098272348507,
          -1.920219018938083,
          -1.6279547554006724,
          -1.819255889133449,
          -1.6673685361226362,
          -1.626084655710068,
          -1.273026160027362,
          -1.7439454056341992,
          -1.4822248424528661,
          -1.7015945629482503,
          -1.7843569466984355,
          -1.8200233802204342,
          -0.8979705346919123,
          -0.9358186298498595,
          -1.5484607652465876,
          -0.5929310400454583,
          -1.2974643342805487,
          -1.5255018117136196,
          -0.9114418756887922,
          -1.0477595908453499,
          -0.9234487152241257
         ],
         "y": [
          -0.6697724441673185,
          -0.062156360187598805,
          -0.08922291738675694,
          0.7366046158861761,
          -0.14232631500943424,
          -0.2194523212614036,
          3.9179978133798086,
          -0.682534031151948,
          -0.7163776052049396,
          -0.20553213166426226,
          -0.2841589272949003,
          -0.23121903287399204,
          -0.5999138650703851,
          -0.12794089700938832,
          -0.5426011926019642,
          0.9094130710030547,
          -0.19607387070754023,
          0.21299639418313843,
          0.21728808366298433,
          0.8491361581312022,
          -0.14202284051791603,
          0.8918353232792531,
          -0.25289938432311326,
          -0.5568288887915643,
          1.315641902547435,
          -0.21382250902160108,
          0.6236754493803928,
          0.45332043428014507,
          1.9113434019972815,
          0.11358940150971056,
          -0.37837135624954304,
          -0.2518740808288523,
          -0.15207945389204167,
          -0.4882667712967823,
          -0.48357091231112026,
          2.0747271215690697,
          -0.43650335205764934,
          -0.5912890893539353,
          -0.6647981079237272,
          -0.7376776298225155,
          1.0392480907807227,
          1.8995714026758004,
          0.1785053243813986
         ]
        }
       ],
       "layout": {
        "autosize": true,
        "height": 700,
        "hovermode": "closest",
        "legend": {
         "bordercolor": "rgb(100,100,100)",
         "borderwidth": 2,
         "x": 0,
         "y": 1
        },
        "margin": {
         "b": 0,
         "l": 0,
         "r": 0,
         "t": 0
        },
        "showlegend": true,
        "template": {
         "data": {
          "bar": [
           {
            "error_x": {
             "color": "#2a3f5f"
            },
            "error_y": {
             "color": "#2a3f5f"
            },
            "marker": {
             "line": {
              "color": "#E5ECF6",
              "width": 0.5
             },
             "pattern": {
              "fillmode": "overlay",
              "size": 10,
              "solidity": 0.2
             }
            },
            "type": "bar"
           }
          ],
          "barpolar": [
           {
            "marker": {
             "line": {
              "color": "#E5ECF6",
              "width": 0.5
             },
             "pattern": {
              "fillmode": "overlay",
              "size": 10,
              "solidity": 0.2
             }
            },
            "type": "barpolar"
           }
          ],
          "carpet": [
           {
            "aaxis": {
             "endlinecolor": "#2a3f5f",
             "gridcolor": "white",
             "linecolor": "white",
             "minorgridcolor": "white",
             "startlinecolor": "#2a3f5f"
            },
            "baxis": {
             "endlinecolor": "#2a3f5f",
             "gridcolor": "white",
             "linecolor": "white",
             "minorgridcolor": "white",
             "startlinecolor": "#2a3f5f"
            },
            "type": "carpet"
           }
          ],
          "choropleth": [
           {
            "colorbar": {
             "outlinewidth": 0,
             "ticks": ""
            },
            "type": "choropleth"
           }
          ],
          "contour": [
           {
            "colorbar": {
             "outlinewidth": 0,
             "ticks": ""
            },
            "colorscale": [
             [
              0,
              "#0d0887"
             ],
             [
              0.1111111111111111,
              "#46039f"
             ],
             [
              0.2222222222222222,
              "#7201a8"
             ],
             [
              0.3333333333333333,
              "#9c179e"
             ],
             [
              0.4444444444444444,
              "#bd3786"
             ],
             [
              0.5555555555555556,
              "#d8576b"
             ],
             [
              0.6666666666666666,
              "#ed7953"
             ],
             [
              0.7777777777777778,
              "#fb9f3a"
             ],
             [
              0.8888888888888888,
              "#fdca26"
             ],
             [
              1,
              "#f0f921"
             ]
            ],
            "type": "contour"
           }
          ],
          "contourcarpet": [
           {
            "colorbar": {
             "outlinewidth": 0,
             "ticks": ""
            },
            "type": "contourcarpet"
           }
          ],
          "heatmap": [
           {
            "colorbar": {
             "outlinewidth": 0,
             "ticks": ""
            },
            "colorscale": [
             [
              0,
              "#0d0887"
             ],
             [
              0.1111111111111111,
              "#46039f"
             ],
             [
              0.2222222222222222,
              "#7201a8"
             ],
             [
              0.3333333333333333,
              "#9c179e"
             ],
             [
              0.4444444444444444,
              "#bd3786"
             ],
             [
              0.5555555555555556,
              "#d8576b"
             ],
             [
              0.6666666666666666,
              "#ed7953"
             ],
             [
              0.7777777777777778,
              "#fb9f3a"
             ],
             [
              0.8888888888888888,
              "#fdca26"
             ],
             [
              1,
              "#f0f921"
             ]
            ],
            "type": "heatmap"
           }
          ],
          "heatmapgl": [
           {
            "colorbar": {
             "outlinewidth": 0,
             "ticks": ""
            },
            "colorscale": [
             [
              0,
              "#0d0887"
             ],
             [
              0.1111111111111111,
              "#46039f"
             ],
             [
              0.2222222222222222,
              "#7201a8"
             ],
             [
              0.3333333333333333,
              "#9c179e"
             ],
             [
              0.4444444444444444,
              "#bd3786"
             ],
             [
              0.5555555555555556,
              "#d8576b"
             ],
             [
              0.6666666666666666,
              "#ed7953"
             ],
             [
              0.7777777777777778,
              "#fb9f3a"
             ],
             [
              0.8888888888888888,
              "#fdca26"
             ],
             [
              1,
              "#f0f921"
             ]
            ],
            "type": "heatmapgl"
           }
          ],
          "histogram": [
           {
            "marker": {
             "pattern": {
              "fillmode": "overlay",
              "size": 10,
              "solidity": 0.2
             }
            },
            "type": "histogram"
           }
          ],
          "histogram2d": [
           {
            "colorbar": {
             "outlinewidth": 0,
             "ticks": ""
            },
            "colorscale": [
             [
              0,
              "#0d0887"
             ],
             [
              0.1111111111111111,
              "#46039f"
             ],
             [
              0.2222222222222222,
              "#7201a8"
             ],
             [
              0.3333333333333333,
              "#9c179e"
             ],
             [
              0.4444444444444444,
              "#bd3786"
             ],
             [
              0.5555555555555556,
              "#d8576b"
             ],
             [
              0.6666666666666666,
              "#ed7953"
             ],
             [
              0.7777777777777778,
              "#fb9f3a"
             ],
             [
              0.8888888888888888,
              "#fdca26"
             ],
             [
              1,
              "#f0f921"
             ]
            ],
            "type": "histogram2d"
           }
          ],
          "histogram2dcontour": [
           {
            "colorbar": {
             "outlinewidth": 0,
             "ticks": ""
            },
            "colorscale": [
             [
              0,
              "#0d0887"
             ],
             [
              0.1111111111111111,
              "#46039f"
             ],
             [
              0.2222222222222222,
              "#7201a8"
             ],
             [
              0.3333333333333333,
              "#9c179e"
             ],
             [
              0.4444444444444444,
              "#bd3786"
             ],
             [
              0.5555555555555556,
              "#d8576b"
             ],
             [
              0.6666666666666666,
              "#ed7953"
             ],
             [
              0.7777777777777778,
              "#fb9f3a"
             ],
             [
              0.8888888888888888,
              "#fdca26"
             ],
             [
              1,
              "#f0f921"
             ]
            ],
            "type": "histogram2dcontour"
           }
          ],
          "mesh3d": [
           {
            "colorbar": {
             "outlinewidth": 0,
             "ticks": ""
            },
            "type": "mesh3d"
           }
          ],
          "parcoords": [
           {
            "line": {
             "colorbar": {
              "outlinewidth": 0,
              "ticks": ""
             }
            },
            "type": "parcoords"
           }
          ],
          "pie": [
           {
            "automargin": true,
            "type": "pie"
           }
          ],
          "scatter": [
           {
            "fillpattern": {
             "fillmode": "overlay",
             "size": 10,
             "solidity": 0.2
            },
            "type": "scatter"
           }
          ],
          "scatter3d": [
           {
            "line": {
             "colorbar": {
              "outlinewidth": 0,
              "ticks": ""
             }
            },
            "marker": {
             "colorbar": {
              "outlinewidth": 0,
              "ticks": ""
             }
            },
            "type": "scatter3d"
           }
          ],
          "scattercarpet": [
           {
            "marker": {
             "colorbar": {
              "outlinewidth": 0,
              "ticks": ""
             }
            },
            "type": "scattercarpet"
           }
          ],
          "scattergeo": [
           {
            "marker": {
             "colorbar": {
              "outlinewidth": 0,
              "ticks": ""
             }
            },
            "type": "scattergeo"
           }
          ],
          "scattergl": [
           {
            "marker": {
             "colorbar": {
              "outlinewidth": 0,
              "ticks": ""
             }
            },
            "type": "scattergl"
           }
          ],
          "scattermapbox": [
           {
            "marker": {
             "colorbar": {
              "outlinewidth": 0,
              "ticks": ""
             }
            },
            "type": "scattermapbox"
           }
          ],
          "scatterpolar": [
           {
            "marker": {
             "colorbar": {
              "outlinewidth": 0,
              "ticks": ""
             }
            },
            "type": "scatterpolar"
           }
          ],
          "scatterpolargl": [
           {
            "marker": {
             "colorbar": {
              "outlinewidth": 0,
              "ticks": ""
             }
            },
            "type": "scatterpolargl"
           }
          ],
          "scatterternary": [
           {
            "marker": {
             "colorbar": {
              "outlinewidth": 0,
              "ticks": ""
             }
            },
            "type": "scatterternary"
           }
          ],
          "surface": [
           {
            "colorbar": {
             "outlinewidth": 0,
             "ticks": ""
            },
            "colorscale": [
             [
              0,
              "#0d0887"
             ],
             [
              0.1111111111111111,
              "#46039f"
             ],
             [
              0.2222222222222222,
              "#7201a8"
             ],
             [
              0.3333333333333333,
              "#9c179e"
             ],
             [
              0.4444444444444444,
              "#bd3786"
             ],
             [
              0.5555555555555556,
              "#d8576b"
             ],
             [
              0.6666666666666666,
              "#ed7953"
             ],
             [
              0.7777777777777778,
              "#fb9f3a"
             ],
             [
              0.8888888888888888,
              "#fdca26"
             ],
             [
              1,
              "#f0f921"
             ]
            ],
            "type": "surface"
           }
          ],
          "table": [
           {
            "cells": {
             "fill": {
              "color": "#EBF0F8"
             },
             "line": {
              "color": "white"
             }
            },
            "header": {
             "fill": {
              "color": "#C8D4E3"
             },
             "line": {
              "color": "white"
             }
            },
            "type": "table"
           }
          ]
         },
         "layout": {
          "annotationdefaults": {
           "arrowcolor": "#2a3f5f",
           "arrowhead": 0,
           "arrowwidth": 1
          },
          "autotypenumbers": "strict",
          "coloraxis": {
           "colorbar": {
            "outlinewidth": 0,
            "ticks": ""
           }
          },
          "colorscale": {
           "diverging": [
            [
             0,
             "#8e0152"
            ],
            [
             0.1,
             "#c51b7d"
            ],
            [
             0.2,
             "#de77ae"
            ],
            [
             0.3,
             "#f1b6da"
            ],
            [
             0.4,
             "#fde0ef"
            ],
            [
             0.5,
             "#f7f7f7"
            ],
            [
             0.6,
             "#e6f5d0"
            ],
            [
             0.7,
             "#b8e186"
            ],
            [
             0.8,
             "#7fbc41"
            ],
            [
             0.9,
             "#4d9221"
            ],
            [
             1,
             "#276419"
            ]
           ],
           "sequential": [
            [
             0,
             "#0d0887"
            ],
            [
             0.1111111111111111,
             "#46039f"
            ],
            [
             0.2222222222222222,
             "#7201a8"
            ],
            [
             0.3333333333333333,
             "#9c179e"
            ],
            [
             0.4444444444444444,
             "#bd3786"
            ],
            [
             0.5555555555555556,
             "#d8576b"
            ],
            [
             0.6666666666666666,
             "#ed7953"
            ],
            [
             0.7777777777777778,
             "#fb9f3a"
            ],
            [
             0.8888888888888888,
             "#fdca26"
            ],
            [
             1,
             "#f0f921"
            ]
           ],
           "sequentialminus": [
            [
             0,
             "#0d0887"
            ],
            [
             0.1111111111111111,
             "#46039f"
            ],
            [
             0.2222222222222222,
             "#7201a8"
            ],
            [
             0.3333333333333333,
             "#9c179e"
            ],
            [
             0.4444444444444444,
             "#bd3786"
            ],
            [
             0.5555555555555556,
             "#d8576b"
            ],
            [
             0.6666666666666666,
             "#ed7953"
            ],
            [
             0.7777777777777778,
             "#fb9f3a"
            ],
            [
             0.8888888888888888,
             "#fdca26"
            ],
            [
             1,
             "#f0f921"
            ]
           ]
          },
          "colorway": [
           "#636efa",
           "#EF553B",
           "#00cc96",
           "#ab63fa",
           "#FFA15A",
           "#19d3f3",
           "#FF6692",
           "#B6E880",
           "#FF97FF",
           "#FECB52"
          ],
          "font": {
           "color": "#2a3f5f"
          },
          "geo": {
           "bgcolor": "white",
           "lakecolor": "white",
           "landcolor": "#E5ECF6",
           "showlakes": true,
           "showland": true,
           "subunitcolor": "white"
          },
          "hoverlabel": {
           "align": "left"
          },
          "hovermode": "closest",
          "mapbox": {
           "style": "light"
          },
          "paper_bgcolor": "white",
          "plot_bgcolor": "#E5ECF6",
          "polar": {
           "angularaxis": {
            "gridcolor": "white",
            "linecolor": "white",
            "ticks": ""
           },
           "bgcolor": "#E5ECF6",
           "radialaxis": {
            "gridcolor": "white",
            "linecolor": "white",
            "ticks": ""
           }
          },
          "scene": {
           "xaxis": {
            "backgroundcolor": "#E5ECF6",
            "gridcolor": "white",
            "gridwidth": 2,
            "linecolor": "white",
            "showbackground": true,
            "ticks": "",
            "zerolinecolor": "white"
           },
           "yaxis": {
            "backgroundcolor": "#E5ECF6",
            "gridcolor": "white",
            "gridwidth": 2,
            "linecolor": "white",
            "showbackground": true,
            "ticks": "",
            "zerolinecolor": "white"
           },
           "zaxis": {
            "backgroundcolor": "#E5ECF6",
            "gridcolor": "white",
            "gridwidth": 2,
            "linecolor": "white",
            "showbackground": true,
            "ticks": "",
            "zerolinecolor": "white"
           }
          },
          "shapedefaults": {
           "line": {
            "color": "#2a3f5f"
           }
          },
          "ternary": {
           "aaxis": {
            "gridcolor": "white",
            "linecolor": "white",
            "ticks": ""
           },
           "baxis": {
            "gridcolor": "white",
            "linecolor": "white",
            "ticks": ""
           },
           "bgcolor": "#E5ECF6",
           "caxis": {
            "gridcolor": "white",
            "linecolor": "white",
            "ticks": ""
           }
          },
          "title": {
           "x": 0.05
          },
          "xaxis": {
           "automargin": true,
           "gridcolor": "white",
           "linecolor": "white",
           "ticks": "",
           "title": {
            "standoff": 15
           },
           "zerolinecolor": "white",
           "zerolinewidth": 2
          },
          "yaxis": {
           "automargin": true,
           "gridcolor": "white",
           "linecolor": "white",
           "ticks": "",
           "title": {
            "standoff": 15
           },
           "zerolinecolor": "white",
           "zerolinewidth": 2
          }
         }
        },
        "width": 700,
        "xaxis": {
         "title": {
          "text": "PC1"
         }
        },
        "yaxis": {
         "title": {
          "text": "PC2"
         }
        }
       }
      }
     },
     "metadata": {},
     "output_type": "display_data"
    }
   ],
   "source": [
    "cluster_0_for_pca_df = pca_df.loc[pca_df[\"Cluster\"] == 0]\n",
    "cluster_1_for_pca_df = pca_df.loc[pca_df[\"Cluster\"] == 1]\n",
    "cluster_2_for_pca_df = pca_df.loc[pca_df[\"Cluster\"] == 2]\n",
    "\n",
    "\n",
    "pc2_cluster_0 = cluster_0_for_pca_df.PC2\n",
    "pc2_cluster_1 = cluster_1_for_pca_df.PC2\n",
    "pc2_cluster_2 = cluster_2_for_pca_df.PC2\n",
    "\n",
    "\n",
    "pc1_cluster_0 = cluster_0_for_pca_df.PC1\n",
    "pc1_cluster_1 = cluster_1_for_pca_df.PC1\n",
    "pc1_cluster_2 = cluster_2_for_pca_df.PC1\n",
    "\n",
    "\n",
    "fig = go.Figure()\n",
    "\n",
    "\n",
    "# add cluster 0 \n",
    "fig.add_trace(go.Scatter(\n",
    "    x = pc1_cluster_0,\n",
    "    y = pc2_cluster_0,\n",
    "    mode = \"markers\",\n",
    "    marker = dict(size = 12,\n",
    "                  line = dict(width = 2, color='DarkSlateGrey'),\n",
    "                  color = '#3CB371'\n",
    "                    ),\n",
    "    name = \"Cluster 0\",\n",
    "    )\n",
    ")\n",
    "\n",
    "\n",
    "# add cluster 1\n",
    "fig.add_trace(go.Scatter(\n",
    "    y = pc2_cluster_1,\n",
    "    x = pc1_cluster_1,\n",
    "    mode = \"markers\",\n",
    "    marker = dict(size = 12,\n",
    "                  line = dict(width = 2, color='DarkSlateGrey'),\n",
    "                  color = '#BA55D3'\n",
    "                    ),\n",
    "    name = \"Cluster 1\"\n",
    "    )\n",
    ")\n",
    "# add cluster 2\n",
    "fig.add_trace(go.Scatter(\n",
    "    x = pc1_cluster_2,\n",
    "    y = pc2_cluster_2,\n",
    "    mode = \"markers\",\n",
    "    marker = dict(size = 12,\n",
    "                  line = dict(width = 2, color='DarkSlateGrey'),\n",
    "                  color = '#4682B4'\n",
    "                    ),\n",
    "    name = \"Cluster 2\",\n",
    "    )\n",
    ")\n",
    "\n",
    "\n",
    "\n",
    "fig.update_layout(\n",
    "    #title = \"Most common routes taken\",\n",
    "    autosize = True,\n",
    "    hovermode = \"closest\",\n",
    "    showlegend = True,\n",
    "    width = 700,\n",
    "    height = 700,\n",
    "    margin = dict(l=0, r=0, b=0, t=0),\n",
    "    legend = dict(bordercolor='rgb(100,100,100)',\n",
    "                                borderwidth=2,\n",
    "                                #itemclick='toggleothers',# when you are clicking an item in legend all that are not in the same group are hidden\n",
    "                                x=0,\n",
    "                                y=1),\n",
    "    yaxis_title='PC2',\n",
    "    xaxis_title='PC1',\n",
    ")\n",
    "\n",
    "#plotly.offline.plot(fig, filename=r\"./plotly_vis/no_hbf_3_cluster_pca.html\")\n",
    "fig.show()"
   ]
  },
  {
   "attachments": {},
   "cell_type": "markdown",
   "metadata": {},
   "source": [
    "Save the dataframe with its clusters"
   ]
  },
  {
   "attachments": {},
   "cell_type": "markdown",
   "metadata": {},
   "source": [
    "Look at the clusters and their locations. Visualize it to see, if the location is relevant."
   ]
  },
  {
   "cell_type": "code",
   "execution_count": 15,
   "metadata": {},
   "outputs": [
    {
     "data": {
      "application/vnd.plotly.v1+json": {
       "config": {
        "plotlyServerURL": "https://plot.ly"
       },
       "data": [
        {
         "customdata": [
          0.3064516129032258
         ],
         "hovertemplate": "Station name: %{text}<br>Frequency of Usage: %{customdata}",
         "lat": [
          54.315972
         ],
         "lon": [
          10.132278
         ],
         "marker": {
          "color": "#FF6347",
          "opacity": 1,
          "size": [
           30.64516129032258
          ]
         },
         "mode": "markers",
         "name": "Kiel Hauptbahnhof",
         "text": [
          "Hauptbahnhof"
         ],
         "type": "scattermapbox"
        },
        {
         "customdata": [
          0.1531182795698924,
          0.1404301075268817,
          0.1023655913978494,
          0.1561290322580645,
          0.1070967741935483,
          0.1488172043010752,
          0.1404301075268817,
          0.1058064516129032,
          0.1240860215053763,
          0.135268817204301,
          0.152258064516129
         ],
         "hovertemplate": "Station name: %{text}<br>Frequency of Usage: %{customdata}",
         "lat": [
          54.333833,
          54.328528,
          54.35525,
          54.316194,
          54.343444,
          54.337864,
          54.328543,
          54.321583,
          54.322806,
          54.341722,
          54.323583
         ],
         "lon": [
          10.15225,
          10.134417,
          10.131611,
          10.120583,
          10.111139,
          10.133126,
          10.117925,
          10.128389,
          10.139472,
          10.136861,
          10.122278
         ],
         "marker": {
          "color": "#3CB371",
          "opacity": 1,
          "size": [
           15.31182795698924,
           14.04301075268817,
           10.23655913978494,
           15.612903225806448,
           10.70967741935483,
           14.88172043010752,
           14.04301075268817,
           10.58064516129032,
           12.40860215053763,
           13.5268817204301,
           15.2258064516129
          ]
         },
         "mode": "markers",
         "name": "frequenlty used",
         "text": [
          "Anleger Reventlou",
          "Dreiecksplatz",
          "MELUND-Olympiahochhaus",
          "Kirchhofallee",
          "CAU Sportstätten",
          "Bernhard-Minetti-Platz",
          "Westring/Eckernförder Str.",
          "Exerzierplatz",
          "Alter Markt",
          "Blücherplatz",
          "Wilhelmplatz"
         ],
         "type": "scattermapbox"
        },
        {
         "customdata": [
          0.0744086021505376,
          0.1002150537634408,
          0.0410752688172043,
          0.0772043010752688,
          0.0896774193548387,
          0.0746236559139785,
          0.0561290322580645,
          0.0582795698924731,
          0.0572043010752688,
          0.0397849462365591,
          0.083010752688172,
          0.0548387096774193,
          0.0391397849462365,
          0.046021505376344,
          0.0479569892473118,
          0.0518279569892473,
          0.0378494623655914,
          0.0526881720430107,
          0.0780645161290322,
          0.0572043010752688,
          0.035268817204301,
          0.0513978494623655,
          0.0331182795698924,
          0.0477419354838709
         ],
         "hovertemplate": "Station name: %{text}<br>Frequency of Usage: %{customdata}",
         "lat": [
          54.346612,
          54.332111,
          54.322361,
          54.311417,
          54.308643,
          54.3259625,
          54.327389,
          54.3181986,
          54.3124959,
          54.302799,
          54.316436,
          54.314861,
          54.32325,
          54.339222,
          54.311667,
          54.316629,
          54.312104,
          54.327583,
          54.321,
          54.334639,
          54.340743,
          54.333677,
          54.349806,
          54.31617
         ],
         "lon": [
          10.112408,
          10.124861,
          10.133861,
          10.146972,
          10.135253,
          10.1343185,
          10.128333,
          10.1340683,
          10.1288366,
          10.136963,
          10.15131,
          10.131167,
          10.17025,
          10.123222,
          10.099722,
          10.129724,
          10.110267,
          10.1415,
          10.135389,
          10.119389,
          10.126604,
          10.122391,
          10.090778,
          10.1429
         ],
         "marker": {
          "color": "#BA55D3",
          "opacity": 1,
          "size": [
           9.673118279569888,
           13.027956989247304,
           5.339784946236559,
           10.036559139784943,
           11.65806451612903,
           9.701075268817204,
           7.296774193548385,
           7.5763440860215026,
           7.4365591397849435,
           5.172043010752683,
           10.79139784946236,
           7.129032258064509,
           5.088172043010745,
           5.98279569892472,
           6.234408602150534,
           6.7376344086021485,
           4.920430107526882,
           6.849462365591391,
           10.148387096774186,
           7.4365591397849435,
           4.58494623655913,
           6.681720430107515,
           4.305376344086012,
           6.2064516129032175
          ]
         },
         "mode": "markers",
         "name": "infrequenlty used",
         "text": [
          "CAU Universitätsbibliothek",
          "Hansastr./Gutenbergstr.",
          "Rathausplatz",
          "Vinetaplatz",
          "Hörnbad",
          "Förde Sparkasse Lorentzendamm",
          "Muthesius Kunsthochschule",
          "Andreas-Gayk-Straße",
          "Provinzial Sophienblatt",
          "KVG Betriebshof Diedrichstraße",
          "thyssenkrupp Marine Systems",
          "Umsteiger",
          "Tilsiter Platz",
          "Christian-Albrechts-Platz",
          "CITTI-PARK",
          "Sophienhof",
          "ADAC-Station",
          "Alte Mu/Brunswiker Str.",
          "Holsten-/Hafenstraße",
          "Kieler Innovations- und Technologiezentrum",
          "RBZ Wirtschaft",
          "Krausstraße",
          "Bahnhof Suchsdorf",
          "Zur Fähre"
         ],
         "type": "scattermapbox"
        },
        {
         "customdata": [
          0.001505376344086,
          0.0036559139784946,
          0.0131182795698924,
          0.0040860215053763,
          0.0064516129032258,
          0.006021505376344,
          0.0073118279569892,
          0.0025806451612903,
          0.0236559139784946,
          0.0055913978494623,
          0.0156989247311827,
          0.0068817204301075,
          0.0043010752688172,
          0.0227956989247311,
          0.0096774193548387,
          0.030752688172043,
          0.0131182795698924,
          0.0161290322580645,
          0.033763440860215,
          0.0036559139784946,
          0.0043010752688172,
          0.0068817204301075,
          0.0077419354838709,
          0.0008602150537634,
          0.0019354838709677,
          0.0023655913978494,
          0.003010752688172,
          0.004516129032258,
          0.0079569892473118,
          0.0025806451612903,
          0.0098924731182795,
          0.0047311827956989,
          0.0025806451612903,
          0.0032258064516129,
          0.0253763440860215,
          0.0150537634408602,
          0.0088172043010752,
          0.032258064516129,
          0.0159139784946236,
          0.0111827956989247,
          0.0182795698924731,
          0.0094623655913978,
          0.0174193548387096
         ],
         "hovertemplate": "Station name: %{text}<br>Frequency of Usage: %{customdata}",
         "lat": [
          54.2644031,
          54.3687939,
          54.3655361,
          54.3349974,
          54.351528,
          54.31634,
          54.401894,
          54.274827,
          54.3438625,
          54.322329,
          54.313927,
          54.390373,
          54.386203,
          54.342126,
          54.331388,
          54.326139,
          54.326055,
          54.317015,
          54.329611,
          54.316404,
          54.37575,
          54.339056,
          54.411667,
          54.27697,
          54.397583,
          54.285725,
          54.370727,
          54.2920407,
          54.309867,
          54.294629,
          54.32842,
          54.280427,
          54.2832,
          54.283892,
          54.332193,
          54.403583,
          54.307029,
          54.329415,
          54.321722,
          54.3378795,
          54.361297,
          54.395459,
          54.325373
         ],
         "lon": [
          10.0656004,
          10.1339529,
          10.1316536,
          10.2175929,
          10.178583,
          10.14607,
          10.129012,
          10.074943,
          10.1226193,
          10.053624,
          10.169784,
          10.177173,
          10.136875,
          10.090524,
          10.083113,
          10.183028,
          10.207911,
          10.066768,
          10.178556,
          10.048583,
          10.194806,
          10.223028,
          10.228306,
          10.158649,
          10.233583,
          10.143565,
          10.205576,
          10.1872627,
          10.06956,
          10.185079,
          10.17724,
          10.1456,
          10.130672,
          10.131535,
          10.085277,
          10.219583,
          10.157109,
          10.14013,
          10.132444,
          10.1244324,
          10.076831,
          10.173146,
          10.1448273
         ],
         "marker": {
          "color": "#4682B4",
          "opacity": 1,
          "size": [
           0.3010752688172,
           0.73118279569892,
           2.6236559139784803,
           0.8172043010752601,
           1.2903225806451601,
           1.2043010752688,
           1.46236559139784,
           0.5161290322580601,
           4.73118279569892,
           1.11827956989246,
           3.1397849462365404,
           1.3763440860215,
           0.86021505376344,
           4.55913978494622,
           1.93548387096774,
           6.1505376344086,
           2.6236559139784803,
           3.2258064516128995,
           6.752688172043,
           0.73118279569892,
           0.86021505376344,
           1.3763440860215,
           1.54838709677418,
           0.17204301075268,
           0.38709677419354,
           0.47311827956988,
           0.6021505376344,
           0.9032258064516,
           1.5913978494623602,
           0.5161290322580601,
           1.9784946236559,
           0.9462365591397799,
           0.5161290322580601,
           0.6451612903225801,
           5.0752688172043,
           3.01075268817204,
           1.76344086021504,
           6.451612903225799,
           3.1827956989247204,
           2.23655913978494,
           3.6559139784946204,
           1.8924731182795598,
           3.48387096774192
          ]
         },
         "mode": "markers",
         "name": "barely used",
         "text": [
          "Catharinenberg",
          "Kanalfähre Holtenau",
          "Kanalfähre Wik",
          "Gemeindebücherei ",
          "Mönkeberg Anleger",
          "Sandkrug",
          "Dataport/FHVD",
          "Freilichtmuseum Molfsee",
          "KielRegion GmbH",
          "Kurt-Schumacher-Platz",
          "Bahnhalt Ellerbek",
          "Anleger Friedrichsort",
          "Rathaus Altenholz",
          "KiTa Fußsteigkoppel",
          "Kronshagen Bahnhof",
          "Wellingdorf Stadtteilzentrum",
          "Bahnhof Oppendorf",
          "Russeer Weg / Hofholzallee",
          "Anleger Dietrichsdorf",
          "Aalborgring",
          "Fähranleger Möltenort",
          "Schönkirchen Gemeindehaus",
          "Marine-Ehrenmal",
          "Bunsenstraße",
          "Bullbrücke",
          "Kuhlacker",
          "Rathaus Heikendorf",
          "Förde Sparkasse Teplitzer Allee",
          "Bahnhof Russee",
          "Bebelplatz",
          "Seefischmarkt",
          "Braunstraße",
          "Grot Steenbusch",
          "Meimersdorf Kontor",
          "Kronshagen Rathaus",
          "Hafen Laboe",
          "Schulen am Langsee",
          "UKSH",
          "Rathaus Waisenhofstraße",
          "Studiale",
          "Rungholtplatz",
          "Stadtteilzentrum Pries",
          "Cruise Center Kiel / Fahrrad Messe Popup"
         ],
         "type": "scattermapbox"
        }
       ],
       "layout": {
        "autosize": true,
        "height": 700,
        "hovermode": "closest",
        "legend": {
         "bordercolor": "rgb(100,100,100)",
         "borderwidth": 2,
         "x": 0,
         "y": 1
        },
        "mapbox": {
         "accesstoken": "pk.eyJ1Ijoic3BpZWxlOTciLCJhIjoiY2xmNnl0M3gyMXJncTNwczl0MjFiamJmOSJ9.32cNAmknweeEma5kUwG-DA",
         "center": {
          "lat": 54.332111,
          "lon": 10.134417
         },
         "style": "light",
         "zoom": 12
        },
        "margin": {
         "b": 0,
         "l": 0,
         "r": 0,
         "t": 0
        },
        "showlegend": true,
        "template": {
         "data": {
          "bar": [
           {
            "error_x": {
             "color": "#2a3f5f"
            },
            "error_y": {
             "color": "#2a3f5f"
            },
            "marker": {
             "line": {
              "color": "#E5ECF6",
              "width": 0.5
             },
             "pattern": {
              "fillmode": "overlay",
              "size": 10,
              "solidity": 0.2
             }
            },
            "type": "bar"
           }
          ],
          "barpolar": [
           {
            "marker": {
             "line": {
              "color": "#E5ECF6",
              "width": 0.5
             },
             "pattern": {
              "fillmode": "overlay",
              "size": 10,
              "solidity": 0.2
             }
            },
            "type": "barpolar"
           }
          ],
          "carpet": [
           {
            "aaxis": {
             "endlinecolor": "#2a3f5f",
             "gridcolor": "white",
             "linecolor": "white",
             "minorgridcolor": "white",
             "startlinecolor": "#2a3f5f"
            },
            "baxis": {
             "endlinecolor": "#2a3f5f",
             "gridcolor": "white",
             "linecolor": "white",
             "minorgridcolor": "white",
             "startlinecolor": "#2a3f5f"
            },
            "type": "carpet"
           }
          ],
          "choropleth": [
           {
            "colorbar": {
             "outlinewidth": 0,
             "ticks": ""
            },
            "type": "choropleth"
           }
          ],
          "contour": [
           {
            "colorbar": {
             "outlinewidth": 0,
             "ticks": ""
            },
            "colorscale": [
             [
              0,
              "#0d0887"
             ],
             [
              0.1111111111111111,
              "#46039f"
             ],
             [
              0.2222222222222222,
              "#7201a8"
             ],
             [
              0.3333333333333333,
              "#9c179e"
             ],
             [
              0.4444444444444444,
              "#bd3786"
             ],
             [
              0.5555555555555556,
              "#d8576b"
             ],
             [
              0.6666666666666666,
              "#ed7953"
             ],
             [
              0.7777777777777778,
              "#fb9f3a"
             ],
             [
              0.8888888888888888,
              "#fdca26"
             ],
             [
              1,
              "#f0f921"
             ]
            ],
            "type": "contour"
           }
          ],
          "contourcarpet": [
           {
            "colorbar": {
             "outlinewidth": 0,
             "ticks": ""
            },
            "type": "contourcarpet"
           }
          ],
          "heatmap": [
           {
            "colorbar": {
             "outlinewidth": 0,
             "ticks": ""
            },
            "colorscale": [
             [
              0,
              "#0d0887"
             ],
             [
              0.1111111111111111,
              "#46039f"
             ],
             [
              0.2222222222222222,
              "#7201a8"
             ],
             [
              0.3333333333333333,
              "#9c179e"
             ],
             [
              0.4444444444444444,
              "#bd3786"
             ],
             [
              0.5555555555555556,
              "#d8576b"
             ],
             [
              0.6666666666666666,
              "#ed7953"
             ],
             [
              0.7777777777777778,
              "#fb9f3a"
             ],
             [
              0.8888888888888888,
              "#fdca26"
             ],
             [
              1,
              "#f0f921"
             ]
            ],
            "type": "heatmap"
           }
          ],
          "heatmapgl": [
           {
            "colorbar": {
             "outlinewidth": 0,
             "ticks": ""
            },
            "colorscale": [
             [
              0,
              "#0d0887"
             ],
             [
              0.1111111111111111,
              "#46039f"
             ],
             [
              0.2222222222222222,
              "#7201a8"
             ],
             [
              0.3333333333333333,
              "#9c179e"
             ],
             [
              0.4444444444444444,
              "#bd3786"
             ],
             [
              0.5555555555555556,
              "#d8576b"
             ],
             [
              0.6666666666666666,
              "#ed7953"
             ],
             [
              0.7777777777777778,
              "#fb9f3a"
             ],
             [
              0.8888888888888888,
              "#fdca26"
             ],
             [
              1,
              "#f0f921"
             ]
            ],
            "type": "heatmapgl"
           }
          ],
          "histogram": [
           {
            "marker": {
             "pattern": {
              "fillmode": "overlay",
              "size": 10,
              "solidity": 0.2
             }
            },
            "type": "histogram"
           }
          ],
          "histogram2d": [
           {
            "colorbar": {
             "outlinewidth": 0,
             "ticks": ""
            },
            "colorscale": [
             [
              0,
              "#0d0887"
             ],
             [
              0.1111111111111111,
              "#46039f"
             ],
             [
              0.2222222222222222,
              "#7201a8"
             ],
             [
              0.3333333333333333,
              "#9c179e"
             ],
             [
              0.4444444444444444,
              "#bd3786"
             ],
             [
              0.5555555555555556,
              "#d8576b"
             ],
             [
              0.6666666666666666,
              "#ed7953"
             ],
             [
              0.7777777777777778,
              "#fb9f3a"
             ],
             [
              0.8888888888888888,
              "#fdca26"
             ],
             [
              1,
              "#f0f921"
             ]
            ],
            "type": "histogram2d"
           }
          ],
          "histogram2dcontour": [
           {
            "colorbar": {
             "outlinewidth": 0,
             "ticks": ""
            },
            "colorscale": [
             [
              0,
              "#0d0887"
             ],
             [
              0.1111111111111111,
              "#46039f"
             ],
             [
              0.2222222222222222,
              "#7201a8"
             ],
             [
              0.3333333333333333,
              "#9c179e"
             ],
             [
              0.4444444444444444,
              "#bd3786"
             ],
             [
              0.5555555555555556,
              "#d8576b"
             ],
             [
              0.6666666666666666,
              "#ed7953"
             ],
             [
              0.7777777777777778,
              "#fb9f3a"
             ],
             [
              0.8888888888888888,
              "#fdca26"
             ],
             [
              1,
              "#f0f921"
             ]
            ],
            "type": "histogram2dcontour"
           }
          ],
          "mesh3d": [
           {
            "colorbar": {
             "outlinewidth": 0,
             "ticks": ""
            },
            "type": "mesh3d"
           }
          ],
          "parcoords": [
           {
            "line": {
             "colorbar": {
              "outlinewidth": 0,
              "ticks": ""
             }
            },
            "type": "parcoords"
           }
          ],
          "pie": [
           {
            "automargin": true,
            "type": "pie"
           }
          ],
          "scatter": [
           {
            "fillpattern": {
             "fillmode": "overlay",
             "size": 10,
             "solidity": 0.2
            },
            "type": "scatter"
           }
          ],
          "scatter3d": [
           {
            "line": {
             "colorbar": {
              "outlinewidth": 0,
              "ticks": ""
             }
            },
            "marker": {
             "colorbar": {
              "outlinewidth": 0,
              "ticks": ""
             }
            },
            "type": "scatter3d"
           }
          ],
          "scattercarpet": [
           {
            "marker": {
             "colorbar": {
              "outlinewidth": 0,
              "ticks": ""
             }
            },
            "type": "scattercarpet"
           }
          ],
          "scattergeo": [
           {
            "marker": {
             "colorbar": {
              "outlinewidth": 0,
              "ticks": ""
             }
            },
            "type": "scattergeo"
           }
          ],
          "scattergl": [
           {
            "marker": {
             "colorbar": {
              "outlinewidth": 0,
              "ticks": ""
             }
            },
            "type": "scattergl"
           }
          ],
          "scattermapbox": [
           {
            "marker": {
             "colorbar": {
              "outlinewidth": 0,
              "ticks": ""
             }
            },
            "type": "scattermapbox"
           }
          ],
          "scatterpolar": [
           {
            "marker": {
             "colorbar": {
              "outlinewidth": 0,
              "ticks": ""
             }
            },
            "type": "scatterpolar"
           }
          ],
          "scatterpolargl": [
           {
            "marker": {
             "colorbar": {
              "outlinewidth": 0,
              "ticks": ""
             }
            },
            "type": "scatterpolargl"
           }
          ],
          "scatterternary": [
           {
            "marker": {
             "colorbar": {
              "outlinewidth": 0,
              "ticks": ""
             }
            },
            "type": "scatterternary"
           }
          ],
          "surface": [
           {
            "colorbar": {
             "outlinewidth": 0,
             "ticks": ""
            },
            "colorscale": [
             [
              0,
              "#0d0887"
             ],
             [
              0.1111111111111111,
              "#46039f"
             ],
             [
              0.2222222222222222,
              "#7201a8"
             ],
             [
              0.3333333333333333,
              "#9c179e"
             ],
             [
              0.4444444444444444,
              "#bd3786"
             ],
             [
              0.5555555555555556,
              "#d8576b"
             ],
             [
              0.6666666666666666,
              "#ed7953"
             ],
             [
              0.7777777777777778,
              "#fb9f3a"
             ],
             [
              0.8888888888888888,
              "#fdca26"
             ],
             [
              1,
              "#f0f921"
             ]
            ],
            "type": "surface"
           }
          ],
          "table": [
           {
            "cells": {
             "fill": {
              "color": "#EBF0F8"
             },
             "line": {
              "color": "white"
             }
            },
            "header": {
             "fill": {
              "color": "#C8D4E3"
             },
             "line": {
              "color": "white"
             }
            },
            "type": "table"
           }
          ]
         },
         "layout": {
          "annotationdefaults": {
           "arrowcolor": "#2a3f5f",
           "arrowhead": 0,
           "arrowwidth": 1
          },
          "autotypenumbers": "strict",
          "coloraxis": {
           "colorbar": {
            "outlinewidth": 0,
            "ticks": ""
           }
          },
          "colorscale": {
           "diverging": [
            [
             0,
             "#8e0152"
            ],
            [
             0.1,
             "#c51b7d"
            ],
            [
             0.2,
             "#de77ae"
            ],
            [
             0.3,
             "#f1b6da"
            ],
            [
             0.4,
             "#fde0ef"
            ],
            [
             0.5,
             "#f7f7f7"
            ],
            [
             0.6,
             "#e6f5d0"
            ],
            [
             0.7,
             "#b8e186"
            ],
            [
             0.8,
             "#7fbc41"
            ],
            [
             0.9,
             "#4d9221"
            ],
            [
             1,
             "#276419"
            ]
           ],
           "sequential": [
            [
             0,
             "#0d0887"
            ],
            [
             0.1111111111111111,
             "#46039f"
            ],
            [
             0.2222222222222222,
             "#7201a8"
            ],
            [
             0.3333333333333333,
             "#9c179e"
            ],
            [
             0.4444444444444444,
             "#bd3786"
            ],
            [
             0.5555555555555556,
             "#d8576b"
            ],
            [
             0.6666666666666666,
             "#ed7953"
            ],
            [
             0.7777777777777778,
             "#fb9f3a"
            ],
            [
             0.8888888888888888,
             "#fdca26"
            ],
            [
             1,
             "#f0f921"
            ]
           ],
           "sequentialminus": [
            [
             0,
             "#0d0887"
            ],
            [
             0.1111111111111111,
             "#46039f"
            ],
            [
             0.2222222222222222,
             "#7201a8"
            ],
            [
             0.3333333333333333,
             "#9c179e"
            ],
            [
             0.4444444444444444,
             "#bd3786"
            ],
            [
             0.5555555555555556,
             "#d8576b"
            ],
            [
             0.6666666666666666,
             "#ed7953"
            ],
            [
             0.7777777777777778,
             "#fb9f3a"
            ],
            [
             0.8888888888888888,
             "#fdca26"
            ],
            [
             1,
             "#f0f921"
            ]
           ]
          },
          "colorway": [
           "#636efa",
           "#EF553B",
           "#00cc96",
           "#ab63fa",
           "#FFA15A",
           "#19d3f3",
           "#FF6692",
           "#B6E880",
           "#FF97FF",
           "#FECB52"
          ],
          "font": {
           "color": "#2a3f5f"
          },
          "geo": {
           "bgcolor": "white",
           "lakecolor": "white",
           "landcolor": "#E5ECF6",
           "showlakes": true,
           "showland": true,
           "subunitcolor": "white"
          },
          "hoverlabel": {
           "align": "left"
          },
          "hovermode": "closest",
          "mapbox": {
           "style": "light"
          },
          "paper_bgcolor": "white",
          "plot_bgcolor": "#E5ECF6",
          "polar": {
           "angularaxis": {
            "gridcolor": "white",
            "linecolor": "white",
            "ticks": ""
           },
           "bgcolor": "#E5ECF6",
           "radialaxis": {
            "gridcolor": "white",
            "linecolor": "white",
            "ticks": ""
           }
          },
          "scene": {
           "xaxis": {
            "backgroundcolor": "#E5ECF6",
            "gridcolor": "white",
            "gridwidth": 2,
            "linecolor": "white",
            "showbackground": true,
            "ticks": "",
            "zerolinecolor": "white"
           },
           "yaxis": {
            "backgroundcolor": "#E5ECF6",
            "gridcolor": "white",
            "gridwidth": 2,
            "linecolor": "white",
            "showbackground": true,
            "ticks": "",
            "zerolinecolor": "white"
           },
           "zaxis": {
            "backgroundcolor": "#E5ECF6",
            "gridcolor": "white",
            "gridwidth": 2,
            "linecolor": "white",
            "showbackground": true,
            "ticks": "",
            "zerolinecolor": "white"
           }
          },
          "shapedefaults": {
           "line": {
            "color": "#2a3f5f"
           }
          },
          "ternary": {
           "aaxis": {
            "gridcolor": "white",
            "linecolor": "white",
            "ticks": ""
           },
           "baxis": {
            "gridcolor": "white",
            "linecolor": "white",
            "ticks": ""
           },
           "bgcolor": "#E5ECF6",
           "caxis": {
            "gridcolor": "white",
            "linecolor": "white",
            "ticks": ""
           }
          },
          "title": {
           "x": 0.05
          },
          "xaxis": {
           "automargin": true,
           "gridcolor": "white",
           "linecolor": "white",
           "ticks": "",
           "title": {
            "standoff": 15
           },
           "zerolinecolor": "white",
           "zerolinewidth": 2
          },
          "yaxis": {
           "automargin": true,
           "gridcolor": "white",
           "linecolor": "white",
           "ticks": "",
           "title": {
            "standoff": 15
           },
           "zerolinecolor": "white",
           "zerolinewidth": 2
          }
         }
        },
        "width": 700
       }
      }
     },
     "metadata": {},
     "output_type": "display_data"
    }
   ],
   "source": [
    "# access Token\n",
    "mapbox_access_token = open(\".mapbox_token\").read()\n",
    "\n",
    "\n",
    "# from the dataframe creating at the start, get the latidute and longetidue\n",
    "lat_cluster_0 = cluster_0_df.lat\n",
    "lat_cluster_1 = cluster_1_df.lat\n",
    "lat_cluster_2 = cluster_2_df.lat\n",
    "lat_train_station = train_station_df.lat\n",
    "\n",
    "\n",
    "lon_cluster_0 = cluster_0_df.lon\n",
    "lon_cluster_1 = cluster_1_df.lon\n",
    "lon_cluster_2 = cluster_2_df.lon\n",
    "lon_train_station = train_station_df.lon\n",
    "\n",
    "\n",
    "\n",
    "# Create a plotly map and add the station points to the map\n",
    "fig = go.Figure()\n",
    "\n",
    "# add train station for reference\n",
    "fig.add_trace(go.Scattermapbox(\n",
    "    lat = lat_train_station,\n",
    "    lon = lon_train_station,\n",
    "    mode = \"markers\",\n",
    "    marker = {'size': 100*frequency_train_station, 'color': '#FF6347', 'opacity': 1},\n",
    "    hovertemplate = 'Station name: %{text}'\n",
    "                    + '<br>Frequency of Usage: %{customdata}',\n",
    "    name = \"Kiel Hauptbahnhof\",\n",
    "    text = name_train_station,\n",
    "    customdata = frequency_train_station\n",
    "    )\n",
    ")\n",
    "\n",
    "# add cluster 0 \n",
    "fig.add_trace(go.Scattermapbox(\n",
    "    lat = lat_cluster_0,\n",
    "    lon = lon_cluster_0,\n",
    "    mode = \"markers\",\n",
    "    marker = {'size': 100*frequency_cluster_0, 'color': '#3CB371', 'opacity': 1},\n",
    "    #hoverinfo = 'text',\n",
    "    text = name_cluster_0,\n",
    "    name = \"frequenlty used\",\n",
    "    customdata = frequency_cluster_0,\n",
    "    hovertemplate = 'Station name: %{text}'\n",
    "                    + '<br>Frequency of Usage: %{customdata}',\n",
    "    )\n",
    ")\n",
    "\n",
    "\n",
    "# add cluster 1\n",
    "fig.add_trace(go.Scattermapbox(\n",
    "    lat = lat_cluster_1,\n",
    "    lon = lon_cluster_1,\n",
    "    mode = \"markers\",\n",
    "    marker = {'size': 130*frequency_cluster_1, 'color': '#BA55D3', 'opacity': 1},    \n",
    "    #hoverinfo = 'text',\n",
    "    text = name_cluster_1,\n",
    "    name = \"infrequenlty used\",\n",
    "    customdata = frequency_cluster_1,\n",
    "    hovertemplate = 'Station name: %{text}'\n",
    "                    + '<br>Frequency of Usage: %{customdata}',\n",
    "    )\n",
    ")\n",
    "\n",
    "\n",
    "# add cluster 2 \n",
    "fig.add_trace(go.Scattermapbox(\n",
    "    lat = lat_cluster_2,\n",
    "    lon = lon_cluster_2,\n",
    "    mode = \"markers\",\n",
    "    marker = {'size': 200*frequency_cluster_2, 'color': '#4682B4', 'opacity': 1},\n",
    "    text = name_cluster_2,\n",
    "    name = \"barely used\",\n",
    "    customdata = frequency_cluster_2,\n",
    "    hovertemplate = 'Station name: %{text}'\n",
    "                    + '<br>Frequency of Usage: %{customdata}',\n",
    "    )\n",
    ")\n",
    "\n",
    "fig.update_layout(\n",
    "    #title = \"Most common routes taken\",\n",
    "    autosize = True,\n",
    "    hovermode = \"closest\",\n",
    "    showlegend = True,\n",
    "    mapbox = dict(\n",
    "        accesstoken = mapbox_access_token,\n",
    "        center = dict(\n",
    "            lat = 54.332111,\n",
    "            lon = 10.134417,             \n",
    "            ),\n",
    "        zoom = 12,\n",
    "        style = \"light\"\n",
    "        ),\n",
    "    width = 700,\n",
    "    height = 700,\n",
    "    margin = dict(l=0, r=0, b=0, t=0),\n",
    "    legend = dict(bordercolor='rgb(100,100,100)',   \n",
    "                                borderwidth=2,\n",
    "                                x=0,\n",
    "                                y=1)\n",
    ")\n",
    "\n",
    "#plotly.offline.plot(fig, filename=r\"./plotly_vis/no_hbf_3_cluster_map.html\")\n",
    "fig.show()\n"
   ]
  }
 ],
 "metadata": {
  "kernelspec": {
   "display_name": "sprottenflotte_env",
   "language": "python",
   "name": "python3"
  },
  "language_info": {
   "codemirror_mode": {
    "name": "ipython",
    "version": 3
   },
   "file_extension": ".py",
   "mimetype": "text/x-python",
   "name": "python",
   "nbconvert_exporter": "python",
   "pygments_lexer": "ipython3",
   "version": "3.9.6"
  },
  "orig_nbformat": 4
 },
 "nbformat": 4,
 "nbformat_minor": 2
}
