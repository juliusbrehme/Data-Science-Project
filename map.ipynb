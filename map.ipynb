{
 "cells": [
  {
   "cell_type": "code",
   "execution_count": 3,
   "metadata": {},
   "outputs": [],
   "source": [
    "import requests\n",
    "import pandas as pd \n",
    "from ipywidgets import Layout\n",
    "from ipyleaflet import *"
   ]
  },
  {
   "attachments": {},
   "cell_type": "markdown",
   "metadata": {},
   "source": [
    "# Request data"
   ]
  },
  {
   "cell_type": "code",
   "execution_count": 4,
   "metadata": {},
   "outputs": [],
   "source": [
    "URL = \"https://stables.donkey.bike/api/public/gbfs/donkey_kiel/en/station_status.json\"\n",
    "\n",
    "response = requests.get(url=URL)\n",
    "\n",
    "data = response.json()\n",
    "\n",
    "results = []\n",
    "for station in data['data']['stations']:\n",
    "    results.append(station) \n",
    "    \n",
    "station_status = pd.DataFrame(results)\n",
    "station_status = station_status[['station_id', 'num_bikes_available']]\n",
    "station_status = station_status.rename(columns={\"station_id\": \"Station_ID\"})\n",
    "station_status['Station_ID'] = station_status['Station_ID'].astype(int)\n",
    "\n",
    "\n",
    "station_info = pd.read_csv('./general_data/sprottenflotte_station_information.csv')[['Station_ID', 'lat', 'lon', 'name']]\n",
    "\n",
    "data_frame = pd.merge(left=station_info, right=station_status, copy=False)\n",
    "\n",
    "dict = data_frame.to_dict()"
   ]
  },
  {
   "cell_type": "code",
   "execution_count": 5,
   "metadata": {},
   "outputs": [
    {
     "data": {
      "application/vnd.jupyter.widget-view+json": {
       "model_id": "82a468e0106b4466bb83c1ae046f0ec7",
       "version_major": 2,
       "version_minor": 0
      },
      "text/plain": [
       "Map(center=[54.315972, 10.132278], controls=(ZoomControl(options=['position', 'zoom_in_text', 'zoom_in_title',…"
      ]
     },
     "execution_count": 5,
     "metadata": {},
     "output_type": "execute_result"
    }
   ],
   "source": [
    "# A map showing the different bike stations.\n",
    "center = (54.315972,10.132278)\n",
    "map = Map(center=center, zoom=10, scroll_wheel_zoom=True, layout=Layout(height='500px'), interpolation='nearest')\n",
    "\n",
    "# Bicycle icon.\n",
    "icon1 = AwesomeIcon(\n",
    "    name = 'bicycle',\n",
    "    marker_color='red'\n",
    ")\n",
    "\n",
    "# Filter the relevant stations and add a marker for each station on the map.\n",
    "for i in range(120):\n",
    "    lat = dict['lat'][i]\n",
    "    lon = dict['lon'][i]\n",
    "    if(lon > 10.0 and lon < 10.26):\n",
    "        num_bikes = dict['num_bikes_available'][i]\n",
    "        name = dict['name'][i]\n",
    "        marker = Marker(icon=icon1, location=(lat,lon), title=str(num_bikes)+'  '+name, draggable=False, rise_on_hover=True, rise_offset=1000)\n",
    "        map.add_layer(marker)\n",
    "map"
   ]
  }
 ],
 "metadata": {
  "kernelspec": {
   "display_name": "sprottenflotte_env",
   "language": "python",
   "name": "python3"
  },
  "language_info": {
   "codemirror_mode": {
    "name": "ipython",
    "version": 3
   },
   "file_extension": ".py",
   "mimetype": "text/x-python",
   "name": "python",
   "nbconvert_exporter": "python",
   "pygments_lexer": "ipython3",
   "version": "3.10.0"
  },
  "orig_nbformat": 4
 },
 "nbformat": 4,
 "nbformat_minor": 2
}
