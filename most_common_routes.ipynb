{
 "cells": [
  {
   "cell_type": "code",
   "execution_count": 1,
   "metadata": {},
   "outputs": [],
   "source": [
    "import pandas as pd \n",
    "from get_information_sprottenflotte import get_station_of_kiel\n",
    "from get_most_common_routes import get_routes, get_most_common_routes_from_routes, get_only_the_most_taken_route, add_route\n",
    "import plotly.express as px\n",
    "import plotly.graph_objects as go\n",
    "import plotly\n",
    "import networkx as nx\n",
    "import seaborn as sns\n",
    "import matplotlib.pyplot as plt\n",
    "import numpy as np"
   ]
  },
  {
   "cell_type": "code",
   "execution_count": 2,
   "metadata": {},
   "outputs": [],
   "source": [
    " # Ignore error message.\n",
    "pd.options.mode.chained_assignment = None  # default='warn'"
   ]
  },
  {
   "cell_type": "code",
   "execution_count": 3,
   "metadata": {},
   "outputs": [
    {
     "data": {
      "text/html": [
       "<div>\n",
       "<style scoped>\n",
       "    .dataframe tbody tr th:only-of-type {\n",
       "        vertical-align: middle;\n",
       "    }\n",
       "\n",
       "    .dataframe tbody tr th {\n",
       "        vertical-align: top;\n",
       "    }\n",
       "\n",
       "    .dataframe thead th {\n",
       "        text-align: right;\n",
       "    }\n",
       "</style>\n",
       "<table border=\"1\" class=\"dataframe\">\n",
       "  <thead>\n",
       "    <tr style=\"text-align: right;\">\n",
       "      <th></th>\n",
       "      <th>Station_ID</th>\n",
       "      <th>Number_of_Bikes</th>\n",
       "      <th>Number_of_Docks_Available</th>\n",
       "      <th>last_reported</th>\n",
       "      <th>last_update</th>\n",
       "      <th>Cluster</th>\n",
       "    </tr>\n",
       "  </thead>\n",
       "  <tbody>\n",
       "    <tr>\n",
       "      <th>0</th>\n",
       "      <td>24371</td>\n",
       "      <td>23</td>\n",
       "      <td>78</td>\n",
       "      <td>1677792158</td>\n",
       "      <td>1677802253</td>\n",
       "      <td>0</td>\n",
       "    </tr>\n",
       "    <tr>\n",
       "      <th>1</th>\n",
       "      <td>24371</td>\n",
       "      <td>23</td>\n",
       "      <td>78</td>\n",
       "      <td>1677792158</td>\n",
       "      <td>1677802529</td>\n",
       "      <td>0</td>\n",
       "    </tr>\n",
       "    <tr>\n",
       "      <th>2</th>\n",
       "      <td>24371</td>\n",
       "      <td>23</td>\n",
       "      <td>78</td>\n",
       "      <td>1677792158</td>\n",
       "      <td>1677802835</td>\n",
       "      <td>0</td>\n",
       "    </tr>\n",
       "    <tr>\n",
       "      <th>3</th>\n",
       "      <td>24371</td>\n",
       "      <td>23</td>\n",
       "      <td>78</td>\n",
       "      <td>1677792158</td>\n",
       "      <td>1677803141</td>\n",
       "      <td>0</td>\n",
       "    </tr>\n",
       "    <tr>\n",
       "      <th>4</th>\n",
       "      <td>24371</td>\n",
       "      <td>23</td>\n",
       "      <td>78</td>\n",
       "      <td>1677792158</td>\n",
       "      <td>1677803445</td>\n",
       "      <td>0</td>\n",
       "    </tr>\n",
       "    <tr>\n",
       "      <th>...</th>\n",
       "      <td>...</td>\n",
       "      <td>...</td>\n",
       "      <td>...</td>\n",
       "      <td>...</td>\n",
       "      <td>...</td>\n",
       "      <td>...</td>\n",
       "    </tr>\n",
       "    <tr>\n",
       "      <th>365610</th>\n",
       "      <td>26355</td>\n",
       "      <td>1</td>\n",
       "      <td>24</td>\n",
       "      <td>1679242197</td>\n",
       "      <td>1679243114</td>\n",
       "      <td>2</td>\n",
       "    </tr>\n",
       "    <tr>\n",
       "      <th>365611</th>\n",
       "      <td>26355</td>\n",
       "      <td>1</td>\n",
       "      <td>24</td>\n",
       "      <td>1679242197</td>\n",
       "      <td>1679243389</td>\n",
       "      <td>2</td>\n",
       "    </tr>\n",
       "    <tr>\n",
       "      <th>365612</th>\n",
       "      <td>26355</td>\n",
       "      <td>1</td>\n",
       "      <td>24</td>\n",
       "      <td>1679242197</td>\n",
       "      <td>1679243697</td>\n",
       "      <td>2</td>\n",
       "    </tr>\n",
       "    <tr>\n",
       "      <th>365613</th>\n",
       "      <td>26355</td>\n",
       "      <td>1</td>\n",
       "      <td>24</td>\n",
       "      <td>1679242197</td>\n",
       "      <td>1679244002</td>\n",
       "      <td>2</td>\n",
       "    </tr>\n",
       "    <tr>\n",
       "      <th>365614</th>\n",
       "      <td>26355</td>\n",
       "      <td>1</td>\n",
       "      <td>24</td>\n",
       "      <td>1679242197</td>\n",
       "      <td>1679244309</td>\n",
       "      <td>2</td>\n",
       "    </tr>\n",
       "  </tbody>\n",
       "</table>\n",
       "<p>365615 rows × 6 columns</p>\n",
       "</div>"
      ],
      "text/plain": [
       "        Station_ID  Number_of_Bikes  Number_of_Docks_Available  last_reported  \\\n",
       "0            24371               23                         78     1677792158   \n",
       "1            24371               23                         78     1677792158   \n",
       "2            24371               23                         78     1677792158   \n",
       "3            24371               23                         78     1677792158   \n",
       "4            24371               23                         78     1677792158   \n",
       "...            ...              ...                        ...            ...   \n",
       "365610       26355                1                         24     1679242197   \n",
       "365611       26355                1                         24     1679242197   \n",
       "365612       26355                1                         24     1679242197   \n",
       "365613       26355                1                         24     1679242197   \n",
       "365614       26355                1                         24     1679242197   \n",
       "\n",
       "        last_update  Cluster  \n",
       "0        1677802253        0  \n",
       "1        1677802529        0  \n",
       "2        1677802835        0  \n",
       "3        1677803141        0  \n",
       "4        1677803445        0  \n",
       "...             ...      ...  \n",
       "365610   1679243114        2  \n",
       "365611   1679243389        2  \n",
       "365612   1679243697        2  \n",
       "365613   1679244002        2  \n",
       "365614   1679244309        2  \n",
       "\n",
       "[365615 rows x 6 columns]"
      ]
     },
     "execution_count": 3,
     "metadata": {},
     "output_type": "execute_result"
    }
   ],
   "source": [
    "clusters_df = pd.read_csv(r\"./general_data/sf_attributes_clustered_kiel_per_day.csv\")\n",
    "clusters_df = clusters_df.drop(columns=[\"Unnamed: 0\", \"Frequency_of_Usage\", \"Avg_Number_of_Bikes\", \"Avg_Usage_of_Station\",\n",
    "                                        \"Avg_Returning_Bike_of_Station\", \"Avg_Renting_Bike_of_Station\", \"name\"])\n",
    "\n",
    "sprottenflotte_data_df = pd.read_csv(r\"./data/sprottenflotte_data.csv\")\n",
    "sprottenflotte_data_df = sprottenflotte_data_df.drop(columns=[\"is_installed\", \"is_renting\", \"is_returning\"])\n",
    "sprottenflotte_data_clusters_df = pd.merge(sprottenflotte_data_df, clusters_df, on=\"Station_ID\")\n",
    "\n",
    "# # get only the stations in Kiel\n",
    "sprottenflotte_data_clusters_kiel_df = get_station_of_kiel(sprottenflotte_data_clusters_df)\n",
    "sprottenflotte_data_clusters_kiel_df = sprottenflotte_data_clusters_kiel_df.drop(columns=[\"lat\", \"lon\"])\n",
    "sprottenflotte_data_clusters_kiel_df\n"
   ]
  },
  {
   "attachments": {},
   "cell_type": "markdown",
   "metadata": {},
   "source": [
    "To find common routes taken, we will first examine the clusters, that are frequently used. So we will look at the most used cluster 0 and the train station which is saved as cluster 3"
   ]
  },
  {
   "cell_type": "code",
   "execution_count": 4,
   "metadata": {},
   "outputs": [
    {
     "data": {
      "text/html": [
       "<div>\n",
       "<style scoped>\n",
       "    .dataframe tbody tr th:only-of-type {\n",
       "        vertical-align: middle;\n",
       "    }\n",
       "\n",
       "    .dataframe tbody tr th {\n",
       "        vertical-align: top;\n",
       "    }\n",
       "\n",
       "    .dataframe thead th {\n",
       "        text-align: right;\n",
       "    }\n",
       "</style>\n",
       "<table border=\"1\" class=\"dataframe\">\n",
       "  <thead>\n",
       "    <tr style=\"text-align: right;\">\n",
       "      <th></th>\n",
       "      <th>Station_ID</th>\n",
       "      <th>Number_of_Bikes</th>\n",
       "      <th>last_update</th>\n",
       "    </tr>\n",
       "  </thead>\n",
       "  <tbody>\n",
       "    <tr>\n",
       "      <th>0</th>\n",
       "      <td>24371</td>\n",
       "      <td>23</td>\n",
       "      <td>1677802253</td>\n",
       "    </tr>\n",
       "    <tr>\n",
       "      <th>1</th>\n",
       "      <td>24371</td>\n",
       "      <td>23</td>\n",
       "      <td>1677802529</td>\n",
       "    </tr>\n",
       "    <tr>\n",
       "      <th>2</th>\n",
       "      <td>24371</td>\n",
       "      <td>23</td>\n",
       "      <td>1677802835</td>\n",
       "    </tr>\n",
       "    <tr>\n",
       "      <th>3</th>\n",
       "      <td>24371</td>\n",
       "      <td>23</td>\n",
       "      <td>1677803141</td>\n",
       "    </tr>\n",
       "    <tr>\n",
       "      <th>4</th>\n",
       "      <td>24371</td>\n",
       "      <td>23</td>\n",
       "      <td>1677803445</td>\n",
       "    </tr>\n",
       "    <tr>\n",
       "      <th>...</th>\n",
       "      <td>...</td>\n",
       "      <td>...</td>\n",
       "      <td>...</td>\n",
       "    </tr>\n",
       "    <tr>\n",
       "      <th>190686</th>\n",
       "      <td>24382</td>\n",
       "      <td>1</td>\n",
       "      <td>1679243114</td>\n",
       "    </tr>\n",
       "    <tr>\n",
       "      <th>190687</th>\n",
       "      <td>24382</td>\n",
       "      <td>1</td>\n",
       "      <td>1679243389</td>\n",
       "    </tr>\n",
       "    <tr>\n",
       "      <th>190688</th>\n",
       "      <td>24382</td>\n",
       "      <td>1</td>\n",
       "      <td>1679243697</td>\n",
       "    </tr>\n",
       "    <tr>\n",
       "      <th>190689</th>\n",
       "      <td>24382</td>\n",
       "      <td>1</td>\n",
       "      <td>1679244002</td>\n",
       "    </tr>\n",
       "    <tr>\n",
       "      <th>190690</th>\n",
       "      <td>24382</td>\n",
       "      <td>1</td>\n",
       "      <td>1679244309</td>\n",
       "    </tr>\n",
       "  </tbody>\n",
       "</table>\n",
       "<p>55812 rows × 3 columns</p>\n",
       "</div>"
      ],
      "text/plain": [
       "        Station_ID  Number_of_Bikes  last_update\n",
       "0            24371               23   1677802253\n",
       "1            24371               23   1677802529\n",
       "2            24371               23   1677802835\n",
       "3            24371               23   1677803141\n",
       "4            24371               23   1677803445\n",
       "...            ...              ...          ...\n",
       "190686       24382                1   1679243114\n",
       "190687       24382                1   1679243389\n",
       "190688       24382                1   1679243697\n",
       "190689       24382                1   1679244002\n",
       "190690       24382                1   1679244309\n",
       "\n",
       "[55812 rows x 3 columns]"
      ]
     },
     "execution_count": 4,
     "metadata": {},
     "output_type": "execute_result"
    }
   ],
   "source": [
    "sprottenflotte_cluster_2_1_kiel_df = sprottenflotte_data_clusters_kiel_df.loc[(sprottenflotte_data_clusters_kiel_df[\"Cluster\"] == 3) |\n",
    "                                                                                (sprottenflotte_data_clusters_kiel_df[\"Cluster\"] == 0) ]\n",
    "sprottenflotte_routing_df = sprottenflotte_cluster_2_1_kiel_df[[\"Station_ID\", \"Number_of_Bikes\", \"last_update\"]]\n",
    "sprottenflotte_routing_df"
   ]
  },
  {
   "cell_type": "code",
   "execution_count": null,
   "metadata": {},
   "outputs": [],
   "source": [
    "# get a \"routing table\" from the data\n",
    "routes = get_routes(sprottenflotte_routing_df)\n",
    "routes"
   ]
  },
  {
   "attachments": {},
   "cell_type": "markdown",
   "metadata": {},
   "source": [
    "Now we want to get the most common routes with the function get_most_common_routes."
   ]
  },
  {
   "cell_type": "code",
   "execution_count": 6,
   "metadata": {},
   "outputs": [
    {
     "data": {
      "text/html": [
       "<div>\n",
       "<style scoped>\n",
       "    .dataframe tbody tr th:only-of-type {\n",
       "        vertical-align: middle;\n",
       "    }\n",
       "\n",
       "    .dataframe tbody tr th {\n",
       "        vertical-align: top;\n",
       "    }\n",
       "\n",
       "    .dataframe thead th {\n",
       "        text-align: right;\n",
       "    }\n",
       "</style>\n",
       "<table border=\"1\" class=\"dataframe\">\n",
       "  <thead>\n",
       "    <tr style=\"text-align: right;\">\n",
       "      <th></th>\n",
       "      <th>start_station</th>\n",
       "      <th>end_station</th>\n",
       "      <th>weight</th>\n",
       "      <th>start_name</th>\n",
       "      <th>start_lat</th>\n",
       "      <th>start_lon</th>\n",
       "      <th>end_name</th>\n",
       "      <th>end_lat</th>\n",
       "      <th>end_lon</th>\n",
       "    </tr>\n",
       "  </thead>\n",
       "  <tbody>\n",
       "    <tr>\n",
       "      <th>0</th>\n",
       "      <td>24371</td>\n",
       "      <td>24385</td>\n",
       "      <td>116</td>\n",
       "      <td>Anleger Reventlou</td>\n",
       "      <td>54.333833</td>\n",
       "      <td>10.152250</td>\n",
       "      <td>Dreiecksplatz</td>\n",
       "      <td>54.328528</td>\n",
       "      <td>10.134417</td>\n",
       "    </tr>\n",
       "    <tr>\n",
       "      <th>1</th>\n",
       "      <td>24371</td>\n",
       "      <td>24412</td>\n",
       "      <td>138</td>\n",
       "      <td>Anleger Reventlou</td>\n",
       "      <td>54.333833</td>\n",
       "      <td>10.152250</td>\n",
       "      <td>MELUND-Olympiahochhaus</td>\n",
       "      <td>54.355250</td>\n",
       "      <td>10.131611</td>\n",
       "    </tr>\n",
       "    <tr>\n",
       "      <th>2</th>\n",
       "      <td>24371</td>\n",
       "      <td>24376</td>\n",
       "      <td>149</td>\n",
       "      <td>Anleger Reventlou</td>\n",
       "      <td>54.333833</td>\n",
       "      <td>10.152250</td>\n",
       "      <td>Kirchhofallee</td>\n",
       "      <td>54.316194</td>\n",
       "      <td>10.120583</td>\n",
       "    </tr>\n",
       "    <tr>\n",
       "      <th>3</th>\n",
       "      <td>24371</td>\n",
       "      <td>24397</td>\n",
       "      <td>254</td>\n",
       "      <td>Anleger Reventlou</td>\n",
       "      <td>54.333833</td>\n",
       "      <td>10.152250</td>\n",
       "      <td>Hauptbahnhof</td>\n",
       "      <td>54.315972</td>\n",
       "      <td>10.132278</td>\n",
       "    </tr>\n",
       "    <tr>\n",
       "      <th>4</th>\n",
       "      <td>24371</td>\n",
       "      <td>24383</td>\n",
       "      <td>116</td>\n",
       "      <td>Anleger Reventlou</td>\n",
       "      <td>54.333833</td>\n",
       "      <td>10.152250</td>\n",
       "      <td>CAU Sportstätten</td>\n",
       "      <td>54.343444</td>\n",
       "      <td>10.111139</td>\n",
       "    </tr>\n",
       "    <tr>\n",
       "      <th>...</th>\n",
       "      <td>...</td>\n",
       "      <td>...</td>\n",
       "      <td>...</td>\n",
       "      <td>...</td>\n",
       "      <td>...</td>\n",
       "      <td>...</td>\n",
       "      <td>...</td>\n",
       "      <td>...</td>\n",
       "      <td>...</td>\n",
       "    </tr>\n",
       "    <tr>\n",
       "      <th>127</th>\n",
       "      <td>24382</td>\n",
       "      <td>24413</td>\n",
       "      <td>126</td>\n",
       "      <td>Wilhelmplatz</td>\n",
       "      <td>54.323583</td>\n",
       "      <td>10.122278</td>\n",
       "      <td>Bernhard-Minetti-Platz</td>\n",
       "      <td>54.337864</td>\n",
       "      <td>10.133126</td>\n",
       "    </tr>\n",
       "    <tr>\n",
       "      <th>128</th>\n",
       "      <td>24382</td>\n",
       "      <td>24381</td>\n",
       "      <td>96</td>\n",
       "      <td>Wilhelmplatz</td>\n",
       "      <td>54.323583</td>\n",
       "      <td>10.122278</td>\n",
       "      <td>Westring/Eckernförder Str.</td>\n",
       "      <td>54.328543</td>\n",
       "      <td>10.117925</td>\n",
       "    </tr>\n",
       "    <tr>\n",
       "      <th>129</th>\n",
       "      <td>24382</td>\n",
       "      <td>24399</td>\n",
       "      <td>86</td>\n",
       "      <td>Wilhelmplatz</td>\n",
       "      <td>54.323583</td>\n",
       "      <td>10.122278</td>\n",
       "      <td>Exerzierplatz</td>\n",
       "      <td>54.321583</td>\n",
       "      <td>10.128389</td>\n",
       "    </tr>\n",
       "    <tr>\n",
       "      <th>130</th>\n",
       "      <td>24382</td>\n",
       "      <td>24370</td>\n",
       "      <td>120</td>\n",
       "      <td>Wilhelmplatz</td>\n",
       "      <td>54.323583</td>\n",
       "      <td>10.122278</td>\n",
       "      <td>Alter Markt</td>\n",
       "      <td>54.322806</td>\n",
       "      <td>10.139472</td>\n",
       "    </tr>\n",
       "    <tr>\n",
       "      <th>131</th>\n",
       "      <td>24382</td>\n",
       "      <td>24391</td>\n",
       "      <td>111</td>\n",
       "      <td>Wilhelmplatz</td>\n",
       "      <td>54.323583</td>\n",
       "      <td>10.122278</td>\n",
       "      <td>Blücherplatz</td>\n",
       "      <td>54.341722</td>\n",
       "      <td>10.136861</td>\n",
       "    </tr>\n",
       "  </tbody>\n",
       "</table>\n",
       "<p>132 rows × 9 columns</p>\n",
       "</div>"
      ],
      "text/plain": [
       "     start_station  end_station  weight         start_name  start_lat  \\\n",
       "0            24371        24385     116  Anleger Reventlou  54.333833   \n",
       "1            24371        24412     138  Anleger Reventlou  54.333833   \n",
       "2            24371        24376     149  Anleger Reventlou  54.333833   \n",
       "3            24371        24397     254  Anleger Reventlou  54.333833   \n",
       "4            24371        24383     116  Anleger Reventlou  54.333833   \n",
       "..             ...          ...     ...                ...        ...   \n",
       "127          24382        24413     126       Wilhelmplatz  54.323583   \n",
       "128          24382        24381      96       Wilhelmplatz  54.323583   \n",
       "129          24382        24399      86       Wilhelmplatz  54.323583   \n",
       "130          24382        24370     120       Wilhelmplatz  54.323583   \n",
       "131          24382        24391     111       Wilhelmplatz  54.323583   \n",
       "\n",
       "     start_lon                    end_name    end_lat    end_lon  \n",
       "0    10.152250               Dreiecksplatz  54.328528  10.134417  \n",
       "1    10.152250      MELUND-Olympiahochhaus  54.355250  10.131611  \n",
       "2    10.152250               Kirchhofallee  54.316194  10.120583  \n",
       "3    10.152250                Hauptbahnhof  54.315972  10.132278  \n",
       "4    10.152250            CAU Sportstätten  54.343444  10.111139  \n",
       "..         ...                         ...        ...        ...  \n",
       "127  10.122278      Bernhard-Minetti-Platz  54.337864  10.133126  \n",
       "128  10.122278  Westring/Eckernförder Str.  54.328543  10.117925  \n",
       "129  10.122278               Exerzierplatz  54.321583  10.128389  \n",
       "130  10.122278                 Alter Markt  54.322806  10.139472  \n",
       "131  10.122278                Blücherplatz  54.341722  10.136861  \n",
       "\n",
       "[132 rows x 9 columns]"
      ]
     },
     "execution_count": 6,
     "metadata": {},
     "output_type": "execute_result"
    }
   ],
   "source": [
    "most_common_routes_df  = get_most_common_routes_from_routes(routes)\n",
    "most_common_routes_df"
   ]
  },
  {
   "attachments": {},
   "cell_type": "markdown",
   "metadata": {},
   "source": [
    "Visualize the take routes."
   ]
  },
  {
   "cell_type": "code",
   "execution_count": 7,
   "metadata": {},
   "outputs": [
    {
     "data": {
      "text/html": [
       "<div>\n",
       "<style scoped>\n",
       "    .dataframe tbody tr th:only-of-type {\n",
       "        vertical-align: middle;\n",
       "    }\n",
       "\n",
       "    .dataframe tbody tr th {\n",
       "        vertical-align: top;\n",
       "    }\n",
       "\n",
       "    .dataframe thead th {\n",
       "        text-align: right;\n",
       "    }\n",
       "</style>\n",
       "<table border=\"1\" class=\"dataframe\">\n",
       "  <thead>\n",
       "    <tr style=\"text-align: right;\">\n",
       "      <th></th>\n",
       "      <th>station_id</th>\n",
       "      <th>station</th>\n",
       "      <th>lat</th>\n",
       "      <th>lon</th>\n",
       "    </tr>\n",
       "  </thead>\n",
       "  <tbody>\n",
       "    <tr>\n",
       "      <th>0</th>\n",
       "      <td>24371</td>\n",
       "      <td>Anleger Reventlou</td>\n",
       "      <td>54.333833</td>\n",
       "      <td>10.152250</td>\n",
       "    </tr>\n",
       "    <tr>\n",
       "      <th>1</th>\n",
       "      <td>24385</td>\n",
       "      <td>Dreiecksplatz</td>\n",
       "      <td>54.328528</td>\n",
       "      <td>10.134417</td>\n",
       "    </tr>\n",
       "    <tr>\n",
       "      <th>2</th>\n",
       "      <td>24412</td>\n",
       "      <td>MELUND-Olympiahochhaus</td>\n",
       "      <td>54.355250</td>\n",
       "      <td>10.131611</td>\n",
       "    </tr>\n",
       "    <tr>\n",
       "      <th>3</th>\n",
       "      <td>24376</td>\n",
       "      <td>Kirchhofallee</td>\n",
       "      <td>54.316194</td>\n",
       "      <td>10.120583</td>\n",
       "    </tr>\n",
       "    <tr>\n",
       "      <th>4</th>\n",
       "      <td>24397</td>\n",
       "      <td>Hauptbahnhof</td>\n",
       "      <td>54.315972</td>\n",
       "      <td>10.132278</td>\n",
       "    </tr>\n",
       "    <tr>\n",
       "      <th>5</th>\n",
       "      <td>24383</td>\n",
       "      <td>CAU Sportstätten</td>\n",
       "      <td>54.343444</td>\n",
       "      <td>10.111139</td>\n",
       "    </tr>\n",
       "    <tr>\n",
       "      <th>6</th>\n",
       "      <td>24413</td>\n",
       "      <td>Bernhard-Minetti-Platz</td>\n",
       "      <td>54.337864</td>\n",
       "      <td>10.133126</td>\n",
       "    </tr>\n",
       "    <tr>\n",
       "      <th>7</th>\n",
       "      <td>24381</td>\n",
       "      <td>Westring/Eckernförder Str.</td>\n",
       "      <td>54.328543</td>\n",
       "      <td>10.117925</td>\n",
       "    </tr>\n",
       "    <tr>\n",
       "      <th>8</th>\n",
       "      <td>24399</td>\n",
       "      <td>Exerzierplatz</td>\n",
       "      <td>54.321583</td>\n",
       "      <td>10.128389</td>\n",
       "    </tr>\n",
       "    <tr>\n",
       "      <th>9</th>\n",
       "      <td>24370</td>\n",
       "      <td>Alter Markt</td>\n",
       "      <td>54.322806</td>\n",
       "      <td>10.139472</td>\n",
       "    </tr>\n",
       "    <tr>\n",
       "      <th>10</th>\n",
       "      <td>24391</td>\n",
       "      <td>Blücherplatz</td>\n",
       "      <td>54.341722</td>\n",
       "      <td>10.136861</td>\n",
       "    </tr>\n",
       "    <tr>\n",
       "      <th>11</th>\n",
       "      <td>24382</td>\n",
       "      <td>Wilhelmplatz</td>\n",
       "      <td>54.323583</td>\n",
       "      <td>10.122278</td>\n",
       "    </tr>\n",
       "  </tbody>\n",
       "</table>\n",
       "</div>"
      ],
      "text/plain": [
       "    station_id                     station        lat        lon\n",
       "0        24371           Anleger Reventlou  54.333833  10.152250\n",
       "1        24385               Dreiecksplatz  54.328528  10.134417\n",
       "2        24412      MELUND-Olympiahochhaus  54.355250  10.131611\n",
       "3        24376               Kirchhofallee  54.316194  10.120583\n",
       "4        24397                Hauptbahnhof  54.315972  10.132278\n",
       "5        24383            CAU Sportstätten  54.343444  10.111139\n",
       "6        24413      Bernhard-Minetti-Platz  54.337864  10.133126\n",
       "7        24381  Westring/Eckernförder Str.  54.328543  10.117925\n",
       "8        24399               Exerzierplatz  54.321583  10.128389\n",
       "9        24370                 Alter Markt  54.322806  10.139472\n",
       "10       24391                Blücherplatz  54.341722  10.136861\n",
       "11       24382                Wilhelmplatz  54.323583  10.122278"
      ]
     },
     "execution_count": 7,
     "metadata": {},
     "output_type": "execute_result"
    }
   ],
   "source": [
    "# get the right information for the markers that will be placed on map\n",
    "station_id_list = most_common_routes_df[\"start_station\"].unique()\n",
    "attributes = []\n",
    "for station in station_id_list:\n",
    "    attributes_df = most_common_routes_df.loc[most_common_routes_df[\"start_station\"] == station]\n",
    "    start_name = attributes_df.iloc[0][\"start_name\"]\n",
    "    lat = attributes_df.iloc[0][\"start_lat\"]\n",
    "    lon = attributes_df.iloc[0][\"start_lon\"]\n",
    "    station_id = attributes_df.iloc[0][\"start_station\"] \n",
    "    attributes.append([station_id, start_name, lat, lon])\n",
    "\n",
    "attributes_df = pd.DataFrame(attributes, columns=[\"station_id\", \"station\", \"lat\", \"lon\"])\n",
    "attributes_df\n",
    "\n",
    "\n",
    "\n"
   ]
  },
  {
   "cell_type": "code",
   "execution_count": 8,
   "metadata": {},
   "outputs": [],
   "source": [
    "# get information to plot lines between the points\n",
    "list_info_lon = []\n",
    "list_info_lat = []\n",
    "list_info_weight = []\n",
    "for station in station_id_list:\n",
    "    attributes_for_lines_df = most_common_routes_df.loc[most_common_routes_df[\"start_station\"] == station]\n",
    "\n",
    "    start_lat_list = attributes_for_lines_df[\"start_lat\"].to_list()\n",
    "    end_lat_list = attributes_for_lines_df[\"end_lat\"].to_list()\n",
    "    start_lon_list = attributes_for_lines_df[\"start_lon\"].to_list()\n",
    "    end_lon_list = attributes_for_lines_df[\"end_lon\"].to_list()\n",
    "    weight = attributes_for_lines_df[\"weight\"].to_list()\n",
    "    for i in range(len(start_lat_list)):\n",
    "        list_info_lat.append([start_lat_list[i], end_lat_list[i]])\n",
    "        list_info_lon.append([start_lon_list[i], end_lon_list[i]])\n",
    "        list_info_weight.append(weight[i])\n"
   ]
  },
  {
   "cell_type": "code",
   "execution_count": 10,
   "metadata": {},
   "outputs": [
    {
     "data": {
      "application/vnd.plotly.v1+json": {
       "config": {
        "plotlyServerURL": "https://plot.ly"
       },
       "data": [
        {
         "lat": [
          54.333833,
          54.328528
         ],
         "legendgroup": "group0",
         "line": {
          "color": "rgba(32,32,218,0.4566929133858268)",
          "width": 2.7401574803149606
         },
         "lon": [
          10.15225,
          10.134417
         ],
         "mode": "lines",
         "name": "Anleger Reventlou",
         "showlegend": true,
         "type": "scattermapbox"
        },
        {
         "fill": "toself",
         "fillcolor": "rgba(32,32,218,1)",
         "hoverinfo": "skip",
         "lat": [
          54.32928384633319,
          54.32857052633319,
          54.32872759316659,
          54.32928384633319
         ],
         "legendgroup": "group0",
         "line": {
          "color": "rgba(32,32,218,1)"
         },
         "lon": [
          10.135652783106456,
          10.135864983106456,
          10.135087941553227,
          10.135652783106456
         ],
         "mode": "lines",
         "showlegend": false,
         "type": "scattermapbox"
        },
        {
         "lat": [
          54.333833,
          54.35525
         ],
         "legendgroup": "group0",
         "line": {
          "color": "rgba(32,32,218,0.5433070866141733)",
          "width": 3.2598425196850394
         },
         "lon": [
          10.15225,
          10.131611
         ],
         "mode": "lines",
         "name": "Anleger Reventlou",
         "showlegend": false,
         "type": "scattermapbox"
        },
        {
         "fill": "toself",
         "fillcolor": "rgba(32,32,218,1)",
         "hoverinfo": "skip",
         "lat": [
          54.354654689766825,
          54.35382912976683,
          54.35474595488341,
          54.354654689766825
         ],
         "legendgroup": "group0",
         "line": {
          "color": "rgba(32,32,218,1)"
         },
         "lon": [
          10.133010810062213,
          10.132154130062215,
          10.132096735031107,
          10.133010810062213
         ],
         "mode": "lines",
         "showlegend": false,
         "type": "scattermapbox"
        },
        {
         "lat": [
          54.333833,
          54.316194
         ],
         "legendgroup": "group0",
         "line": {
          "color": "rgba(32,32,218,0.5866141732283464)",
          "width": 3.5196850393700787
         },
         "lon": [
          10.15225,
          10.120583
         ],
         "mode": "lines",
         "name": "Anleger Reventlou",
         "showlegend": false,
         "type": "scattermapbox"
        },
        {
         "fill": "toself",
         "fillcolor": "rgba(32,32,218,1)",
         "hoverinfo": "skip",
         "lat": [
          54.317508603860276,
          54.316241923860275,
          54.31653463193014,
          54.317508603860276
         ],
         "legendgroup": "group0",
         "line": {
          "color": "rgba(32,32,218,1)"
         },
         "lon": [
          10.12145328154902,
          10.12215884154902,
          10.12119453077451,
          10.12145328154902
         ],
         "mode": "lines",
         "showlegend": false,
         "type": "scattermapbox"
        },
        {
         "lat": [
          54.333833,
          54.315972
         ],
         "legendgroup": "group0",
         "line": {
          "color": "rgba(32,32,218,1.0)",
          "width": 6
         },
         "lon": [
          10.15225,
          10.132278
         ],
         "mode": "lines",
         "name": "Anleger Reventlou",
         "showlegend": false,
         "type": "scattermapbox"
        },
        {
         "fill": "toself",
         "fillcolor": "rgba(32,32,218,1)",
         "hoverinfo": "skip",
         "lat": [
          54.31730470076391,
          54.31650582076391,
          54.31643863038195,
          54.31730470076391
         ],
         "legendgroup": "group0",
         "line": {
          "color": "rgba(32,32,218,1)"
         },
         "lon": [
          10.132964343293025,
          10.133678783293025,
          10.132799781646513,
          10.132964343293025
         ],
         "mode": "lines",
         "showlegend": false,
         "type": "scattermapbox"
        },
        {
         "lat": [
          54.333833,
          54.343444
         ],
         "legendgroup": "group0",
         "line": {
          "color": "rgba(32,32,218,0.4566929133858268)",
          "width": 2.7401574803149606
         },
         "lon": [
          10.15225,
          10.111139
         ],
         "mode": "lines",
         "name": "Anleger Reventlou",
         "showlegend": false,
         "type": "scattermapbox"
        },
        {
         "fill": "toself",
         "fillcolor": "rgba(32,32,218,1)",
         "hoverinfo": "skip",
         "lat": [
          54.343947518877734,
          54.34230307887773,
          54.343284649438864,
          54.343947518877734
         ],
         "legendgroup": "group0",
         "line": {
          "color": "rgba(32,32,218,1)"
         },
         "lon": [
          10.112694462309594,
          10.112310022309593,
          10.111820621154797,
          10.112694462309594
         ],
         "mode": "lines",
         "showlegend": false,
         "type": "scattermapbox"
        },
        {
         "lat": [
          54.333833,
          54.337864
         ],
         "legendgroup": "group0",
         "line": {
          "color": "rgba(32,32,218,0.610236220472441)",
          "width": 3.661417322834646
         },
         "lon": [
          10.15225,
          10.133126
         ],
         "mode": "lines",
         "name": "Anleger Reventlou",
         "showlegend": false,
         "type": "scattermapbox"
        },
        {
         "fill": "toself",
         "fillcolor": "rgba(32,32,218,1)",
         "hoverinfo": "skip",
         "lat": [
          54.33795772959371,
          54.33719276959371,
          54.337719624796854,
          54.33795772959371
         ],
         "legendgroup": "group0",
         "line": {
          "color": "rgba(32,32,218,1)"
         },
         "lon": [
          10.134576518975424,
          10.134415278975423,
          10.133810949487712,
          10.134576518975424
         ],
         "mode": "lines",
         "showlegend": false,
         "type": "scattermapbox"
        },
        {
         "lat": [
          54.333833,
          54.328543
         ],
         "legendgroup": "group0",
         "line": {
          "color": "rgba(32,32,218,0.49606299212598426)",
          "width": 2.9763779527559056
         },
         "lon": [
          10.15225,
          10.117925
         ],
         "mode": "lines",
         "name": "Anleger Reventlou",
         "showlegend": false,
         "type": "scattermapbox"
        },
        {
         "fill": "toself",
         "fillcolor": "rgba(32,32,218,1)",
         "hoverinfo": "skip",
         "lat": [
          54.32944274354585,
          54.328069743545846,
          54.328649621772925,
          54.32944274354585
         ],
         "legendgroup": "group0",
         "line": {
          "color": "rgba(32,32,218,1)"
         },
         "lon": [
          10.119202864406622,
          10.119414464406622,
          10.118616832203312,
          10.119202864406622
         ],
         "mode": "lines",
         "showlegend": false,
         "type": "scattermapbox"
        },
        {
         "lat": [
          54.333833,
          54.321583
         ],
         "legendgroup": "group0",
         "line": {
          "color": "rgba(32,32,218,0.41732283464566927)",
          "width": 2.5039370078740157
         },
         "lon": [
          10.15225,
          10.128389
         ],
         "mode": "lines",
         "name": "Anleger Reventlou",
         "showlegend": false,
         "type": "scattermapbox"
        },
        {
         "fill": "toself",
         "fillcolor": "rgba(32,32,218,1)",
         "hoverinfo": "skip",
         "lat": [
          54.322699624875156,
          54.321745184875155,
          54.321902702437576,
          54.322699624875156
         ],
         "legendgroup": "group0",
         "line": {
          "color": "rgba(32,32,218,1)"
         },
         "lon": [
          10.12938945630418,
          10.12987945630418,
          10.12901172815209,
          10.12938945630418
         ],
         "mode": "lines",
         "showlegend": false,
         "type": "scattermapbox"
        },
        {
         "lat": [
          54.333833,
          54.322806
         ],
         "legendgroup": "group0",
         "line": {
          "color": "rgba(32,32,218,0.5984251968503937)",
          "width": 3.590551181102362
         },
         "lon": [
          10.15225,
          10.139472
         ],
         "mode": "lines",
         "name": "Anleger Reventlou",
         "showlegend": false,
         "type": "scattermapbox"
        },
        {
         "fill": "toself",
         "fillcolor": "rgba(32,32,218,1)",
         "hoverinfo": "skip",
         "lat": [
          54.323976221750435,
          54.323465101750436,
          54.323263330875214,
          54.323976221750435
         ],
         "legendgroup": "group0",
         "line": {
          "color": "rgba(32,32,218,1)"
         },
         "lon": [
          10.140311362770206,
          10.140752442770207,
          10.140001951385102,
          10.140311362770206
         ],
         "mode": "lines",
         "showlegend": false,
         "type": "scattermapbox"
        },
        {
         "lat": [
          54.333833,
          54.341722
         ],
         "legendgroup": "group0",
         "line": {
          "color": "rgba(32,32,218,0.5866141732283464)",
          "width": 3.5196850393700787
         },
         "lon": [
          10.15225,
          10.136861
         ],
         "mode": "lines",
         "name": "Anleger Reventlou",
         "showlegend": false,
         "type": "scattermapbox"
        },
        {
         "fill": "toself",
         "fillcolor": "rgba(32,32,218,1)",
         "hoverinfo": "skip",
         "lat": [
          54.34139111584894,
          54.34077555584894,
          54.34140266792447,
          54.34139111584894
         ],
         "legendgroup": "group0",
         "line": {
          "color": "rgba(32,32,218,1)"
         },
         "lon": [
          10.138264616306325,
          10.137949056306324,
          10.137483918153162,
          10.138264616306325
         ],
         "mode": "lines",
         "showlegend": false,
         "type": "scattermapbox"
        },
        {
         "lat": [
          54.333833,
          54.323583
         ],
         "legendgroup": "group0",
         "line": {
          "color": "rgba(32,32,218,0.5590551181102362)",
          "width": 3.354330708661417
         },
         "lon": [
          10.15225,
          10.122278
         ],
         "mode": "lines",
         "name": "Anleger Reventlou",
         "showlegend": false,
         "type": "scattermapbox"
        },
        {
         "fill": "toself",
         "fillcolor": "rgba(32,32,218,1)",
         "hoverinfo": "skip",
         "lat": [
          54.324635461141746,
          54.32343658114174,
          54.32380951057087,
          54.324635461141746
         ],
         "legendgroup": "group0",
         "line": {
          "color": "rgba(32,32,218,1)"
         },
         "lon": [
          10.123397678015644,
          10.123807678015643,
          10.122940339007823,
          10.123397678015644
         ],
         "mode": "lines",
         "showlegend": false,
         "type": "scattermapbox"
        },
        {
         "lat": [
          54.328528,
          54.333833
         ],
         "legendgroup": "group1",
         "line": {
          "color": "rgba(198,48,149,0.6094674556213018)",
          "width": 3.6568047337278107
         },
         "lon": [
          10.134417,
          10.15225
         ],
         "mode": "lines",
         "name": "Dreiecksplatz",
         "showlegend": true,
         "type": "scattermapbox"
        },
        {
         "fill": "toself",
         "fillcolor": "rgba(198,48,149,1)",
         "hoverinfo": "skip",
         "lat": [
          54.33307715366681,
          54.33379047366681,
          54.33363340683341,
          54.33307715366681
         ],
         "legendgroup": "group1",
         "line": {
          "color": "rgba(198,48,149,1)"
         },
         "lon": [
          10.151014216893543,
          10.150802016893543,
          10.151579058446773,
          10.151014216893543
         ],
         "mode": "lines",
         "showlegend": false,
         "type": "scattermapbox"
        },
        {
         "lat": [
          54.328528,
          54.35525
         ],
         "legendgroup": "group1",
         "line": {
          "color": "rgba(198,48,149,0.5029585798816568)",
          "width": 3.0177514792899407
         },
         "lon": [
          10.134417,
          10.131611
         ],
         "mode": "lines",
         "name": "Dreiecksplatz",
         "showlegend": false,
         "type": "scattermapbox"
        },
        {
         "fill": "toself",
         "fillcolor": "rgba(198,48,149,1)",
         "hoverinfo": "skip",
         "lat": [
          54.3539137752948,
          54.35380153529481,
          54.3545538276474,
          54.3539137752948
         ],
         "legendgroup": "group1",
         "line": {
          "color": "rgba(198,48,149,1)"
         },
         "lon": [
          10.132291646093957,
          10.131222766093959,
          10.131684103046979,
          10.132291646093957
         ],
         "mode": "lines",
         "showlegend": false,
         "type": "scattermapbox"
        },
        {
         "lat": [
          54.328528,
          54.316194
         ],
         "legendgroup": "group1",
         "line": {
          "color": "rgba(198,48,149,0.6745562130177515)",
          "width": 4.047337278106509
         },
         "lon": [
          10.134417,
          10.120583
         ],
         "mode": "lines",
         "name": "Dreiecksplatz",
         "showlegend": false,
         "type": "scattermapbox"
        },
        {
         "fill": "toself",
         "fillcolor": "rgba(198,48,149,1)",
         "hoverinfo": "skip",
         "lat": [
          54.31740235429451,
          54.31684899429451,
          54.316659837147256,
          54.31740235429451
         ],
         "legendgroup": "group1",
         "line": {
          "color": "rgba(198,48,149,1)"
         },
         "lon": [
          10.121381299908398,
          10.121874659908398,
          10.1211054899542,
          10.121381299908398
         ],
         "mode": "lines",
         "showlegend": false,
         "type": "scattermapbox"
        },
        {
         "lat": [
          54.328528,
          54.315972
         ],
         "legendgroup": "group1",
         "line": {
          "color": "rgba(198,48,149,1.0)",
          "width": 6
         },
         "lon": [
          10.134417,
          10.132278
         ],
         "mode": "lines",
         "name": "Dreiecksplatz",
         "showlegend": false,
         "type": "scattermapbox"
        },
        {
         "fill": "toself",
         "fillcolor": "rgba(198,48,149,1)",
         "hoverinfo": "skip",
         "lat": [
          54.317394896740986,
          54.31730933674098,
          54.3166620583705,
          54.317394896740986
         ],
         "legendgroup": "group1",
         "line": {
          "color": "rgba(198,48,149,1)"
         },
         "lon": [
          10.13226199227373,
          10.132764232273729,
          10.132395556136865,
          10.13226199227373
         ],
         "mode": "lines",
         "showlegend": false,
         "type": "scattermapbox"
        },
        {
         "lat": [
          54.328528,
          54.343444
         ],
         "legendgroup": "group1",
         "line": {
          "color": "rgba(198,48,149,0.4437869822485207)",
          "width": 2.6627218934911245
         },
         "lon": [
          10.134417,
          10.111139
         ],
         "mode": "lines",
         "name": "Dreiecksplatz",
         "showlegend": false,
         "type": "scattermapbox"
        },
        {
         "fill": "toself",
         "fillcolor": "rgba(198,48,149,1)",
         "hoverinfo": "skip",
         "lat": [
          54.343154235432586,
          54.34222311543258,
          54.343066337716294,
          54.343154235432586
         ],
         "legendgroup": "group1",
         "line": {
          "color": "rgba(198,48,149,1)"
         },
         "lon": [
          10.112616084097631,
          10.11201944409763,
          10.111728382048815,
          10.112616084097631
         ],
         "mode": "lines",
         "showlegend": false,
         "type": "scattermapbox"
        },
        {
         "lat": [
          54.328528,
          54.337864
         ],
         "legendgroup": "group1",
         "line": {
          "color": "rgba(198,48,149,0.5976331360946746)",
          "width": 3.5857988165680474
         },
         "lon": [
          10.134417,
          10.133126
         ],
         "mode": "lines",
         "name": "Dreiecksplatz",
         "showlegend": false,
         "type": "scattermapbox"
        },
        {
         "fill": "toself",
         "fillcolor": "rgba(198,48,149,1)",
         "hoverinfo": "skip",
         "lat": [
          54.336503016366606,
          54.33645137636661,
          54.337170598183306,
          54.336503016366606
         ],
         "legendgroup": "group1",
         "line": {
          "color": "rgba(198,48,149,1)"
         },
         "lon": [
          10.13350448986833,
          10.133131049868329,
          10.133221884934164,
          10.13350448986833
         ],
         "mode": "lines",
         "showlegend": false,
         "type": "scattermapbox"
        },
        {
         "lat": [
          54.328528,
          54.328543
         ],
         "legendgroup": "group1",
         "line": {
          "color": "rgba(198,48,149,0.514792899408284)",
          "width": 3.0887573964497044
         },
         "lon": [
          10.134417,
          10.117925
         ],
         "mode": "lines",
         "name": "Dreiecksplatz",
         "showlegend": false,
         "type": "scattermapbox"
        },
        {
         "fill": "toself",
         "fillcolor": "rgba(198,48,149,1)",
         "hoverinfo": "skip",
         "lat": [
          54.32887156665588,
          54.32821188665588,
          54.32854236332794,
          54.32887156665588
         ],
         "legendgroup": "group1",
         "line": {
          "color": "rgba(198,48,149,1)"
         },
         "lon": [
          10.119325299420925,
          10.119324699420925,
          10.118624999710462,
          10.119325299420925
         ],
         "mode": "lines",
         "showlegend": false,
         "type": "scattermapbox"
        },
        {
         "lat": [
          54.328528,
          54.321583
         ],
         "legendgroup": "group1",
         "line": {
          "color": "rgba(198,48,149,0.47337278106508873)",
          "width": 2.840236686390533
         },
         "lon": [
          10.134417,
          10.128389
         ],
         "mode": "lines",
         "name": "Dreiecksplatz",
         "showlegend": false,
         "type": "scattermapbox"
        },
        {
         "fill": "toself",
         "fillcolor": "rgba(198,48,149,1)",
         "hoverinfo": "skip",
         "lat": [
          54.322760846314836,
          54.32251972631484,
          54.32211164315741,
          54.322760846314836
         ],
         "legendgroup": "group1",
         "line": {
          "color": "rgba(198,48,149,1)"
         },
         "lon": [
          10.129167784939648,
          10.129445584939647,
          10.128847842469824,
          10.129167784939648
         ],
         "mode": "lines",
         "showlegend": false,
         "type": "scattermapbox"
        },
        {
         "lat": [
          54.328528,
          54.322806
         ],
         "legendgroup": "group1",
         "line": {
          "color": "rgba(198,48,149,0.5384615384615384)",
          "width": 3.230769230769231
         },
         "lon": [
          10.134417,
          10.139472
         ],
         "mode": "lines",
         "name": "Dreiecksplatz",
         "showlegend": false,
         "type": "scattermapbox"
        },
        {
         "fill": "toself",
         "fillcolor": "rgba(198,48,149,1)",
         "hoverinfo": "skip",
         "lat": [
          54.323754110938836,
          54.32395631093884,
          54.32333060546942,
          54.323754110938836
         ],
         "legendgroup": "group1",
         "line": {
          "color": "rgba(198,48,149,1)"
         },
         "lon": [
          10.138430653097545,
          10.138659533097547,
          10.139008546548773,
          10.138430653097545
         ],
         "mode": "lines",
         "showlegend": false,
         "type": "scattermapbox"
        },
        {
         "lat": [
          54.328528,
          54.341722
         ],
         "legendgroup": "group1",
         "line": {
          "color": "rgba(198,48,149,0.6272189349112426)",
          "width": 3.7633136094674557
         },
         "lon": [
          10.134417,
          10.136861
         ],
         "mode": "lines",
         "name": "Dreiecksplatz",
         "showlegend": false,
         "type": "scattermapbox"
        },
        {
         "fill": "toself",
         "fillcolor": "rgba(198,48,149,1)",
         "hoverinfo": "skip",
         "lat": [
          54.340296537648314,
          54.34039429764832,
          54.341033708824156,
          54.340296537648314
         ],
         "legendgroup": "group1",
         "line": {
          "color": "rgba(198,48,149,1)"
         },
         "lon": [
          10.136869887786304,
          10.136342127786303,
          10.136733503893153,
          10.136869887786304
         ],
         "mode": "lines",
         "showlegend": false,
         "type": "scattermapbox"
        },
        {
         "lat": [
          54.328528,
          54.323583
         ],
         "legendgroup": "group1",
         "line": {
          "color": "rgba(198,48,149,0.591715976331361)",
          "width": 3.5502958579881656
         },
         "lon": [
          10.134417,
          10.122278
         ],
         "mode": "lines",
         "name": "Dreiecksplatz",
         "showlegend": false,
         "type": "scattermapbox"
        },
        {
         "fill": "toself",
         "fillcolor": "rgba(198,48,149,1)",
         "hoverinfo": "skip",
         "lat": [
          54.324353948143504,
          54.3238683881435,
          54.32384708407175,
          54.324353948143504
         ],
         "legendgroup": "group1",
         "line": {
          "color": "rgba(198,48,149,1)"
         },
         "lon": [
          10.123475648653999,
          10.123673448653998,
          10.122926274326998,
          10.123475648653999
         ],
         "mode": "lines",
         "showlegend": false,
         "type": "scattermapbox"
        },
        {
         "lat": [
          54.35525,
          54.333833
         ],
         "legendgroup": "group2",
         "line": {
          "color": "rgba(0,127,0,0.7661290322580645)",
          "width": 4.596774193548387
         },
         "lon": [
          10.131611,
          10.15225
         ],
         "mode": "lines",
         "name": "MELUND-Olympiahochhaus",
         "showlegend": true,
         "type": "scattermapbox"
        },
        {
         "fill": "toself",
         "fillcolor": "rgba(0,127,0,1)",
         "hoverinfo": "skip",
         "lat": [
          54.33442831023317,
          54.33525387023317,
          54.334337045116584,
          54.33442831023317
         ],
         "legendgroup": "group2",
         "line": {
          "color": "rgba(0,127,0,1)"
         },
         "lon": [
          10.150850189937787,
          10.151706869937785,
          10.151764264968893,
          10.150850189937787
         ],
         "mode": "lines",
         "showlegend": false,
         "type": "scattermapbox"
        },
        {
         "lat": [
          54.35525,
          54.328528
         ],
         "legendgroup": "group2",
         "line": {
          "color": "rgba(0,127,0,0.6693548387096774)",
          "width": 4.016129032258064
         },
         "lon": [
          10.131611,
          10.134417
         ],
         "mode": "lines",
         "name": "MELUND-Olympiahochhaus",
         "showlegend": false,
         "type": "scattermapbox"
        },
        {
         "fill": "toself",
         "fillcolor": "rgba(0,127,0,1)",
         "hoverinfo": "skip",
         "lat": [
          54.32986422470519,
          54.3299764647052,
          54.329224172352596,
          54.32986422470519
         ],
         "legendgroup": "group2",
         "line": {
          "color": "rgba(0,127,0,1)"
         },
         "lon": [
          10.133736353906041,
          10.13480523390604,
          10.13434389695302,
          10.133736353906041
         ],
         "mode": "lines",
         "showlegend": false,
         "type": "scattermapbox"
        },
        {
         "lat": [
          54.35525,
          54.316194
         ],
         "legendgroup": "group2",
         "line": {
          "color": "rgba(0,127,0,0.5967741935483871)",
          "width": 3.5806451612903225
         },
         "lon": [
          10.131611,
          10.120583
         ],
         "mode": "lines",
         "name": "MELUND-Olympiahochhaus",
         "showlegend": false,
         "type": "scattermapbox"
        },
        {
         "fill": "toself",
         "fillcolor": "rgba(0,127,0,1)",
         "hoverinfo": "skip",
         "lat": [
          54.31776187948573,
          54.317320759485725,
          54.31686765974286,
          54.31776187948573
         ],
         "legendgroup": "group2",
         "line": {
          "color": "rgba(0,127,0,1)"
         },
         "lon": [
          10.120182314230044,
          10.121744554230043,
          10.12077321711502,
          10.120182314230044
         ],
         "mode": "lines",
         "showlegend": false,
         "type": "scattermapbox"
        },
        {
         "lat": [
          54.35525,
          54.315972
         ],
         "legendgroup": "group2",
         "line": {
          "color": "rgba(0,127,0,1.0)",
          "width": 6
         },
         "lon": [
          10.131611,
          10.132278
         ],
         "mode": "lines",
         "name": "MELUND-Olympiahochhaus",
         "showlegend": false,
         "type": "scattermapbox"
        },
        {
         "fill": "toself",
         "fillcolor": "rgba(0,127,0,1)",
         "hoverinfo": "skip",
         "lat": [
          54.31735845818332,
          54.317385138183326,
          54.31667189909166,
          54.31735845818332
         ],
         "legendgroup": "group2",
         "line": {
          "color": "rgba(0,127,0,1)"
         },
         "lon": [
          10.131468669304233,
          10.133039789304235,
          10.132266114652117,
          10.131468669304233
         ],
         "mode": "lines",
         "showlegend": false,
         "type": "scattermapbox"
        },
        {
         "lat": [
          54.35525,
          54.343444
         ],
         "legendgroup": "group2",
         "line": {
          "color": "rgba(0,127,0,0.4838709677419355)",
          "width": 2.903225806451613
         },
         "lon": [
          10.131611,
          10.111139
         ],
         "mode": "lines",
         "name": "MELUND-Olympiahochhaus",
         "showlegend": false,
         "type": "scattermapbox"
        },
        {
         "fill": "toself",
         "fillcolor": "rgba(0,127,0,1)",
         "hoverinfo": "skip",
         "lat": [
          54.344552839445235,
          54.34373395944524,
          54.34379369972262,
          54.344552839445235
         ],
         "legendgroup": "group2",
         "line": {
          "color": "rgba(0,127,0,1)"
         },
         "lon": [
          10.11211566209749,
          10.112587902097491,
          10.111745391048746,
          10.11211566209749
         ],
         "mode": "lines",
         "showlegend": false,
         "type": "scattermapbox"
        },
        {
         "lat": [
          54.35525,
          54.337864
         ],
         "legendgroup": "group2",
         "line": {
          "color": "rgba(0,127,0,0.7016129032258065)",
          "width": 4.209677419354839
         },
         "lon": [
          10.131611,
          10.133126
         ],
         "mode": "lines",
         "name": "MELUND-Olympiahochhaus",
         "showlegend": false,
         "type": "scattermapbox"
        },
        {
         "fill": "toself",
         "fillcolor": "rgba(0,127,0,1)",
         "hoverinfo": "skip",
         "lat": [
          54.33922841482647,
          54.33928901482647,
          54.338561357413234,
          54.33922841482647
         ],
         "legendgroup": "group2",
         "line": {
          "color": "rgba(0,127,0,1)"
         },
         "lon": [
          10.13265674583676,
          10.133352185836761,
          10.13306523291838,
          10.13265674583676
         ],
         "mode": "lines",
         "showlegend": false,
         "type": "scattermapbox"
        },
        {
         "lat": [
          54.35525,
          54.328543
         ],
         "legendgroup": "group2",
         "line": {
          "color": "rgba(0,127,0,0.6370967741935484)",
          "width": 3.82258064516129
         },
         "lon": [
          10.131611,
          10.117925
         ],
         "mode": "lines",
         "name": "MELUND-Olympiahochhaus",
         "showlegend": false,
         "type": "scattermapbox"
        },
        {
         "fill": "toself",
         "fillcolor": "rgba(0,127,0,1)",
         "hoverinfo": "skip",
         "lat": [
          54.330062651876105,
          54.3295152118761,
          54.32916596593805,
          54.330062651876105
         ],
         "legendgroup": "group2",
         "line": {
          "color": "rgba(0,127,0,1)"
         },
         "lon": [
          10.118029337689606,
          10.119097617689604,
          10.118244238844802,
          10.118029337689606
         ],
         "mode": "lines",
         "showlegend": false,
         "type": "scattermapbox"
        },
        {
         "lat": [
          54.35525,
          54.321583
         ],
         "legendgroup": "group2",
         "line": {
          "color": "rgba(0,127,0,0.5403225806451613)",
          "width": 3.2419354838709675
         },
         "lon": [
          10.131611,
          10.128389
         ],
         "mode": "lines",
         "name": "MELUND-Olympiahochhaus",
         "showlegend": false,
         "type": "scattermapbox"
        },
        {
         "fill": "toself",
         "fillcolor": "rgba(0,127,0,1)",
         "hoverinfo": "skip",
         "lat": [
          54.323041072492174,
          54.32291219249217,
          54.32227981624608,
          54.323041072492174
         ],
         "legendgroup": "group2",
         "line": {
          "color": "rgba(0,127,0,1)"
         },
         "lon": [
          10.127849033448474,
          10.129195713448475,
          10.128455686724237,
          10.127849033448474
         ],
         "mode": "lines",
         "showlegend": false,
         "type": "scattermapbox"
        },
        {
         "lat": [
          54.35525,
          54.322806
         ],
         "legendgroup": "group2",
         "line": {
          "color": "rgba(0,127,0,0.6532258064516129)",
          "width": 3.9193548387096775
         },
         "lon": [
          10.131611,
          10.139472
         ],
         "mode": "lines",
         "name": "MELUND-Olympiahochhaus",
         "showlegend": false,
         "type": "scattermapbox"
        },
        {
         "fill": "toself",
         "fillcolor": "rgba(0,127,0,1)",
         "hoverinfo": "skip",
         "lat": [
          54.32400941058427,
          54.324323850584264,
          54.323486315292136,
          54.32400941058427
         ],
         "legendgroup": "group2",
         "line": {
          "color": "rgba(0,127,0,1)"
         },
         "lon": [
          10.138493446808564,
          10.139791206808564,
          10.139307163404283,
          10.138493446808564
         ],
         "mode": "lines",
         "showlegend": false,
         "type": "scattermapbox"
        },
        {
         "lat": [
          54.35525,
          54.341722
         ],
         "legendgroup": "group2",
         "line": {
          "color": "rgba(0,127,0,0.6209677419354839)",
          "width": 3.725806451612903
         },
         "lon": [
          10.131611,
          10.136861
         ],
         "mode": "lines",
         "name": "MELUND-Olympiahochhaus",
         "showlegend": false,
         "type": "scattermapbox"
        },
        {
         "fill": "toself",
         "fillcolor": "rgba(0,127,0,1)",
         "hoverinfo": "skip",
         "lat": [
          54.34292216109638,
          54.34313216109638,
          54.34237458054819,
          54.34292216109638
         ],
         "legendgroup": "group2",
         "line": {
          "color": "rgba(0,127,0,1)"
         },
         "lon": [
          10.13608392789503,
          10.13662504789503,
          10.136607743947515,
          10.13608392789503
         ],
         "mode": "lines",
         "showlegend": false,
         "type": "scattermapbox"
        },
        {
         "lat": [
          54.35525,
          54.323583
         ],
         "legendgroup": "group2",
         "line": {
          "color": "rgba(0,127,0,0.5403225806451613)",
          "width": 3.2419354838709675
         },
         "lon": [
          10.131611,
          10.122278
         ],
         "mode": "lines",
         "name": "MELUND-Olympiahochhaus",
         "showlegend": false,
         "type": "scattermapbox"
        },
        {
         "fill": "toself",
         "fillcolor": "rgba(0,127,0,1)",
         "hoverinfo": "skip",
         "lat": [
          54.32511255135722,
          54.32473923135723,
          54.32425444567861,
          54.32511255135722
         ],
         "legendgroup": "group2",
         "line": {
          "color": "rgba(0,127,0,1)"
         },
         "lon": [
          10.122040441256102,
          10.123307121256103,
          10.122475890628051,
          10.122040441256102
         ],
         "mode": "lines",
         "showlegend": false,
         "type": "scattermapbox"
        },
        {
         "lat": [
          54.316194,
          54.333833
         ],
         "legendgroup": "group3",
         "line": {
          "color": "rgba(255,255,0,0.7135678391959799)",
          "width": 4.281407035175879
         },
         "lon": [
          10.120583,
          10.15225
         ],
         "mode": "lines",
         "name": "Kirchhofallee",
         "showlegend": true,
         "type": "scattermapbox"
        },
        {
         "fill": "toself",
         "fillcolor": "rgba(255,255,0,1)",
         "hoverinfo": "skip",
         "lat": [
          54.332518396139726,
          54.333785076139726,
          54.33349236806986,
          54.332518396139726
         ],
         "legendgroup": "group3",
         "line": {
          "color": "rgba(255,255,0,1)"
         },
         "lon": [
          10.15137971845098,
          10.15067415845098,
          10.15163846922549,
          10.15137971845098
         ],
         "mode": "lines",
         "showlegend": false,
         "type": "scattermapbox"
        },
        {
         "lat": [
          54.316194,
          54.328528
         ],
         "legendgroup": "group3",
         "line": {
          "color": "rgba(255,255,0,0.678391959798995)",
          "width": 4.0703517587939695
         },
         "lon": [
          10.120583,
          10.134417
         ],
         "mode": "lines",
         "name": "Kirchhofallee",
         "showlegend": false,
         "type": "scattermapbox"
        },
        {
         "fill": "toself",
         "fillcolor": "rgba(255,255,0,1)",
         "hoverinfo": "skip",
         "lat": [
          54.327319645705494,
          54.32787300570549,
          54.328062162852746,
          54.327319645705494
         ],
         "legendgroup": "group3",
         "line": {
          "color": "rgba(255,255,0,1)"
         },
         "lon": [
          10.133618700091601,
          10.1331253400916,
          10.133894510045799,
          10.133618700091601
         ],
         "mode": "lines",
         "showlegend": false,
         "type": "scattermapbox"
        },
        {
         "lat": [
          54.316194,
          54.35525
         ],
         "legendgroup": "group3",
         "line": {
          "color": "rgba(255,255,0,0.507537688442211)",
          "width": 3.0452261306532664
         },
         "lon": [
          10.120583,
          10.131611
         ],
         "mode": "lines",
         "name": "Kirchhofallee",
         "showlegend": false,
         "type": "scattermapbox"
        },
        {
         "fill": "toself",
         "fillcolor": "rgba(255,255,0,1)",
         "hoverinfo": "skip",
         "lat": [
          54.35368212051427,
          54.35412324051428,
          54.35457634025714,
          54.35368212051427
         ],
         "legendgroup": "group3",
         "line": {
          "color": "rgba(255,255,0,1)"
         },
         "lon": [
          10.132011685769955,
          10.130449445769957,
          10.131420782884978,
          10.132011685769955
         ],
         "mode": "lines",
         "showlegend": false,
         "type": "scattermapbox"
        },
        {
         "lat": [
          54.316194,
          54.315972
         ],
         "legendgroup": "group3",
         "line": {
          "color": "rgba(255,255,0,1.0)",
          "width": 6
         },
         "lon": [
          10.120583,
          10.132278
         ],
         "mode": "lines",
         "name": "Kirchhofallee",
         "showlegend": false,
         "type": "scattermapbox"
        },
        {
         "fill": "toself",
         "fillcolor": "rgba(255,255,0,1)",
         "hoverinfo": "skip",
         "lat": [
          54.31576467067287,
          54.316232470672865,
          54.31598528533644,
          54.31576467067287
         ],
         "legendgroup": "group3",
         "line": {
          "color": "rgba(255,255,0,1)"
         },
         "lon": [
          10.1308738121658,
          10.1308826921658,
          10.1315781260829,
          10.1308738121658
         ],
         "mode": "lines",
         "showlegend": false,
         "type": "scattermapbox"
        },
        {
         "lat": [
          54.316194,
          54.343444
         ],
         "legendgroup": "group3",
         "line": {
          "color": "rgba(255,255,0,0.5577889447236181)",
          "width": 3.3467336683417086
         },
         "lon": [
          10.120583,
          10.111139
         ],
         "mode": "lines",
         "name": "Kirchhofallee",
         "showlegend": false,
         "type": "scattermapbox"
        },
        {
         "fill": "toself",
         "fillcolor": "rgba(255,255,0,1)",
         "hoverinfo": "skip",
         "lat": [
          54.34231006926585,
          54.34193230926584,
          54.34278259463292,
          54.34231006926585
         ],
         "legendgroup": "group3",
         "line": {
          "color": "rgba(255,255,0,1)"
         },
         "lon": [
          10.112142444938472,
          10.11105244493847,
          10.111368222469235,
          10.112142444938472
         ],
         "mode": "lines",
         "showlegend": false,
         "type": "scattermapbox"
        },
        {
         "lat": [
          54.316194,
          54.337864
         ],
         "legendgroup": "group3",
         "line": {
          "color": "rgba(255,255,0,0.6231155778894473)",
          "width": 3.738693467336683
         },
         "lon": [
          10.120583,
          10.133126
         ],
         "mode": "lines",
         "name": "Kirchhofallee",
         "showlegend": false,
         "type": "scattermapbox"
        },
        {
         "fill": "toself",
         "fillcolor": "rgba(255,255,0,1)",
         "hoverinfo": "skip",
         "lat": [
          54.336401475575094,
          54.3369031955751,
          54.337258167787546,
          54.336401475575094
         ],
         "legendgroup": "group3",
         "line": {
          "color": "rgba(255,255,0,1)"
         },
         "lon": [
          10.132858066041457,
          10.131991266041457,
          10.132775333020728,
          10.132858066041457
         ],
         "mode": "lines",
         "showlegend": false,
         "type": "scattermapbox"
        },
        {
         "lat": [
          54.316194,
          54.328543
         ],
         "legendgroup": "group3",
         "line": {
          "color": "rgba(255,255,0,0.5829145728643216)",
          "width": 3.4974874371859297
         },
         "lon": [
          10.120583,
          10.117925
         ],
         "mode": "lines",
         "name": "Kirchhofallee",
         "showlegend": false,
         "type": "scattermapbox"
        },
        {
         "fill": "toself",
         "fillcolor": "rgba(255,255,0,1)",
         "hoverinfo": "skip",
         "lat": [
          54.32722750480691,
          54.32712118480691,
          54.32785867240346,
          54.32722750480691
         ],
         "legendgroup": "group3",
         "line": {
          "color": "rgba(255,255,0,1)"
         },
         "lon": [
          10.11846656948119,
          10.11797260948119,
          10.118072294740596,
          10.11846656948119
         ],
         "mode": "lines",
         "showlegend": false,
         "type": "scattermapbox"
        },
        {
         "lat": [
          54.316194,
          54.321583
         ],
         "legendgroup": "group3",
         "line": {
          "color": "rgba(255,255,0,0.507537688442211)",
          "width": 3.0452261306532664
         },
         "lon": [
          10.120583,
          10.128389
         ],
         "mode": "lines",
         "name": "Kirchhofallee",
         "showlegend": false,
         "type": "scattermapbox"
        },
        {
         "fill": "toself",
         "fillcolor": "rgba(255,255,0,1)",
         "hoverinfo": "skip",
         "lat": [
          54.32063149866483,
          54.32094373866483,
          54.321185309332414,
          54.32063149866483
         ],
         "legendgroup": "group3",
         "line": {
          "color": "rgba(255,255,0,1)"
         },
         "lon": [
          10.127344665191629,
          10.127129105191628,
          10.127812942595815,
          10.127344665191629
         ],
         "mode": "lines",
         "showlegend": false,
         "type": "scattermapbox"
        },
        {
         "lat": [
          54.316194,
          54.322806
         ],
         "legendgroup": "group3",
         "line": {
          "color": "rgba(255,255,0,0.7487437185929648)",
          "width": 4.492462311557789
         },
         "lon": [
          10.120583,
          10.139472
         ],
         "mode": "lines",
         "name": "Kirchhofallee",
         "showlegend": false,
         "type": "scattermapbox"
        },
        {
         "fill": "toself",
         "fillcolor": "rgba(255,255,0,1)",
         "hoverinfo": "skip",
         "lat": [
          54.32196567643302,
          54.32272123643302,
          54.32257472821651,
          54.32196567643302
         ],
         "legendgroup": "group3",
         "line": {
          "color": "rgba(255,255,0,1)"
         },
         "lon": [
          10.138282856842604,
          10.138018376842606,
          10.138811308421303,
          10.138282856842604
         ],
         "mode": "lines",
         "showlegend": false,
         "type": "scattermapbox"
        },
        {
         "lat": [
          54.316194,
          54.341722
         ],
         "legendgroup": "group3",
         "line": {
          "color": "rgba(255,255,0,0.5829145728643216)",
          "width": 3.4974874371859297
         },
         "lon": [
          10.120583,
          10.136861
         ],
         "mode": "lines",
         "name": "Kirchhofallee",
         "showlegend": false,
         "type": "scattermapbox"
        },
        {
         "fill": "toself",
         "fillcolor": "rgba(255,255,0,1)",
         "hoverinfo": "skip",
         "lat": [
          54.34021600367441,
          54.340867123674414,
          54.341131781837205,
          54.34021600367441
         ],
         "legendgroup": "group3",
         "line": {
          "color": "rgba(255,255,0,1)"
         },
         "lon": [
          10.13661885150314,
          10.13559773150314,
          10.136484645751569,
          10.13661885150314
         ],
         "mode": "lines",
         "showlegend": false,
         "type": "scattermapbox"
        },
        {
         "lat": [
          54.316194,
          54.323583
         ],
         "legendgroup": "group3",
         "line": {
          "color": "rgba(255,255,0,0.5979899497487438)",
          "width": 3.587939698492462
         },
         "lon": [
          10.120583,
          10.122278
         ],
         "mode": "lines",
         "name": "Kirchhofallee",
         "showlegend": false,
         "type": "scattermapbox"
        },
        {
         "fill": "toself",
         "fillcolor": "rgba(255,255,0,1)",
         "hoverinfo": "skip",
         "lat": [
          54.322184542639654,
          54.32225234263965,
          54.322900721319826,
          54.322184542639654
         ],
         "legendgroup": "group3",
         "line": {
          "color": "rgba(255,255,0,1)"
         },
         "lon": [
          10.122112757300611,
          10.12181719730061,
          10.122121488650306,
          10.122112757300611
         ],
         "mode": "lines",
         "showlegend": false,
         "type": "scattermapbox"
        },
        {
         "lat": [
          54.315972,
          54.333833
         ],
         "legendgroup": "group4",
         "line": {
          "color": "rgba(95,0,0,1.0)",
          "width": 6
         },
         "lon": [
          10.132278,
          10.15225
         ],
         "mode": "lines",
         "name": "Hauptbahnhof",
         "showlegend": true,
         "type": "scattermapbox"
        },
        {
         "fill": "toself",
         "fillcolor": "rgba(95,0,0,1)",
         "hoverinfo": "skip",
         "lat": [
          54.33250029923609,
          54.33329917923609,
          54.33336636961805,
          54.33250029923609
         ],
         "legendgroup": "group4",
         "line": {
          "color": "rgba(95,0,0,1)"
         },
         "lon": [
          10.151563656706974,
          10.150849216706975,
          10.151728218353487,
          10.151563656706974
         ],
         "mode": "lines",
         "showlegend": false,
         "type": "scattermapbox"
        },
        {
         "lat": [
          54.315972,
          54.328528
         ],
         "legendgroup": "group4",
         "line": {
          "color": "rgba(95,0,0,0.8446969696969697)",
          "width": 5.068181818181818
         },
         "lon": [
          10.132278,
          10.134417
         ],
         "mode": "lines",
         "name": "Hauptbahnhof",
         "showlegend": false,
         "type": "scattermapbox"
        },
        {
         "fill": "toself",
         "fillcolor": "rgba(95,0,0,1)",
         "hoverinfo": "skip",
         "lat": [
          54.327105103259015,
          54.32719066325902,
          54.327837941629504,
          54.327105103259015
         ],
         "legendgroup": "group4",
         "line": {
          "color": "rgba(95,0,0,1)"
         },
         "lon": [
          10.134433007726269,
          10.13393076772627,
          10.134299443863133,
          10.134433007726269
         ],
         "mode": "lines",
         "showlegend": false,
         "type": "scattermapbox"
        },
        {
         "lat": [
          54.315972,
          54.35525
         ],
         "legendgroup": "group4",
         "line": {
          "color": "rgba(95,0,0,0.6931818181818182)",
          "width": 4.159090909090909
         },
         "lon": [
          10.132278,
          10.131611
         ],
         "mode": "lines",
         "name": "Hauptbahnhof",
         "showlegend": false,
         "type": "scattermapbox"
        },
        {
         "fill": "toself",
         "fillcolor": "rgba(95,0,0,1)",
         "hoverinfo": "skip",
         "lat": [
          54.35386354181668,
          54.353836861816674,
          54.35455010090834,
          54.35386354181668
         ],
         "legendgroup": "group4",
         "line": {
          "color": "rgba(95,0,0,1)"
         },
         "lon": [
          10.132420330695766,
          10.130849210695764,
          10.131622885347882,
          10.132420330695766
         ],
         "mode": "lines",
         "showlegend": false,
         "type": "scattermapbox"
        },
        {
         "lat": [
          54.315972,
          54.316194
         ],
         "legendgroup": "group4",
         "line": {
          "color": "rgba(95,0,0,0.9204545454545454)",
          "width": 5.5227272727272725
         },
         "lon": [
          10.132278,
          10.120583
         ],
         "mode": "lines",
         "name": "Hauptbahnhof",
         "showlegend": false,
         "type": "scattermapbox"
        },
        {
         "fill": "toself",
         "fillcolor": "rgba(95,0,0,1)",
         "hoverinfo": "skip",
         "lat": [
          54.316401329327135,
          54.31593352932714,
          54.31618071466357,
          54.316401329327135
         ],
         "legendgroup": "group4",
         "line": {
          "color": "rgba(95,0,0,1)"
         },
         "lon": [
          10.121987187834199,
          10.1219783078342,
          10.1212828739171,
          10.121987187834199
         ],
         "mode": "lines",
         "showlegend": false,
         "type": "scattermapbox"
        },
        {
         "lat": [
          54.315972,
          54.343444
         ],
         "legendgroup": "group4",
         "line": {
          "color": "rgba(95,0,0,0.6553030303030303)",
          "width": 3.931818181818182
         },
         "lon": [
          10.132278,
          10.111139
         ],
         "mode": "lines",
         "name": "Hauptbahnhof",
         "showlegend": false,
         "type": "scattermapbox"
        },
        {
         "fill": "toself",
         "fillcolor": "rgba(95,0,0,1)",
         "hoverinfo": "skip",
         "lat": [
          54.34275723705159,
          54.34191167705159,
          54.3428892285258,
          54.34275723705159
         ],
         "legendgroup": "group4",
         "line": {
          "color": "rgba(95,0,0,1)"
         },
         "lon": [
          10.112542204865548,
          10.111443324865547,
          10.111565882432775,
          10.112542204865548
         ],
         "mode": "lines",
         "showlegend": false,
         "type": "scattermapbox"
        },
        {
         "lat": [
          54.315972,
          54.337864
         ],
         "legendgroup": "group4",
         "line": {
          "color": "rgba(95,0,0,0.8901515151515151)",
          "width": 5.340909090909091
         },
         "lon": [
          10.132278,
          10.133126
         ],
         "mode": "lines",
         "name": "Hauptbahnhof",
         "showlegend": false,
         "type": "scattermapbox"
        },
        {
         "fill": "toself",
         "fillcolor": "rgba(95,0,0,1)",
         "hoverinfo": "skip",
         "lat": [
          54.33644808913282,
          54.33648200913283,
          54.33716452456641,
          54.33644808913282
         ],
         "legendgroup": "group4",
         "line": {
          "color": "rgba(95,0,0,1)"
         },
         "lon": [
          10.133509650783147,
          10.132633970783147,
          10.133098905391574,
          10.133509650783147
         ],
         "mode": "lines",
         "showlegend": false,
         "type": "scattermapbox"
        },
        {
         "lat": [
          54.315972,
          54.328543
         ],
         "legendgroup": "group4",
         "line": {
          "color": "rgba(95,0,0,0.8560606060606061)",
          "width": 5.136363636363637
         },
         "lon": [
          10.132278,
          10.117925
         ],
         "mode": "lines",
         "name": "Hauptbahnhof",
         "showlegend": false,
         "type": "scattermapbox"
        },
        {
         "fill": "toself",
         "fillcolor": "rgba(95,0,0,1)",
         "hoverinfo": "skip",
         "lat": [
          54.3279076497623,
          54.327333529762306,
          54.32808179488115,
          54.3279076497623
         ],
         "legendgroup": "group4",
         "line": {
          "color": "rgba(95,0,0,1)"
         },
         "lon": [
          10.11922958634649,
          10.118726746346491,
          10.118451583173245,
          10.11922958634649
         ],
         "mode": "lines",
         "showlegend": false,
         "type": "scattermapbox"
        },
        {
         "lat": [
          54.315972,
          54.321583
         ],
         "legendgroup": "group4",
         "line": {
          "color": "rgba(95,0,0,0.5795454545454546)",
          "width": 3.4772727272727275
         },
         "lon": [
          10.132278,
          10.128389
         ],
         "mode": "lines",
         "name": "Hauptbahnhof",
         "showlegend": false,
         "type": "scattermapbox"
        },
        {
         "fill": "toself",
         "fillcolor": "rgba(95,0,0,1)",
         "hoverinfo": "skip",
         "lat": [
          54.32051013928139,
          54.32035457928139,
          54.321007679640694,
          54.32051013928139
         ],
         "legendgroup": "group4",
         "line": {
          "color": "rgba(95,0,0,1)"
         },
         "lon": [
          10.129298732342658,
          10.129074292342658,
          10.128787756171329,
          10.129298732342658
         ],
         "mode": "lines",
         "showlegend": false,
         "type": "scattermapbox"
        },
        {
         "lat": [
          54.315972,
          54.322806
         ],
         "legendgroup": "group4",
         "line": {
          "color": "rgba(95,0,0,0.946969696969697)",
          "width": 5.681818181818182
         },
         "lon": [
          10.132278,
          10.139472
         ],
         "mode": "lines",
         "name": "Hauptbahnhof",
         "showlegend": false,
         "type": "scattermapbox"
        },
        {
         "fill": "toself",
         "fillcolor": "rgba(95,0,0,1)",
         "hoverinfo": "skip",
         "lat": [
          54.32169789300205,
          54.32198565300206,
          54.32232388650103,
          54.32169789300205
         ],
         "legendgroup": "group4",
         "line": {
          "color": "rgba(95,0,0,1)"
         },
         "lon": [
          10.138593659657129,
          10.138320299657128,
          10.138964489828563,
          10.138593659657129
         ],
         "mode": "lines",
         "showlegend": false,
         "type": "scattermapbox"
        },
        {
         "lat": [
          54.315972,
          54.341722
         ],
         "legendgroup": "group4",
         "line": {
          "color": "rgba(95,0,0,0.7424242424242424)",
          "width": 4.454545454545455
         },
         "lon": [
          10.132278,
          10.136861
         ],
         "mode": "lines",
         "name": "Hauptbahnhof",
         "showlegend": false,
         "type": "scattermapbox"
        },
        {
         "fill": "toself",
         "fillcolor": "rgba(95,0,0,1)",
         "hoverinfo": "skip",
         "lat": [
          54.34025200068813,
          54.34043532068814,
          54.34103283034407,
          54.34025200068813
         ],
         "legendgroup": "group4",
         "line": {
          "color": "rgba(95,0,0,1)"
         },
         "lon": [
          10.137130682366358,
          10.136100682366358,
          10.136738341183179,
          10.137130682366358
         ],
         "mode": "lines",
         "showlegend": false,
         "type": "scattermapbox"
        },
        {
         "lat": [
          54.315972,
          54.323583
         ],
         "legendgroup": "group4",
         "line": {
          "color": "rgba(95,0,0,0.8484848484848485)",
          "width": 5.090909090909091
         },
         "lon": [
          10.132278,
          10.122278
         ],
         "mode": "lines",
         "name": "Hauptbahnhof",
         "showlegend": false,
         "type": "scattermapbox"
        },
        {
         "fill": "toself",
         "fillcolor": "rgba(95,0,0,1)",
         "hoverinfo": "skip",
         "lat": [
          54.32293510685625,
          54.32253510685625,
          54.32315905342812,
          54.32293510685625
         ],
         "legendgroup": "group4",
         "line": {
          "color": "rgba(95,0,0,1)"
         },
         "lon": [
          10.123544256452178,
          10.123239816452177,
          10.122835018226088,
          10.123544256452178
         ],
         "mode": "lines",
         "showlegend": false,
         "type": "scattermapbox"
        },
        {
         "lat": [
          54.343444,
          54.333833
         ],
         "legendgroup": "group5",
         "line": {
          "color": "rgba(95,95,95,0.7185185185185186)",
          "width": 4.311111111111111
         },
         "lon": [
          10.111139,
          10.15225
         ],
         "mode": "lines",
         "name": "CAU Sportstätten",
         "showlegend": true,
         "type": "scattermapbox"
        },
        {
         "fill": "toself",
         "fillcolor": "rgba(95,95,95,1)",
         "hoverinfo": "skip",
         "lat": [
          54.33332948112226,
          54.33497392112227,
          54.33399235056113,
          54.33332948112226
         ],
         "legendgroup": "group5",
         "line": {
          "color": "rgba(95,95,95,1)"
         },
         "lon": [
          10.150694537690406,
          10.151078977690407,
          10.151568378845203,
          10.150694537690406
         ],
         "mode": "lines",
         "showlegend": false,
         "type": "scattermapbox"
        },
        {
         "lat": [
          54.343444,
          54.328528
         ],
         "legendgroup": "group5",
         "line": {
          "color": "rgba(95,95,95,0.6666666666666666)",
          "width": 4
         },
         "lon": [
          10.111139,
          10.134417
         ],
         "mode": "lines",
         "name": "CAU Sportstätten",
         "showlegend": false,
         "type": "scattermapbox"
        },
        {
         "fill": "toself",
         "fillcolor": "rgba(95,95,95,1)",
         "hoverinfo": "skip",
         "lat": [
          54.32881776456741,
          54.329748884567415,
          54.3289056622837,
          54.32881776456741
         ],
         "legendgroup": "group5",
         "line": {
          "color": "rgba(95,95,95,1)"
         },
         "lon": [
          10.132939915902368,
          10.133536555902369,
          10.133827617951184,
          10.132939915902368
         ],
         "mode": "lines",
         "showlegend": false,
         "type": "scattermapbox"
        },
        {
         "lat": [
          54.343444,
          54.35525
         ],
         "legendgroup": "group5",
         "line": {
          "color": "rgba(95,95,95,0.5851851851851851)",
          "width": 3.511111111111111
         },
         "lon": [
          10.111139,
          10.131611
         ],
         "mode": "lines",
         "name": "CAU Sportstätten",
         "showlegend": false,
         "type": "scattermapbox"
        },
        {
         "fill": "toself",
         "fillcolor": "rgba(95,95,95,1)",
         "hoverinfo": "skip",
         "lat": [
          54.35414116055476,
          54.35496004055476,
          54.35490030027738,
          54.35414116055476
         ],
         "legendgroup": "group5",
         "line": {
          "color": "rgba(95,95,95,1)"
         },
         "lon": [
          10.130634337902508,
          10.130162097902508,
          10.131004608951253,
          10.130634337902508
         ],
         "mode": "lines",
         "showlegend": false,
         "type": "scattermapbox"
        },
        {
         "lat": [
          54.343444,
          54.316194
         ],
         "legendgroup": "group5",
         "line": {
          "color": "rgba(95,95,95,0.7407407407407407)",
          "width": 4.444444444444445
         },
         "lon": [
          10.111139,
          10.120583
         ],
         "mode": "lines",
         "name": "CAU Sportstätten",
         "showlegend": false,
         "type": "scattermapbox"
        },
        {
         "fill": "toself",
         "fillcolor": "rgba(95,95,95,1)",
         "hoverinfo": "skip",
         "lat": [
          54.31732793073415,
          54.31770569073416,
          54.31685540536708,
          54.31732793073415
         ],
         "legendgroup": "group5",
         "line": {
          "color": "rgba(95,95,95,1)"
         },
         "lon": [
          10.119579555061527,
          10.120669555061529,
          10.120353777530765,
          10.119579555061527
         ],
         "mode": "lines",
         "showlegend": false,
         "type": "scattermapbox"
        },
        {
         "lat": [
          54.343444,
          54.315972
         ],
         "legendgroup": "group5",
         "line": {
          "color": "rgba(95,95,95,1.0)",
          "width": 6
         },
         "lon": [
          10.111139,
          10.132278
         ],
         "mode": "lines",
         "name": "CAU Sportstätten",
         "showlegend": false,
         "type": "scattermapbox"
        },
        {
         "fill": "toself",
         "fillcolor": "rgba(95,95,95,1)",
         "hoverinfo": "skip",
         "lat": [
          54.31665876294841,
          54.31750432294841,
          54.3165267714742,
          54.31665876294841
         ],
         "legendgroup": "group5",
         "line": {
          "color": "rgba(95,95,95,1)"
         },
         "lon": [
          10.130874795134451,
          10.131973675134452,
          10.131851117567225,
          10.130874795134451
         ],
         "mode": "lines",
         "showlegend": false,
         "type": "scattermapbox"
        },
        {
         "lat": [
          54.343444,
          54.337864
         ],
         "legendgroup": "group5",
         "line": {
          "color": "rgba(95,95,95,0.6444444444444445)",
          "width": 3.8666666666666667
         },
         "lon": [
          10.111139,
          10.133126
         ],
         "mode": "lines",
         "name": "CAU Sportstätten",
         "showlegend": false,
         "type": "scattermapbox"
        },
        {
         "fill": "toself",
         "fillcolor": "rgba(95,95,95,1)",
         "hoverinfo": "skip",
         "lat": [
          54.33776864346799,
          54.33864812346798,
          54.33803619173399,
          54.33776864346799
         ],
         "legendgroup": "group5",
         "line": {
          "color": "rgba(95,95,95,1)"
         },
         "lon": [
          10.13165741804471,
          10.131880618044711,
          10.132447509022356,
          10.13165741804471
         ],
         "mode": "lines",
         "showlegend": false,
         "type": "scattermapbox"
        },
        {
         "lat": [
          54.343444,
          54.328543
         ],
         "legendgroup": "group5",
         "line": {
          "color": "rgba(95,95,95,0.725925925925926)",
          "width": 4.355555555555556
         },
         "lon": [
          10.111139,
          10.117925
         ],
         "mode": "lines",
         "name": "CAU Sportstätten",
         "showlegend": false,
         "type": "scattermapbox"
        },
        {
         "fill": "toself",
         "fillcolor": "rgba(95,95,95,1)",
         "hoverinfo": "skip",
         "lat": [
          54.32968137986432,
          54.329952819864324,
          54.32918004993216,
          54.32968137986432
         ],
         "legendgroup": "group5",
         "line": {
          "color": "rgba(95,95,95,1)"
         },
         "lon": [
          10.117046747688123,
          10.117642787688125,
          10.117634883844062,
          10.117046747688123
         ],
         "mode": "lines",
         "showlegend": false,
         "type": "scattermapbox"
        },
        {
         "lat": [
          54.343444,
          54.321583
         ],
         "legendgroup": "group5",
         "line": {
          "color": "rgba(95,95,95,0.4740740740740741)",
          "width": 2.8444444444444446
         },
         "lon": [
          10.111139,
          10.128389
         ],
         "mode": "lines",
         "name": "CAU Sportstätten",
         "showlegend": false,
         "type": "scattermapbox"
        },
        {
         "fill": "toself",
         "fillcolor": "rgba(95,95,95,1)",
         "hoverinfo": "skip",
         "lat": [
          54.32233704817515,
          54.323027048175156,
          54.32213252408757,
          54.32233704817515
         ],
         "legendgroup": "group5",
         "line": {
          "color": "rgba(95,95,95,1)"
         },
         "lon": [
          10.127084546981319,
          10.12795898698132,
          10.12795538349066,
          10.127084546981319
         ],
         "mode": "lines",
         "showlegend": false,
         "type": "scattermapbox"
        },
        {
         "lat": [
          54.343444,
          54.322806
         ],
         "legendgroup": "group5",
         "line": {
          "color": "rgba(95,95,95,0.7555555555555555)",
          "width": 4.533333333333333
         },
         "lon": [
          10.111139,
          10.139472
         ],
         "mode": "lines",
         "name": "CAU Sportstätten",
         "showlegend": false,
         "type": "scattermapbox"
        },
        {
         "fill": "toself",
         "fillcolor": "rgba(95,95,95,1)",
         "hoverinfo": "skip",
         "lat": [
          54.32306362083188,
          54.324196940831875,
          54.32321814041594,
          54.32306362083188
         ],
         "legendgroup": "group5",
         "line": {
          "color": "rgba(95,95,95,1)"
         },
         "lon": [
          10.137927621199259,
          10.138753141199258,
          10.138906190599629,
          10.137927621199259
         ],
         "mode": "lines",
         "showlegend": false,
         "type": "scattermapbox"
        },
        {
         "lat": [
          54.343444,
          54.341722
         ],
         "legendgroup": "group5",
         "line": {
          "color": "rgba(95,95,95,0.6962962962962963)",
          "width": 4.177777777777778
         },
         "lon": [
          10.111139,
          10.136861
         ],
         "mode": "lines",
         "name": "CAU Sportstätten",
         "showlegend": false,
         "type": "scattermapbox"
        },
        {
         "fill": "toself",
         "fillcolor": "rgba(95,95,95,1)",
         "hoverinfo": "skip",
         "lat": [
          54.34130107588819,
          54.3423299558882,
          54.341768757944095,
          54.34130107588819
         ],
         "legendgroup": "group5",
         "line": {
          "color": "rgba(95,95,95,1)"
         },
         "lon": [
          10.135429686785045,
          10.135498566785046,
          10.136162563392523,
          10.135429686785045
         ],
         "mode": "lines",
         "showlegend": false,
         "type": "scattermapbox"
        },
        {
         "lat": [
          54.343444,
          54.323583
         ],
         "legendgroup": "group5",
         "line": {
          "color": "rgba(95,95,95,0.7703703703703704)",
          "width": 4.622222222222223
         },
         "lon": [
          10.111139,
          10.122278
         ],
         "mode": "lines",
         "name": "CAU Sportstätten",
         "showlegend": false,
         "type": "scattermapbox"
        },
        {
         "fill": "toself",
         "fillcolor": "rgba(95,95,95,1)",
         "hoverinfo": "skip",
         "lat": [
          54.324581286795535,
          54.32502684679554,
          54.32419353339777,
          54.324581286795535
         ],
         "legendgroup": "group5",
         "line": {
          "color": "rgba(95,95,95,1)"
         },
         "lon": [
          10.121195947260686,
          10.121990387260686,
          10.121935583630343,
          10.121195947260686
         ],
         "mode": "lines",
         "showlegend": false,
         "type": "scattermapbox"
        },
        {
         "lat": [
          54.337864,
          54.333833
         ],
         "legendgroup": "group6",
         "line": {
          "color": "rgba(187,127,243,0.7411764705882353)",
          "width": 4.447058823529412
         },
         "lon": [
          10.133126,
          10.15225
         ],
         "mode": "lines",
         "name": "Bernhard-Minetti-Platz",
         "showlegend": true,
         "type": "scattermapbox"
        },
        {
         "fill": "toself",
         "fillcolor": "rgba(187,127,243,1)",
         "hoverinfo": "skip",
         "lat": [
          54.33373927040629,
          54.33450423040629,
          54.33397737520315,
          54.33373927040629
         ],
         "legendgroup": "group6",
         "line": {
          "color": "rgba(187,127,243,1)"
         },
         "lon": [
          10.150799481024578,
          10.150960721024578,
          10.15156505051229,
          10.150799481024578
         ],
         "mode": "lines",
         "showlegend": false,
         "type": "scattermapbox"
        },
        {
         "lat": [
          54.337864,
          54.328528
         ],
         "legendgroup": "group6",
         "line": {
          "color": "rgba(187,127,243,0.711764705882353)",
          "width": 4.270588235294118
         },
         "lon": [
          10.133126,
          10.134417
         ],
         "mode": "lines",
         "name": "Bernhard-Minetti-Platz",
         "showlegend": false,
         "type": "scattermapbox"
        },
        {
         "fill": "toself",
         "fillcolor": "rgba(187,127,243,1)",
         "hoverinfo": "skip",
         "lat": [
          54.329888983633396,
          54.32994062363339,
          54.329221401816696,
          54.329888983633396
         ],
         "legendgroup": "group6",
         "line": {
          "color": "rgba(187,127,243,1)"
         },
         "lon": [
          10.13403851013167,
          10.134411950131671,
          10.134321115065836,
          10.13403851013167
         ],
         "mode": "lines",
         "showlegend": false,
         "type": "scattermapbox"
        },
        {
         "lat": [
          54.337864,
          54.35525
         ],
         "legendgroup": "group6",
         "line": {
          "color": "rgba(187,127,243,0.5823529411764706)",
          "width": 3.4941176470588236
         },
         "lon": [
          10.133126,
          10.131611
         ],
         "mode": "lines",
         "name": "Bernhard-Minetti-Platz",
         "showlegend": false,
         "type": "scattermapbox"
        },
        {
         "fill": "toself",
         "fillcolor": "rgba(187,127,243,1)",
         "hoverinfo": "skip",
         "lat": [
          54.35388558517353,
          54.35382498517353,
          54.35455264258677,
          54.35388558517353
         ],
         "legendgroup": "group6",
         "line": {
          "color": "rgba(187,127,243,1)"
         },
         "lon": [
          10.13208025416324,
          10.131384814163239,
          10.13167176708162,
          10.13208025416324
         ],
         "mode": "lines",
         "showlegend": false,
         "type": "scattermapbox"
        },
        {
         "lat": [
          54.337864,
          54.316194
         ],
         "legendgroup": "group6",
         "line": {
          "color": "rgba(187,127,243,0.7058823529411765)",
          "width": 4.235294117647059
         },
         "lon": [
          10.133126,
          10.120583
         ],
         "mode": "lines",
         "name": "Bernhard-Minetti-Platz",
         "showlegend": false,
         "type": "scattermapbox"
        },
        {
         "fill": "toself",
         "fillcolor": "rgba(187,127,243,1)",
         "hoverinfo": "skip",
         "lat": [
          54.31765652442491,
          54.31715480442491,
          54.31679983221246,
          54.31765652442491
         ],
         "legendgroup": "group6",
         "line": {
          "color": "rgba(187,127,243,1)"
         },
         "lon": [
          10.120850933958543,
          10.121717733958544,
          10.120933666979273,
          10.120850933958543
         ],
         "mode": "lines",
         "showlegend": false,
         "type": "scattermapbox"
        },
        {
         "lat": [
          54.337864,
          54.315972
         ],
         "legendgroup": "group6",
         "line": {
          "color": "rgba(187,127,243,1.0)",
          "width": 6
         },
         "lon": [
          10.133126,
          10.132278
         ],
         "mode": "lines",
         "name": "Bernhard-Minetti-Platz",
         "showlegend": false,
         "type": "scattermapbox"
        },
        {
         "fill": "toself",
         "fillcolor": "rgba(187,127,243,1)",
         "hoverinfo": "skip",
         "lat": [
          54.31738791086718,
          54.317353990867176,
          54.316671475433594,
          54.31738791086718
         ],
         "legendgroup": "group6",
         "line": {
          "color": "rgba(187,127,243,1)"
         },
         "lon": [
          10.131894349216854,
          10.132770029216854,
          10.132305094608427,
          10.131894349216854
         ],
         "mode": "lines",
         "showlegend": false,
         "type": "scattermapbox"
        },
        {
         "lat": [
          54.337864,
          54.343444
         ],
         "legendgroup": "group6",
         "line": {
          "color": "rgba(187,127,243,0.6235294117647059)",
          "width": 3.7411764705882353
         },
         "lon": [
          10.133126,
          10.111139
         ],
         "mode": "lines",
         "name": "Bernhard-Minetti-Platz",
         "showlegend": false,
         "type": "scattermapbox"
        },
        {
         "fill": "toself",
         "fillcolor": "rgba(187,127,243,1)",
         "hoverinfo": "skip",
         "lat": [
          54.34353935653201,
          54.34265987653202,
          54.34327180826601,
          54.34353935653201
         ],
         "legendgroup": "group6",
         "line": {
          "color": "rgba(187,127,243,1)"
         },
         "lon": [
          10.11260758195529,
          10.11238438195529,
          10.111817490977645,
          10.11260758195529
         ],
         "mode": "lines",
         "showlegend": false,
         "type": "scattermapbox"
        },
        {
         "lat": [
          54.337864,
          54.328543
         ],
         "legendgroup": "group6",
         "line": {
          "color": "rgba(187,127,243,0.6823529411764706)",
          "width": 4.094117647058823
         },
         "lon": [
          10.133126,
          10.117925
         ],
         "mode": "lines",
         "name": "Bernhard-Minetti-Platz",
         "showlegend": false,
         "type": "scattermapbox"
        },
        {
         "fill": "toself",
         "fillcolor": "rgba(187,127,243,1)",
         "hoverinfo": "skip",
         "lat": [
          54.32957884989142,
          54.328970809891416,
          54.328908914945714,
          54.32957884989142
         ],
         "legendgroup": "group6",
         "line": {
          "color": "rgba(187,127,243,1)"
         },
         "lon": [
          10.118932072777536,
          10.119304912777537,
          10.118521746388767,
          10.118932072777536
         ],
         "mode": "lines",
         "showlegend": false,
         "type": "scattermapbox"
        },
        {
         "lat": [
          54.337864,
          54.321583
         ],
         "legendgroup": "group6",
         "line": {
          "color": "rgba(187,127,243,0.5352941176470588)",
          "width": 3.211764705882353
         },
         "lon": [
          10.133126,
          10.128389
         ],
         "mode": "lines",
         "name": "Bernhard-Minetti-Platz",
         "showlegend": false,
         "type": "scattermapbox"
        },
        {
         "fill": "toself",
         "fillcolor": "rgba(187,127,243,1)",
         "hoverinfo": "skip",
         "lat": [
          54.32302199771126,
          54.322832517711255,
          54.32225512885563,
          54.32302199771126
         ],
         "legendgroup": "group6",
         "line": {
          "color": "rgba(187,127,243,1)"
         },
         "lon": [
          10.12845449533556,
          10.12910573533556,
          10.12858455766778,
          10.12845449533556
         ],
         "mode": "lines",
         "showlegend": false,
         "type": "scattermapbox"
        },
        {
         "lat": [
          54.337864,
          54.322806
         ],
         "legendgroup": "group6",
         "line": {
          "color": "rgba(187,127,243,0.6647058823529411)",
          "width": 3.988235294117647
         },
         "lon": [
          10.133126,
          10.139472
         ],
         "mode": "lines",
         "name": "Bernhard-Minetti-Platz",
         "showlegend": false,
         "type": "scattermapbox"
        },
        {
         "fill": "toself",
         "fillcolor": "rgba(187,127,243,1)",
         "hoverinfo": "skip",
         "lat": [
          54.323969192056296,
          54.324223032056295,
          54.32345105602815,
          54.323969192056296
         ],
         "legendgroup": "group6",
         "line": {
          "color": "rgba(187,127,243,1)"
         },
         "lon": [
          10.138627138903622,
          10.139229458903621,
          10.139200149451812,
          10.138627138903622
         ],
         "mode": "lines",
         "showlegend": false,
         "type": "scattermapbox"
        },
        {
         "lat": [
          54.337864,
          54.341722
         ],
         "legendgroup": "group6",
         "line": {
          "color": "rgba(187,127,243,0.5882352941176471)",
          "width": 3.5294117647058822
         },
         "lon": [
          10.133126,
          10.136861
         ],
         "mode": "lines",
         "name": "Bernhard-Minetti-Platz",
         "showlegend": false,
         "type": "scattermapbox"
        },
        {
         "fill": "toself",
         "fillcolor": "rgba(187,127,243,1)",
         "hoverinfo": "skip",
         "lat": [
          54.34064144615035,
          54.34079084615035,
          54.34121907307517,
          54.34064144615035
         ],
         "legendgroup": "group6",
         "line": {
          "color": "rgba(187,127,243,1)"
         },
         "lon": [
          10.13596437458568,
          10.13581005458568,
          10.13637410729284,
          10.13596437458568
         ],
         "mode": "lines",
         "showlegend": false,
         "type": "scattermapbox"
        },
        {
         "lat": [
          54.337864,
          54.323583
         ],
         "legendgroup": "group6",
         "line": {
          "color": "rgba(187,127,243,0.7529411764705882)",
          "width": 4.517647058823529
         },
         "lon": [
          10.133126,
          10.122278
         ],
         "mode": "lines",
         "name": "Bernhard-Minetti-Platz",
         "showlegend": false,
         "type": "scattermapbox"
        },
        {
         "fill": "toself",
         "fillcolor": "rgba(187,127,243,1)",
         "hoverinfo": "skip",
         "lat": [
          54.324914796132944,
          54.32448087613294,
          54.32414041806647,
          54.324914796132944
         ],
         "legendgroup": "group6",
         "line": {
          "color": "rgba(187,127,243,1)"
         },
         "lon": [
          10.122839221423579,
          10.123410461423578,
          10.12270142071179,
          10.122839221423579
         ],
         "mode": "lines",
         "showlegend": false,
         "type": "scattermapbox"
        },
        {
         "lat": [
          54.328543,
          54.333833
         ],
         "legendgroup": "group7",
         "line": {
          "color": "rgba(187,193,243,0.6035502958579881)",
          "width": 3.6213017751479293
         },
         "lon": [
          10.117925,
          10.15225
         ],
         "mode": "lines",
         "name": "Westring/Eckernförder Str.",
         "showlegend": true,
         "type": "scattermapbox"
        },
        {
         "fill": "toself",
         "fillcolor": "rgba(187,193,243,1)",
         "hoverinfo": "skip",
         "lat": [
          54.332933256454155,
          54.334306256454155,
          54.33372637822708,
          54.332933256454155
         ],
         "legendgroup": "group7",
         "line": {
          "color": "rgba(187,193,243,1)"
         },
         "lon": [
          10.150972135593378,
          10.150760535593378,
          10.151558167796688,
          10.150972135593378
         ],
         "mode": "lines",
         "showlegend": false,
         "type": "scattermapbox"
        },
        {
         "lat": [
          54.328543,
          54.328528
         ],
         "legendgroup": "group7",
         "line": {
          "color": "rgba(187,193,243,0.5266272189349113)",
          "width": 3.1597633136094676
         },
         "lon": [
          10.117925,
          10.134417
         ],
         "mode": "lines",
         "name": "Westring/Eckernförder Str.",
         "showlegend": false,
         "type": "scattermapbox"
        },
        {
         "fill": "toself",
         "fillcolor": "rgba(187,193,243,1)",
         "hoverinfo": "skip",
         "lat": [
          54.328199433344125,
          54.32885911334412,
          54.32852863667206,
          54.328199433344125
         ],
         "legendgroup": "group7",
         "line": {
          "color": "rgba(187,193,243,1)"
         },
         "lon": [
          10.133016700579073,
          10.133017300579073,
          10.133717000289536,
          10.133016700579073
         ],
         "mode": "lines",
         "showlegend": false,
         "type": "scattermapbox"
        },
        {
         "lat": [
          54.328543,
          54.35525
         ],
         "legendgroup": "group7",
         "line": {
          "color": "rgba(187,193,243,0.4378698224852071)",
          "width": 2.6272189349112427
         },
         "lon": [
          10.117925,
          10.131611
         ],
         "mode": "lines",
         "name": "Westring/Eckernförder Str.",
         "showlegend": false,
         "type": "scattermapbox"
        },
        {
         "fill": "toself",
         "fillcolor": "rgba(187,193,243,1)",
         "hoverinfo": "skip",
         "lat": [
          54.3537303481239,
          54.3542777881239,
          54.35462703406195,
          54.3537303481239
         ],
         "legendgroup": "group7",
         "line": {
          "color": "rgba(187,193,243,1)"
         },
         "lon": [
          10.131506662310393,
          10.130438382310395,
          10.131291761155197,
          10.131506662310393
         ],
         "mode": "lines",
         "showlegend": false,
         "type": "scattermapbox"
        },
        {
         "lat": [
          54.328543,
          54.316194
         ],
         "legendgroup": "group7",
         "line": {
          "color": "rgba(187,193,243,0.6094674556213018)",
          "width": 3.6568047337278107
         },
         "lon": [
          10.117925,
          10.120583
         ],
         "mode": "lines",
         "name": "Westring/Eckernförder Str.",
         "showlegend": false,
         "type": "scattermapbox"
        },
        {
         "fill": "toself",
         "fillcolor": "rgba(187,193,243,1)",
         "hoverinfo": "skip",
         "lat": [
          54.31750949519309,
          54.31761581519309,
          54.31687832759655,
          54.31750949519309
         ],
         "legendgroup": "group7",
         "line": {
          "color": "rgba(187,193,243,1)"
         },
         "lon": [
          10.120041430518809,
          10.120535390518809,
          10.120435705259403,
          10.120041430518809
         ],
         "mode": "lines",
         "showlegend": false,
         "type": "scattermapbox"
        },
        {
         "lat": [
          54.328543,
          54.315972
         ],
         "legendgroup": "group7",
         "line": {
          "color": "rgba(187,193,243,1.0)",
          "width": 6
         },
         "lon": [
          10.117925,
          10.132278
         ],
         "mode": "lines",
         "name": "Westring/Eckernförder Str.",
         "showlegend": false,
         "type": "scattermapbox"
        },
        {
         "fill": "toself",
         "fillcolor": "rgba(187,193,243,1)",
         "hoverinfo": "skip",
         "lat": [
          54.3166073502377,
          54.3171814702377,
          54.316433205118855,
          54.3166073502377
         ],
         "legendgroup": "group7",
         "line": {
          "color": "rgba(187,193,243,1)"
         },
         "lon": [
          10.130973413653509,
          10.131476253653508,
          10.131751416826754,
          10.130973413653509
         ],
         "mode": "lines",
         "showlegend": false,
         "type": "scattermapbox"
        },
        {
         "lat": [
          54.328543,
          54.343444
         ],
         "legendgroup": "group7",
         "line": {
          "color": "rgba(187,193,243,0.47928994082840237)",
          "width": 2.8757396449704142
         },
         "lon": [
          10.117925,
          10.111139
         ],
         "mode": "lines",
         "name": "Westring/Eckernförder Str.",
         "showlegend": false,
         "type": "scattermapbox"
        },
        {
         "fill": "toself",
         "fillcolor": "rgba(187,193,243,1)",
         "hoverinfo": "skip",
         "lat": [
          54.34230562013568,
          54.34203418013568,
          54.34280695006784,
          54.34230562013568
         ],
         "legendgroup": "group7",
         "line": {
          "color": "rgba(187,193,243,1)"
         },
         "lon": [
          10.112017252311876,
          10.111421212311875,
          10.111429116155938,
          10.112017252311876
         ],
         "mode": "lines",
         "showlegend": false,
         "type": "scattermapbox"
        },
        {
         "lat": [
          54.328543,
          54.337864
         ],
         "legendgroup": "group7",
         "line": {
          "color": "rgba(187,193,243,0.6686390532544378)",
          "width": 4.011834319526628
         },
         "lon": [
          10.117925,
          10.133126
         ],
         "mode": "lines",
         "name": "Westring/Eckernförder Str.",
         "showlegend": false,
         "type": "scattermapbox"
        },
        {
         "fill": "toself",
         "fillcolor": "rgba(187,193,243,1)",
         "hoverinfo": "skip",
         "lat": [
          54.33682815010859,
          54.33743619010859,
          54.33749808505429,
          54.33682815010859
         ],
         "legendgroup": "group7",
         "line": {
          "color": "rgba(187,193,243,1)"
         },
         "lon": [
          10.132118927222464,
          10.131746087222464,
          10.132529253611233,
          10.132118927222464
         ],
         "mode": "lines",
         "showlegend": false,
         "type": "scattermapbox"
        },
        {
         "lat": [
          54.328543,
          54.321583
         ],
         "legendgroup": "group7",
         "line": {
          "color": "rgba(187,193,243,0.42011834319526625)",
          "width": 2.5207100591715976
         },
         "lon": [
          10.117925,
          10.128389
         ],
         "mode": "lines",
         "name": "Westring/Eckernförder Str.",
         "showlegend": false,
         "type": "scattermapbox"
        },
        {
         "fill": "toself",
         "fillcolor": "rgba(187,193,243,1)",
         "hoverinfo": "skip",
         "lat": [
          54.32214906586679,
          54.32256762586679,
          54.32197067293339,
          54.32214906586679
         ],
         "legendgroup": "group7",
         "line": {
          "color": "rgba(187,193,243,1)"
         },
         "lon": [
          10.12708410759338,
          10.127362507593379,
          10.12780615379669,
          10.12708410759338
         ],
         "mode": "lines",
         "showlegend": false,
         "type": "scattermapbox"
        },
        {
         "lat": [
          54.328543,
          54.322806
         ],
         "legendgroup": "group7",
         "line": {
          "color": "rgba(187,193,243,0.6982248520710059)",
          "width": 4.189349112426036
         },
         "lon": [
          10.117925,
          10.139472
         ],
         "mode": "lines",
         "name": "Westring/Eckernförder Str.",
         "showlegend": false,
         "type": "scattermapbox"
        },
        {
         "fill": "toself",
         "fillcolor": "rgba(187,193,243,1)",
         "hoverinfo": "skip",
         "lat": [
          54.32273526793441,
          54.323597147934414,
          54.32298610396721,
          54.32273526793441
         ],
         "legendgroup": "group7",
         "line": {
          "color": "rgba(187,193,243,1)"
         },
         "lon": [
          10.138004392584476,
          10.138233872584477,
          10.138795566292238,
          10.138004392584476
         ],
         "mode": "lines",
         "showlegend": false,
         "type": "scattermapbox"
        },
        {
         "lat": [
          54.328543,
          54.341722
         ],
         "legendgroup": "group7",
         "line": {
          "color": "rgba(187,193,243,0.6272189349112426)",
          "width": 3.7633136094674557
         },
         "lon": [
          10.117925,
          10.136861
         ],
         "mode": "lines",
         "name": "Westring/Eckernförder Str.",
         "showlegend": false,
         "type": "scattermapbox"
        },
        {
         "fill": "toself",
         "fillcolor": "rgba(187,193,243,1)",
         "hoverinfo": "skip",
         "lat": [
          54.340543539041406,
          54.34130097904141,
          54.3413221295207,
          54.340543539041406
         ],
         "legendgroup": "group7",
         "line": {
          "color": "rgba(187,193,243,1)"
         },
         "lon": [
          10.135975487140762,
          10.135448327140761,
          10.136286453570381,
          10.135975487140762
         ],
         "mode": "lines",
         "showlegend": false,
         "type": "scattermapbox"
        },
        {
         "lat": [
          54.328543,
          54.323583
         ],
         "legendgroup": "group7",
         "line": {
          "color": "rgba(187,193,243,0.591715976331361)",
          "width": 3.5502958579881656
         },
         "lon": [
          10.117925,
          10.122278
         ],
         "mode": "lines",
         "name": "Westring/Eckernförder Str.",
         "showlegend": false,
         "type": "scattermapbox"
        },
        {
         "fill": "toself",
         "fillcolor": "rgba(187,193,243,1)",
         "hoverinfo": "skip",
         "lat": [
          54.32454817947493,
          54.32472229947493,
          54.324109119737464,
          54.32454817947493
         ],
         "legendgroup": "group7",
         "line": {
          "color": "rgba(187,193,243,1)"
         },
         "lon": [
          10.12125533257372,
          10.121453732573718,
          10.121816266286858,
          10.12125533257372
         ],
         "mode": "lines",
         "showlegend": false,
         "type": "scattermapbox"
        },
        {
         "lat": [
          54.321583,
          54.333833
         ],
         "legendgroup": "group8",
         "line": {
          "color": "rgba(255,166,0,0.5899280575539568)",
          "width": 3.539568345323741
         },
         "lon": [
          10.128389,
          10.15225
         ],
         "mode": "lines",
         "name": "Exerzierplatz",
         "showlegend": true,
         "type": "scattermapbox"
        },
        {
         "fill": "toself",
         "fillcolor": "rgba(255,166,0,1)",
         "hoverinfo": "skip",
         "lat": [
          54.33271637512484,
          54.33367081512484,
          54.33351329756242,
          54.33271637512484
         ],
         "legendgroup": "group8",
         "line": {
          "color": "rgba(255,166,0,1)"
         },
         "lon": [
          10.15124954369582,
          10.150759543695822,
          10.15162727184791,
          10.15124954369582
         ],
         "mode": "lines",
         "showlegend": false,
         "type": "scattermapbox"
        },
        {
         "lat": [
          54.321583,
          54.328528
         ],
         "legendgroup": "group8",
         "line": {
          "color": "rgba(255,166,0,0.5683453237410072)",
          "width": 3.4100719424460433
         },
         "lon": [
          10.128389,
          10.134417
         ],
         "mode": "lines",
         "name": "Exerzierplatz",
         "showlegend": false,
         "type": "scattermapbox"
        },
        {
         "fill": "toself",
         "fillcolor": "rgba(255,166,0,1)",
         "hoverinfo": "skip",
         "lat": [
          54.32735015368516,
          54.32759127368516,
          54.32799935684258,
          54.32735015368516
         ],
         "legendgroup": "group8",
         "line": {
          "color": "rgba(255,166,0,1)"
         },
         "lon": [
          10.133638215060351,
          10.133360415060352,
          10.133958157530175,
          10.133638215060351
         ],
         "mode": "lines",
         "showlegend": false,
         "type": "scattermapbox"
        },
        {
         "lat": [
          54.321583,
          54.35525
         ],
         "legendgroup": "group8",
         "line": {
          "color": "rgba(255,166,0,0.4460431654676259)",
          "width": 2.6762589928057556
         },
         "lon": [
          10.128389,
          10.131611
         ],
         "mode": "lines",
         "name": "Exerzierplatz",
         "showlegend": false,
         "type": "scattermapbox"
        },
        {
         "fill": "toself",
         "fillcolor": "rgba(255,166,0,1)",
         "hoverinfo": "skip",
         "lat": [
          54.35379192750782,
          54.353920807507826,
          54.354553183753914,
          54.35379192750782
         ],
         "legendgroup": "group8",
         "line": {
          "color": "rgba(255,166,0,1)"
         },
         "lon": [
          10.132150966551526,
          10.130804286551525,
          10.131544313275763,
          10.132150966551526
         ],
         "mode": "lines",
         "showlegend": false,
         "type": "scattermapbox"
        },
        {
         "lat": [
          54.321583,
          54.316194
         ],
         "legendgroup": "group8",
         "line": {
          "color": "rgba(255,166,0,0.5971223021582733)",
          "width": 3.5827338129496407
         },
         "lon": [
          10.128389,
          10.120583
         ],
         "mode": "lines",
         "name": "Exerzierplatz",
         "showlegend": false,
         "type": "scattermapbox"
        },
        {
         "fill": "toself",
         "fillcolor": "rgba(255,166,0,1)",
         "hoverinfo": "skip",
         "lat": [
          54.31714550133517,
          54.31683326133517,
          54.316591690667586,
          54.31714550133517
         ],
         "legendgroup": "group8",
         "line": {
          "color": "rgba(255,166,0,1)"
         },
         "lon": [
          10.121627334808371,
          10.121842894808372,
          10.121159057404185,
          10.121627334808371
         ],
         "mode": "lines",
         "showlegend": false,
         "type": "scattermapbox"
        },
        {
         "lat": [
          54.321583,
          54.315972
         ],
         "legendgroup": "group8",
         "line": {
          "color": "rgba(255,166,0,1.0)",
          "width": 6
         },
         "lon": [
          10.128389,
          10.132278
         ],
         "mode": "lines",
         "name": "Exerzierplatz",
         "showlegend": false,
         "type": "scattermapbox"
        },
        {
         "fill": "toself",
         "fillcolor": "rgba(255,166,0,1)",
         "hoverinfo": "skip",
         "lat": [
          54.31704486071861,
          54.317200420718606,
          54.316547320359305,
          54.31704486071861
         ],
         "legendgroup": "group8",
         "line": {
          "color": "rgba(255,166,0,1)"
         },
         "lon": [
          10.131368267657342,
          10.131592707657342,
          10.13187924382867,
          10.131368267657342
         ],
         "mode": "lines",
         "showlegend": false,
         "type": "scattermapbox"
        },
        {
         "lat": [
          54.321583,
          54.343444
         ],
         "legendgroup": "group8",
         "line": {
          "color": "rgba(255,166,0,0.5035971223021583)",
          "width": 3.02158273381295
         },
         "lon": [
          10.128389,
          10.111139
         ],
         "mode": "lines",
         "name": "Exerzierplatz",
         "showlegend": false,
         "type": "scattermapbox"
        },
        {
         "fill": "toself",
         "fillcolor": "rgba(255,166,0,1)",
         "hoverinfo": "skip",
         "lat": [
          54.342689951824845,
          54.34199995182484,
          54.34289447591242,
          54.342689951824845
         ],
         "legendgroup": "group8",
         "line": {
          "color": "rgba(255,166,0,1)"
         },
         "lon": [
          10.112443453018681,
          10.11156901301868,
          10.11157261650934,
          10.112443453018681
         ],
         "mode": "lines",
         "showlegend": false,
         "type": "scattermapbox"
        },
        {
         "lat": [
          54.321583,
          54.337864
         ],
         "legendgroup": "group8",
         "line": {
          "color": "rgba(255,166,0,0.7553956834532374)",
          "width": 4.532374100719425
         },
         "lon": [
          10.128389,
          10.133126
         ],
         "mode": "lines",
         "name": "Exerzierplatz",
         "showlegend": false,
         "type": "scattermapbox"
        },
        {
         "fill": "toself",
         "fillcolor": "rgba(255,166,0,1)",
         "hoverinfo": "skip",
         "lat": [
          54.33642500228874,
          54.336614482288745,
          54.33719187114437,
          54.33642500228874
         ],
         "legendgroup": "group8",
         "line": {
          "color": "rgba(255,166,0,1)"
         },
         "lon": [
          10.13306050466444,
          10.13240926466444,
          10.13293044233222,
          10.13306050466444
         ],
         "mode": "lines",
         "showlegend": false,
         "type": "scattermapbox"
        },
        {
         "lat": [
          54.321583,
          54.328543
         ],
         "legendgroup": "group8",
         "line": {
          "color": "rgba(255,166,0,0.5179856115107914)",
          "width": 3.1079136690647484
         },
         "lon": [
          10.128389,
          10.117925
         ],
         "mode": "lines",
         "name": "Exerzierplatz",
         "showlegend": false,
         "type": "scattermapbox"
        },
        {
         "fill": "toself",
         "fillcolor": "rgba(255,166,0,1)",
         "hoverinfo": "skip",
         "lat": [
          54.32797693413321,
          54.32755837413321,
          54.32815532706661,
          54.32797693413321
         ],
         "legendgroup": "group8",
         "line": {
          "color": "rgba(255,166,0,1)"
         },
         "lon": [
          10.11922989240662,
          10.118951492406621,
          10.11850784620331,
          10.11922989240662
         ],
         "mode": "lines",
         "showlegend": false,
         "type": "scattermapbox"
        },
        {
         "lat": [
          54.321583,
          54.322806
         ],
         "legendgroup": "group8",
         "line": {
          "color": "rgba(255,166,0,0.5755395683453237)",
          "width": 3.4532374100719427
         },
         "lon": [
          10.128389,
          10.139472
         ],
         "mode": "lines",
         "name": "Exerzierplatz",
         "showlegend": false,
         "type": "scattermapbox"
        },
        {
         "fill": "toself",
         "fillcolor": "rgba(255,166,0,1)",
         "hoverinfo": "skip",
         "lat": [
          54.32243078324016,
          54.32287410324016,
          54.32272922162008,
          54.32243078324016
         ],
         "legendgroup": "group8",
         "line": {
          "color": "rgba(255,166,0,1)"
         },
         "lon": [
          10.138104906795302,
          10.138055986795301,
          10.13877622339765,
          10.138104906795302
         ],
         "mode": "lines",
         "showlegend": false,
         "type": "scattermapbox"
        },
        {
         "lat": [
          54.321583,
          54.341722
         ],
         "legendgroup": "group8",
         "line": {
          "color": "rgba(255,166,0,0.6402877697841727)",
          "width": 3.841726618705036
         },
         "lon": [
          10.128389,
          10.136861
         ],
         "mode": "lines",
         "name": "Exerzierplatz",
         "showlegend": false,
         "type": "scattermapbox"
        },
        {
         "fill": "toself",
         "fillcolor": "rgba(255,166,0,1)",
         "hoverinfo": "skip",
         "lat": [
          54.34026209685217,
          54.34060097685217,
          54.341076768426085,
          54.34026209685217
         ],
         "legendgroup": "group8",
         "line": {
          "color": "rgba(255,166,0,1)"
         },
         "lon": [
          10.13672091273805,
          10.135915352738051,
          10.136589566369025,
          10.13672091273805
         ],
         "mode": "lines",
         "showlegend": false,
         "type": "scattermapbox"
        },
        {
         "lat": [
          54.321583,
          54.323583
         ],
         "legendgroup": "group8",
         "line": {
          "color": "rgba(255,166,0,0.5971223021582733)",
          "width": 3.5827338129496407
         },
         "lon": [
          10.128389,
          10.122278
         ],
         "mode": "lines",
         "name": "Exerzierplatz",
         "showlegend": false,
         "type": "scattermapbox"
        },
        {
         "fill": "toself",
         "fillcolor": "rgba(255,166,0,1)",
         "hoverinfo": "skip",
         "lat": [
          54.32326975816392,
          54.323025318163914,
          54.32336526908196,
          54.32326975816392
         ],
         "legendgroup": "group8",
         "line": {
          "color": "rgba(255,166,0,1)"
         },
         "lon": [
          10.12364855364015,
          10.12356855364015,
          10.122943276820074,
          10.12364855364015
         ],
         "mode": "lines",
         "showlegend": false,
         "type": "scattermapbox"
        },
        {
         "lat": [
          54.322806,
          54.333833
         ],
         "legendgroup": "group9",
         "line": {
          "color": "rgba(185,103,0,0.510752688172043)",
          "width": 3.064516129032258
         },
         "lon": [
          10.139472,
          10.15225
         ],
         "mode": "lines",
         "name": "Alter Markt",
         "showlegend": true,
         "type": "scattermapbox"
        },
        {
         "fill": "toself",
         "fillcolor": "rgba(185,103,0,1)",
         "hoverinfo": "skip",
         "lat": [
          54.33266277824956,
          54.33317389824956,
          54.333375669124784,
          54.33266277824956
         ],
         "legendgroup": "group9",
         "line": {
          "color": "rgba(185,103,0,1)"
         },
         "lon": [
          10.151410637229795,
          10.150969557229793,
          10.151720048614898,
          10.151410637229795
         ],
         "mode": "lines",
         "showlegend": false,
         "type": "scattermapbox"
        },
        {
         "lat": [
          54.322806,
          54.328528
         ],
         "legendgroup": "group9",
         "line": {
          "color": "rgba(185,103,0,0.532258064516129)",
          "width": 3.193548387096774
         },
         "lon": [
          10.139472,
          10.134417
         ],
         "mode": "lines",
         "name": "Alter Markt",
         "showlegend": false,
         "type": "scattermapbox"
        },
        {
         "fill": "toself",
         "fillcolor": "rgba(185,103,0,1)",
         "hoverinfo": "skip",
         "lat": [
          54.32757988906116,
          54.32737768906116,
          54.328003394530576,
          54.32757988906116
         ],
         "legendgroup": "group9",
         "line": {
          "color": "rgba(185,103,0,1)"
         },
         "lon": [
          10.135458346902453,
          10.135229466902452,
          10.134880453451226,
          10.135458346902453
         ],
         "mode": "lines",
         "showlegend": false,
         "type": "scattermapbox"
        },
        {
         "lat": [
          54.322806,
          54.35525
         ],
         "legendgroup": "group9",
         "line": {
          "color": "rgba(185,103,0,0.46774193548387094)",
          "width": 2.8064516129032255
         },
         "lon": [
          10.139472,
          10.131611
         ],
         "mode": "lines",
         "name": "Alter Markt",
         "showlegend": false,
         "type": "scattermapbox"
        },
        {
         "fill": "toself",
         "fillcolor": "rgba(185,103,0,1)",
         "hoverinfo": "skip",
         "lat": [
          54.35404658941573,
          54.353732149415734,
          54.35456968470786,
          54.35404658941573
         ],
         "legendgroup": "group9",
         "line": {
          "color": "rgba(185,103,0,1)"
         },
         "lon": [
          10.132589553191435,
          10.131291793191435,
          10.131775836595716,
          10.132589553191435
         ],
         "mode": "lines",
         "showlegend": false,
         "type": "scattermapbox"
        },
        {
         "lat": [
          54.322806,
          54.316194
         ],
         "legendgroup": "group9",
         "line": {
          "color": "rgba(185,103,0,0.6774193548387096)",
          "width": 4.064516129032258
         },
         "lon": [
          10.139472,
          10.120583
         ],
         "mode": "lines",
         "name": "Alter Markt",
         "showlegend": false,
         "type": "scattermapbox"
        },
        {
         "fill": "toself",
         "fillcolor": "rgba(185,103,0,1)",
         "hoverinfo": "skip",
         "lat": [
          54.317034323566986,
          54.316278763566984,
          54.316425271783494,
          54.317034323566986
         ],
         "legendgroup": "group9",
         "line": {
          "color": "rgba(185,103,0,1)"
         },
         "lon": [
          10.121772143157395,
          10.122036623157394,
          10.121243691578696,
          10.121772143157395
         ],
         "mode": "lines",
         "showlegend": false,
         "type": "scattermapbox"
        },
        {
         "lat": [
          54.322806,
          54.315972
         ],
         "legendgroup": "group9",
         "line": {
          "color": "rgba(185,103,0,1.0)",
          "width": 6
         },
         "lon": [
          10.139472,
          10.132278
         ],
         "mode": "lines",
         "name": "Alter Markt",
         "showlegend": false,
         "type": "scattermapbox"
        },
        {
         "fill": "toself",
         "fillcolor": "rgba(185,103,0,1)",
         "hoverinfo": "skip",
         "lat": [
          54.31708010699795,
          54.31679234699794,
          54.31645411349897,
          54.31708010699795
         ],
         "legendgroup": "group9",
         "line": {
          "color": "rgba(185,103,0,1)"
         },
         "lon": [
          10.13315634034287,
          10.133429700342871,
          10.132785510171436,
          10.13315634034287
         ],
         "mode": "lines",
         "showlegend": false,
         "type": "scattermapbox"
        },
        {
         "lat": [
          54.322806,
          54.343444
         ],
         "legendgroup": "group9",
         "line": {
          "color": "rgba(185,103,0,0.42473118279569894)",
          "width": 2.5483870967741935
         },
         "lon": [
          10.139472,
          10.111139
         ],
         "mode": "lines",
         "name": "Alter Markt",
         "showlegend": false,
         "type": "scattermapbox"
        },
        {
         "fill": "toself",
         "fillcolor": "rgba(185,103,0,1)",
         "hoverinfo": "skip",
         "lat": [
          54.34318637916812,
          54.34205305916812,
          54.34303185958406,
          54.34318637916812
         ],
         "legendgroup": "group9",
         "line": {
          "color": "rgba(185,103,0,1)"
         },
         "lon": [
          10.11268337880074,
          10.111857858800741,
          10.11170480940037,
          10.11268337880074
         ],
         "mode": "lines",
         "showlegend": false,
         "type": "scattermapbox"
        },
        {
         "lat": [
          54.322806,
          54.337864
         ],
         "legendgroup": "group9",
         "line": {
          "color": "rgba(185,103,0,0.6397849462365591)",
          "width": 3.8387096774193545
         },
         "lon": [
          10.139472,
          10.133126
         ],
         "mode": "lines",
         "name": "Alter Markt",
         "showlegend": false,
         "type": "scattermapbox"
        },
        {
         "fill": "toself",
         "fillcolor": "rgba(185,103,0,1)",
         "hoverinfo": "skip",
         "lat": [
          54.33670080794371,
          54.33644696794371,
          54.337218943971855,
          54.33670080794371
         ],
         "legendgroup": "group9",
         "line": {
          "color": "rgba(185,103,0,1)"
         },
         "lon": [
          10.133970861096378,
          10.13336854109638,
          10.133397850548189,
          10.133970861096378
         ],
         "mode": "lines",
         "showlegend": false,
         "type": "scattermapbox"
        },
        {
         "lat": [
          54.322806,
          54.328543
         ],
         "legendgroup": "group9",
         "line": {
          "color": "rgba(185,103,0,0.5698924731182796)",
          "width": 3.4193548387096775
         },
         "lon": [
          10.139472,
          10.117925
         ],
         "mode": "lines",
         "name": "Alter Markt",
         "showlegend": false,
         "type": "scattermapbox"
        },
        {
         "fill": "toself",
         "fillcolor": "rgba(185,103,0,1)",
         "hoverinfo": "skip",
         "lat": [
          54.32861373206559,
          54.32775185206559,
          54.32836289603279,
          54.32861373206559
         ],
         "legendgroup": "group9",
         "line": {
          "color": "rgba(185,103,0,1)"
         },
         "lon": [
          10.119392607415524,
          10.119163127415522,
          10.118601433707761,
          10.119392607415524
         ],
         "mode": "lines",
         "showlegend": false,
         "type": "scattermapbox"
        },
        {
         "lat": [
          54.322806,
          54.321583
         ],
         "legendgroup": "group9",
         "line": {
          "color": "rgba(185,103,0,0.44086021505376344)",
          "width": 2.6451612903225805
         },
         "lon": [
          10.139472,
          10.128389
         ],
         "mode": "lines",
         "name": "Alter Markt",
         "showlegend": false,
         "type": "scattermapbox"
        },
        {
         "fill": "toself",
         "fillcolor": "rgba(185,103,0,1)",
         "hoverinfo": "skip",
         "lat": [
          54.32195821675984,
          54.32151489675984,
          54.32165977837992,
          54.32195821675984
         ],
         "legendgroup": "group9",
         "line": {
          "color": "rgba(185,103,0,1)"
         },
         "lon": [
          10.129756093204698,
          10.129805013204699,
          10.12908477660235,
          10.129756093204698
         ],
         "mode": "lines",
         "showlegend": false,
         "type": "scattermapbox"
        },
        {
         "lat": [
          54.322806,
          54.341722
         ],
         "legendgroup": "group9",
         "line": {
          "color": "rgba(185,103,0,0.553763440860215)",
          "width": 3.32258064516129
         },
         "lon": [
          10.139472,
          10.136861
         ],
         "mode": "lines",
         "name": "Alter Markt",
         "showlegend": false,
         "type": "scattermapbox"
        },
        {
         "fill": "toself",
         "fillcolor": "rgba(185,103,0,1)",
         "hoverinfo": "skip",
         "lat": [
          54.34038736924675,
          54.34028292924675,
          54.34102857462337,
          54.34038736924675
         ],
         "legendgroup": "group9",
         "line": {
          "color": "rgba(185,103,0,1)"
         },
         "lon": [
          10.137430748807185,
          10.136674108807187,
          10.136956714403592,
          10.137430748807185
         ],
         "mode": "lines",
         "showlegend": false,
         "type": "scattermapbox"
        },
        {
         "lat": [
          54.322806,
          54.323583
         ],
         "legendgroup": "group9",
         "line": {
          "color": "rgba(185,103,0,0.6666666666666666)",
          "width": 4
         },
         "lon": [
          10.139472,
          10.122278
         ],
         "mode": "lines",
         "name": "Alter Markt",
         "showlegend": false,
         "type": "scattermapbox"
        },
        {
         "fill": "toself",
         "fillcolor": "rgba(185,103,0,1)",
         "hoverinfo": "skip",
         "lat": [
          54.32386367824523,
          54.32317591824523,
          54.323551399122614,
          54.32386367824523
         ],
         "legendgroup": "group9",
         "line": {
          "color": "rgba(185,103,0,1)"
         },
         "lon": [
          10.12369211267891,
          10.12366103267891,
          10.122977286339454,
          10.12369211267891
         ],
         "mode": "lines",
         "showlegend": false,
         "type": "scattermapbox"
        },
        {
         "lat": [
          54.341722,
          54.333833
         ],
         "legendgroup": "group10",
         "line": {
          "color": "rgba(56,26,136,0.6298342541436464)",
          "width": 3.779005524861878
         },
         "lon": [
          10.136861,
          10.15225
         ],
         "mode": "lines",
         "name": "Blücherplatz",
         "showlegend": true,
         "type": "scattermapbox"
        },
        {
         "fill": "toself",
         "fillcolor": "rgba(56,26,136,1)",
         "hoverinfo": "skip",
         "lat": [
          54.33416388415105,
          54.33477944415105,
          54.334152332075526,
          54.33416388415105
         ],
         "legendgroup": "group10",
         "line": {
          "color": "rgba(56,26,136,1)"
         },
         "lon": [
          10.150846383693676,
          10.151161943693676,
          10.151627081846838,
          10.150846383693676
         ],
         "mode": "lines",
         "showlegend": false,
         "type": "scattermapbox"
        },
        {
         "lat": [
          54.341722,
          54.328528
         ],
         "legendgroup": "group10",
         "line": {
          "color": "rgba(56,26,136,0.5966850828729282)",
          "width": 3.580110497237569
         },
         "lon": [
          10.136861,
          10.134417
         ],
         "mode": "lines",
         "name": "Blücherplatz",
         "showlegend": false,
         "type": "scattermapbox"
        },
        {
         "fill": "toself",
         "fillcolor": "rgba(56,26,136,1)",
         "hoverinfo": "skip",
         "lat": [
          54.32995346235168,
          54.32985570235168,
          54.32921629117584,
          54.32995346235168
         ],
         "legendgroup": "group10",
         "line": {
          "color": "rgba(56,26,136,1)"
         },
         "lon": [
          10.134408112213695,
          10.134935872213696,
          10.134544496106846,
          10.134408112213695
         ],
         "mode": "lines",
         "showlegend": false,
         "type": "scattermapbox"
        },
        {
         "lat": [
          54.341722,
          54.35525
         ],
         "legendgroup": "group10",
         "line": {
          "color": "rgba(56,26,136,0.4088397790055249)",
          "width": 2.453038674033149
         },
         "lon": [
          10.136861,
          10.131611
         ],
         "mode": "lines",
         "name": "Blücherplatz",
         "showlegend": false,
         "type": "scattermapbox"
        },
        {
         "fill": "toself",
         "fillcolor": "rgba(56,26,136,1)",
         "hoverinfo": "skip",
         "lat": [
          54.35404983890361,
          54.35383983890362,
          54.35459741945181,
          54.35404983890361
         ],
         "legendgroup": "group10",
         "line": {
          "color": "rgba(56,26,136,1)"
         },
         "lon": [
          10.13238807210497,
          10.131846952104969,
          10.131864256052484,
          10.13238807210497
         ],
         "mode": "lines",
         "showlegend": false,
         "type": "scattermapbox"
        },
        {
         "lat": [
          54.341722,
          54.316194
         ],
         "legendgroup": "group10",
         "line": {
          "color": "rgba(56,26,136,0.6298342541436464)",
          "width": 3.779005524861878
         },
         "lon": [
          10.136861,
          10.120583
         ],
         "mode": "lines",
         "name": "Blücherplatz",
         "showlegend": false,
         "type": "scattermapbox"
        },
        {
         "fill": "toself",
         "fillcolor": "rgba(56,26,136,1)",
         "hoverinfo": "skip",
         "lat": [
          54.31769999632559,
          54.317048876325586,
          54.316784218162795,
          54.31769999632559
         ],
         "legendgroup": "group10",
         "line": {
          "color": "rgba(56,26,136,1)"
         },
         "lon": [
          10.12082514849686,
          10.12184626849686,
          10.12095935424843,
          10.12082514849686
         ],
         "mode": "lines",
         "showlegend": false,
         "type": "scattermapbox"
        },
        {
         "lat": [
          54.341722,
          54.315972
         ],
         "legendgroup": "group10",
         "line": {
          "color": "rgba(56,26,136,1.0)",
          "width": 6
         },
         "lon": [
          10.136861,
          10.132278
         ],
         "mode": "lines",
         "name": "Blücherplatz",
         "showlegend": false,
         "type": "scattermapbox"
        },
        {
         "fill": "toself",
         "fillcolor": "rgba(56,26,136,1)",
         "hoverinfo": "skip",
         "lat": [
          54.31744199931187,
          54.31725867931186,
          54.31666116965593,
          54.31744199931187
         ],
         "legendgroup": "group10",
         "line": {
          "color": "rgba(56,26,136,1)"
         },
         "lon": [
          10.132008317633641,
          10.133038317633641,
          10.13240065881682,
          10.132008317633641
         ],
         "mode": "lines",
         "showlegend": false,
         "type": "scattermapbox"
        },
        {
         "lat": [
          54.341722,
          54.343444
         ],
         "legendgroup": "group10",
         "line": {
          "color": "rgba(56,26,136,0.5524861878453039)",
          "width": 3.314917127071823
         },
         "lon": [
          10.136861,
          10.111139
         ],
         "mode": "lines",
         "name": "Blücherplatz",
         "showlegend": false,
         "type": "scattermapbox"
        },
        {
         "fill": "toself",
         "fillcolor": "rgba(56,26,136,1)",
         "hoverinfo": "skip",
         "lat": [
          54.343864924111806,
          54.3428360441118,
          54.3433972420559,
          54.343864924111806
         ],
         "legendgroup": "group10",
         "line": {
          "color": "rgba(56,26,136,1)"
         },
         "lon": [
          10.112570313214954,
          10.112501433214954,
          10.111837436607477,
          10.112570313214954
         ],
         "mode": "lines",
         "showlegend": false,
         "type": "scattermapbox"
        },
        {
         "lat": [
          54.341722,
          54.337864
         ],
         "legendgroup": "group10",
         "line": {
          "color": "rgba(56,26,136,0.585635359116022)",
          "width": 3.5138121546961325
         },
         "lon": [
          10.136861,
          10.133126
         ],
         "mode": "lines",
         "name": "Blücherplatz",
         "showlegend": false,
         "type": "scattermapbox"
        },
        {
         "fill": "toself",
         "fillcolor": "rgba(56,26,136,1)",
         "hoverinfo": "skip",
         "lat": [
          54.33894455384965,
          54.33879515384965,
          54.33836692692483,
          54.33894455384965
         ],
         "legendgroup": "group10",
         "line": {
          "color": "rgba(56,26,136,1)"
         },
         "lon": [
          10.134022625414321,
          10.134176945414321,
          10.133612892707161,
          10.134022625414321
         ],
         "mode": "lines",
         "showlegend": false,
         "type": "scattermapbox"
        },
        {
         "lat": [
          54.341722,
          54.328543
         ],
         "legendgroup": "group10",
         "line": {
          "color": "rgba(56,26,136,0.6353591160220995)",
          "width": 3.8121546961325965
         },
         "lon": [
          10.136861,
          10.117925
         ],
         "mode": "lines",
         "name": "Blücherplatz",
         "showlegend": false,
         "type": "scattermapbox"
        },
        {
         "fill": "toself",
         "fillcolor": "rgba(56,26,136,1)",
         "hoverinfo": "skip",
         "lat": [
          54.329721460958595,
          54.328964020958594,
          54.3289428704793,
          54.329721460958595
         ],
         "legendgroup": "group10",
         "line": {
          "color": "rgba(56,26,136,1)"
         },
         "lon": [
          10.118810512859238,
          10.119337672859238,
          10.118499546429618,
          10.118810512859238
         ],
         "mode": "lines",
         "showlegend": false,
         "type": "scattermapbox"
        },
        {
         "lat": [
          54.341722,
          54.321583
         ],
         "legendgroup": "group10",
         "line": {
          "color": "rgba(56,26,136,0.3812154696132597)",
          "width": 2.2872928176795577
         },
         "lon": [
          10.136861,
          10.128389
         ],
         "mode": "lines",
         "name": "Blücherplatz",
         "showlegend": false,
         "type": "scattermapbox"
        },
        {
         "fill": "toself",
         "fillcolor": "rgba(56,26,136,1)",
         "hoverinfo": "skip",
         "lat": [
          54.32304290314782,
          54.32270402314782,
          54.32222823157391,
          54.32304290314782
         ],
         "legendgroup": "group10",
         "line": {
          "color": "rgba(56,26,136,1)"
         },
         "lon": [
          10.12852908726195,
          10.129334647261949,
          10.128660433630975,
          10.12852908726195
         ],
         "mode": "lines",
         "showlegend": false,
         "type": "scattermapbox"
        },
        {
         "lat": [
          54.341722,
          54.322806
         ],
         "legendgroup": "group10",
         "line": {
          "color": "rgba(56,26,136,0.5580110497237569)",
          "width": 3.348066298342541
         },
         "lon": [
          10.136861,
          10.139472
         ],
         "mode": "lines",
         "name": "Blücherplatz",
         "showlegend": false,
         "type": "scattermapbox"
        },
        {
         "fill": "toself",
         "fillcolor": "rgba(56,26,136,1)",
         "hoverinfo": "skip",
         "lat": [
          54.32414063075325,
          54.32424507075325,
          54.323499425376625,
          54.32414063075325
         ],
         "legendgroup": "group10",
         "line": {
          "color": "rgba(56,26,136,1)"
         },
         "lon": [
          10.138902251192814,
          10.139658891192813,
          10.139376285596407,
          10.138902251192814
         ],
         "mode": "lines",
         "showlegend": false,
         "type": "scattermapbox"
        },
        {
         "lat": [
          54.341722,
          54.323583
         ],
         "legendgroup": "group10",
         "line": {
          "color": "rgba(56,26,136,0.569060773480663)",
          "width": 3.414364640883978
         },
         "lon": [
          10.136861,
          10.122278
         ],
         "mode": "lines",
         "name": "Blücherplatz",
         "showlegend": false,
         "type": "scattermapbox"
        },
        {
         "fill": "toself",
         "fillcolor": "rgba(56,26,136,1)",
         "hoverinfo": "skip",
         "lat": [
          54.32496576635628,
          54.324382446356275,
          54.32412855317814,
          54.32496576635628
         ],
         "legendgroup": "group10",
         "line": {
          "color": "rgba(56,26,136,1)"
         },
         "lon": [
          10.122792424035152,
          10.123517984035152,
          10.122716602017576,
          10.122792424035152
         ],
         "mode": "lines",
         "showlegend": false,
         "type": "scattermapbox"
        },
        {
         "lat": [
          54.323583,
          54.333833
         ],
         "legendgroup": "group11",
         "line": {
          "color": "rgba(56,104,136,0.6521739130434783)",
          "width": 3.9130434782608696
         },
         "lon": [
          10.122278,
          10.15225
         ],
         "mode": "lines",
         "name": "Wilhelmplatz",
         "showlegend": true,
         "type": "scattermapbox"
        },
        {
         "fill": "toself",
         "fillcolor": "rgba(56,104,136,1)",
         "hoverinfo": "skip",
         "lat": [
          54.33278053885825,
          54.333979418858256,
          54.33360648942913,
          54.33278053885825
         ],
         "legendgroup": "group11",
         "line": {
          "color": "rgba(56,104,136,1)"
         },
         "lon": [
          10.151130321984356,
          10.150720321984357,
          10.151587660992178,
          10.151130321984356
         ],
         "mode": "lines",
         "showlegend": false,
         "type": "scattermapbox"
        },
        {
         "lat": [
          54.323583,
          54.328528
         ],
         "legendgroup": "group11",
         "line": {
          "color": "rgba(56,104,136,0.625)",
          "width": 3.75
         },
         "lon": [
          10.122278,
          10.134417
         ],
         "mode": "lines",
         "name": "Wilhelmplatz",
         "showlegend": false,
         "type": "scattermapbox"
        },
        {
         "fill": "toself",
         "fillcolor": "rgba(56,104,136,1)",
         "hoverinfo": "skip",
         "lat": [
          54.327757051856494,
          54.328242611856496,
          54.32826391592825,
          54.327757051856494
         ],
         "legendgroup": "group11",
         "line": {
          "color": "rgba(56,104,136,1)"
         },
         "lon": [
          10.133219351346,
          10.133021551346001,
          10.133768725673,
          10.133219351346
         ],
         "mode": "lines",
         "showlegend": false,
         "type": "scattermapbox"
        },
        {
         "lat": [
          54.323583,
          54.35525
         ],
         "legendgroup": "group11",
         "line": {
          "color": "rgba(56,104,136,0.4891304347826087)",
          "width": 2.934782608695652
         },
         "lon": [
          10.122278,
          10.131611
         ],
         "mode": "lines",
         "name": "Wilhelmplatz",
         "showlegend": false,
         "type": "scattermapbox"
        },
        {
         "fill": "toself",
         "fillcolor": "rgba(56,104,136,1)",
         "hoverinfo": "skip",
         "lat": [
          54.353720448642775,
          54.35409376864277,
          54.354578554321385,
          54.353720448642775
         ],
         "legendgroup": "group11",
         "line": {
          "color": "rgba(56,104,136,1)"
         },
         "lon": [
          10.131848558743897,
          10.130581878743897,
          10.131413109371948,
          10.131848558743897
         ],
         "mode": "lines",
         "showlegend": false,
         "type": "scattermapbox"
        },
        {
         "lat": [
          54.323583,
          54.316194
         ],
         "legendgroup": "group11",
         "line": {
          "color": "rgba(56,104,136,0.6195652173913043)",
          "width": 3.717391304347826
         },
         "lon": [
          10.122278,
          10.120583
         ],
         "mode": "lines",
         "name": "Wilhelmplatz",
         "showlegend": false,
         "type": "scattermapbox"
        },
        {
         "fill": "toself",
         "fillcolor": "rgba(56,104,136,1)",
         "hoverinfo": "skip",
         "lat": [
          54.31759245736035,
          54.31752465736035,
          54.316876278680176,
          54.31759245736035
         ],
         "legendgroup": "group11",
         "line": {
          "color": "rgba(56,104,136,1)"
         },
         "lon": [
          10.120748242699388,
          10.12104380269939,
          10.120739511349694,
          10.120748242699388
         ],
         "mode": "lines",
         "showlegend": false,
         "type": "scattermapbox"
        },
        {
         "lat": [
          54.323583,
          54.315972
         ],
         "legendgroup": "group11",
         "line": {
          "color": "rgba(56,104,136,1.0)",
          "width": 6
         },
         "lon": [
          10.122278,
          10.132278
         ],
         "mode": "lines",
         "name": "Wilhelmplatz",
         "showlegend": false,
         "type": "scattermapbox"
        },
        {
         "fill": "toself",
         "fillcolor": "rgba(56,104,136,1)",
         "hoverinfo": "skip",
         "lat": [
          54.31661989314375,
          54.31701989314375,
          54.31639594657188,
          54.31661989314375
         ],
         "legendgroup": "group11",
         "line": {
          "color": "rgba(56,104,136,1)"
         },
         "lon": [
          10.131011743547822,
          10.131316183547822,
          10.131720981773912,
          10.131011743547822
         ],
         "mode": "lines",
         "showlegend": false,
         "type": "scattermapbox"
        },
        {
         "lat": [
          54.323583,
          54.343444
         ],
         "legendgroup": "group11",
         "line": {
          "color": "rgba(56,104,136,0.6032608695652174)",
          "width": 3.619565217391304
         },
         "lon": [
          10.122278,
          10.111139
         ],
         "mode": "lines",
         "name": "Wilhelmplatz",
         "showlegend": false,
         "type": "scattermapbox"
        },
        {
         "fill": "toself",
         "fillcolor": "rgba(56,104,136,1)",
         "hoverinfo": "skip",
         "lat": [
          54.34244571320446,
          54.34200015320446,
          54.34283346660223,
          54.34244571320446
         ],
         "legendgroup": "group11",
         "line": {
          "color": "rgba(56,104,136,1)"
         },
         "lon": [
          10.112221052739313,
          10.111426612739313,
          10.111481416369656,
          10.112221052739313
         ],
         "mode": "lines",
         "showlegend": false,
         "type": "scattermapbox"
        },
        {
         "lat": [
          54.323583,
          54.337864
         ],
         "legendgroup": "group11",
         "line": {
          "color": "rgba(56,104,136,0.6847826086956522)",
          "width": 4.108695652173913
         },
         "lon": [
          10.122278,
          10.133126
         ],
         "mode": "lines",
         "name": "Wilhelmplatz",
         "showlegend": false,
         "type": "scattermapbox"
        },
        {
         "fill": "toself",
         "fillcolor": "rgba(56,104,136,1)",
         "hoverinfo": "skip",
         "lat": [
          54.33653220386706,
          54.336966123867064,
          54.33730658193353,
          54.33653220386706
         ],
         "legendgroup": "group11",
         "line": {
          "color": "rgba(56,104,136,1)"
         },
         "lon": [
          10.132564778576421,
          10.131993538576422,
          10.13270257928821,
          10.132564778576421
         ],
         "mode": "lines",
         "showlegend": false,
         "type": "scattermapbox"
        },
        {
         "lat": [
          54.323583,
          54.328543
         ],
         "legendgroup": "group11",
         "line": {
          "color": "rgba(56,104,136,0.5217391304347826)",
          "width": 3.1304347826086953
         },
         "lon": [
          10.122278,
          10.117925
         ],
         "mode": "lines",
         "name": "Wilhelmplatz",
         "showlegend": false,
         "type": "scattermapbox"
        },
        {
         "fill": "toself",
         "fillcolor": "rgba(56,104,136,1)",
         "hoverinfo": "skip",
         "lat": [
          54.32757782052507,
          54.327403700525075,
          54.32801688026254,
          54.32757782052507
         ],
         "legendgroup": "group11",
         "line": {
          "color": "rgba(56,104,136,1)"
         },
         "lon": [
          10.11894766742628,
          10.118749267426281,
          10.118386733713141,
          10.11894766742628
         ],
         "mode": "lines",
         "showlegend": false,
         "type": "scattermapbox"
        },
        {
         "lat": [
          54.323583,
          54.321583
         ],
         "legendgroup": "group11",
         "line": {
          "color": "rgba(56,104,136,0.4673913043478261)",
          "width": 2.8043478260869565
         },
         "lon": [
          10.122278,
          10.128389
         ],
         "mode": "lines",
         "name": "Wilhelmplatz",
         "showlegend": false,
         "type": "scattermapbox"
        },
        {
         "fill": "toself",
         "fillcolor": "rgba(56,104,136,1)",
         "hoverinfo": "skip",
         "lat": [
          54.32189624183608,
          54.32214068183608,
          54.321800730918035,
          54.32189624183608
         ],
         "legendgroup": "group11",
         "line": {
          "color": "rgba(56,104,136,1)"
         },
         "lon": [
          10.12701844635985,
          10.12709844635985,
          10.127723723179926,
          10.12701844635985
         ],
         "mode": "lines",
         "showlegend": false,
         "type": "scattermapbox"
        },
        {
         "lat": [
          54.323583,
          54.322806
         ],
         "legendgroup": "group11",
         "line": {
          "color": "rgba(56,104,136,0.6521739130434783)",
          "width": 3.9130434782608696
         },
         "lon": [
          10.122278,
          10.139472
         ],
         "mode": "lines",
         "name": "Wilhelmplatz",
         "showlegend": false,
         "type": "scattermapbox"
        },
        {
         "fill": "toself",
         "fillcolor": "rgba(56,104,136,1)",
         "hoverinfo": "skip",
         "lat": [
          54.32252532175477,
          54.32321308175477,
          54.322837600877385,
          54.32252532175477
         ],
         "legendgroup": "group11",
         "line": {
          "color": "rgba(56,104,136,1)"
         },
         "lon": [
          10.13805788732109,
          10.138088967321089,
          10.138772713660545,
          10.13805788732109
         ],
         "mode": "lines",
         "showlegend": false,
         "type": "scattermapbox"
        },
        {
         "lat": [
          54.323583,
          54.341722
         ],
         "legendgroup": "group11",
         "line": {
          "color": "rgba(56,104,136,0.6032608695652174)",
          "width": 3.619565217391304
         },
         "lon": [
          10.122278,
          10.136861
         ],
         "mode": "lines",
         "name": "Wilhelmplatz",
         "showlegend": false,
         "type": "scattermapbox"
        },
        {
         "fill": "toself",
         "fillcolor": "rgba(56,104,136,1)",
         "hoverinfo": "skip",
         "lat": [
          54.34033923364372,
          54.34092255364372,
          54.341176446821855,
          54.34033923364372
         ],
         "legendgroup": "group11",
         "line": {
          "color": "rgba(56,104,136,1)"
         },
         "lon": [
          10.136346575964847,
          10.135621015964848,
          10.136422397982424,
          10.136346575964847
         ],
         "mode": "lines",
         "showlegend": false,
         "type": "scattermapbox"
        },
        {
         "hoverinfo": "name",
         "lat": [
          54.333833
         ],
         "lon": [
          10.15225
         ],
         "marker": {
          "color": "red",
          "size": 12
         },
         "mode": "markers",
         "name": "Anleger Reventlou",
         "showlegend": false,
         "type": "scattermapbox"
        },
        {
         "hoverinfo": "name",
         "lat": [
          54.328528
         ],
         "lon": [
          10.134417
         ],
         "marker": {
          "color": "red",
          "size": 12
         },
         "mode": "markers",
         "name": "Dreiecksplatz",
         "showlegend": false,
         "type": "scattermapbox"
        },
        {
         "hoverinfo": "name",
         "lat": [
          54.35525
         ],
         "lon": [
          10.131611
         ],
         "marker": {
          "color": "red",
          "size": 12
         },
         "mode": "markers",
         "name": "MELUND-Olympiahochhaus",
         "showlegend": false,
         "type": "scattermapbox"
        },
        {
         "hoverinfo": "name",
         "lat": [
          54.316194
         ],
         "lon": [
          10.120583
         ],
         "marker": {
          "color": "red",
          "size": 12
         },
         "mode": "markers",
         "name": "Kirchhofallee",
         "showlegend": false,
         "type": "scattermapbox"
        },
        {
         "hoverinfo": "name",
         "lat": [
          54.315972
         ],
         "lon": [
          10.132278
         ],
         "marker": {
          "color": "red",
          "size": 12
         },
         "mode": "markers",
         "name": "Hauptbahnhof",
         "showlegend": false,
         "type": "scattermapbox"
        },
        {
         "hoverinfo": "name",
         "lat": [
          54.343444
         ],
         "lon": [
          10.111139
         ],
         "marker": {
          "color": "red",
          "size": 12
         },
         "mode": "markers",
         "name": "CAU Sportstätten",
         "showlegend": false,
         "type": "scattermapbox"
        },
        {
         "hoverinfo": "name",
         "lat": [
          54.337864
         ],
         "lon": [
          10.133126
         ],
         "marker": {
          "color": "red",
          "size": 12
         },
         "mode": "markers",
         "name": "Bernhard-Minetti-Platz",
         "showlegend": false,
         "type": "scattermapbox"
        },
        {
         "hoverinfo": "name",
         "lat": [
          54.328543
         ],
         "lon": [
          10.117925
         ],
         "marker": {
          "color": "red",
          "size": 12
         },
         "mode": "markers",
         "name": "Westring/Eckernförder Str.",
         "showlegend": false,
         "type": "scattermapbox"
        },
        {
         "hoverinfo": "name",
         "lat": [
          54.321583
         ],
         "lon": [
          10.128389
         ],
         "marker": {
          "color": "red",
          "size": 12
         },
         "mode": "markers",
         "name": "Exerzierplatz",
         "showlegend": false,
         "type": "scattermapbox"
        },
        {
         "hoverinfo": "name",
         "lat": [
          54.322806
         ],
         "lon": [
          10.139472
         ],
         "marker": {
          "color": "red",
          "size": 12
         },
         "mode": "markers",
         "name": "Alter Markt",
         "showlegend": false,
         "type": "scattermapbox"
        },
        {
         "hoverinfo": "name",
         "lat": [
          54.341722
         ],
         "lon": [
          10.136861
         ],
         "marker": {
          "color": "red",
          "size": 12
         },
         "mode": "markers",
         "name": "Blücherplatz",
         "showlegend": false,
         "type": "scattermapbox"
        },
        {
         "hoverinfo": "name",
         "lat": [
          54.323583
         ],
         "lon": [
          10.122278
         ],
         "marker": {
          "color": "red",
          "size": 12
         },
         "mode": "markers",
         "name": "Wilhelmplatz",
         "showlegend": false,
         "type": "scattermapbox"
        }
       ],
       "layout": {
        "autosize": true,
        "height": 450,
        "hovermode": "closest",
        "legend": {
         "bordercolor": "rgb(100,100,100)",
         "borderwidth": 2,
         "x": 0,
         "y": 1
        },
        "mapbox": {
         "accesstoken": "pk.eyJ1Ijoic3BpZWxlOTciLCJhIjoiY2xmNnl0M3gyMXJncTNwczl0MjFiamJmOSJ9.32cNAmknweeEma5kUwG-DA",
         "center": {
          "lat": 54.334221,
          "lon": 10.134417
         },
         "style": "light",
         "zoom": 12
        },
        "margin": {
         "b": 0,
         "l": 0,
         "r": 0,
         "t": 0
        },
        "showlegend": true,
        "template": {
         "data": {
          "bar": [
           {
            "error_x": {
             "color": "#2a3f5f"
            },
            "error_y": {
             "color": "#2a3f5f"
            },
            "marker": {
             "line": {
              "color": "#E5ECF6",
              "width": 0.5
             },
             "pattern": {
              "fillmode": "overlay",
              "size": 10,
              "solidity": 0.2
             }
            },
            "type": "bar"
           }
          ],
          "barpolar": [
           {
            "marker": {
             "line": {
              "color": "#E5ECF6",
              "width": 0.5
             },
             "pattern": {
              "fillmode": "overlay",
              "size": 10,
              "solidity": 0.2
             }
            },
            "type": "barpolar"
           }
          ],
          "carpet": [
           {
            "aaxis": {
             "endlinecolor": "#2a3f5f",
             "gridcolor": "white",
             "linecolor": "white",
             "minorgridcolor": "white",
             "startlinecolor": "#2a3f5f"
            },
            "baxis": {
             "endlinecolor": "#2a3f5f",
             "gridcolor": "white",
             "linecolor": "white",
             "minorgridcolor": "white",
             "startlinecolor": "#2a3f5f"
            },
            "type": "carpet"
           }
          ],
          "choropleth": [
           {
            "colorbar": {
             "outlinewidth": 0,
             "ticks": ""
            },
            "type": "choropleth"
           }
          ],
          "contour": [
           {
            "colorbar": {
             "outlinewidth": 0,
             "ticks": ""
            },
            "colorscale": [
             [
              0,
              "#0d0887"
             ],
             [
              0.1111111111111111,
              "#46039f"
             ],
             [
              0.2222222222222222,
              "#7201a8"
             ],
             [
              0.3333333333333333,
              "#9c179e"
             ],
             [
              0.4444444444444444,
              "#bd3786"
             ],
             [
              0.5555555555555556,
              "#d8576b"
             ],
             [
              0.6666666666666666,
              "#ed7953"
             ],
             [
              0.7777777777777778,
              "#fb9f3a"
             ],
             [
              0.8888888888888888,
              "#fdca26"
             ],
             [
              1,
              "#f0f921"
             ]
            ],
            "type": "contour"
           }
          ],
          "contourcarpet": [
           {
            "colorbar": {
             "outlinewidth": 0,
             "ticks": ""
            },
            "type": "contourcarpet"
           }
          ],
          "heatmap": [
           {
            "colorbar": {
             "outlinewidth": 0,
             "ticks": ""
            },
            "colorscale": [
             [
              0,
              "#0d0887"
             ],
             [
              0.1111111111111111,
              "#46039f"
             ],
             [
              0.2222222222222222,
              "#7201a8"
             ],
             [
              0.3333333333333333,
              "#9c179e"
             ],
             [
              0.4444444444444444,
              "#bd3786"
             ],
             [
              0.5555555555555556,
              "#d8576b"
             ],
             [
              0.6666666666666666,
              "#ed7953"
             ],
             [
              0.7777777777777778,
              "#fb9f3a"
             ],
             [
              0.8888888888888888,
              "#fdca26"
             ],
             [
              1,
              "#f0f921"
             ]
            ],
            "type": "heatmap"
           }
          ],
          "heatmapgl": [
           {
            "colorbar": {
             "outlinewidth": 0,
             "ticks": ""
            },
            "colorscale": [
             [
              0,
              "#0d0887"
             ],
             [
              0.1111111111111111,
              "#46039f"
             ],
             [
              0.2222222222222222,
              "#7201a8"
             ],
             [
              0.3333333333333333,
              "#9c179e"
             ],
             [
              0.4444444444444444,
              "#bd3786"
             ],
             [
              0.5555555555555556,
              "#d8576b"
             ],
             [
              0.6666666666666666,
              "#ed7953"
             ],
             [
              0.7777777777777778,
              "#fb9f3a"
             ],
             [
              0.8888888888888888,
              "#fdca26"
             ],
             [
              1,
              "#f0f921"
             ]
            ],
            "type": "heatmapgl"
           }
          ],
          "histogram": [
           {
            "marker": {
             "pattern": {
              "fillmode": "overlay",
              "size": 10,
              "solidity": 0.2
             }
            },
            "type": "histogram"
           }
          ],
          "histogram2d": [
           {
            "colorbar": {
             "outlinewidth": 0,
             "ticks": ""
            },
            "colorscale": [
             [
              0,
              "#0d0887"
             ],
             [
              0.1111111111111111,
              "#46039f"
             ],
             [
              0.2222222222222222,
              "#7201a8"
             ],
             [
              0.3333333333333333,
              "#9c179e"
             ],
             [
              0.4444444444444444,
              "#bd3786"
             ],
             [
              0.5555555555555556,
              "#d8576b"
             ],
             [
              0.6666666666666666,
              "#ed7953"
             ],
             [
              0.7777777777777778,
              "#fb9f3a"
             ],
             [
              0.8888888888888888,
              "#fdca26"
             ],
             [
              1,
              "#f0f921"
             ]
            ],
            "type": "histogram2d"
           }
          ],
          "histogram2dcontour": [
           {
            "colorbar": {
             "outlinewidth": 0,
             "ticks": ""
            },
            "colorscale": [
             [
              0,
              "#0d0887"
             ],
             [
              0.1111111111111111,
              "#46039f"
             ],
             [
              0.2222222222222222,
              "#7201a8"
             ],
             [
              0.3333333333333333,
              "#9c179e"
             ],
             [
              0.4444444444444444,
              "#bd3786"
             ],
             [
              0.5555555555555556,
              "#d8576b"
             ],
             [
              0.6666666666666666,
              "#ed7953"
             ],
             [
              0.7777777777777778,
              "#fb9f3a"
             ],
             [
              0.8888888888888888,
              "#fdca26"
             ],
             [
              1,
              "#f0f921"
             ]
            ],
            "type": "histogram2dcontour"
           }
          ],
          "mesh3d": [
           {
            "colorbar": {
             "outlinewidth": 0,
             "ticks": ""
            },
            "type": "mesh3d"
           }
          ],
          "parcoords": [
           {
            "line": {
             "colorbar": {
              "outlinewidth": 0,
              "ticks": ""
             }
            },
            "type": "parcoords"
           }
          ],
          "pie": [
           {
            "automargin": true,
            "type": "pie"
           }
          ],
          "scatter": [
           {
            "fillpattern": {
             "fillmode": "overlay",
             "size": 10,
             "solidity": 0.2
            },
            "type": "scatter"
           }
          ],
          "scatter3d": [
           {
            "line": {
             "colorbar": {
              "outlinewidth": 0,
              "ticks": ""
             }
            },
            "marker": {
             "colorbar": {
              "outlinewidth": 0,
              "ticks": ""
             }
            },
            "type": "scatter3d"
           }
          ],
          "scattercarpet": [
           {
            "marker": {
             "colorbar": {
              "outlinewidth": 0,
              "ticks": ""
             }
            },
            "type": "scattercarpet"
           }
          ],
          "scattergeo": [
           {
            "marker": {
             "colorbar": {
              "outlinewidth": 0,
              "ticks": ""
             }
            },
            "type": "scattergeo"
           }
          ],
          "scattergl": [
           {
            "marker": {
             "colorbar": {
              "outlinewidth": 0,
              "ticks": ""
             }
            },
            "type": "scattergl"
           }
          ],
          "scattermapbox": [
           {
            "marker": {
             "colorbar": {
              "outlinewidth": 0,
              "ticks": ""
             }
            },
            "type": "scattermapbox"
           }
          ],
          "scatterpolar": [
           {
            "marker": {
             "colorbar": {
              "outlinewidth": 0,
              "ticks": ""
             }
            },
            "type": "scatterpolar"
           }
          ],
          "scatterpolargl": [
           {
            "marker": {
             "colorbar": {
              "outlinewidth": 0,
              "ticks": ""
             }
            },
            "type": "scatterpolargl"
           }
          ],
          "scatterternary": [
           {
            "marker": {
             "colorbar": {
              "outlinewidth": 0,
              "ticks": ""
             }
            },
            "type": "scatterternary"
           }
          ],
          "surface": [
           {
            "colorbar": {
             "outlinewidth": 0,
             "ticks": ""
            },
            "colorscale": [
             [
              0,
              "#0d0887"
             ],
             [
              0.1111111111111111,
              "#46039f"
             ],
             [
              0.2222222222222222,
              "#7201a8"
             ],
             [
              0.3333333333333333,
              "#9c179e"
             ],
             [
              0.4444444444444444,
              "#bd3786"
             ],
             [
              0.5555555555555556,
              "#d8576b"
             ],
             [
              0.6666666666666666,
              "#ed7953"
             ],
             [
              0.7777777777777778,
              "#fb9f3a"
             ],
             [
              0.8888888888888888,
              "#fdca26"
             ],
             [
              1,
              "#f0f921"
             ]
            ],
            "type": "surface"
           }
          ],
          "table": [
           {
            "cells": {
             "fill": {
              "color": "#EBF0F8"
             },
             "line": {
              "color": "white"
             }
            },
            "header": {
             "fill": {
              "color": "#C8D4E3"
             },
             "line": {
              "color": "white"
             }
            },
            "type": "table"
           }
          ]
         },
         "layout": {
          "annotationdefaults": {
           "arrowcolor": "#2a3f5f",
           "arrowhead": 0,
           "arrowwidth": 1
          },
          "autotypenumbers": "strict",
          "coloraxis": {
           "colorbar": {
            "outlinewidth": 0,
            "ticks": ""
           }
          },
          "colorscale": {
           "diverging": [
            [
             0,
             "#8e0152"
            ],
            [
             0.1,
             "#c51b7d"
            ],
            [
             0.2,
             "#de77ae"
            ],
            [
             0.3,
             "#f1b6da"
            ],
            [
             0.4,
             "#fde0ef"
            ],
            [
             0.5,
             "#f7f7f7"
            ],
            [
             0.6,
             "#e6f5d0"
            ],
            [
             0.7,
             "#b8e186"
            ],
            [
             0.8,
             "#7fbc41"
            ],
            [
             0.9,
             "#4d9221"
            ],
            [
             1,
             "#276419"
            ]
           ],
           "sequential": [
            [
             0,
             "#0d0887"
            ],
            [
             0.1111111111111111,
             "#46039f"
            ],
            [
             0.2222222222222222,
             "#7201a8"
            ],
            [
             0.3333333333333333,
             "#9c179e"
            ],
            [
             0.4444444444444444,
             "#bd3786"
            ],
            [
             0.5555555555555556,
             "#d8576b"
            ],
            [
             0.6666666666666666,
             "#ed7953"
            ],
            [
             0.7777777777777778,
             "#fb9f3a"
            ],
            [
             0.8888888888888888,
             "#fdca26"
            ],
            [
             1,
             "#f0f921"
            ]
           ],
           "sequentialminus": [
            [
             0,
             "#0d0887"
            ],
            [
             0.1111111111111111,
             "#46039f"
            ],
            [
             0.2222222222222222,
             "#7201a8"
            ],
            [
             0.3333333333333333,
             "#9c179e"
            ],
            [
             0.4444444444444444,
             "#bd3786"
            ],
            [
             0.5555555555555556,
             "#d8576b"
            ],
            [
             0.6666666666666666,
             "#ed7953"
            ],
            [
             0.7777777777777778,
             "#fb9f3a"
            ],
            [
             0.8888888888888888,
             "#fdca26"
            ],
            [
             1,
             "#f0f921"
            ]
           ]
          },
          "colorway": [
           "#636efa",
           "#EF553B",
           "#00cc96",
           "#ab63fa",
           "#FFA15A",
           "#19d3f3",
           "#FF6692",
           "#B6E880",
           "#FF97FF",
           "#FECB52"
          ],
          "font": {
           "color": "#2a3f5f"
          },
          "geo": {
           "bgcolor": "white",
           "lakecolor": "white",
           "landcolor": "#E5ECF6",
           "showlakes": true,
           "showland": true,
           "subunitcolor": "white"
          },
          "hoverlabel": {
           "align": "left"
          },
          "hovermode": "closest",
          "mapbox": {
           "style": "light"
          },
          "paper_bgcolor": "white",
          "plot_bgcolor": "#E5ECF6",
          "polar": {
           "angularaxis": {
            "gridcolor": "white",
            "linecolor": "white",
            "ticks": ""
           },
           "bgcolor": "#E5ECF6",
           "radialaxis": {
            "gridcolor": "white",
            "linecolor": "white",
            "ticks": ""
           }
          },
          "scene": {
           "xaxis": {
            "backgroundcolor": "#E5ECF6",
            "gridcolor": "white",
            "gridwidth": 2,
            "linecolor": "white",
            "showbackground": true,
            "ticks": "",
            "zerolinecolor": "white"
           },
           "yaxis": {
            "backgroundcolor": "#E5ECF6",
            "gridcolor": "white",
            "gridwidth": 2,
            "linecolor": "white",
            "showbackground": true,
            "ticks": "",
            "zerolinecolor": "white"
           },
           "zaxis": {
            "backgroundcolor": "#E5ECF6",
            "gridcolor": "white",
            "gridwidth": 2,
            "linecolor": "white",
            "showbackground": true,
            "ticks": "",
            "zerolinecolor": "white"
           }
          },
          "shapedefaults": {
           "line": {
            "color": "#2a3f5f"
           }
          },
          "ternary": {
           "aaxis": {
            "gridcolor": "white",
            "linecolor": "white",
            "ticks": ""
           },
           "baxis": {
            "gridcolor": "white",
            "linecolor": "white",
            "ticks": ""
           },
           "bgcolor": "#E5ECF6",
           "caxis": {
            "gridcolor": "white",
            "linecolor": "white",
            "ticks": ""
           }
          },
          "title": {
           "x": 0.05
          },
          "xaxis": {
           "automargin": true,
           "gridcolor": "white",
           "linecolor": "white",
           "ticks": "",
           "title": {
            "standoff": 15
           },
           "zerolinecolor": "white",
           "zerolinewidth": 2
          },
          "yaxis": {
           "automargin": true,
           "gridcolor": "white",
           "linecolor": "white",
           "ticks": "",
           "title": {
            "standoff": 15
           },
           "zerolinecolor": "white",
           "zerolinewidth": 2
          }
         }
        },
        "width": 950
       }
      }
     },
     "metadata": {},
     "output_type": "display_data"
    }
   ],
   "source": [
    "# access Token\n",
    "mapbox_access_token = open(\".mapbox_token\").read()\n",
    "\n",
    "pointer_name = attributes_df.station\n",
    "pointer_lat = attributes_df.lat\n",
    "pointer_lon = attributes_df.lon\n",
    "list_of_colors = [(32,32,218), (198,48,149), (0,127,0), (255,255,0), (95,0,0), (95,95,95), (187,127,243), \n",
    "                  (187,193,243), (255,166,0), (185,103,0), (56,26,136), (56,104,136), (232,104,136), (232,162,232)] \n",
    "\n",
    "fig = go.Figure()\n",
    "j = 0\n",
    "\n",
    "for station in station_id_list:\n",
    "    start_lat_list, end_lat_list, start_lon_list, end_lon_list, weight, name = add_route(most_common_routes_df, station)\n",
    "    weight_max = max(weight)\n",
    "\n",
    "    # Create a plotly map and add the station points to the map\n",
    "    for i in range(len(start_lat_list)):\n",
    "        if i == 0:\n",
    "            fig.add_trace(go.Scattermapbox(\n",
    "                mode = \"lines\",\n",
    "                lat = [start_lat_list[i], end_lat_list[i]],\n",
    "                lon = [start_lon_list[i], end_lon_list[i]],\n",
    "                showlegend = True,\n",
    "                legendgroup = \"group\" + str(j),\n",
    "                #legendgrouptitle_text = \"From\" + ' ' + name[0],\n",
    "                line = dict(color = 'rgba(%s,%s,%s,%s)' %(list_of_colors[j][0], list_of_colors[j][1], list_of_colors[j][2], \n",
    "                                                        (weight[i]/weight_max)), width = weight[i]*(6/weight_max)),\n",
    "                name = name[0],\n",
    "                )\n",
    "            )\n",
    "        else:\n",
    "            fig.add_trace(go.Scattermapbox(\n",
    "                mode = \"lines\",\n",
    "                lat = [start_lat_list[i], end_lat_list[i]],\n",
    "                lon = [start_lon_list[i], end_lon_list[i]],\n",
    "                showlegend = False,\n",
    "                legendgroup = \"group\" + str(j),\n",
    "                line = dict(color = 'rgba(%s,%s,%s,%s)' %(list_of_colors[j][0], list_of_colors[j][1], list_of_colors[j][2], \n",
    "                                                        (weight[i]/weight_max)), width = weight[i]*(6/weight_max)),\n",
    "                name = name[0],\n",
    "                #visible = \"legendonly\"\n",
    "                )\n",
    "            )\n",
    "        \n",
    "        # create arrows and plot on map\n",
    "        widh = 0.02  #2*widh is the width of the arrow base as triangle\n",
    "        l = 0.0007 # the arrow length\n",
    "\n",
    "        A = np.array([start_lon_list[i],start_lat_list[i]])\n",
    "        B = np.array([end_lon_list[i], end_lat_list[i]])\n",
    "        v = B-A\n",
    "        w = v/np.linalg.norm(v)     \n",
    "        u  =np.array([-v[1], v[0]])\n",
    "        P = B-2*l*w\n",
    "        P_2 = B-l*w\n",
    "        S = P - widh*u\n",
    "        T = P + widh*u\n",
    "\n",
    "        fig.add_trace(go.Scattermapbox(lon = [S[0], T[0], P_2[0], S[0]], \n",
    "                                    lat = [S[1], T[1], P_2[1], S[1]], \n",
    "                                    mode = 'lines', \n",
    "                                    fill = 'toself', \n",
    "                                    fillcolor = 'rgba(%s,%s,%s,1)' %(list_of_colors[j][0], list_of_colors[j][1], list_of_colors[j][2]), \n",
    "                                    line_color = 'rgba(%s,%s,%s,1)' %(list_of_colors[j][0], list_of_colors[j][1], list_of_colors[j][2]),\n",
    "                                    showlegend = False,\n",
    "                                    hoverinfo = 'skip',\n",
    "                                    legendgroup = \"group\" + str(j),\n",
    "                                    ))\n",
    "    j += 1\n",
    "\n",
    "    \n",
    "\n",
    "for i in range(len(pointer_lat)):\n",
    "    fig.add_trace(go.Scattermapbox(\n",
    "        lat = [pointer_lat[i]],\n",
    "        lon = [pointer_lon[i]],\n",
    "        mode = \"markers\",\n",
    "        marker = {'size': 12, 'color': 'red'},\n",
    "        hoverinfo = 'name',\n",
    "        #text = pointer_name[i],\n",
    "        showlegend = False,\n",
    "        name = pointer_name[i]\n",
    "    ))\n",
    "\n",
    "fig.update_layout(\n",
    "    #title = \"Most common routes taken\",\n",
    "    autosize = True,\n",
    "    hovermode = \"closest\",\n",
    "    showlegend = True,\n",
    "    mapbox = dict(\n",
    "        accesstoken = mapbox_access_token,\n",
    "        center = dict(\n",
    "            lat = 54.334221,\n",
    "            lon = 10.134417,             \n",
    "            ),\n",
    "        zoom = 12,\n",
    "        style = \"light\"\n",
    "        ),\n",
    "    width = 950,\n",
    "    height = 450,\n",
    "    margin = dict(l=0, r=0, b=0, t=0),\n",
    "    legend = dict(bordercolor='rgb(100,100,100)',\n",
    "                                borderwidth=2,\n",
    "                                x=0,\n",
    "                                y=1)\n",
    ")\n",
    "\n",
    "#plotly.offline.plot(fig, filename=r\"./web_application/src/html/plotly_routes/most_common_routes.html\")\n",
    "fig.show()\n",
    "\n"
   ]
  },
  {
   "attachments": {},
   "cell_type": "markdown",
   "metadata": {},
   "source": [
    "Now lets only look at the most taken routes."
   ]
  },
  {
   "cell_type": "code",
   "execution_count": 12,
   "metadata": {},
   "outputs": [
    {
     "data": {
      "application/vnd.plotly.v1+json": {
       "config": {
        "plotlyServerURL": "https://plot.ly"
       },
       "data": [
        {
         "lat": [
          54.333833,
          54.315972
         ],
         "legendgroup": "group0",
         "line": {
          "color": "rgba(32,32,218,1)",
          "width": 3
         },
         "lon": [
          10.15225,
          10.132278
         ],
         "mode": "lines",
         "name": "Anleger Reventlou",
         "showlegend": true,
         "type": "scattermapbox"
        },
        {
         "fill": "toself",
         "fillcolor": "rgba(32,32,218,1)",
         "hoverinfo": "skip",
         "lat": [
          54.31730470076391,
          54.31650582076391,
          54.31643863038195,
          54.31730470076391
         ],
         "legendgroup": "group0",
         "line": {
          "color": "rgba(32,32,218,1)"
         },
         "lon": [
          10.132964343293025,
          10.133678783293025,
          10.132799781646513,
          10.132964343293025
         ],
         "mode": "lines",
         "showlegend": false,
         "type": "scattermapbox"
        },
        {
         "lat": [
          54.333833,
          54.337864
         ],
         "legendgroup": "group0",
         "line": {
          "color": "rgba(32,32,218,0.6)",
          "width": 3
         },
         "lon": [
          10.15225,
          10.133126
         ],
         "mode": "lines",
         "name": "Anleger Reventlou",
         "showlegend": false,
         "type": "scattermapbox"
        },
        {
         "fill": "toself",
         "fillcolor": "rgba(32,32,218,1)",
         "hoverinfo": "skip",
         "lat": [
          54.33795772959371,
          54.33719276959371,
          54.337719624796854,
          54.33795772959371
         ],
         "legendgroup": "group0",
         "line": {
          "color": "rgba(32,32,218,1)"
         },
         "lon": [
          10.134576518975424,
          10.134415278975423,
          10.133810949487712,
          10.134576518975424
         ],
         "mode": "lines",
         "showlegend": false,
         "type": "scattermapbox"
        },
        {
         "lat": [
          54.328528,
          54.315972
         ],
         "legendgroup": "group1",
         "line": {
          "color": "rgba(198,48,149,1)",
          "width": 3
         },
         "lon": [
          10.134417,
          10.132278
         ],
         "mode": "lines",
         "name": "Dreiecksplatz",
         "showlegend": true,
         "type": "scattermapbox"
        },
        {
         "fill": "toself",
         "fillcolor": "rgba(198,48,149,1)",
         "hoverinfo": "skip",
         "lat": [
          54.317394896740986,
          54.31730933674098,
          54.3166620583705,
          54.317394896740986
         ],
         "legendgroup": "group1",
         "line": {
          "color": "rgba(198,48,149,1)"
         },
         "lon": [
          10.13226199227373,
          10.132764232273729,
          10.132395556136865,
          10.13226199227373
         ],
         "mode": "lines",
         "showlegend": false,
         "type": "scattermapbox"
        },
        {
         "lat": [
          54.328528,
          54.316194
         ],
         "legendgroup": "group1",
         "line": {
          "color": "rgba(198,48,149,0.6)",
          "width": 3
         },
         "lon": [
          10.134417,
          10.120583
         ],
         "mode": "lines",
         "name": "Dreiecksplatz",
         "showlegend": false,
         "type": "scattermapbox"
        },
        {
         "fill": "toself",
         "fillcolor": "rgba(198,48,149,1)",
         "hoverinfo": "skip",
         "lat": [
          54.31740235429451,
          54.31684899429451,
          54.316659837147256,
          54.31740235429451
         ],
         "legendgroup": "group1",
         "line": {
          "color": "rgba(198,48,149,1)"
         },
         "lon": [
          10.121381299908398,
          10.121874659908398,
          10.1211054899542,
          10.121381299908398
         ],
         "mode": "lines",
         "showlegend": false,
         "type": "scattermapbox"
        },
        {
         "lat": [
          54.35525,
          54.315972
         ],
         "legendgroup": "group2",
         "line": {
          "color": "rgba(0,127,0,1)",
          "width": 3
         },
         "lon": [
          10.131611,
          10.132278
         ],
         "mode": "lines",
         "name": "MELUND-Olympiahochhaus",
         "showlegend": true,
         "type": "scattermapbox"
        },
        {
         "fill": "toself",
         "fillcolor": "rgba(0,127,0,1)",
         "hoverinfo": "skip",
         "lat": [
          54.31735845818332,
          54.317385138183326,
          54.31667189909166,
          54.31735845818332
         ],
         "legendgroup": "group2",
         "line": {
          "color": "rgba(0,127,0,1)"
         },
         "lon": [
          10.131468669304233,
          10.133039789304235,
          10.132266114652117,
          10.131468669304233
         ],
         "mode": "lines",
         "showlegend": false,
         "type": "scattermapbox"
        },
        {
         "lat": [
          54.35525,
          54.333833
         ],
         "legendgroup": "group2",
         "line": {
          "color": "rgba(0,127,0,0.6)",
          "width": 3
         },
         "lon": [
          10.131611,
          10.15225
         ],
         "mode": "lines",
         "name": "MELUND-Olympiahochhaus",
         "showlegend": false,
         "type": "scattermapbox"
        },
        {
         "fill": "toself",
         "fillcolor": "rgba(0,127,0,1)",
         "hoverinfo": "skip",
         "lat": [
          54.33442831023317,
          54.33525387023317,
          54.334337045116584,
          54.33442831023317
         ],
         "legendgroup": "group2",
         "line": {
          "color": "rgba(0,127,0,1)"
         },
         "lon": [
          10.150850189937787,
          10.151706869937785,
          10.151764264968893,
          10.150850189937787
         ],
         "mode": "lines",
         "showlegend": false,
         "type": "scattermapbox"
        },
        {
         "lat": [
          54.316194,
          54.315972
         ],
         "legendgroup": "group3",
         "line": {
          "color": "rgba(255,255,0,1)",
          "width": 3
         },
         "lon": [
          10.120583,
          10.132278
         ],
         "mode": "lines",
         "name": "Kirchhofallee",
         "showlegend": true,
         "type": "scattermapbox"
        },
        {
         "fill": "toself",
         "fillcolor": "rgba(255,255,0,1)",
         "hoverinfo": "skip",
         "lat": [
          54.31576467067287,
          54.316232470672865,
          54.31598528533644,
          54.31576467067287
         ],
         "legendgroup": "group3",
         "line": {
          "color": "rgba(255,255,0,1)"
         },
         "lon": [
          10.1308738121658,
          10.1308826921658,
          10.1315781260829,
          10.1308738121658
         ],
         "mode": "lines",
         "showlegend": false,
         "type": "scattermapbox"
        },
        {
         "lat": [
          54.316194,
          54.322806
         ],
         "legendgroup": "group3",
         "line": {
          "color": "rgba(255,255,0,0.6)",
          "width": 3
         },
         "lon": [
          10.120583,
          10.139472
         ],
         "mode": "lines",
         "name": "Kirchhofallee",
         "showlegend": false,
         "type": "scattermapbox"
        },
        {
         "fill": "toself",
         "fillcolor": "rgba(255,255,0,1)",
         "hoverinfo": "skip",
         "lat": [
          54.32196567643302,
          54.32272123643302,
          54.32257472821651,
          54.32196567643302
         ],
         "legendgroup": "group3",
         "line": {
          "color": "rgba(255,255,0,1)"
         },
         "lon": [
          10.138282856842604,
          10.138018376842606,
          10.138811308421303,
          10.138282856842604
         ],
         "mode": "lines",
         "showlegend": false,
         "type": "scattermapbox"
        },
        {
         "lat": [
          54.315972,
          54.333833
         ],
         "legendgroup": "group4",
         "line": {
          "color": "rgba(95,0,0,1)",
          "width": 3
         },
         "lon": [
          10.132278,
          10.15225
         ],
         "mode": "lines",
         "name": "Hauptbahnhof",
         "showlegend": true,
         "type": "scattermapbox"
        },
        {
         "fill": "toself",
         "fillcolor": "rgba(95,0,0,1)",
         "hoverinfo": "skip",
         "lat": [
          54.33250029923609,
          54.33329917923609,
          54.33336636961805,
          54.33250029923609
         ],
         "legendgroup": "group4",
         "line": {
          "color": "rgba(95,0,0,1)"
         },
         "lon": [
          10.151563656706974,
          10.150849216706975,
          10.151728218353487,
          10.151563656706974
         ],
         "mode": "lines",
         "showlegend": false,
         "type": "scattermapbox"
        },
        {
         "lat": [
          54.315972,
          54.322806
         ],
         "legendgroup": "group4",
         "line": {
          "color": "rgba(95,0,0,0.6)",
          "width": 3
         },
         "lon": [
          10.132278,
          10.139472
         ],
         "mode": "lines",
         "name": "Hauptbahnhof",
         "showlegend": false,
         "type": "scattermapbox"
        },
        {
         "fill": "toself",
         "fillcolor": "rgba(95,0,0,1)",
         "hoverinfo": "skip",
         "lat": [
          54.32169789300205,
          54.32198565300206,
          54.32232388650103,
          54.32169789300205
         ],
         "legendgroup": "group4",
         "line": {
          "color": "rgba(95,0,0,1)"
         },
         "lon": [
          10.138593659657129,
          10.138320299657128,
          10.138964489828563,
          10.138593659657129
         ],
         "mode": "lines",
         "showlegend": false,
         "type": "scattermapbox"
        },
        {
         "lat": [
          54.343444,
          54.315972
         ],
         "legendgroup": "group5",
         "line": {
          "color": "rgba(95,95,95,1)",
          "width": 3
         },
         "lon": [
          10.111139,
          10.132278
         ],
         "mode": "lines",
         "name": "CAU Sportstätten",
         "showlegend": true,
         "type": "scattermapbox"
        },
        {
         "fill": "toself",
         "fillcolor": "rgba(95,95,95,1)",
         "hoverinfo": "skip",
         "lat": [
          54.31665876294841,
          54.31750432294841,
          54.3165267714742,
          54.31665876294841
         ],
         "legendgroup": "group5",
         "line": {
          "color": "rgba(95,95,95,1)"
         },
         "lon": [
          10.130874795134451,
          10.131973675134452,
          10.131851117567225,
          10.130874795134451
         ],
         "mode": "lines",
         "showlegend": false,
         "type": "scattermapbox"
        },
        {
         "lat": [
          54.343444,
          54.323583
         ],
         "legendgroup": "group5",
         "line": {
          "color": "rgba(95,95,95,0.6)",
          "width": 3
         },
         "lon": [
          10.111139,
          10.122278
         ],
         "mode": "lines",
         "name": "CAU Sportstätten",
         "showlegend": false,
         "type": "scattermapbox"
        },
        {
         "fill": "toself",
         "fillcolor": "rgba(95,95,95,1)",
         "hoverinfo": "skip",
         "lat": [
          54.324581286795535,
          54.32502684679554,
          54.32419353339777,
          54.324581286795535
         ],
         "legendgroup": "group5",
         "line": {
          "color": "rgba(95,95,95,1)"
         },
         "lon": [
          10.121195947260686,
          10.121990387260686,
          10.121935583630343,
          10.121195947260686
         ],
         "mode": "lines",
         "showlegend": false,
         "type": "scattermapbox"
        },
        {
         "lat": [
          54.337864,
          54.315972
         ],
         "legendgroup": "group6",
         "line": {
          "color": "rgba(187,127,243,1)",
          "width": 3
         },
         "lon": [
          10.133126,
          10.132278
         ],
         "mode": "lines",
         "name": "Bernhard-Minetti-Platz",
         "showlegend": true,
         "type": "scattermapbox"
        },
        {
         "fill": "toself",
         "fillcolor": "rgba(187,127,243,1)",
         "hoverinfo": "skip",
         "lat": [
          54.31738791086718,
          54.317353990867176,
          54.316671475433594,
          54.31738791086718
         ],
         "legendgroup": "group6",
         "line": {
          "color": "rgba(187,127,243,1)"
         },
         "lon": [
          10.131894349216854,
          10.132770029216854,
          10.132305094608427,
          10.131894349216854
         ],
         "mode": "lines",
         "showlegend": false,
         "type": "scattermapbox"
        },
        {
         "lat": [
          54.337864,
          54.323583
         ],
         "legendgroup": "group6",
         "line": {
          "color": "rgba(187,127,243,0.6)",
          "width": 3
         },
         "lon": [
          10.133126,
          10.122278
         ],
         "mode": "lines",
         "name": "Bernhard-Minetti-Platz",
         "showlegend": false,
         "type": "scattermapbox"
        },
        {
         "fill": "toself",
         "fillcolor": "rgba(187,127,243,1)",
         "hoverinfo": "skip",
         "lat": [
          54.324914796132944,
          54.32448087613294,
          54.32414041806647,
          54.324914796132944
         ],
         "legendgroup": "group6",
         "line": {
          "color": "rgba(187,127,243,1)"
         },
         "lon": [
          10.122839221423579,
          10.123410461423578,
          10.12270142071179,
          10.122839221423579
         ],
         "mode": "lines",
         "showlegend": false,
         "type": "scattermapbox"
        },
        {
         "lat": [
          54.328543,
          54.315972
         ],
         "legendgroup": "group7",
         "line": {
          "color": "rgba(187,193,243,1)",
          "width": 3
         },
         "lon": [
          10.117925,
          10.132278
         ],
         "mode": "lines",
         "name": "Westring/Eckernförder Str.",
         "showlegend": true,
         "type": "scattermapbox"
        },
        {
         "fill": "toself",
         "fillcolor": "rgba(187,193,243,1)",
         "hoverinfo": "skip",
         "lat": [
          54.3166073502377,
          54.3171814702377,
          54.316433205118855,
          54.3166073502377
         ],
         "legendgroup": "group7",
         "line": {
          "color": "rgba(187,193,243,1)"
         },
         "lon": [
          10.130973413653509,
          10.131476253653508,
          10.131751416826754,
          10.130973413653509
         ],
         "mode": "lines",
         "showlegend": false,
         "type": "scattermapbox"
        },
        {
         "lat": [
          54.328543,
          54.322806
         ],
         "legendgroup": "group7",
         "line": {
          "color": "rgba(187,193,243,0.6)",
          "width": 3
         },
         "lon": [
          10.117925,
          10.139472
         ],
         "mode": "lines",
         "name": "Westring/Eckernförder Str.",
         "showlegend": false,
         "type": "scattermapbox"
        },
        {
         "fill": "toself",
         "fillcolor": "rgba(187,193,243,1)",
         "hoverinfo": "skip",
         "lat": [
          54.32273526793441,
          54.323597147934414,
          54.32298610396721,
          54.32273526793441
         ],
         "legendgroup": "group7",
         "line": {
          "color": "rgba(187,193,243,1)"
         },
         "lon": [
          10.138004392584476,
          10.138233872584477,
          10.138795566292238,
          10.138004392584476
         ],
         "mode": "lines",
         "showlegend": false,
         "type": "scattermapbox"
        },
        {
         "lat": [
          54.321583,
          54.315972
         ],
         "legendgroup": "group8",
         "line": {
          "color": "rgba(255,166,0,1)",
          "width": 3
         },
         "lon": [
          10.128389,
          10.132278
         ],
         "mode": "lines",
         "name": "Exerzierplatz",
         "showlegend": true,
         "type": "scattermapbox"
        },
        {
         "fill": "toself",
         "fillcolor": "rgba(255,166,0,1)",
         "hoverinfo": "skip",
         "lat": [
          54.31704486071861,
          54.317200420718606,
          54.316547320359305,
          54.31704486071861
         ],
         "legendgroup": "group8",
         "line": {
          "color": "rgba(255,166,0,1)"
         },
         "lon": [
          10.131368267657342,
          10.131592707657342,
          10.13187924382867,
          10.131368267657342
         ],
         "mode": "lines",
         "showlegend": false,
         "type": "scattermapbox"
        },
        {
         "lat": [
          54.321583,
          54.337864
         ],
         "legendgroup": "group8",
         "line": {
          "color": "rgba(255,166,0,0.6)",
          "width": 3
         },
         "lon": [
          10.128389,
          10.133126
         ],
         "mode": "lines",
         "name": "Exerzierplatz",
         "showlegend": false,
         "type": "scattermapbox"
        },
        {
         "fill": "toself",
         "fillcolor": "rgba(255,166,0,1)",
         "hoverinfo": "skip",
         "lat": [
          54.33642500228874,
          54.336614482288745,
          54.33719187114437,
          54.33642500228874
         ],
         "legendgroup": "group8",
         "line": {
          "color": "rgba(255,166,0,1)"
         },
         "lon": [
          10.13306050466444,
          10.13240926466444,
          10.13293044233222,
          10.13306050466444
         ],
         "mode": "lines",
         "showlegend": false,
         "type": "scattermapbox"
        },
        {
         "lat": [
          54.322806,
          54.315972
         ],
         "legendgroup": "group9",
         "line": {
          "color": "rgba(185,103,0,1)",
          "width": 3
         },
         "lon": [
          10.139472,
          10.132278
         ],
         "mode": "lines",
         "name": "Alter Markt",
         "showlegend": true,
         "type": "scattermapbox"
        },
        {
         "fill": "toself",
         "fillcolor": "rgba(185,103,0,1)",
         "hoverinfo": "skip",
         "lat": [
          54.31708010699795,
          54.31679234699794,
          54.31645411349897,
          54.31708010699795
         ],
         "legendgroup": "group9",
         "line": {
          "color": "rgba(185,103,0,1)"
         },
         "lon": [
          10.13315634034287,
          10.133429700342871,
          10.132785510171436,
          10.13315634034287
         ],
         "mode": "lines",
         "showlegend": false,
         "type": "scattermapbox"
        },
        {
         "lat": [
          54.322806,
          54.316194
         ],
         "legendgroup": "group9",
         "line": {
          "color": "rgba(185,103,0,0.6)",
          "width": 3
         },
         "lon": [
          10.139472,
          10.120583
         ],
         "mode": "lines",
         "name": "Alter Markt",
         "showlegend": false,
         "type": "scattermapbox"
        },
        {
         "fill": "toself",
         "fillcolor": "rgba(185,103,0,1)",
         "hoverinfo": "skip",
         "lat": [
          54.317034323566986,
          54.316278763566984,
          54.316425271783494,
          54.317034323566986
         ],
         "legendgroup": "group9",
         "line": {
          "color": "rgba(185,103,0,1)"
         },
         "lon": [
          10.121772143157395,
          10.122036623157394,
          10.121243691578696,
          10.121772143157395
         ],
         "mode": "lines",
         "showlegend": false,
         "type": "scattermapbox"
        },
        {
         "lat": [
          54.341722,
          54.315972
         ],
         "legendgroup": "group10",
         "line": {
          "color": "rgba(56,26,136,1)",
          "width": 3
         },
         "lon": [
          10.136861,
          10.132278
         ],
         "mode": "lines",
         "name": "Blücherplatz",
         "showlegend": true,
         "type": "scattermapbox"
        },
        {
         "fill": "toself",
         "fillcolor": "rgba(56,26,136,1)",
         "hoverinfo": "skip",
         "lat": [
          54.31744199931187,
          54.31725867931186,
          54.31666116965593,
          54.31744199931187
         ],
         "legendgroup": "group10",
         "line": {
          "color": "rgba(56,26,136,1)"
         },
         "lon": [
          10.132008317633641,
          10.133038317633641,
          10.13240065881682,
          10.132008317633641
         ],
         "mode": "lines",
         "showlegend": false,
         "type": "scattermapbox"
        },
        {
         "lat": [
          54.341722,
          54.328543
         ],
         "legendgroup": "group10",
         "line": {
          "color": "rgba(56,26,136,0.6)",
          "width": 3
         },
         "lon": [
          10.136861,
          10.117925
         ],
         "mode": "lines",
         "name": "Blücherplatz",
         "showlegend": false,
         "type": "scattermapbox"
        },
        {
         "fill": "toself",
         "fillcolor": "rgba(56,26,136,1)",
         "hoverinfo": "skip",
         "lat": [
          54.329721460958595,
          54.328964020958594,
          54.3289428704793,
          54.329721460958595
         ],
         "legendgroup": "group10",
         "line": {
          "color": "rgba(56,26,136,1)"
         },
         "lon": [
          10.118810512859238,
          10.119337672859238,
          10.118499546429618,
          10.118810512859238
         ],
         "mode": "lines",
         "showlegend": false,
         "type": "scattermapbox"
        },
        {
         "lat": [
          54.323583,
          54.315972
         ],
         "legendgroup": "group11",
         "line": {
          "color": "rgba(56,104,136,1)",
          "width": 3
         },
         "lon": [
          10.122278,
          10.132278
         ],
         "mode": "lines",
         "name": "Wilhelmplatz",
         "showlegend": true,
         "type": "scattermapbox"
        },
        {
         "fill": "toself",
         "fillcolor": "rgba(56,104,136,1)",
         "hoverinfo": "skip",
         "lat": [
          54.31661989314375,
          54.31701989314375,
          54.31639594657188,
          54.31661989314375
         ],
         "legendgroup": "group11",
         "line": {
          "color": "rgba(56,104,136,1)"
         },
         "lon": [
          10.131011743547822,
          10.131316183547822,
          10.131720981773912,
          10.131011743547822
         ],
         "mode": "lines",
         "showlegend": false,
         "type": "scattermapbox"
        },
        {
         "lat": [
          54.323583,
          54.337864
         ],
         "legendgroup": "group11",
         "line": {
          "color": "rgba(56,104,136,0.6)",
          "width": 3
         },
         "lon": [
          10.122278,
          10.133126
         ],
         "mode": "lines",
         "name": "Wilhelmplatz",
         "showlegend": false,
         "type": "scattermapbox"
        },
        {
         "fill": "toself",
         "fillcolor": "rgba(56,104,136,1)",
         "hoverinfo": "skip",
         "lat": [
          54.33653220386706,
          54.336966123867064,
          54.33730658193353,
          54.33653220386706
         ],
         "legendgroup": "group11",
         "line": {
          "color": "rgba(56,104,136,1)"
         },
         "lon": [
          10.132564778576421,
          10.131993538576422,
          10.13270257928821,
          10.132564778576421
         ],
         "mode": "lines",
         "showlegend": false,
         "type": "scattermapbox"
        },
        {
         "hoverinfo": "name",
         "lat": [
          54.333833
         ],
         "lon": [
          10.15225
         ],
         "marker": {
          "color": "red",
          "size": 12
         },
         "mode": "markers",
         "name": "Anleger Reventlou",
         "showlegend": false,
         "type": "scattermapbox"
        },
        {
         "hoverinfo": "name",
         "lat": [
          54.328528
         ],
         "lon": [
          10.134417
         ],
         "marker": {
          "color": "red",
          "size": 12
         },
         "mode": "markers",
         "name": "Dreiecksplatz",
         "showlegend": false,
         "type": "scattermapbox"
        },
        {
         "hoverinfo": "name",
         "lat": [
          54.35525
         ],
         "lon": [
          10.131611
         ],
         "marker": {
          "color": "red",
          "size": 12
         },
         "mode": "markers",
         "name": "MELUND-Olympiahochhaus",
         "showlegend": false,
         "type": "scattermapbox"
        },
        {
         "hoverinfo": "name",
         "lat": [
          54.316194
         ],
         "lon": [
          10.120583
         ],
         "marker": {
          "color": "red",
          "size": 12
         },
         "mode": "markers",
         "name": "Kirchhofallee",
         "showlegend": false,
         "type": "scattermapbox"
        },
        {
         "hoverinfo": "name",
         "lat": [
          54.315972
         ],
         "lon": [
          10.132278
         ],
         "marker": {
          "color": "red",
          "size": 12
         },
         "mode": "markers",
         "name": "Hauptbahnhof",
         "showlegend": false,
         "type": "scattermapbox"
        },
        {
         "hoverinfo": "name",
         "lat": [
          54.343444
         ],
         "lon": [
          10.111139
         ],
         "marker": {
          "color": "red",
          "size": 12
         },
         "mode": "markers",
         "name": "CAU Sportstätten",
         "showlegend": false,
         "type": "scattermapbox"
        },
        {
         "hoverinfo": "name",
         "lat": [
          54.337864
         ],
         "lon": [
          10.133126
         ],
         "marker": {
          "color": "red",
          "size": 12
         },
         "mode": "markers",
         "name": "Bernhard-Minetti-Platz",
         "showlegend": false,
         "type": "scattermapbox"
        },
        {
         "hoverinfo": "name",
         "lat": [
          54.328543
         ],
         "lon": [
          10.117925
         ],
         "marker": {
          "color": "red",
          "size": 12
         },
         "mode": "markers",
         "name": "Westring/Eckernförder Str.",
         "showlegend": false,
         "type": "scattermapbox"
        },
        {
         "hoverinfo": "name",
         "lat": [
          54.321583
         ],
         "lon": [
          10.128389
         ],
         "marker": {
          "color": "red",
          "size": 12
         },
         "mode": "markers",
         "name": "Exerzierplatz",
         "showlegend": false,
         "type": "scattermapbox"
        },
        {
         "hoverinfo": "name",
         "lat": [
          54.322806
         ],
         "lon": [
          10.139472
         ],
         "marker": {
          "color": "red",
          "size": 12
         },
         "mode": "markers",
         "name": "Alter Markt",
         "showlegend": false,
         "type": "scattermapbox"
        },
        {
         "hoverinfo": "name",
         "lat": [
          54.341722
         ],
         "lon": [
          10.136861
         ],
         "marker": {
          "color": "red",
          "size": 12
         },
         "mode": "markers",
         "name": "Blücherplatz",
         "showlegend": false,
         "type": "scattermapbox"
        },
        {
         "hoverinfo": "name",
         "lat": [
          54.323583
         ],
         "lon": [
          10.122278
         ],
         "marker": {
          "color": "red",
          "size": 12
         },
         "mode": "markers",
         "name": "Wilhelmplatz",
         "showlegend": false,
         "type": "scattermapbox"
        }
       ],
       "layout": {
        "autosize": true,
        "height": 450,
        "hovermode": "closest",
        "legend": {
         "bordercolor": "rgb(100,100,100)",
         "borderwidth": 2,
         "x": 0,
         "y": 1
        },
        "mapbox": {
         "accesstoken": "pk.eyJ1Ijoic3BpZWxlOTciLCJhIjoiY2xmNnl0M3gyMXJncTNwczl0MjFiamJmOSJ9.32cNAmknweeEma5kUwG-DA",
         "center": {
          "lat": 54.334221,
          "lon": 10.134417
         },
         "style": "light",
         "zoom": 12
        },
        "margin": {
         "b": 0,
         "l": 0,
         "r": 0,
         "t": 0
        },
        "showlegend": true,
        "template": {
         "data": {
          "bar": [
           {
            "error_x": {
             "color": "#2a3f5f"
            },
            "error_y": {
             "color": "#2a3f5f"
            },
            "marker": {
             "line": {
              "color": "#E5ECF6",
              "width": 0.5
             },
             "pattern": {
              "fillmode": "overlay",
              "size": 10,
              "solidity": 0.2
             }
            },
            "type": "bar"
           }
          ],
          "barpolar": [
           {
            "marker": {
             "line": {
              "color": "#E5ECF6",
              "width": 0.5
             },
             "pattern": {
              "fillmode": "overlay",
              "size": 10,
              "solidity": 0.2
             }
            },
            "type": "barpolar"
           }
          ],
          "carpet": [
           {
            "aaxis": {
             "endlinecolor": "#2a3f5f",
             "gridcolor": "white",
             "linecolor": "white",
             "minorgridcolor": "white",
             "startlinecolor": "#2a3f5f"
            },
            "baxis": {
             "endlinecolor": "#2a3f5f",
             "gridcolor": "white",
             "linecolor": "white",
             "minorgridcolor": "white",
             "startlinecolor": "#2a3f5f"
            },
            "type": "carpet"
           }
          ],
          "choropleth": [
           {
            "colorbar": {
             "outlinewidth": 0,
             "ticks": ""
            },
            "type": "choropleth"
           }
          ],
          "contour": [
           {
            "colorbar": {
             "outlinewidth": 0,
             "ticks": ""
            },
            "colorscale": [
             [
              0,
              "#0d0887"
             ],
             [
              0.1111111111111111,
              "#46039f"
             ],
             [
              0.2222222222222222,
              "#7201a8"
             ],
             [
              0.3333333333333333,
              "#9c179e"
             ],
             [
              0.4444444444444444,
              "#bd3786"
             ],
             [
              0.5555555555555556,
              "#d8576b"
             ],
             [
              0.6666666666666666,
              "#ed7953"
             ],
             [
              0.7777777777777778,
              "#fb9f3a"
             ],
             [
              0.8888888888888888,
              "#fdca26"
             ],
             [
              1,
              "#f0f921"
             ]
            ],
            "type": "contour"
           }
          ],
          "contourcarpet": [
           {
            "colorbar": {
             "outlinewidth": 0,
             "ticks": ""
            },
            "type": "contourcarpet"
           }
          ],
          "heatmap": [
           {
            "colorbar": {
             "outlinewidth": 0,
             "ticks": ""
            },
            "colorscale": [
             [
              0,
              "#0d0887"
             ],
             [
              0.1111111111111111,
              "#46039f"
             ],
             [
              0.2222222222222222,
              "#7201a8"
             ],
             [
              0.3333333333333333,
              "#9c179e"
             ],
             [
              0.4444444444444444,
              "#bd3786"
             ],
             [
              0.5555555555555556,
              "#d8576b"
             ],
             [
              0.6666666666666666,
              "#ed7953"
             ],
             [
              0.7777777777777778,
              "#fb9f3a"
             ],
             [
              0.8888888888888888,
              "#fdca26"
             ],
             [
              1,
              "#f0f921"
             ]
            ],
            "type": "heatmap"
           }
          ],
          "heatmapgl": [
           {
            "colorbar": {
             "outlinewidth": 0,
             "ticks": ""
            },
            "colorscale": [
             [
              0,
              "#0d0887"
             ],
             [
              0.1111111111111111,
              "#46039f"
             ],
             [
              0.2222222222222222,
              "#7201a8"
             ],
             [
              0.3333333333333333,
              "#9c179e"
             ],
             [
              0.4444444444444444,
              "#bd3786"
             ],
             [
              0.5555555555555556,
              "#d8576b"
             ],
             [
              0.6666666666666666,
              "#ed7953"
             ],
             [
              0.7777777777777778,
              "#fb9f3a"
             ],
             [
              0.8888888888888888,
              "#fdca26"
             ],
             [
              1,
              "#f0f921"
             ]
            ],
            "type": "heatmapgl"
           }
          ],
          "histogram": [
           {
            "marker": {
             "pattern": {
              "fillmode": "overlay",
              "size": 10,
              "solidity": 0.2
             }
            },
            "type": "histogram"
           }
          ],
          "histogram2d": [
           {
            "colorbar": {
             "outlinewidth": 0,
             "ticks": ""
            },
            "colorscale": [
             [
              0,
              "#0d0887"
             ],
             [
              0.1111111111111111,
              "#46039f"
             ],
             [
              0.2222222222222222,
              "#7201a8"
             ],
             [
              0.3333333333333333,
              "#9c179e"
             ],
             [
              0.4444444444444444,
              "#bd3786"
             ],
             [
              0.5555555555555556,
              "#d8576b"
             ],
             [
              0.6666666666666666,
              "#ed7953"
             ],
             [
              0.7777777777777778,
              "#fb9f3a"
             ],
             [
              0.8888888888888888,
              "#fdca26"
             ],
             [
              1,
              "#f0f921"
             ]
            ],
            "type": "histogram2d"
           }
          ],
          "histogram2dcontour": [
           {
            "colorbar": {
             "outlinewidth": 0,
             "ticks": ""
            },
            "colorscale": [
             [
              0,
              "#0d0887"
             ],
             [
              0.1111111111111111,
              "#46039f"
             ],
             [
              0.2222222222222222,
              "#7201a8"
             ],
             [
              0.3333333333333333,
              "#9c179e"
             ],
             [
              0.4444444444444444,
              "#bd3786"
             ],
             [
              0.5555555555555556,
              "#d8576b"
             ],
             [
              0.6666666666666666,
              "#ed7953"
             ],
             [
              0.7777777777777778,
              "#fb9f3a"
             ],
             [
              0.8888888888888888,
              "#fdca26"
             ],
             [
              1,
              "#f0f921"
             ]
            ],
            "type": "histogram2dcontour"
           }
          ],
          "mesh3d": [
           {
            "colorbar": {
             "outlinewidth": 0,
             "ticks": ""
            },
            "type": "mesh3d"
           }
          ],
          "parcoords": [
           {
            "line": {
             "colorbar": {
              "outlinewidth": 0,
              "ticks": ""
             }
            },
            "type": "parcoords"
           }
          ],
          "pie": [
           {
            "automargin": true,
            "type": "pie"
           }
          ],
          "scatter": [
           {
            "fillpattern": {
             "fillmode": "overlay",
             "size": 10,
             "solidity": 0.2
            },
            "type": "scatter"
           }
          ],
          "scatter3d": [
           {
            "line": {
             "colorbar": {
              "outlinewidth": 0,
              "ticks": ""
             }
            },
            "marker": {
             "colorbar": {
              "outlinewidth": 0,
              "ticks": ""
             }
            },
            "type": "scatter3d"
           }
          ],
          "scattercarpet": [
           {
            "marker": {
             "colorbar": {
              "outlinewidth": 0,
              "ticks": ""
             }
            },
            "type": "scattercarpet"
           }
          ],
          "scattergeo": [
           {
            "marker": {
             "colorbar": {
              "outlinewidth": 0,
              "ticks": ""
             }
            },
            "type": "scattergeo"
           }
          ],
          "scattergl": [
           {
            "marker": {
             "colorbar": {
              "outlinewidth": 0,
              "ticks": ""
             }
            },
            "type": "scattergl"
           }
          ],
          "scattermapbox": [
           {
            "marker": {
             "colorbar": {
              "outlinewidth": 0,
              "ticks": ""
             }
            },
            "type": "scattermapbox"
           }
          ],
          "scatterpolar": [
           {
            "marker": {
             "colorbar": {
              "outlinewidth": 0,
              "ticks": ""
             }
            },
            "type": "scatterpolar"
           }
          ],
          "scatterpolargl": [
           {
            "marker": {
             "colorbar": {
              "outlinewidth": 0,
              "ticks": ""
             }
            },
            "type": "scatterpolargl"
           }
          ],
          "scatterternary": [
           {
            "marker": {
             "colorbar": {
              "outlinewidth": 0,
              "ticks": ""
             }
            },
            "type": "scatterternary"
           }
          ],
          "surface": [
           {
            "colorbar": {
             "outlinewidth": 0,
             "ticks": ""
            },
            "colorscale": [
             [
              0,
              "#0d0887"
             ],
             [
              0.1111111111111111,
              "#46039f"
             ],
             [
              0.2222222222222222,
              "#7201a8"
             ],
             [
              0.3333333333333333,
              "#9c179e"
             ],
             [
              0.4444444444444444,
              "#bd3786"
             ],
             [
              0.5555555555555556,
              "#d8576b"
             ],
             [
              0.6666666666666666,
              "#ed7953"
             ],
             [
              0.7777777777777778,
              "#fb9f3a"
             ],
             [
              0.8888888888888888,
              "#fdca26"
             ],
             [
              1,
              "#f0f921"
             ]
            ],
            "type": "surface"
           }
          ],
          "table": [
           {
            "cells": {
             "fill": {
              "color": "#EBF0F8"
             },
             "line": {
              "color": "white"
             }
            },
            "header": {
             "fill": {
              "color": "#C8D4E3"
             },
             "line": {
              "color": "white"
             }
            },
            "type": "table"
           }
          ]
         },
         "layout": {
          "annotationdefaults": {
           "arrowcolor": "#2a3f5f",
           "arrowhead": 0,
           "arrowwidth": 1
          },
          "autotypenumbers": "strict",
          "coloraxis": {
           "colorbar": {
            "outlinewidth": 0,
            "ticks": ""
           }
          },
          "colorscale": {
           "diverging": [
            [
             0,
             "#8e0152"
            ],
            [
             0.1,
             "#c51b7d"
            ],
            [
             0.2,
             "#de77ae"
            ],
            [
             0.3,
             "#f1b6da"
            ],
            [
             0.4,
             "#fde0ef"
            ],
            [
             0.5,
             "#f7f7f7"
            ],
            [
             0.6,
             "#e6f5d0"
            ],
            [
             0.7,
             "#b8e186"
            ],
            [
             0.8,
             "#7fbc41"
            ],
            [
             0.9,
             "#4d9221"
            ],
            [
             1,
             "#276419"
            ]
           ],
           "sequential": [
            [
             0,
             "#0d0887"
            ],
            [
             0.1111111111111111,
             "#46039f"
            ],
            [
             0.2222222222222222,
             "#7201a8"
            ],
            [
             0.3333333333333333,
             "#9c179e"
            ],
            [
             0.4444444444444444,
             "#bd3786"
            ],
            [
             0.5555555555555556,
             "#d8576b"
            ],
            [
             0.6666666666666666,
             "#ed7953"
            ],
            [
             0.7777777777777778,
             "#fb9f3a"
            ],
            [
             0.8888888888888888,
             "#fdca26"
            ],
            [
             1,
             "#f0f921"
            ]
           ],
           "sequentialminus": [
            [
             0,
             "#0d0887"
            ],
            [
             0.1111111111111111,
             "#46039f"
            ],
            [
             0.2222222222222222,
             "#7201a8"
            ],
            [
             0.3333333333333333,
             "#9c179e"
            ],
            [
             0.4444444444444444,
             "#bd3786"
            ],
            [
             0.5555555555555556,
             "#d8576b"
            ],
            [
             0.6666666666666666,
             "#ed7953"
            ],
            [
             0.7777777777777778,
             "#fb9f3a"
            ],
            [
             0.8888888888888888,
             "#fdca26"
            ],
            [
             1,
             "#f0f921"
            ]
           ]
          },
          "colorway": [
           "#636efa",
           "#EF553B",
           "#00cc96",
           "#ab63fa",
           "#FFA15A",
           "#19d3f3",
           "#FF6692",
           "#B6E880",
           "#FF97FF",
           "#FECB52"
          ],
          "font": {
           "color": "#2a3f5f"
          },
          "geo": {
           "bgcolor": "white",
           "lakecolor": "white",
           "landcolor": "#E5ECF6",
           "showlakes": true,
           "showland": true,
           "subunitcolor": "white"
          },
          "hoverlabel": {
           "align": "left"
          },
          "hovermode": "closest",
          "mapbox": {
           "style": "light"
          },
          "paper_bgcolor": "white",
          "plot_bgcolor": "#E5ECF6",
          "polar": {
           "angularaxis": {
            "gridcolor": "white",
            "linecolor": "white",
            "ticks": ""
           },
           "bgcolor": "#E5ECF6",
           "radialaxis": {
            "gridcolor": "white",
            "linecolor": "white",
            "ticks": ""
           }
          },
          "scene": {
           "xaxis": {
            "backgroundcolor": "#E5ECF6",
            "gridcolor": "white",
            "gridwidth": 2,
            "linecolor": "white",
            "showbackground": true,
            "ticks": "",
            "zerolinecolor": "white"
           },
           "yaxis": {
            "backgroundcolor": "#E5ECF6",
            "gridcolor": "white",
            "gridwidth": 2,
            "linecolor": "white",
            "showbackground": true,
            "ticks": "",
            "zerolinecolor": "white"
           },
           "zaxis": {
            "backgroundcolor": "#E5ECF6",
            "gridcolor": "white",
            "gridwidth": 2,
            "linecolor": "white",
            "showbackground": true,
            "ticks": "",
            "zerolinecolor": "white"
           }
          },
          "shapedefaults": {
           "line": {
            "color": "#2a3f5f"
           }
          },
          "ternary": {
           "aaxis": {
            "gridcolor": "white",
            "linecolor": "white",
            "ticks": ""
           },
           "baxis": {
            "gridcolor": "white",
            "linecolor": "white",
            "ticks": ""
           },
           "bgcolor": "#E5ECF6",
           "caxis": {
            "gridcolor": "white",
            "linecolor": "white",
            "ticks": ""
           }
          },
          "title": {
           "x": 0.05
          },
          "xaxis": {
           "automargin": true,
           "gridcolor": "white",
           "linecolor": "white",
           "ticks": "",
           "title": {
            "standoff": 15
           },
           "zerolinecolor": "white",
           "zerolinewidth": 2
          },
          "yaxis": {
           "automargin": true,
           "gridcolor": "white",
           "linecolor": "white",
           "ticks": "",
           "title": {
            "standoff": 15
           },
           "zerolinecolor": "white",
           "zerolinewidth": 2
          }
         }
        },
        "width": 950
       }
      }
     },
     "metadata": {},
     "output_type": "display_data"
    }
   ],
   "source": [
    "# access Token\n",
    "mapbox_access_token = open(\".mapbox_token\").read()\n",
    "\n",
    "pointer_name = attributes_df.station\n",
    "pointer_lat = attributes_df.lat\n",
    "pointer_lon = attributes_df.lon\n",
    "list_of_colors = [(32,32,218), (198,48,149), (0,127,0), (255,255,0), (95,0,0), (95,95,95), (187,127,243), \n",
    "                  (187,193,243), (255,166,0), (185,103,0), (56,26,136), (56,104,136), (232,104,136), (232,162,232)] \n",
    "\n",
    "fig = go.Figure()\n",
    "j = 0\n",
    "weight = [1, 0.6]\n",
    "\n",
    "for station in station_id_list:\n",
    "    start_lat_list, end_lat_list, start_lon_list, end_lon_list, station_name = get_only_the_most_taken_route(most_common_routes_df, station)\n",
    "\n",
    "    for i in range(len(start_lat_list)):\n",
    "        if i == 0:\n",
    "            fig.add_trace(go.Scattermapbox(\n",
    "                        mode = \"lines\",\n",
    "                        lat = [start_lat_list[i], end_lat_list[i]],\n",
    "                        lon = [start_lon_list[i], end_lon_list[i]],\n",
    "                        showlegend = True,\n",
    "                        line = dict(color = 'rgba(%s,%s,%s,%s)' %(list_of_colors[j][0], list_of_colors[j][1], list_of_colors[j][2], \n",
    "                                                                weight[i]), width = 3\n",
    "                                    ),\n",
    "                        legendgroup = \"group\" + str(j),\n",
    "                        name = station_name[0],\n",
    "                        )\n",
    "            )\n",
    "        else:   \n",
    "            fig.add_trace(go.Scattermapbox(\n",
    "                        mode = \"lines\",\n",
    "                        lat = [start_lat_list[i], end_lat_list[i]],\n",
    "                        lon = [start_lon_list[i], end_lon_list[i]],\n",
    "                        showlegend = False,\n",
    "                        line = dict(color = 'rgba(%s,%s,%s,%s)' %(list_of_colors[j][0], list_of_colors[j][1], list_of_colors[j][2], \n",
    "                                                                weight[i]), width = 3\n",
    "                                    ),\n",
    "                        legendgroup = \"group\" + str(j),\n",
    "                        name = station_name[0],\n",
    "                        )\n",
    "            ) \n",
    "\n",
    "        # create arrows and plot on map\n",
    "        widh = 0.02  #2*widh is the width of the arrow base as triangle\n",
    "        l = 0.0007 # the arrow length\n",
    "\n",
    "        A = np.array([start_lon_list[i],start_lat_list[i]])\n",
    "        B = np.array([end_lon_list[i], end_lat_list[i]])\n",
    "        v = B-A\n",
    "        w = v/np.linalg.norm(v)     \n",
    "        u  =np.array([-v[1], v[0]])\n",
    "        P = B-2*l*w\n",
    "        P_2 = B-l*w\n",
    "        S = P - widh*u\n",
    "        T = P + widh*u\n",
    "\n",
    "        fig.add_trace(go.Scattermapbox(lon = [S[0], T[0], P_2[0], S[0]], \n",
    "                                    lat = [S[1], T[1], P_2[1], S[1]], \n",
    "                                    mode = 'lines', \n",
    "                                    fill = 'toself', \n",
    "                                    fillcolor = 'rgba(%s,%s,%s,1)' %(list_of_colors[j][0], list_of_colors[j][1], list_of_colors[j][2]), \n",
    "                                    line_color = 'rgba(%s,%s,%s,1)' %(list_of_colors[j][0], list_of_colors[j][1], list_of_colors[j][2]),\n",
    "                                    showlegend = False,\n",
    "                                    hoverinfo = 'skip',\n",
    "                                    legendgroup = \"group\" + str(j),\n",
    "                                    ))\n",
    "\n",
    "    j += 1\n",
    "\n",
    "for i in range(len(pointer_lat)):\n",
    "    fig.add_trace(go.Scattermapbox(\n",
    "        lat = [pointer_lat[i]],\n",
    "        lon = [pointer_lon[i]],\n",
    "        mode = \"markers\",\n",
    "        marker = {'size': 12, 'color': 'red'},\n",
    "        hoverinfo = 'name',\n",
    "        showlegend = False,\n",
    "        name = pointer_name[i]\n",
    "    ))\n",
    "\n",
    "fig.update_layout(\n",
    "    #title = \"Most common routes taken\",\n",
    "    autosize = True,\n",
    "    hovermode = \"closest\",\n",
    "    showlegend = True,\n",
    "    mapbox = dict(\n",
    "        accesstoken = mapbox_access_token,\n",
    "        center = dict(\n",
    "            lat = 54.334221,\n",
    "            lon = 10.134417,             \n",
    "            ),\n",
    "        zoom = 12,\n",
    "        style = \"light\"\n",
    "        ),\n",
    "    width = 950,\n",
    "    height =  450,\n",
    "    margin = dict(l=0, r=0, b=0, t=0),\n",
    "    legend = dict(bordercolor='rgb(100,100,100)',\n",
    "                                borderwidth=2,\n",
    "                                x=0,\n",
    "                                y=1)\n",
    ")\n",
    "\n",
    "#plotly.offline.plot(fig, filename=r\"./web_application/src/html/plotly_routes/2_mos_taken_routes.html\")\n",
    "fig.show()\n",
    "\n"
   ]
  },
  {
   "cell_type": "code",
   "execution_count": 13,
   "metadata": {},
   "outputs": [
    {
     "data": {
      "text/html": [
       "<div>\n",
       "<style scoped>\n",
       "    .dataframe tbody tr th:only-of-type {\n",
       "        vertical-align: middle;\n",
       "    }\n",
       "\n",
       "    .dataframe tbody tr th {\n",
       "        vertical-align: top;\n",
       "    }\n",
       "\n",
       "    .dataframe thead th {\n",
       "        text-align: right;\n",
       "    }\n",
       "</style>\n",
       "<table border=\"1\" class=\"dataframe\">\n",
       "  <thead>\n",
       "    <tr style=\"text-align: right;\">\n",
       "      <th></th>\n",
       "      <th>start_station</th>\n",
       "      <th>end_station</th>\n",
       "      <th>weight</th>\n",
       "      <th>start_name</th>\n",
       "      <th>start_lat</th>\n",
       "      <th>start_lon</th>\n",
       "      <th>end_name</th>\n",
       "      <th>end_lat</th>\n",
       "      <th>end_lon</th>\n",
       "    </tr>\n",
       "  </thead>\n",
       "  <tbody>\n",
       "    <tr>\n",
       "      <th>0</th>\n",
       "      <td>24371</td>\n",
       "      <td>24385</td>\n",
       "      <td>116</td>\n",
       "      <td>Anleger Reventlou</td>\n",
       "      <td>54.333833</td>\n",
       "      <td>10.152250</td>\n",
       "      <td>Dreiecksplatz</td>\n",
       "      <td>54.328528</td>\n",
       "      <td>10.134417</td>\n",
       "    </tr>\n",
       "    <tr>\n",
       "      <th>1</th>\n",
       "      <td>24371</td>\n",
       "      <td>24412</td>\n",
       "      <td>138</td>\n",
       "      <td>Anleger Reventlou</td>\n",
       "      <td>54.333833</td>\n",
       "      <td>10.152250</td>\n",
       "      <td>MELUND-Olympiahochhaus</td>\n",
       "      <td>54.355250</td>\n",
       "      <td>10.131611</td>\n",
       "    </tr>\n",
       "    <tr>\n",
       "      <th>2</th>\n",
       "      <td>24371</td>\n",
       "      <td>24376</td>\n",
       "      <td>149</td>\n",
       "      <td>Anleger Reventlou</td>\n",
       "      <td>54.333833</td>\n",
       "      <td>10.152250</td>\n",
       "      <td>Kirchhofallee</td>\n",
       "      <td>54.316194</td>\n",
       "      <td>10.120583</td>\n",
       "    </tr>\n",
       "    <tr>\n",
       "      <th>3</th>\n",
       "      <td>24371</td>\n",
       "      <td>24397</td>\n",
       "      <td>254</td>\n",
       "      <td>Anleger Reventlou</td>\n",
       "      <td>54.333833</td>\n",
       "      <td>10.152250</td>\n",
       "      <td>Hauptbahnhof</td>\n",
       "      <td>54.315972</td>\n",
       "      <td>10.132278</td>\n",
       "    </tr>\n",
       "    <tr>\n",
       "      <th>4</th>\n",
       "      <td>24371</td>\n",
       "      <td>24383</td>\n",
       "      <td>116</td>\n",
       "      <td>Anleger Reventlou</td>\n",
       "      <td>54.333833</td>\n",
       "      <td>10.152250</td>\n",
       "      <td>CAU Sportstätten</td>\n",
       "      <td>54.343444</td>\n",
       "      <td>10.111139</td>\n",
       "    </tr>\n",
       "    <tr>\n",
       "      <th>...</th>\n",
       "      <td>...</td>\n",
       "      <td>...</td>\n",
       "      <td>...</td>\n",
       "      <td>...</td>\n",
       "      <td>...</td>\n",
       "      <td>...</td>\n",
       "      <td>...</td>\n",
       "      <td>...</td>\n",
       "      <td>...</td>\n",
       "    </tr>\n",
       "    <tr>\n",
       "      <th>127</th>\n",
       "      <td>24382</td>\n",
       "      <td>24413</td>\n",
       "      <td>126</td>\n",
       "      <td>Wilhelmplatz</td>\n",
       "      <td>54.323583</td>\n",
       "      <td>10.122278</td>\n",
       "      <td>Bernhard-Minetti-Platz</td>\n",
       "      <td>54.337864</td>\n",
       "      <td>10.133126</td>\n",
       "    </tr>\n",
       "    <tr>\n",
       "      <th>128</th>\n",
       "      <td>24382</td>\n",
       "      <td>24381</td>\n",
       "      <td>96</td>\n",
       "      <td>Wilhelmplatz</td>\n",
       "      <td>54.323583</td>\n",
       "      <td>10.122278</td>\n",
       "      <td>Westring/Eckernförder Str.</td>\n",
       "      <td>54.328543</td>\n",
       "      <td>10.117925</td>\n",
       "    </tr>\n",
       "    <tr>\n",
       "      <th>129</th>\n",
       "      <td>24382</td>\n",
       "      <td>24399</td>\n",
       "      <td>86</td>\n",
       "      <td>Wilhelmplatz</td>\n",
       "      <td>54.323583</td>\n",
       "      <td>10.122278</td>\n",
       "      <td>Exerzierplatz</td>\n",
       "      <td>54.321583</td>\n",
       "      <td>10.128389</td>\n",
       "    </tr>\n",
       "    <tr>\n",
       "      <th>130</th>\n",
       "      <td>24382</td>\n",
       "      <td>24370</td>\n",
       "      <td>120</td>\n",
       "      <td>Wilhelmplatz</td>\n",
       "      <td>54.323583</td>\n",
       "      <td>10.122278</td>\n",
       "      <td>Alter Markt</td>\n",
       "      <td>54.322806</td>\n",
       "      <td>10.139472</td>\n",
       "    </tr>\n",
       "    <tr>\n",
       "      <th>131</th>\n",
       "      <td>24382</td>\n",
       "      <td>24391</td>\n",
       "      <td>111</td>\n",
       "      <td>Wilhelmplatz</td>\n",
       "      <td>54.323583</td>\n",
       "      <td>10.122278</td>\n",
       "      <td>Blücherplatz</td>\n",
       "      <td>54.341722</td>\n",
       "      <td>10.136861</td>\n",
       "    </tr>\n",
       "  </tbody>\n",
       "</table>\n",
       "<p>132 rows × 9 columns</p>\n",
       "</div>"
      ],
      "text/plain": [
       "     start_station  end_station  weight         start_name  start_lat  \\\n",
       "0            24371        24385     116  Anleger Reventlou  54.333833   \n",
       "1            24371        24412     138  Anleger Reventlou  54.333833   \n",
       "2            24371        24376     149  Anleger Reventlou  54.333833   \n",
       "3            24371        24397     254  Anleger Reventlou  54.333833   \n",
       "4            24371        24383     116  Anleger Reventlou  54.333833   \n",
       "..             ...          ...     ...                ...        ...   \n",
       "127          24382        24413     126       Wilhelmplatz  54.323583   \n",
       "128          24382        24381      96       Wilhelmplatz  54.323583   \n",
       "129          24382        24399      86       Wilhelmplatz  54.323583   \n",
       "130          24382        24370     120       Wilhelmplatz  54.323583   \n",
       "131          24382        24391     111       Wilhelmplatz  54.323583   \n",
       "\n",
       "     start_lon                    end_name    end_lat    end_lon  \n",
       "0    10.152250               Dreiecksplatz  54.328528  10.134417  \n",
       "1    10.152250      MELUND-Olympiahochhaus  54.355250  10.131611  \n",
       "2    10.152250               Kirchhofallee  54.316194  10.120583  \n",
       "3    10.152250                Hauptbahnhof  54.315972  10.132278  \n",
       "4    10.152250            CAU Sportstätten  54.343444  10.111139  \n",
       "..         ...                         ...        ...        ...  \n",
       "127  10.122278      Bernhard-Minetti-Platz  54.337864  10.133126  \n",
       "128  10.122278  Westring/Eckernförder Str.  54.328543  10.117925  \n",
       "129  10.122278               Exerzierplatz  54.321583  10.128389  \n",
       "130  10.122278                 Alter Markt  54.322806  10.139472  \n",
       "131  10.122278                Blücherplatz  54.341722  10.136861  \n",
       "\n",
       "[132 rows x 9 columns]"
      ]
     },
     "execution_count": 13,
     "metadata": {},
     "output_type": "execute_result"
    }
   ],
   "source": [
    "most_common_routes_df"
   ]
  },
  {
   "cell_type": "code",
   "execution_count": 14,
   "metadata": {},
   "outputs": [
    {
     "data": {
      "text/plain": [
       "[[0, 116, 138, 149, 254, 116, 155, 126, 106, 152, 149, 142],\n",
       " [103, 0, 85, 114, 169, 75, 101, 87, 80, 91, 106, 100],\n",
       " [95, 83, 0, 74, 124, 60, 87, 79, 67, 81, 77, 67],\n",
       " [142, 135, 101, 0, 199, 111, 124, 116, 101, 149, 116, 119],\n",
       " [264, 223, 183, 243, 0, 173, 235, 226, 153, 250, 196, 224],\n",
       " [97, 90, 79, 100, 135, 0, 87, 98, 64, 102, 94, 104],\n",
       " [126, 121, 99, 120, 170, 106, 0, 116, 91, 113, 100, 128],\n",
       " [102, 89, 74, 103, 169, 81, 113, 0, 71, 118, 106, 100],\n",
       " [82, 79, 62, 83, 139, 70, 105, 72, 0, 80, 89, 83],\n",
       " [95, 99, 87, 126, 186, 79, 119, 106, 82, 0, 103, 124],\n",
       " [114, 108, 74, 114, 181, 100, 106, 115, 69, 101, 0, 103],\n",
       " [120, 115, 90, 114, 184, 111, 126, 96, 86, 120, 111, 0]]"
      ]
     },
     "execution_count": 14,
     "metadata": {},
     "output_type": "execute_result"
    }
   ],
   "source": [
    "station_id_list = most_common_routes_df[\"start_station\"].unique()\n",
    "weight = most_common_routes_df[\"weight\"].to_list()\n",
    "\n",
    "\n",
    "id_to_index = {}\n",
    "index = 0\n",
    "for id in station_id_list:\n",
    "    id_to_index[id] = index\n",
    "    index += 1\n",
    "\n",
    "adjacency_matrix = []\n",
    "index_weight = 0\n",
    "\n",
    "for row in range(len(station_id_list)):\n",
    "    row = []\n",
    "    for col in range(len(station_id_list) - 1):\n",
    "        row.append(weight[index_weight])\n",
    "        index_weight += 1\n",
    "    adjacency_matrix.append(row)\n",
    "\n",
    "# add 0 at the diagonal (distance from the same station)\n",
    "for row in range(len(station_id_list)):\n",
    "    for col in range(len(station_id_list) - 1):\n",
    "        if row == col:\n",
    "            adjacency_matrix[row][col:col] = [0]\n",
    "adjacency_matrix[row][col + 1:] = [0]\n",
    "adjacency_matrix\n"
   ]
  },
  {
   "cell_type": "code",
   "execution_count": 15,
   "metadata": {},
   "outputs": [
    {
     "data": {
      "text/html": [
       "<div>\n",
       "<style scoped>\n",
       "    .dataframe tbody tr th:only-of-type {\n",
       "        vertical-align: middle;\n",
       "    }\n",
       "\n",
       "    .dataframe tbody tr th {\n",
       "        vertical-align: top;\n",
       "    }\n",
       "\n",
       "    .dataframe thead tr th {\n",
       "        text-align: left;\n",
       "    }\n",
       "</style>\n",
       "<table border=\"1\" class=\"dataframe\">\n",
       "  <thead>\n",
       "    <tr>\n",
       "      <th></th>\n",
       "      <th>Anleger Reventlou</th>\n",
       "      <th>Dreiecksplatz</th>\n",
       "      <th>MELUND-Olympiahochhaus</th>\n",
       "      <th>Kirchhofallee</th>\n",
       "      <th>Hauptbahnhof</th>\n",
       "      <th>CAU Sportstätten</th>\n",
       "      <th>Bernhard-Minetti-Platz</th>\n",
       "      <th>Westring/Eckernförder Str.</th>\n",
       "      <th>Exerzierplatz</th>\n",
       "      <th>Alter Markt</th>\n",
       "      <th>Blücherplatz</th>\n",
       "      <th>Wilhelmplatz</th>\n",
       "    </tr>\n",
       "  </thead>\n",
       "  <tbody>\n",
       "    <tr>\n",
       "      <th>Anleger Reventlou</th>\n",
       "      <td>0</td>\n",
       "      <td>116</td>\n",
       "      <td>138</td>\n",
       "      <td>149</td>\n",
       "      <td>254</td>\n",
       "      <td>116</td>\n",
       "      <td>155</td>\n",
       "      <td>126</td>\n",
       "      <td>106</td>\n",
       "      <td>152</td>\n",
       "      <td>149</td>\n",
       "      <td>142</td>\n",
       "    </tr>\n",
       "    <tr>\n",
       "      <th>Dreiecksplatz</th>\n",
       "      <td>103</td>\n",
       "      <td>0</td>\n",
       "      <td>85</td>\n",
       "      <td>114</td>\n",
       "      <td>169</td>\n",
       "      <td>75</td>\n",
       "      <td>101</td>\n",
       "      <td>87</td>\n",
       "      <td>80</td>\n",
       "      <td>91</td>\n",
       "      <td>106</td>\n",
       "      <td>100</td>\n",
       "    </tr>\n",
       "    <tr>\n",
       "      <th>MELUND-Olympiahochhaus</th>\n",
       "      <td>95</td>\n",
       "      <td>83</td>\n",
       "      <td>0</td>\n",
       "      <td>74</td>\n",
       "      <td>124</td>\n",
       "      <td>60</td>\n",
       "      <td>87</td>\n",
       "      <td>79</td>\n",
       "      <td>67</td>\n",
       "      <td>81</td>\n",
       "      <td>77</td>\n",
       "      <td>67</td>\n",
       "    </tr>\n",
       "    <tr>\n",
       "      <th>Kirchhofallee</th>\n",
       "      <td>142</td>\n",
       "      <td>135</td>\n",
       "      <td>101</td>\n",
       "      <td>0</td>\n",
       "      <td>199</td>\n",
       "      <td>111</td>\n",
       "      <td>124</td>\n",
       "      <td>116</td>\n",
       "      <td>101</td>\n",
       "      <td>149</td>\n",
       "      <td>116</td>\n",
       "      <td>119</td>\n",
       "    </tr>\n",
       "    <tr>\n",
       "      <th>Hauptbahnhof</th>\n",
       "      <td>264</td>\n",
       "      <td>223</td>\n",
       "      <td>183</td>\n",
       "      <td>243</td>\n",
       "      <td>0</td>\n",
       "      <td>173</td>\n",
       "      <td>235</td>\n",
       "      <td>226</td>\n",
       "      <td>153</td>\n",
       "      <td>250</td>\n",
       "      <td>196</td>\n",
       "      <td>224</td>\n",
       "    </tr>\n",
       "    <tr>\n",
       "      <th>CAU Sportstätten</th>\n",
       "      <td>97</td>\n",
       "      <td>90</td>\n",
       "      <td>79</td>\n",
       "      <td>100</td>\n",
       "      <td>135</td>\n",
       "      <td>0</td>\n",
       "      <td>87</td>\n",
       "      <td>98</td>\n",
       "      <td>64</td>\n",
       "      <td>102</td>\n",
       "      <td>94</td>\n",
       "      <td>104</td>\n",
       "    </tr>\n",
       "    <tr>\n",
       "      <th>Bernhard-Minetti-Platz</th>\n",
       "      <td>126</td>\n",
       "      <td>121</td>\n",
       "      <td>99</td>\n",
       "      <td>120</td>\n",
       "      <td>170</td>\n",
       "      <td>106</td>\n",
       "      <td>0</td>\n",
       "      <td>116</td>\n",
       "      <td>91</td>\n",
       "      <td>113</td>\n",
       "      <td>100</td>\n",
       "      <td>128</td>\n",
       "    </tr>\n",
       "    <tr>\n",
       "      <th>Westring/Eckernförder Str.</th>\n",
       "      <td>102</td>\n",
       "      <td>89</td>\n",
       "      <td>74</td>\n",
       "      <td>103</td>\n",
       "      <td>169</td>\n",
       "      <td>81</td>\n",
       "      <td>113</td>\n",
       "      <td>0</td>\n",
       "      <td>71</td>\n",
       "      <td>118</td>\n",
       "      <td>106</td>\n",
       "      <td>100</td>\n",
       "    </tr>\n",
       "    <tr>\n",
       "      <th>Exerzierplatz</th>\n",
       "      <td>82</td>\n",
       "      <td>79</td>\n",
       "      <td>62</td>\n",
       "      <td>83</td>\n",
       "      <td>139</td>\n",
       "      <td>70</td>\n",
       "      <td>105</td>\n",
       "      <td>72</td>\n",
       "      <td>0</td>\n",
       "      <td>80</td>\n",
       "      <td>89</td>\n",
       "      <td>83</td>\n",
       "    </tr>\n",
       "    <tr>\n",
       "      <th>Alter Markt</th>\n",
       "      <td>95</td>\n",
       "      <td>99</td>\n",
       "      <td>87</td>\n",
       "      <td>126</td>\n",
       "      <td>186</td>\n",
       "      <td>79</td>\n",
       "      <td>119</td>\n",
       "      <td>106</td>\n",
       "      <td>82</td>\n",
       "      <td>0</td>\n",
       "      <td>103</td>\n",
       "      <td>124</td>\n",
       "    </tr>\n",
       "    <tr>\n",
       "      <th>Blücherplatz</th>\n",
       "      <td>114</td>\n",
       "      <td>108</td>\n",
       "      <td>74</td>\n",
       "      <td>114</td>\n",
       "      <td>181</td>\n",
       "      <td>100</td>\n",
       "      <td>106</td>\n",
       "      <td>115</td>\n",
       "      <td>69</td>\n",
       "      <td>101</td>\n",
       "      <td>0</td>\n",
       "      <td>103</td>\n",
       "    </tr>\n",
       "    <tr>\n",
       "      <th>Wilhelmplatz</th>\n",
       "      <td>120</td>\n",
       "      <td>115</td>\n",
       "      <td>90</td>\n",
       "      <td>114</td>\n",
       "      <td>184</td>\n",
       "      <td>111</td>\n",
       "      <td>126</td>\n",
       "      <td>96</td>\n",
       "      <td>86</td>\n",
       "      <td>120</td>\n",
       "      <td>111</td>\n",
       "      <td>0</td>\n",
       "    </tr>\n",
       "  </tbody>\n",
       "</table>\n",
       "</div>"
      ],
      "text/plain": [
       "                           Anleger Reventlou Dreiecksplatz  \\\n",
       "Anleger Reventlou                          0           116   \n",
       "Dreiecksplatz                            103             0   \n",
       "MELUND-Olympiahochhaus                    95            83   \n",
       "Kirchhofallee                            142           135   \n",
       "Hauptbahnhof                             264           223   \n",
       "CAU Sportstätten                          97            90   \n",
       "Bernhard-Minetti-Platz                   126           121   \n",
       "Westring/Eckernförder Str.               102            89   \n",
       "Exerzierplatz                             82            79   \n",
       "Alter Markt                               95            99   \n",
       "Blücherplatz                             114           108   \n",
       "Wilhelmplatz                             120           115   \n",
       "\n",
       "                           MELUND-Olympiahochhaus Kirchhofallee Hauptbahnhof  \\\n",
       "Anleger Reventlou                             138           149          254   \n",
       "Dreiecksplatz                                  85           114          169   \n",
       "MELUND-Olympiahochhaus                          0            74          124   \n",
       "Kirchhofallee                                 101             0          199   \n",
       "Hauptbahnhof                                  183           243            0   \n",
       "CAU Sportstätten                               79           100          135   \n",
       "Bernhard-Minetti-Platz                         99           120          170   \n",
       "Westring/Eckernförder Str.                     74           103          169   \n",
       "Exerzierplatz                                  62            83          139   \n",
       "Alter Markt                                    87           126          186   \n",
       "Blücherplatz                                   74           114          181   \n",
       "Wilhelmplatz                                   90           114          184   \n",
       "\n",
       "                           CAU Sportstätten Bernhard-Minetti-Platz  \\\n",
       "Anleger Reventlou                       116                    155   \n",
       "Dreiecksplatz                            75                    101   \n",
       "MELUND-Olympiahochhaus                   60                     87   \n",
       "Kirchhofallee                           111                    124   \n",
       "Hauptbahnhof                            173                    235   \n",
       "CAU Sportstätten                          0                     87   \n",
       "Bernhard-Minetti-Platz                  106                      0   \n",
       "Westring/Eckernförder Str.               81                    113   \n",
       "Exerzierplatz                            70                    105   \n",
       "Alter Markt                              79                    119   \n",
       "Blücherplatz                            100                    106   \n",
       "Wilhelmplatz                            111                    126   \n",
       "\n",
       "                           Westring/Eckernförder Str. Exerzierplatz  \\\n",
       "Anleger Reventlou                                 126           106   \n",
       "Dreiecksplatz                                      87            80   \n",
       "MELUND-Olympiahochhaus                             79            67   \n",
       "Kirchhofallee                                     116           101   \n",
       "Hauptbahnhof                                      226           153   \n",
       "CAU Sportstätten                                   98            64   \n",
       "Bernhard-Minetti-Platz                            116            91   \n",
       "Westring/Eckernförder Str.                          0            71   \n",
       "Exerzierplatz                                      72             0   \n",
       "Alter Markt                                       106            82   \n",
       "Blücherplatz                                      115            69   \n",
       "Wilhelmplatz                                       96            86   \n",
       "\n",
       "                           Alter Markt Blücherplatz Wilhelmplatz  \n",
       "Anleger Reventlou                  152          149          142  \n",
       "Dreiecksplatz                       91          106          100  \n",
       "MELUND-Olympiahochhaus              81           77           67  \n",
       "Kirchhofallee                      149          116          119  \n",
       "Hauptbahnhof                       250          196          224  \n",
       "CAU Sportstätten                   102           94          104  \n",
       "Bernhard-Minetti-Platz             113          100          128  \n",
       "Westring/Eckernförder Str.         118          106          100  \n",
       "Exerzierplatz                       80           89           83  \n",
       "Alter Markt                          0          103          124  \n",
       "Blücherplatz                       101            0          103  \n",
       "Wilhelmplatz                       120          111            0  "
      ]
     },
     "execution_count": 15,
     "metadata": {},
     "output_type": "execute_result"
    }
   ],
   "source": [
    "station_names = most_common_routes_df[\"start_name\"].unique()\n",
    "\n",
    "adjacency_matrix_df = pd.DataFrame(adjacency_matrix, columns=[station_names], index=station_names)\n",
    "adjacency_matrix_df\n"
   ]
  },
  {
   "attachments": {},
   "cell_type": "markdown",
   "metadata": {},
   "source": [
    "Plot the adjacency matrix as a heatmap"
   ]
  },
  {
   "cell_type": "code",
   "execution_count": 16,
   "metadata": {},
   "outputs": [
    {
     "data": {
      "text/plain": [
       "Text(0.5, 23.52222222222222, '')"
      ]
     },
     "execution_count": 16,
     "metadata": {},
     "output_type": "execute_result"
    },
    {
     "data": {
      "image/png": "[encoded data removed]",
      "text/plain": [
       "<Figure size 640x480 with 2 Axes>"
      ]
     },
     "metadata": {},
     "output_type": "display_data"
    }
   ],
   "source": [
    "ax = plt.axes()\n",
    "sns.heatmap(adjacency_matrix_df, ax = ax)\n",
    "plt.xlabel(\"\")\n"
   ]
  },
  {
   "cell_type": "code",
   "execution_count": 17,
   "metadata": {},
   "outputs": [
    {
     "data": {
      "text/plain": [
       "{'Anleger Reventlou': 0.08764232540969527,\n",
       " 'Dreiecksplatz': 0.08059953769310213,\n",
       " 'MELUND-Olympiahochhaus': 0.06818707062094756,\n",
       " 'Kirchhofallee': 0.08688516791975961,\n",
       " 'Hauptbahnhof': 0.12715022997463518,\n",
       " 'CAU Sportstätten': 0.06973406995533439,\n",
       " 'Bernhard-Minetti-Platz': 0.08737494909156614,\n",
       " 'Westring/Eckernförder Str.': 0.0793330792414101,\n",
       " 'Exerzierplatz': 0.06274502264638566,\n",
       " 'Alter Markt': 0.08644758440612553,\n",
       " 'Blücherplatz': 0.08041981108674837,\n",
       " 'Wilhelmplatz': 0.08348115195429014}"
      ]
     },
     "execution_count": 17,
     "metadata": {},
     "output_type": "execute_result"
    }
   ],
   "source": [
    "nodes = adjacency_matrix_df.index.values.tolist()\n",
    "\n",
    "# add nodes\n",
    "G = nx.DiGraph()\n",
    "G.add_nodes_from(nodes)\n",
    "\n",
    "# add weights\n",
    "for row in range(len(adjacency_matrix[0])):\n",
    "    for col in range(len(adjacency_matrix)):\n",
    "        if not (row == col):\n",
    "            G.add_edge(nodes[row], nodes[col], weight=adjacency_matrix[row][col])\n",
    "\n",
    "# PageRanking\n",
    "pagerank = nx.pagerank(G, alpha=1, max_iter=100, tol=1e-06, nstart=None, weight='weight')\n",
    "pagerank\n",
    "\n"
   ]
  },
  {
   "attachments": {},
   "cell_type": "markdown",
   "metadata": {},
   "source": [
    "Create Dataframe with the new gained informations to visualize the pagerank"
   ]
  },
  {
   "cell_type": "code",
   "execution_count": 18,
   "metadata": {},
   "outputs": [
    {
     "name": "stdout",
     "output_type": "stream",
     "text": [
      "                  station        lat        lon    ranked\n",
      "0       Anleger Reventlou  54.333833  10.152250  0.087642\n",
      "3           Kirchhofallee  54.316194  10.120583  0.086885\n",
      "4            Hauptbahnhof  54.315972  10.132278  0.127150\n",
      "6  Bernhard-Minetti-Platz  54.337864  10.133126  0.087375\n",
      "9             Alter Markt  54.322806  10.139472  0.086448\n"
     ]
    },
    {
     "data": {
      "text/html": [
       "<div>\n",
       "<style scoped>\n",
       "    .dataframe tbody tr th:only-of-type {\n",
       "        vertical-align: middle;\n",
       "    }\n",
       "\n",
       "    .dataframe tbody tr th {\n",
       "        vertical-align: top;\n",
       "    }\n",
       "\n",
       "    .dataframe thead th {\n",
       "        text-align: right;\n",
       "    }\n",
       "</style>\n",
       "<table border=\"1\" class=\"dataframe\">\n",
       "  <thead>\n",
       "    <tr style=\"text-align: right;\">\n",
       "      <th></th>\n",
       "      <th>station</th>\n",
       "      <th>lat</th>\n",
       "      <th>lon</th>\n",
       "      <th>ranked</th>\n",
       "    </tr>\n",
       "  </thead>\n",
       "  <tbody>\n",
       "    <tr>\n",
       "      <th>1</th>\n",
       "      <td>Dreiecksplatz</td>\n",
       "      <td>54.328528</td>\n",
       "      <td>10.134417</td>\n",
       "      <td>0.080600</td>\n",
       "    </tr>\n",
       "    <tr>\n",
       "      <th>2</th>\n",
       "      <td>MELUND-Olympiahochhaus</td>\n",
       "      <td>54.355250</td>\n",
       "      <td>10.131611</td>\n",
       "      <td>0.068187</td>\n",
       "    </tr>\n",
       "    <tr>\n",
       "      <th>5</th>\n",
       "      <td>CAU Sportstätten</td>\n",
       "      <td>54.343444</td>\n",
       "      <td>10.111139</td>\n",
       "      <td>0.069734</td>\n",
       "    </tr>\n",
       "    <tr>\n",
       "      <th>7</th>\n",
       "      <td>Westring/Eckernförder Str.</td>\n",
       "      <td>54.328543</td>\n",
       "      <td>10.117925</td>\n",
       "      <td>0.079333</td>\n",
       "    </tr>\n",
       "    <tr>\n",
       "      <th>8</th>\n",
       "      <td>Exerzierplatz</td>\n",
       "      <td>54.321583</td>\n",
       "      <td>10.128389</td>\n",
       "      <td>0.062745</td>\n",
       "    </tr>\n",
       "    <tr>\n",
       "      <th>10</th>\n",
       "      <td>Blücherplatz</td>\n",
       "      <td>54.341722</td>\n",
       "      <td>10.136861</td>\n",
       "      <td>0.080420</td>\n",
       "    </tr>\n",
       "    <tr>\n",
       "      <th>11</th>\n",
       "      <td>Wilhelmplatz</td>\n",
       "      <td>54.323583</td>\n",
       "      <td>10.122278</td>\n",
       "      <td>0.083481</td>\n",
       "    </tr>\n",
       "  </tbody>\n",
       "</table>\n",
       "</div>"
      ],
      "text/plain": [
       "                       station        lat        lon    ranked\n",
       "1                Dreiecksplatz  54.328528  10.134417  0.080600\n",
       "2       MELUND-Olympiahochhaus  54.355250  10.131611  0.068187\n",
       "5             CAU Sportstätten  54.343444  10.111139  0.069734\n",
       "7   Westring/Eckernförder Str.  54.328543  10.117925  0.079333\n",
       "8                Exerzierplatz  54.321583  10.128389  0.062745\n",
       "10                Blücherplatz  54.341722  10.136861  0.080420\n",
       "11                Wilhelmplatz  54.323583  10.122278  0.083481"
      ]
     },
     "execution_count": 18,
     "metadata": {},
     "output_type": "execute_result"
    }
   ],
   "source": [
    "stations_list = most_common_routes_df[\"start_name\"].unique()\n",
    "lat_list = most_common_routes_df[\"start_lat\"].unique()\n",
    "lon_list = most_common_routes_df[\"start_lon\"].unique()\n",
    "\n",
    "list_for_df = []\n",
    "index = 0\n",
    "while index < len(stations_list):\n",
    "    list_for_df.append([stations_list[index], lat_list[index], lon_list[index], pagerank[stations_list[index]]])\n",
    "    index += 1\n",
    "pg_df = pd.DataFrame(list_for_df, columns=[\"station\", \"lat\", \"lon\", \"ranked\"])\n",
    "\n",
    "\n",
    "pg_lot_df = pg_df.loc[pg_df[\"ranked\"] > 0.085]\n",
    "pg_low_df = pg_df.loc[pg_df[\"ranked\"] < 0.085]\n",
    "\n",
    "print(pg_lot_df)\n",
    "pg_low_df\n",
    "\n"
   ]
  },
  {
   "cell_type": "code",
   "execution_count": 19,
   "metadata": {},
   "outputs": [
    {
     "data": {
      "application/vnd.plotly.v1+json": {
       "config": {
        "plotlyServerURL": "https://plot.ly"
       },
       "data": [
        {
         "lat": [
          54.333833,
          54.315972
         ],
         "legendgroup": "group0",
         "line": {
          "color": "rgba(32,32,218,1)",
          "width": 3
         },
         "lon": [
          10.15225,
          10.132278
         ],
         "mode": "lines",
         "name": "Anleger Reventlou",
         "showlegend": false,
         "type": "scattermapbox"
        },
        {
         "lat": [
          54.333833,
          54.337864
         ],
         "legendgroup": "group0",
         "line": {
          "color": "rgba(32,32,218,0.6)",
          "width": 3
         },
         "lon": [
          10.15225,
          10.133126
         ],
         "mode": "lines",
         "name": "Anleger Reventlou",
         "showlegend": false,
         "type": "scattermapbox"
        },
        {
         "lat": [
          54.328528,
          54.315972
         ],
         "legendgroup": "group1",
         "line": {
          "color": "rgba(198,48,149,1)",
          "width": 3
         },
         "lon": [
          10.134417,
          10.132278
         ],
         "mode": "lines",
         "name": "Dreiecksplatz",
         "showlegend": false,
         "type": "scattermapbox"
        },
        {
         "lat": [
          54.328528,
          54.316194
         ],
         "legendgroup": "group1",
         "line": {
          "color": "rgba(198,48,149,0.6)",
          "width": 3
         },
         "lon": [
          10.134417,
          10.120583
         ],
         "mode": "lines",
         "name": "Dreiecksplatz",
         "showlegend": false,
         "type": "scattermapbox"
        },
        {
         "lat": [
          54.35525,
          54.315972
         ],
         "legendgroup": "group2",
         "line": {
          "color": "rgba(0,127,0,1)",
          "width": 3
         },
         "lon": [
          10.131611,
          10.132278
         ],
         "mode": "lines",
         "name": "MELUND-Olympiahochhaus",
         "showlegend": false,
         "type": "scattermapbox"
        },
        {
         "lat": [
          54.35525,
          54.333833
         ],
         "legendgroup": "group2",
         "line": {
          "color": "rgba(0,127,0,0.6)",
          "width": 3
         },
         "lon": [
          10.131611,
          10.15225
         ],
         "mode": "lines",
         "name": "MELUND-Olympiahochhaus",
         "showlegend": false,
         "type": "scattermapbox"
        },
        {
         "lat": [
          54.316194,
          54.315972
         ],
         "legendgroup": "group3",
         "line": {
          "color": "rgba(255,255,0,1)",
          "width": 3
         },
         "lon": [
          10.120583,
          10.132278
         ],
         "mode": "lines",
         "name": "Kirchhofallee",
         "showlegend": false,
         "type": "scattermapbox"
        },
        {
         "lat": [
          54.316194,
          54.322806
         ],
         "legendgroup": "group3",
         "line": {
          "color": "rgba(255,255,0,0.6)",
          "width": 3
         },
         "lon": [
          10.120583,
          10.139472
         ],
         "mode": "lines",
         "name": "Kirchhofallee",
         "showlegend": false,
         "type": "scattermapbox"
        },
        {
         "lat": [
          54.315972,
          54.333833
         ],
         "legendgroup": "group4",
         "line": {
          "color": "rgba(95,0,0,1)",
          "width": 3
         },
         "lon": [
          10.132278,
          10.15225
         ],
         "mode": "lines",
         "name": "Hauptbahnhof",
         "showlegend": false,
         "type": "scattermapbox"
        },
        {
         "lat": [
          54.315972,
          54.322806
         ],
         "legendgroup": "group4",
         "line": {
          "color": "rgba(95,0,0,0.6)",
          "width": 3
         },
         "lon": [
          10.132278,
          10.139472
         ],
         "mode": "lines",
         "name": "Hauptbahnhof",
         "showlegend": false,
         "type": "scattermapbox"
        },
        {
         "lat": [
          54.343444,
          54.315972
         ],
         "legendgroup": "group5",
         "line": {
          "color": "rgba(95,95,95,1)",
          "width": 3
         },
         "lon": [
          10.111139,
          10.132278
         ],
         "mode": "lines",
         "name": "CAU Sportstätten",
         "showlegend": false,
         "type": "scattermapbox"
        },
        {
         "lat": [
          54.343444,
          54.323583
         ],
         "legendgroup": "group5",
         "line": {
          "color": "rgba(95,95,95,0.6)",
          "width": 3
         },
         "lon": [
          10.111139,
          10.122278
         ],
         "mode": "lines",
         "name": "CAU Sportstätten",
         "showlegend": false,
         "type": "scattermapbox"
        },
        {
         "lat": [
          54.337864,
          54.315972
         ],
         "legendgroup": "group6",
         "line": {
          "color": "rgba(187,127,243,1)",
          "width": 3
         },
         "lon": [
          10.133126,
          10.132278
         ],
         "mode": "lines",
         "name": "Bernhard-Minetti-Platz",
         "showlegend": false,
         "type": "scattermapbox"
        },
        {
         "lat": [
          54.337864,
          54.323583
         ],
         "legendgroup": "group6",
         "line": {
          "color": "rgba(187,127,243,0.6)",
          "width": 3
         },
         "lon": [
          10.133126,
          10.122278
         ],
         "mode": "lines",
         "name": "Bernhard-Minetti-Platz",
         "showlegend": false,
         "type": "scattermapbox"
        },
        {
         "lat": [
          54.328543,
          54.315972
         ],
         "legendgroup": "group7",
         "line": {
          "color": "rgba(187,193,243,1)",
          "width": 3
         },
         "lon": [
          10.117925,
          10.132278
         ],
         "mode": "lines",
         "name": "Westring/Eckernförder Str.",
         "showlegend": false,
         "type": "scattermapbox"
        },
        {
         "lat": [
          54.328543,
          54.322806
         ],
         "legendgroup": "group7",
         "line": {
          "color": "rgba(187,193,243,0.6)",
          "width": 3
         },
         "lon": [
          10.117925,
          10.139472
         ],
         "mode": "lines",
         "name": "Westring/Eckernförder Str.",
         "showlegend": false,
         "type": "scattermapbox"
        },
        {
         "lat": [
          54.321583,
          54.315972
         ],
         "legendgroup": "group8",
         "line": {
          "color": "rgba(255,166,0,1)",
          "width": 3
         },
         "lon": [
          10.128389,
          10.132278
         ],
         "mode": "lines",
         "name": "Exerzierplatz",
         "showlegend": false,
         "type": "scattermapbox"
        },
        {
         "lat": [
          54.321583,
          54.337864
         ],
         "legendgroup": "group8",
         "line": {
          "color": "rgba(255,166,0,0.6)",
          "width": 3
         },
         "lon": [
          10.128389,
          10.133126
         ],
         "mode": "lines",
         "name": "Exerzierplatz",
         "showlegend": false,
         "type": "scattermapbox"
        },
        {
         "lat": [
          54.322806,
          54.315972
         ],
         "legendgroup": "group9",
         "line": {
          "color": "rgba(185,103,0,1)",
          "width": 3
         },
         "lon": [
          10.139472,
          10.132278
         ],
         "mode": "lines",
         "name": "Alter Markt",
         "showlegend": false,
         "type": "scattermapbox"
        },
        {
         "lat": [
          54.322806,
          54.316194
         ],
         "legendgroup": "group9",
         "line": {
          "color": "rgba(185,103,0,0.6)",
          "width": 3
         },
         "lon": [
          10.139472,
          10.120583
         ],
         "mode": "lines",
         "name": "Alter Markt",
         "showlegend": false,
         "type": "scattermapbox"
        },
        {
         "lat": [
          54.341722,
          54.315972
         ],
         "legendgroup": "group10",
         "line": {
          "color": "rgba(56,26,136,1)",
          "width": 3
         },
         "lon": [
          10.136861,
          10.132278
         ],
         "mode": "lines",
         "name": "Blücherplatz",
         "showlegend": false,
         "type": "scattermapbox"
        },
        {
         "lat": [
          54.341722,
          54.328543
         ],
         "legendgroup": "group10",
         "line": {
          "color": "rgba(56,26,136,0.6)",
          "width": 3
         },
         "lon": [
          10.136861,
          10.117925
         ],
         "mode": "lines",
         "name": "Blücherplatz",
         "showlegend": false,
         "type": "scattermapbox"
        },
        {
         "lat": [
          54.323583,
          54.315972
         ],
         "legendgroup": "group11",
         "line": {
          "color": "rgba(56,104,136,1)",
          "width": 3
         },
         "lon": [
          10.122278,
          10.132278
         ],
         "mode": "lines",
         "name": "Wilhelmplatz",
         "showlegend": false,
         "type": "scattermapbox"
        },
        {
         "lat": [
          54.323583,
          54.337864
         ],
         "legendgroup": "group11",
         "line": {
          "color": "rgba(56,104,136,0.6)",
          "width": 3
         },
         "lon": [
          10.122278,
          10.133126
         ],
         "mode": "lines",
         "name": "Wilhelmplatz",
         "showlegend": false,
         "type": "scattermapbox"
        },
        {
         "customdata": [
          0.08764232540969527,
          0.08688516791975961,
          0.12715022997463518,
          0.08737494909156614,
          0.08644758440612553
         ],
         "hovertemplate": "Station name: %{text}<br>PageRank: %{customdata}",
         "lat": [
          54.333833,
          54.316194,
          54.315972,
          54.337864,
          54.322806
         ],
         "lon": [
          10.15225,
          10.120583,
          10.132278,
          10.133126,
          10.139472
         ],
         "marker": {
          "color": "#FF6347",
          "opacity": 1,
          "size": [
           43.82116270484764,
           43.442583959879805,
           63.57511498731759,
           43.68747454578307,
           43.223792203062764
          ]
         },
         "mode": "markers",
         "name": "More important",
         "showlegend": true,
         "text": [
          "Anleger Reventlou",
          "Kirchhofallee",
          "Hauptbahnhof",
          "Bernhard-Minetti-Platz",
          "Alter Markt"
         ],
         "type": "scattermapbox"
        },
        {
         "customdata": [
          0.08059953769310213,
          0.06818707062094756,
          0.06973406995533439,
          0.0793330792414101,
          0.06274502264638566,
          0.08041981108674837,
          0.08348115195429014
         ],
         "hovertemplate": "Station name: %{text}<br>Frequency of Usage: %{customdata}",
         "lat": [
          54.328528,
          54.35525,
          54.343444,
          54.328543,
          54.321583,
          54.341722,
          54.323583
         ],
         "lon": [
          10.134417,
          10.131611,
          10.111139,
          10.117925,
          10.128389,
          10.136861,
          10.122278
         ],
         "marker": {
          "color": "#4682B4",
          "opacity": 1,
          "size": [
           32.23981507724085,
           27.274828248379023,
           27.893627982133758,
           31.73323169656404,
           25.098009058554265,
           32.167924434699344,
           33.39246078171605
          ]
         },
         "mode": "markers",
         "name": "Less important",
         "text": [
          "Dreiecksplatz",
          "MELUND-Olympiahochhaus",
          "CAU Sportstätten",
          "Westring/Eckernförder Str.",
          "Exerzierplatz",
          "Blücherplatz",
          "Wilhelmplatz"
         ],
         "type": "scattermapbox"
        }
       ],
       "layout": {
        "autosize": true,
        "height": 450,
        "hovermode": "closest",
        "legend": {
         "bordercolor": "rgb(100,100,100)",
         "borderwidth": 2,
         "x": 0,
         "y": 1
        },
        "mapbox": {
         "accesstoken": "pk.eyJ1Ijoic3BpZWxlOTciLCJhIjoiY2xmNnl0M3gyMXJncTNwczl0MjFiamJmOSJ9.32cNAmknweeEma5kUwG-DA",
         "center": {
          "lat": 54.334221,
          "lon": 10.134417
         },
         "style": "light",
         "zoom": 12
        },
        "margin": {
         "b": 0,
         "l": 0,
         "r": 0,
         "t": 0
        },
        "showlegend": true,
        "template": {
         "data": {
          "bar": [
           {
            "error_x": {
             "color": "#2a3f5f"
            },
            "error_y": {
             "color": "#2a3f5f"
            },
            "marker": {
             "line": {
              "color": "#E5ECF6",
              "width": 0.5
             },
             "pattern": {
              "fillmode": "overlay",
              "size": 10,
              "solidity": 0.2
             }
            },
            "type": "bar"
           }
          ],
          "barpolar": [
           {
            "marker": {
             "line": {
              "color": "#E5ECF6",
              "width": 0.5
             },
             "pattern": {
              "fillmode": "overlay",
              "size": 10,
              "solidity": 0.2
             }
            },
            "type": "barpolar"
           }
          ],
          "carpet": [
           {
            "aaxis": {
             "endlinecolor": "#2a3f5f",
             "gridcolor": "white",
             "linecolor": "white",
             "minorgridcolor": "white",
             "startlinecolor": "#2a3f5f"
            },
            "baxis": {
             "endlinecolor": "#2a3f5f",
             "gridcolor": "white",
             "linecolor": "white",
             "minorgridcolor": "white",
             "startlinecolor": "#2a3f5f"
            },
            "type": "carpet"
           }
          ],
          "choropleth": [
           {
            "colorbar": {
             "outlinewidth": 0,
             "ticks": ""
            },
            "type": "choropleth"
           }
          ],
          "contour": [
           {
            "colorbar": {
             "outlinewidth": 0,
             "ticks": ""
            },
            "colorscale": [
             [
              0,
              "#0d0887"
             ],
             [
              0.1111111111111111,
              "#46039f"
             ],
             [
              0.2222222222222222,
              "#7201a8"
             ],
             [
              0.3333333333333333,
              "#9c179e"
             ],
             [
              0.4444444444444444,
              "#bd3786"
             ],
             [
              0.5555555555555556,
              "#d8576b"
             ],
             [
              0.6666666666666666,
              "#ed7953"
             ],
             [
              0.7777777777777778,
              "#fb9f3a"
             ],
             [
              0.8888888888888888,
              "#fdca26"
             ],
             [
              1,
              "#f0f921"
             ]
            ],
            "type": "contour"
           }
          ],
          "contourcarpet": [
           {
            "colorbar": {
             "outlinewidth": 0,
             "ticks": ""
            },
            "type": "contourcarpet"
           }
          ],
          "heatmap": [
           {
            "colorbar": {
             "outlinewidth": 0,
             "ticks": ""
            },
            "colorscale": [
             [
              0,
              "#0d0887"
             ],
             [
              0.1111111111111111,
              "#46039f"
             ],
             [
              0.2222222222222222,
              "#7201a8"
             ],
             [
              0.3333333333333333,
              "#9c179e"
             ],
             [
              0.4444444444444444,
              "#bd3786"
             ],
             [
              0.5555555555555556,
              "#d8576b"
             ],
             [
              0.6666666666666666,
              "#ed7953"
             ],
             [
              0.7777777777777778,
              "#fb9f3a"
             ],
             [
              0.8888888888888888,
              "#fdca26"
             ],
             [
              1,
              "#f0f921"
             ]
            ],
            "type": "heatmap"
           }
          ],
          "heatmapgl": [
           {
            "colorbar": {
             "outlinewidth": 0,
             "ticks": ""
            },
            "colorscale": [
             [
              0,
              "#0d0887"
             ],
             [
              0.1111111111111111,
              "#46039f"
             ],
             [
              0.2222222222222222,
              "#7201a8"
             ],
             [
              0.3333333333333333,
              "#9c179e"
             ],
             [
              0.4444444444444444,
              "#bd3786"
             ],
             [
              0.5555555555555556,
              "#d8576b"
             ],
             [
              0.6666666666666666,
              "#ed7953"
             ],
             [
              0.7777777777777778,
              "#fb9f3a"
             ],
             [
              0.8888888888888888,
              "#fdca26"
             ],
             [
              1,
              "#f0f921"
             ]
            ],
            "type": "heatmapgl"
           }
          ],
          "histogram": [
           {
            "marker": {
             "pattern": {
              "fillmode": "overlay",
              "size": 10,
              "solidity": 0.2
             }
            },
            "type": "histogram"
           }
          ],
          "histogram2d": [
           {
            "colorbar": {
             "outlinewidth": 0,
             "ticks": ""
            },
            "colorscale": [
             [
              0,
              "#0d0887"
             ],
             [
              0.1111111111111111,
              "#46039f"
             ],
             [
              0.2222222222222222,
              "#7201a8"
             ],
             [
              0.3333333333333333,
              "#9c179e"
             ],
             [
              0.4444444444444444,
              "#bd3786"
             ],
             [
              0.5555555555555556,
              "#d8576b"
             ],
             [
              0.6666666666666666,
              "#ed7953"
             ],
             [
              0.7777777777777778,
              "#fb9f3a"
             ],
             [
              0.8888888888888888,
              "#fdca26"
             ],
             [
              1,
              "#f0f921"
             ]
            ],
            "type": "histogram2d"
           }
          ],
          "histogram2dcontour": [
           {
            "colorbar": {
             "outlinewidth": 0,
             "ticks": ""
            },
            "colorscale": [
             [
              0,
              "#0d0887"
             ],
             [
              0.1111111111111111,
              "#46039f"
             ],
             [
              0.2222222222222222,
              "#7201a8"
             ],
             [
              0.3333333333333333,
              "#9c179e"
             ],
             [
              0.4444444444444444,
              "#bd3786"
             ],
             [
              0.5555555555555556,
              "#d8576b"
             ],
             [
              0.6666666666666666,
              "#ed7953"
             ],
             [
              0.7777777777777778,
              "#fb9f3a"
             ],
             [
              0.8888888888888888,
              "#fdca26"
             ],
             [
              1,
              "#f0f921"
             ]
            ],
            "type": "histogram2dcontour"
           }
          ],
          "mesh3d": [
           {
            "colorbar": {
             "outlinewidth": 0,
             "ticks": ""
            },
            "type": "mesh3d"
           }
          ],
          "parcoords": [
           {
            "line": {
             "colorbar": {
              "outlinewidth": 0,
              "ticks": ""
             }
            },
            "type": "parcoords"
           }
          ],
          "pie": [
           {
            "automargin": true,
            "type": "pie"
           }
          ],
          "scatter": [
           {
            "fillpattern": {
             "fillmode": "overlay",
             "size": 10,
             "solidity": 0.2
            },
            "type": "scatter"
           }
          ],
          "scatter3d": [
           {
            "line": {
             "colorbar": {
              "outlinewidth": 0,
              "ticks": ""
             }
            },
            "marker": {
             "colorbar": {
              "outlinewidth": 0,
              "ticks": ""
             }
            },
            "type": "scatter3d"
           }
          ],
          "scattercarpet": [
           {
            "marker": {
             "colorbar": {
              "outlinewidth": 0,
              "ticks": ""
             }
            },
            "type": "scattercarpet"
           }
          ],
          "scattergeo": [
           {
            "marker": {
             "colorbar": {
              "outlinewidth": 0,
              "ticks": ""
             }
            },
            "type": "scattergeo"
           }
          ],
          "scattergl": [
           {
            "marker": {
             "colorbar": {
              "outlinewidth": 0,
              "ticks": ""
             }
            },
            "type": "scattergl"
           }
          ],
          "scattermapbox": [
           {
            "marker": {
             "colorbar": {
              "outlinewidth": 0,
              "ticks": ""
             }
            },
            "type": "scattermapbox"
           }
          ],
          "scatterpolar": [
           {
            "marker": {
             "colorbar": {
              "outlinewidth": 0,
              "ticks": ""
             }
            },
            "type": "scatterpolar"
           }
          ],
          "scatterpolargl": [
           {
            "marker": {
             "colorbar": {
              "outlinewidth": 0,
              "ticks": ""
             }
            },
            "type": "scatterpolargl"
           }
          ],
          "scatterternary": [
           {
            "marker": {
             "colorbar": {
              "outlinewidth": 0,
              "ticks": ""
             }
            },
            "type": "scatterternary"
           }
          ],
          "surface": [
           {
            "colorbar": {
             "outlinewidth": 0,
             "ticks": ""
            },
            "colorscale": [
             [
              0,
              "#0d0887"
             ],
             [
              0.1111111111111111,
              "#46039f"
             ],
             [
              0.2222222222222222,
              "#7201a8"
             ],
             [
              0.3333333333333333,
              "#9c179e"
             ],
             [
              0.4444444444444444,
              "#bd3786"
             ],
             [
              0.5555555555555556,
              "#d8576b"
             ],
             [
              0.6666666666666666,
              "#ed7953"
             ],
             [
              0.7777777777777778,
              "#fb9f3a"
             ],
             [
              0.8888888888888888,
              "#fdca26"
             ],
             [
              1,
              "#f0f921"
             ]
            ],
            "type": "surface"
           }
          ],
          "table": [
           {
            "cells": {
             "fill": {
              "color": "#EBF0F8"
             },
             "line": {
              "color": "white"
             }
            },
            "header": {
             "fill": {
              "color": "#C8D4E3"
             },
             "line": {
              "color": "white"
             }
            },
            "type": "table"
           }
          ]
         },
         "layout": {
          "annotationdefaults": {
           "arrowcolor": "#2a3f5f",
           "arrowhead": 0,
           "arrowwidth": 1
          },
          "autotypenumbers": "strict",
          "coloraxis": {
           "colorbar": {
            "outlinewidth": 0,
            "ticks": ""
           }
          },
          "colorscale": {
           "diverging": [
            [
             0,
             "#8e0152"
            ],
            [
             0.1,
             "#c51b7d"
            ],
            [
             0.2,
             "#de77ae"
            ],
            [
             0.3,
             "#f1b6da"
            ],
            [
             0.4,
             "#fde0ef"
            ],
            [
             0.5,
             "#f7f7f7"
            ],
            [
             0.6,
             "#e6f5d0"
            ],
            [
             0.7,
             "#b8e186"
            ],
            [
             0.8,
             "#7fbc41"
            ],
            [
             0.9,
             "#4d9221"
            ],
            [
             1,
             "#276419"
            ]
           ],
           "sequential": [
            [
             0,
             "#0d0887"
            ],
            [
             0.1111111111111111,
             "#46039f"
            ],
            [
             0.2222222222222222,
             "#7201a8"
            ],
            [
             0.3333333333333333,
             "#9c179e"
            ],
            [
             0.4444444444444444,
             "#bd3786"
            ],
            [
             0.5555555555555556,
             "#d8576b"
            ],
            [
             0.6666666666666666,
             "#ed7953"
            ],
            [
             0.7777777777777778,
             "#fb9f3a"
            ],
            [
             0.8888888888888888,
             "#fdca26"
            ],
            [
             1,
             "#f0f921"
            ]
           ],
           "sequentialminus": [
            [
             0,
             "#0d0887"
            ],
            [
             0.1111111111111111,
             "#46039f"
            ],
            [
             0.2222222222222222,
             "#7201a8"
            ],
            [
             0.3333333333333333,
             "#9c179e"
            ],
            [
             0.4444444444444444,
             "#bd3786"
            ],
            [
             0.5555555555555556,
             "#d8576b"
            ],
            [
             0.6666666666666666,
             "#ed7953"
            ],
            [
             0.7777777777777778,
             "#fb9f3a"
            ],
            [
             0.8888888888888888,
             "#fdca26"
            ],
            [
             1,
             "#f0f921"
            ]
           ]
          },
          "colorway": [
           "#636efa",
           "#EF553B",
           "#00cc96",
           "#ab63fa",
           "#FFA15A",
           "#19d3f3",
           "#FF6692",
           "#B6E880",
           "#FF97FF",
           "#FECB52"
          ],
          "font": {
           "color": "#2a3f5f"
          },
          "geo": {
           "bgcolor": "white",
           "lakecolor": "white",
           "landcolor": "#E5ECF6",
           "showlakes": true,
           "showland": true,
           "subunitcolor": "white"
          },
          "hoverlabel": {
           "align": "left"
          },
          "hovermode": "closest",
          "mapbox": {
           "style": "light"
          },
          "paper_bgcolor": "white",
          "plot_bgcolor": "#E5ECF6",
          "polar": {
           "angularaxis": {
            "gridcolor": "white",
            "linecolor": "white",
            "ticks": ""
           },
           "bgcolor": "#E5ECF6",
           "radialaxis": {
            "gridcolor": "white",
            "linecolor": "white",
            "ticks": ""
           }
          },
          "scene": {
           "xaxis": {
            "backgroundcolor": "#E5ECF6",
            "gridcolor": "white",
            "gridwidth": 2,
            "linecolor": "white",
            "showbackground": true,
            "ticks": "",
            "zerolinecolor": "white"
           },
           "yaxis": {
            "backgroundcolor": "#E5ECF6",
            "gridcolor": "white",
            "gridwidth": 2,
            "linecolor": "white",
            "showbackground": true,
            "ticks": "",
            "zerolinecolor": "white"
           },
           "zaxis": {
            "backgroundcolor": "#E5ECF6",
            "gridcolor": "white",
            "gridwidth": 2,
            "linecolor": "white",
            "showbackground": true,
            "ticks": "",
            "zerolinecolor": "white"
           }
          },
          "shapedefaults": {
           "line": {
            "color": "#2a3f5f"
           }
          },
          "ternary": {
           "aaxis": {
            "gridcolor": "white",
            "linecolor": "white",
            "ticks": ""
           },
           "baxis": {
            "gridcolor": "white",
            "linecolor": "white",
            "ticks": ""
           },
           "bgcolor": "#E5ECF6",
           "caxis": {
            "gridcolor": "white",
            "linecolor": "white",
            "ticks": ""
           }
          },
          "title": {
           "x": 0.05
          },
          "xaxis": {
           "automargin": true,
           "gridcolor": "white",
           "linecolor": "white",
           "ticks": "",
           "title": {
            "standoff": 15
           },
           "zerolinecolor": "white",
           "zerolinewidth": 2
          },
          "yaxis": {
           "automargin": true,
           "gridcolor": "white",
           "linecolor": "white",
           "ticks": "",
           "title": {
            "standoff": 15
           },
           "zerolinecolor": "white",
           "zerolinewidth": 2
          }
         }
        },
        "width": 450
       }
      }
     },
     "metadata": {},
     "output_type": "display_data"
    }
   ],
   "source": [
    "# access Token\n",
    "mapbox_access_token = open(\".mapbox_token\").read()\n",
    "\n",
    "# Create a plotly map and add the station points to the map\n",
    "fig = go.Figure()\n",
    "\n",
    "fig = go.Figure()\n",
    "j = 0\n",
    "weight = [1, 0.6]\n",
    "\n",
    "for station in station_id_list:\n",
    "    start_lat_list, end_lat_list, start_lon_list, end_lon_list, station_name = get_only_the_most_taken_route(most_common_routes_df, station)\n",
    "\n",
    "    for i in range(len(start_lat_list)):\n",
    "        if i == 0:\n",
    "            fig.add_trace(go.Scattermapbox(\n",
    "                        mode = \"lines\",\n",
    "                        lat = [start_lat_list[i], end_lat_list[i]],\n",
    "                        lon = [start_lon_list[i], end_lon_list[i]],\n",
    "                        showlegend = False,\n",
    "                        line = dict(color = 'rgba(%s,%s,%s,%s)' %(list_of_colors[j][0], list_of_colors[j][1], list_of_colors[j][2], \n",
    "                                                                weight[i]), width = 3\n",
    "                                    ),\n",
    "                        legendgroup = \"group\" + str(j),\n",
    "                        name = station_name[0],\n",
    "                        )\n",
    "            )\n",
    "        else:   \n",
    "            fig.add_trace(go.Scattermapbox(\n",
    "                        mode = \"lines\",\n",
    "                        lat = [start_lat_list[i], end_lat_list[i]],\n",
    "                        lon = [start_lon_list[i], end_lon_list[i]],\n",
    "                        showlegend = False,\n",
    "                        line = dict(color = 'rgba(%s,%s,%s,%s)' %(list_of_colors[j][0], list_of_colors[j][1], list_of_colors[j][2], \n",
    "                                                                weight[i]), width = 3\n",
    "                                    ),\n",
    "                        legendgroup = \"group\" + str(j),\n",
    "                        name = station_name[0],\n",
    "                        )\n",
    "            ) \n",
    "    j += 1\n",
    "\n",
    "# add stations with more pg ranking\n",
    "fig.add_trace(go.Scattermapbox(\n",
    "    lat = pg_lot_df.lat,\n",
    "    lon = pg_lot_df.lon,\n",
    "    mode = \"markers\",\n",
    "    marker = {'size': 500*pg_lot_df.ranked, 'color': '#FF6347', 'opacity': 1},    \n",
    "    #hoverinfo = 'text',\n",
    "    text = pg_lot_df.station,\n",
    "    name = \"More important\",\n",
    "    customdata = pg_lot_df.ranked,\n",
    "    hovertemplate = 'Station name: %{text}'\n",
    "                    + '<br>PageRank: %{customdata}',\n",
    "    showlegend = True\n",
    "    )\n",
    ")\n",
    "\n",
    "# add stations with lower pg ranking\n",
    "fig.add_trace(go.Scattermapbox(\n",
    "    lat = pg_low_df.lat,\n",
    "    lon = pg_low_df.lon,\n",
    "    mode = \"markers\",\n",
    "    marker = {'size': 400*pg_low_df.ranked, 'color': '#4682B4', 'opacity': 1},\n",
    "    #hoverinfo = 'text',\n",
    "    text = pg_low_df.station,\n",
    "    name = \"Less important\",\n",
    "    customdata = pg_low_df.ranked,\n",
    "    hovertemplate = 'Station name: %{text}'\n",
    "                    + '<br>Frequency of Usage: %{customdata}',\n",
    "   \n",
    "    )\n",
    ")\n",
    "\n",
    "\n",
    "fig.update_layout(\n",
    "    #title = \"Most common routes taken\",\n",
    "    autosize = True,\n",
    "    hovermode = \"closest\",\n",
    "    showlegend = True,\n",
    "    mapbox = dict(\n",
    "        accesstoken = mapbox_access_token,\n",
    "        center = dict(\n",
    "            lat = 54.334221,\n",
    "            lon = 10.134417,             \n",
    "            ),\n",
    "        zoom = 12,\n",
    "        style = \"light\"\n",
    "        ),\n",
    "    width = 450,\n",
    "    height = 450,\n",
    "    margin = dict(l=0, r=0, b=0, t=0),\n",
    "    legend = dict(bordercolor='rgb(100,100,100)',\n",
    "                                borderwidth=2,\n",
    "                                x=0,\n",
    "                                y=1),\n",
    ")\n",
    "\n",
    "#plotly.offline.plot(fig, filename=r\"./plotly_vis/test.html\")\n",
    "fig.show()\n"
   ]
  }
 ],
 "metadata": {
  "kernelspec": {
   "display_name": "sprottenflotte_env",
   "language": "python",
   "name": "python3"
  },
  "language_info": {
   "codemirror_mode": {
    "name": "ipython",
    "version": 3
   },
   "file_extension": ".py",
   "mimetype": "text/x-python",
   "name": "python",
   "nbconvert_exporter": "python",
   "pygments_lexer": "ipython3",
   "version": "3.9.6"
  },
  "orig_nbformat": 4
 },
 "nbformat": 4,
 "nbformat_minor": 2
}
